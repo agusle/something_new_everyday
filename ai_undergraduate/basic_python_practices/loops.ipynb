{
  "nbformat": 4,
  "nbformat_minor": 0,
  "metadata": {
    "colab": {
      "provenance": [],
      "collapsed_sections": []
    },
    "kernelspec": {
      "name": "python3",
      "display_name": "Python 3"
    },
    "language_info": {
      "name": "python"
    }
  },
  "cells": [
    {
      "cell_type": "markdown",
      "source": [
        "# Práctica bucles"
      ],
      "metadata": {
        "id": "Hzy7DLjYeyVV"
      }
    },
    {
      "cell_type": "markdown",
      "source": [
        "**Ejercicio 1** Genere una función que permita ingresar un rango de números y el paso entre valores del rango. Y de como resultado la suma de los enteros que se incluyen en ese rango, tomando en cuenta el paso ingresado entre unidades."
      ],
      "metadata": {
        "id": "UbPhsYfIe2gL"
      }
    },
    {
      "cell_type": "code",
      "source": [
        "def sum_range(start:int,finish:int,step:int=1) -> int:\n",
        "  \"\"\"\n",
        "  Suma de los enteros que se incluyen en el rango ingresado.\n",
        "  \"\"\"\n",
        "\n",
        "  numbers = list(range(start,finish+1,step))\n",
        "  result = 0\n",
        "  for total in numbers:\n",
        "    result +=total\n",
        "  return result"
      ],
      "metadata": {
        "id": "-GHMyWQNDKRX"
      },
      "execution_count": null,
      "outputs": []
    },
    {
      "cell_type": "code",
      "source": [
        "result = sum_range(0,5)\n",
        "print(result)"
      ],
      "metadata": {
        "colab": {
          "base_uri": "https://localhost:8080/"
        },
        "id": "YDdV4g4mTcaJ",
        "outputId": "2c64ea55-a621-4091-f3fa-67360ad39d48"
      },
      "execution_count": null,
      "outputs": [
        {
          "output_type": "stream",
          "name": "stdout",
          "text": [
            "15\n"
          ]
        }
      ]
    },
    {
      "cell_type": "markdown",
      "source": [
        "Comprobacion"
      ],
      "metadata": {
        "id": "Pp5bpYbsVcpv"
      }
    },
    {
      "cell_type": "code",
      "source": [
        "0+1+2+3+4+5"
      ],
      "metadata": {
        "colab": {
          "base_uri": "https://localhost:8080/"
        },
        "id": "xXJQwWPDU3fK",
        "outputId": "50bbca6d-3ac1-4d73-d1bf-4cf7ab3c487a"
      },
      "execution_count": null,
      "outputs": [
        {
          "output_type": "execute_result",
          "data": {
            "text/plain": [
              "15"
            ]
          },
          "metadata": {},
          "execution_count": 20
        }
      ]
    },
    {
      "cell_type": "code",
      "source": [
        "result = sum_range(8,16,2)\n",
        "print(result)"
      ],
      "metadata": {
        "colab": {
          "base_uri": "https://localhost:8080/"
        },
        "id": "jH4FMWRwVfrd",
        "outputId": "0dc000b9-f8b7-467c-fcd2-9edd90fe7ddc"
      },
      "execution_count": null,
      "outputs": [
        {
          "output_type": "stream",
          "name": "stdout",
          "text": [
            "60\n"
          ]
        }
      ]
    },
    {
      "cell_type": "markdown",
      "source": [
        "Comprobacion"
      ],
      "metadata": {
        "id": "iUUSE042VxkF"
      }
    },
    {
      "cell_type": "code",
      "source": [
        "8+10+12+14+16"
      ],
      "metadata": {
        "colab": {
          "base_uri": "https://localhost:8080/"
        },
        "id": "YHPZ7ju_Vvqg",
        "outputId": "966501bf-10cc-4287-df41-bd108305a5da"
      },
      "execution_count": null,
      "outputs": [
        {
          "output_type": "execute_result",
          "data": {
            "text/plain": [
              "60"
            ]
          },
          "metadata": {},
          "execution_count": 23
        }
      ]
    },
    {
      "cell_type": "markdown",
      "source": [
        "Misma función utilizando la built-in \"sum\"."
      ],
      "metadata": {
        "id": "5cdORBbBU_3j"
      }
    },
    {
      "cell_type": "code",
      "source": [
        "def sum_range(start:int,finish:int,step:int=1) -> int:\n",
        "  \"\"\"\n",
        "  Suma de los enteros que se incluyen en el rango ingresado.\n",
        "  \"\"\"\n",
        "  numbers = list(range(start,finish,step))\n",
        "  result = sum(numbers)\n",
        "\n",
        "  return result"
      ],
      "metadata": {
        "id": "H2yP28RyUgMw"
      },
      "execution_count": null,
      "outputs": []
    },
    {
      "cell_type": "code",
      "source": [
        "result = sum_range(0,5,1)\n",
        "print(result)"
      ],
      "metadata": {
        "colab": {
          "base_uri": "https://localhost:8080/"
        },
        "id": "0yyQHmJgU756",
        "outputId": "bd8e9d7f-67d8-44cb-cd9a-793451c7efd0"
      },
      "execution_count": null,
      "outputs": [
        {
          "output_type": "stream",
          "name": "stdout",
          "text": [
            "15\n"
          ]
        }
      ]
    },
    {
      "cell_type": "markdown",
      "source": [
        "**Ejercicio 2** Genere una funcion que a partir de una frase ingresada cuente el número de vocales que corresponden a dicha frase y devuelva la cantidad por pantalla. \n"
      ],
      "metadata": {
        "id": "eaciG_Svho5G"
      }
    },
    {
      "cell_type": "code",
      "source": [
        "def count_vowels (phrase:str) -> int:\n",
        "  \"\"\"\n",
        "  A partir de una frase ingresada cuenta el número de vocales \n",
        "  que corresponden a dicha frase y devuelva la cantidad por pantalla.\n",
        "  \"\"\"\n",
        "  vowels = \"aeiou\"\n",
        "  count = 0\n",
        "  for letter in phrase.lower():\n",
        "    if letter in vowels:\n",
        "      count +=1\n",
        "  print(count)"
      ],
      "metadata": {
        "id": "un-YEQuNhJZa"
      },
      "execution_count": null,
      "outputs": []
    },
    {
      "cell_type": "code",
      "source": [
        "count_vowels(\"HOLA\")"
      ],
      "metadata": {
        "colab": {
          "base_uri": "https://localhost:8080/"
        },
        "id": "zNZI7Di_XMOl",
        "outputId": "42942ee6-53e0-4173-ec3d-4d8348badc79"
      },
      "execution_count": null,
      "outputs": [
        {
          "output_type": "stream",
          "name": "stdout",
          "text": [
            "2\n"
          ]
        }
      ]
    },
    {
      "cell_type": "code",
      "source": [
        "count_vowels(\"hOlA soy MAYUSCULA\")"
      ],
      "metadata": {
        "colab": {
          "base_uri": "https://localhost:8080/"
        },
        "id": "CiREm94jXc0i",
        "outputId": "cfd2e9c0-896d-457d-efb4-2efc1760c623"
      },
      "execution_count": null,
      "outputs": [
        {
          "output_type": "stream",
          "name": "stdout",
          "text": [
            "7\n"
          ]
        }
      ]
    },
    {
      "cell_type": "markdown",
      "source": [
        "Probando con diferentes operadores booleanos."
      ],
      "metadata": {
        "id": "jJb7o6sIr8Dw"
      }
    },
    {
      "cell_type": "code",
      "source": [
        "def count_vowels (phrase:str) -> int:\n",
        "  \"\"\"\n",
        "  A partir de una frase ingresada cuenta el número de vocales \n",
        "  que corresponden a dicha frase y devuelva la cantidad por pantalla.\n",
        "  \"\"\"\n",
        "  count = 0\n",
        "  for letter in phrase.lower():\n",
        "    if letter == \"a\" or letter == \"e\" or letter == \"i\" or letter == \"o\" or letter == \"u\":\n",
        "      count +=1\n",
        "  print(count)"
      ],
      "metadata": {
        "id": "E9aCm9PVXwtA"
      },
      "execution_count": null,
      "outputs": []
    },
    {
      "cell_type": "code",
      "source": [
        "count_vowels(\"HOLA\")"
      ],
      "metadata": {
        "colab": {
          "base_uri": "https://localhost:8080/"
        },
        "id": "2-89f1b7X-xF",
        "outputId": "ec4e5ecd-733a-442d-9cc9-008de500a3c7"
      },
      "execution_count": null,
      "outputs": [
        {
          "output_type": "stream",
          "name": "stdout",
          "text": [
            "2\n"
          ]
        }
      ]
    },
    {
      "cell_type": "code",
      "source": [
        "count_vowels(\"hOlA soy MAYUSCULA\")"
      ],
      "metadata": {
        "colab": {
          "base_uri": "https://localhost:8080/"
        },
        "id": "5yrC8dYpYAy5",
        "outputId": "29a60102-c22a-47ac-a957-958aee173a0c"
      },
      "execution_count": null,
      "outputs": [
        {
          "output_type": "stream",
          "name": "stdout",
          "text": [
            "7\n"
          ]
        }
      ]
    },
    {
      "cell_type": "markdown",
      "source": [
        "Probando la funcion filter con lambda"
      ],
      "metadata": {
        "id": "2SAgSVM4r_la"
      }
    },
    {
      "cell_type": "code",
      "source": [
        "def count_vowels (phrase:str) -> int:\n",
        "  \"\"\"\n",
        "  A partir de una frase ingresada cuenta el número de vocales \n",
        "  que corresponden a dicha frase y devuelva la cantidad por pantalla.\n",
        "  \"\"\"\n",
        "  print (len(list(filter(lambda x: x in \"aeiou\",phrase.lower()))))"
      ],
      "metadata": {
        "id": "iyymiVB0p-Cj"
      },
      "execution_count": null,
      "outputs": []
    },
    {
      "cell_type": "code",
      "source": [
        "count_vowels(\"HOLA\")"
      ],
      "metadata": {
        "colab": {
          "base_uri": "https://localhost:8080/"
        },
        "id": "Txzefc-ZrOrI",
        "outputId": "b3563fad-dc61-493b-bbb5-27f122283587"
      },
      "execution_count": null,
      "outputs": [
        {
          "output_type": "stream",
          "name": "stdout",
          "text": [
            "2\n"
          ]
        }
      ]
    },
    {
      "cell_type": "code",
      "source": [
        "count_vowels(\"hOlA soy MAYUSCULA\")"
      ],
      "metadata": {
        "colab": {
          "base_uri": "https://localhost:8080/"
        },
        "id": "bestFiSIrNLQ",
        "outputId": "5a982d72-0fbd-4289-c04c-82d735505652"
      },
      "execution_count": null,
      "outputs": [
        {
          "output_type": "stream",
          "name": "stdout",
          "text": [
            "7\n"
          ]
        }
      ]
    },
    {
      "cell_type": "markdown",
      "source": [
        "**Ejercicio 3** Escriba una funcion que a partir de una frase ingresada verifique si la misma es palíndromo y muestre por pantalla el resultado."
      ],
      "metadata": {
        "id": "MSfE4ptafVJp"
      }
    },
    {
      "cell_type": "code",
      "source": [
        "def palindrome (phrase:str) -> str:\n",
        "  \"\"\"\n",
        "  A partir de una frase ingresada verifica si la misma \n",
        "  es palíndromo y muestra por pantalla el resultado.\n",
        "  \"\"\"\n",
        "  for co,letter in enumerate(phrase.lower()):\n",
        "    if letter == phrase[-co-1].lower():\n",
        "      continue\n",
        "    else:\n",
        "      return f\"La palabra ingresada '{phrase}' no es palíndromo.\"\n",
        "  return f\"La palabra ingresada '{phrase}' es palíndromo.\""
      ],
      "metadata": {
        "id": "3e_kqdt3aMWu"
      },
      "execution_count": null,
      "outputs": []
    },
    {
      "cell_type": "code",
      "source": [
        "palindrome(\"Hola\")"
      ],
      "metadata": {
        "colab": {
          "base_uri": "https://localhost:8080/",
          "height": 35
        },
        "id": "r2TPMv8JbOY_",
        "outputId": "b05d25bc-79a2-451d-e18c-41fbdafb8960"
      },
      "execution_count": null,
      "outputs": [
        {
          "output_type": "execute_result",
          "data": {
            "text/plain": [
              "\"La palabra ingresada 'Hola' no es palíndromo.\""
            ],
            "application/vnd.google.colaboratory.intrinsic+json": {
              "type": "string"
            }
          },
          "metadata": {},
          "execution_count": 31
        }
      ]
    },
    {
      "cell_type": "code",
      "source": [
        "palindrome(\"Neuquen\")"
      ],
      "metadata": {
        "colab": {
          "base_uri": "https://localhost:8080/",
          "height": 35
        },
        "id": "6z4CIuUZbQYE",
        "outputId": "67747f1f-0536-413e-af69-93cb68901e42"
      },
      "execution_count": null,
      "outputs": [
        {
          "output_type": "execute_result",
          "data": {
            "text/plain": [
              "\"La palabra ingresada 'Neuquen' es palíndromo.\""
            ],
            "application/vnd.google.colaboratory.intrinsic+json": {
              "type": "string"
            }
          },
          "metadata": {},
          "execution_count": 32
        }
      ]
    },
    {
      "cell_type": "code",
      "source": [
        "def palindrome (phrase:str) -> str:\n",
        "  \"\"\"\n",
        "  A partir de una frase ingresada verifica si la misma \n",
        "  es palíndromo y muestra por pantalla el resultado.\n",
        "  \"\"\"\n",
        "  if phrase.lower() == phrase[::-1].lower():\n",
        "    return print(f\"La palabra ingresada '{phrase}' es palíndromo.\")\n",
        "  else:\n",
        "    return print(f\"La palabra ingresada '{phrase}' no es palíndromo.\")"
      ],
      "metadata": {
        "id": "DIHsWawDIyuB"
      },
      "execution_count": null,
      "outputs": []
    },
    {
      "cell_type": "code",
      "source": [
        "palindrome(\"Hola\")"
      ],
      "metadata": {
        "colab": {
          "base_uri": "https://localhost:8080/"
        },
        "id": "5jMEgH7oaRo2",
        "outputId": "36e47d5d-72f8-4ba1-93c7-078b32e9fc19"
      },
      "execution_count": null,
      "outputs": [
        {
          "output_type": "stream",
          "name": "stdout",
          "text": [
            "La palabra ingresada 'Hola' no es palíndromo.\n"
          ]
        }
      ]
    },
    {
      "cell_type": "code",
      "source": [
        "palindrome(\"Neuquen\")"
      ],
      "metadata": {
        "colab": {
          "base_uri": "https://localhost:8080/"
        },
        "id": "7Y95yLpPaZD1",
        "outputId": "7b63718b-274e-4635-dc8d-3b19e6da2dfd"
      },
      "execution_count": null,
      "outputs": [
        {
          "output_type": "stream",
          "name": "stdout",
          "text": [
            "La palabra ingresada 'Neuquen' es palíndromo.\n"
          ]
        }
      ]
    },
    {
      "cell_type": "markdown",
      "source": [
        "**Ejercicio 4** Escriba una función que elimine las tildes de una frase ingresada como parámetro y devuelva la frase transformada."
      ],
      "metadata": {
        "id": "jJo4sv2ph64D"
      }
    },
    {
      "cell_type": "code",
      "source": [
        "def delete_mark (phrase:str) -> str :\n",
        "  \"\"\"\n",
        "  Elimina las tildes de una frase ingresada como \n",
        "  parámetro y devuelve la frase transformada.\n",
        "  \"\"\"\n",
        "\n",
        "  without_mark = \"\"\n",
        "  marks = {\"á\":\"a\",\n",
        "          \"é\":\"e\",\n",
        "          \"í\":\"i\",\n",
        "          \"ó\":\"o\",\n",
        "          \"ú\":\"u\",\n",
        "          }\n",
        "  for letter in phrase.lower():\n",
        "    if letter not in marks:\n",
        "      without_mark += letter\n",
        "    else:\n",
        "      without_mark += marks[letter]\n",
        "  return without_mark.capitalize()"
      ],
      "metadata": {
        "id": "Mb1lUIo7IzUw"
      },
      "execution_count": null,
      "outputs": []
    },
    {
      "cell_type": "code",
      "source": [
        "result = delete_mark(\"Agustín trató de cantar una canción.\")\n",
        "print(result) #reemplazar la letra, no eliminarla."
      ],
      "metadata": {
        "colab": {
          "base_uri": "https://localhost:8080/"
        },
        "id": "DFCMYCVyeJG2",
        "outputId": "960ee1f7-7fc1-4e00-9ee5-51261e5818d9"
      },
      "execution_count": null,
      "outputs": [
        {
          "output_type": "stream",
          "name": "stdout",
          "text": [
            "Agustin trato de cantar una cancion.\n"
          ]
        }
      ]
    },
    {
      "cell_type": "markdown",
      "source": [
        "**Ejercicio 5** Usando la lista de cadenas de abajo, generar una frase e imprimirla."
      ],
      "metadata": {
        "id": "ZOEnrXLun5Ik"
      }
    },
    {
      "cell_type": "code",
      "source": [
        "palabras = ['La', 'fceia', 'es', 'la', 'facultad', 'de', 'ciencias', 'exactas', 'ingeniería', 'y', 'agrimensura'] "
      ],
      "metadata": {
        "id": "UCmBIiXSn-k8"
      },
      "execution_count": null,
      "outputs": []
    },
    {
      "cell_type": "markdown",
      "source": [
        "**Ejercicio 6** Vamos a crear un juego para niñes que están aprendiendo a sumar. En pantalla se mostrarán dos números y se le debe pedir a la persona que calcule la suma de ambos. Si la suma es correcta felicitar a la persona. Sino, alentarla a que siga intentando hasta lograrlo."
      ],
      "metadata": {
        "id": "lxWm3t-Uo6Q4"
      }
    },
    {
      "cell_type": "code",
      "source": [
        "import random\n",
        "def guessthesum():\n",
        "  \"\"\"\n",
        "  El usuario debe adivinar la suma entre dos numeros aleatorios del 0 al 100, \n",
        "  recibiendo una respuesta positiva o negativa por pantalla según el resultado.\n",
        "  Por último, puede decidir si sigue jugando o no.\n",
        "  \"\"\"\n",
        "  \n",
        "  print(\"Hola! Bienvenido al juego 'Adivina la suma' de la FCEIA:\")\n",
        "  print(\"Estás listo?\")\n",
        "  while True:\n",
        "    operand1 = random.randint(0,100)\n",
        "    operand2 = random.randint(0,100)\n",
        "    print(f'¿Cuál es el resultado de la suma: {operand1} + {operand2}?')\n",
        "    try:\n",
        "      answer = int(input(\"Ingresá tu respuesta: \"))\n",
        "    except ValueError:\n",
        "      print(\"Por favor, asegurate de ingresar solo números enteros en tu respuesta e inténtalo de nuevo.\")\n",
        "      continue\n",
        "    if answer == (operand1 + operand2):\n",
        "      print(\"Felicitaciones, tu respuesta es correcta.\")\n",
        "    else:\n",
        "      print(\"Lo siento, tu respuesta es incorrecta.\")\n",
        "    again = input(\"\\n¿Quieres intentarlo de nuevo? (SI/NO)\")\n",
        "    if again.lower() == \"si\":\n",
        "      continue\n",
        "    elif again.lower() == \"no\":\n",
        "      print(\"Gracias por jugar con nosotros. Que tengas un buen dia!\")\n",
        "      break\n"
      ],
      "metadata": {
        "id": "VblubaHgI0jH"
      },
      "execution_count": null,
      "outputs": []
    },
    {
      "cell_type": "code",
      "source": [
        "guessthesum()"
      ],
      "metadata": {
        "colab": {
          "base_uri": "https://localhost:8080/"
        },
        "id": "Xwxj7KyZ1hN9",
        "outputId": "7725a6fc-fd37-431b-e60d-421c5b14aa6b"
      },
      "execution_count": null,
      "outputs": [
        {
          "output_type": "stream",
          "name": "stdout",
          "text": [
            "Hola! Bienvenido al juego 'Adivina la suma' de la FCEIA:\n",
            "Estás listo?\n",
            "¿Cuál es el resultado de la suma: 46 + 7?\n",
            "Ingresá tu respuesta: abc\n",
            "Por favor, asegurate de ingresar solo números enteros en tu respuesta e inténtalo de nuevo.\n",
            "¿Cuál es el resultado de la suma: 1 + 44?\n",
            "Ingresá tu respuesta: 44\n",
            "Lo siento, tu respuesta es incorrecta.\n",
            "\n",
            "¿Quieres intentarlo de nuevo? (SI/NO)si\n",
            "¿Cuál es el resultado de la suma: 20 + 42?\n",
            "Ingresá tu respuesta: 62\n",
            "Felicitaciones, tu respuesta es correcta.\n",
            "\n",
            "¿Quieres intentarlo de nuevo? (SI/NO)no\n",
            "Gracias por jugar con nosotros. Que tengas un buen dia!\n"
          ]
        }
      ]
    },
    {
      "cell_type": "markdown",
      "source": [
        "# Ejercicios extra"
      ],
      "metadata": {
        "id": "sTqW5_neo_db"
      }
    },
    {
      "cell_type": "markdown",
      "source": [
        "**Ejercicio 1** Escribir un programa que permita ingresar un número llamado valor_objetivo. Luego, se debe pedir al usuario que ingrese números por consola hasta que la suma de los números ingresados sea mayor o igual que valor_objetivo\n",
        "\n",
        "\n"
      ],
      "metadata": {
        "id": "jNMt2aaKpGoZ"
      }
    },
    {
      "cell_type": "code",
      "source": [
        "def reach_the_number(target:int) -> str:\n",
        "  \"\"\"\n",
        "  Permite ingresar un número llamado valor_objetivo. Luego, se le solicita \n",
        "  al usuario que ingrese números enteros por consola hasta que la suma de los \n",
        "  mismos sea mayor o igual que valor_objetivo.\n",
        "\n",
        "  Parameters\n",
        "  ----------\n",
        "  target = int\n",
        "    valor_objetivo al que el usuario debe igualar o superar. Ej:10\n",
        "\n",
        "  Returns\n",
        "  -------\n",
        "  Mensaje por pantalla si el usuario igualó, superó o aún le restan \n",
        "  números para el valor_objetivo.\n",
        "  \"\"\"\n",
        "  \n",
        "  print(\n",
        "      f'Bienvenido al juego del \"Valor Objetivo\".\\n\\n'\n",
        "      f'Debes ingresar números hasta que la suma de los mismos '\n",
        "      f'sea igual o mayor al valor objetivo: {target}.'\n",
        "  )\n",
        "  total = 0\n",
        "  while target > total: \n",
        "    try:\n",
        "      number = int(input(\"\\nPor favor, ingrese un número: \"))\n",
        "    except ValueError:\n",
        "      print(\"ERROR. Por favor, asegúrese de ingresar un valor numérico.\")\n",
        "      continue\n",
        "    total += number\n",
        "    if target <= total:\n",
        "      print(\"\\nFelicidades has alcanzado el valor objetivo!\")\n",
        "    else:\n",
        "      print(\n",
        "          f'\\nAún no has alcanzado el valor objetivo, '\n",
        "          f'pero sigue así que estás mas cerca.'\n",
        "          )\n",
        "    print(f'La sumatoria de tus números es: {total} y debes alcanzar {target}.', )"
      ],
      "metadata": {
        "id": "nKE-WwRj5aU8"
      },
      "execution_count": 24,
      "outputs": []
    },
    {
      "cell_type": "markdown",
      "source": [
        "Prueba hasta igualar el valor objetivo"
      ],
      "metadata": {
        "id": "fjA36_YSQFj3"
      }
    },
    {
      "cell_type": "code",
      "source": [
        "reach_the_number(10)"
      ],
      "metadata": {
        "colab": {
          "base_uri": "https://localhost:8080/"
        },
        "id": "jYwkR3q5MUyX",
        "outputId": "0224769a-bb1e-4add-fcff-76fff1af208f"
      },
      "execution_count": 25,
      "outputs": [
        {
          "output_type": "stream",
          "name": "stdout",
          "text": [
            "Bienvenido al juego del \"Valor Objetivo\".\n",
            "\n",
            "Debes ingresar números hasta que la suma de los mismos sea igual o mayor al valor objetivo: 10.\n",
            "\n",
            "Por favor, ingrese un número: abc\n",
            "ERROR. Por favor, asegúrese de ingresar un valor numérico.\n",
            "\n",
            "Por favor, ingrese un número: 5\n",
            "\n",
            "Aún no has alcanzado el valor objetivo, pero sigue así que estás mas cerca.\n",
            "La sumatoria de tus números es: 5 y debes alcanzar 10.\n",
            "\n",
            "Por favor, ingrese un número: 5\n",
            "\n",
            "Felicidades has alcanzado el valor objetivo!\n",
            "La sumatoria de tus números es: 10 y debes alcanzar 10.\n"
          ]
        }
      ]
    },
    {
      "cell_type": "markdown",
      "source": [
        "Prueba hasta superar el valor objetivo"
      ],
      "metadata": {
        "id": "xXOb-DraQIR3"
      }
    },
    {
      "cell_type": "code",
      "source": [
        "reach_the_number(10)"
      ],
      "metadata": {
        "colab": {
          "base_uri": "https://localhost:8080/"
        },
        "id": "QyiZ4JUhOrZt",
        "outputId": "9e8e66a2-b67e-4875-d142-d28ae33dbcd1"
      },
      "execution_count": 26,
      "outputs": [
        {
          "output_type": "stream",
          "name": "stdout",
          "text": [
            "Bienvenido al juego del \"Valor Objetivo\".\n",
            "\n",
            "Debes ingresar números hasta que la suma de los mismos sea igual o mayor al valor objetivo: 10.\n",
            "\n",
            "Por favor, ingrese un número: 1\n",
            "\n",
            "Aún no has alcanzado el valor objetivo, pero sigue así que estás mas cerca.\n",
            "La sumatoria de tus números es: 1 y debes alcanzar 10.\n",
            "\n",
            "Por favor, ingrese un número: 2\n",
            "\n",
            "Aún no has alcanzado el valor objetivo, pero sigue así que estás mas cerca.\n",
            "La sumatoria de tus números es: 3 y debes alcanzar 10.\n",
            "\n",
            "Por favor, ingrese un número: 5\n",
            "\n",
            "Aún no has alcanzado el valor objetivo, pero sigue así que estás mas cerca.\n",
            "La sumatoria de tus números es: 8 y debes alcanzar 10.\n",
            "\n",
            "Por favor, ingrese un número: 15\n",
            "\n",
            "Felicidades has alcanzado el valor objetivo!\n",
            "La sumatoria de tus números es: 23 y debes alcanzar 10.\n"
          ]
        }
      ]
    },
    {
      "cell_type": "markdown",
      "source": [
        "**Ejercicio 2** Escribir un programa que le permita a una persona ingresar 10 números. Al finalizar, calcular la media, el máximo y el mínimo entre esos valores"
      ],
      "metadata": {
        "id": "R9nj_kndpQ4l"
      }
    },
    {
      "cell_type": "code",
      "source": [
        "def stats(quantity:int =10):\n",
        "  \"\"\"\n",
        "  Permite a una persona ingresar n números y  calcula la media, \n",
        "  el máximo y el mínimo de esos valores.\n",
        "\n",
        "  Parameters\n",
        "  ----------\n",
        "  quantity : int\n",
        "    Cantidad de numeros a ingresar. Por default: 10\n",
        "\n",
        "  Returns\n",
        "  -------\n",
        "  median : float\n",
        "    Media de los numeros ingresados.\n",
        "  \n",
        "  max : int\n",
        "    Número máximo de los ingresados.\n",
        "  \n",
        "  min : int\n",
        "    Número mínimo de los ingresados.\n",
        "  \"\"\"\n",
        "  print(f'Bienvenido a la calculadora de estadístias básicas de la FCEIA:\\n')\n",
        "  print(\n",
        "      f'Debes ingresar {quantity} números para facilitarte la media, '\n",
        "      f'el máximo y el mínimo.\\n'\n",
        "      )\n",
        "  numbers = []\n",
        "  for i in range(quantity):\n",
        "    #validacion de input para que no me deje continuar sin cargar el \n",
        "    #número correctamente porque, de lo contrario, se utilizan n numeros menos\n",
        "    #los errores ingresados para el calculo final.\n",
        "    while True: \n",
        "      try:\n",
        "        number = int(input(f'Por favor ingresa tu #{i+1} número: '))\n",
        "        break\n",
        "      except ValueError:\n",
        "        print(\"ERROR. Por favor, asegúrese de ingresar un número entero.\")\n",
        "        continue\n",
        "    numbers.append(number)\n",
        "  print(\n",
        "      f'\\nEstos son los resultados:\\n'\n",
        "      f'Media: {sum(numbers)/len(numbers)} -->({sum(numbers)}/{len(numbers)})\\n'\n",
        "      f'Máximo: {max(numbers)}\\n'\n",
        "      f'Mínimo: {min(numbers)}\\n'\n",
        "  )\n",
        "  print(\"Los mismos fueron calculados sobre los siguientes:\")\n",
        "  print(*numbers, sep=\", \" )\n",
        "  print(f'\\nMuchas gracias por utilizar la calculadora de estadístias básicas de la FCEIA.')\n"
      ],
      "metadata": {
        "id": "zrKfcnk5O34Z"
      },
      "execution_count": 58,
      "outputs": []
    },
    {
      "cell_type": "code",
      "source": [
        "stats()"
      ],
      "metadata": {
        "colab": {
          "base_uri": "https://localhost:8080/"
        },
        "id": "Trkgx1eeUMBQ",
        "outputId": "974aa647-148c-43b9-efdf-7e14e8525ac1"
      },
      "execution_count": 59,
      "outputs": [
        {
          "output_type": "stream",
          "name": "stdout",
          "text": [
            "Bienvenido a la calculadora de estadístias básicas de la FCEIA:\n",
            "\n",
            "Debes ingresar 10 números para facilitarte la media, el máximo y el mínimo.\n",
            "\n",
            "Por favor ingresa tu #1 número: abc\n",
            "ERROR. Por favor, asegúrese de ingresar un número entero.\n",
            "Por favor ingresa tu #1 número: abc\n",
            "ERROR. Por favor, asegúrese de ingresar un número entero.\n",
            "Por favor ingresa tu #1 número: abc\n",
            "ERROR. Por favor, asegúrese de ingresar un número entero.\n",
            "Por favor ingresa tu #1 número: 1\n",
            "Por favor ingresa tu #2 número: 3\n",
            "Por favor ingresa tu #3 número: 5\n",
            "Por favor ingresa tu #4 número: -1\n",
            "Por favor ingresa tu #5 número: 20\n",
            "Por favor ingresa tu #6 número: -15\n",
            "Por favor ingresa tu #7 número: 8\n",
            "Por favor ingresa tu #8 número: 22\n",
            "Por favor ingresa tu #9 número: -11\n",
            "Por favor ingresa tu #10 número: 5\n",
            "\n",
            "Estos son los resultados:\n",
            "Media: 3.7 -->(37/10)\n",
            "Máximo: 22\n",
            "Mínimo: -15\n",
            "\n",
            "Los mismos fueron calculados sobre los siguientes:\n",
            "1, 3, 5, -1, 20, -15, 8, 22, -11, 5\n",
            "\n",
            "Muchas gracias por utilizar la calculadora de estadístias básicas de la FCEIA.\n"
          ]
        }
      ]
    },
    {
      "cell_type": "markdown",
      "source": [
        "**Ejercicio 3** Escribir un programa que le permita al usuario ingresar la lista del supermercado. Para finalizar la lista, se deberá ingresar el símbolo * Imprimir la lista del supermercado"
      ],
      "metadata": {
        "id": "15EURsappUGp"
      }
    },
    {
      "cell_type": "code",
      "source": [
        "def shopping_list():\n",
        "  \"\"\"\n",
        "  Permite al usuario ingresar la lista del supermercado. Para finalizar\n",
        "  la lista, se deberá ingresar el símbolo * e imprime la lista ingresada.\n",
        "\n",
        "  Returns\n",
        "  -------\n",
        "  Imprime en pantalla la lista ingresada.\n",
        "  \"\"\"\n",
        "  \n",
        "  shopping = []\n",
        "  count = 0\n",
        "  item = None\n",
        "  print(\n",
        "      f'Bienvenido a su lista del supermercado\\n'\n",
        "      f'Si desea finalizar con la lista recuerde ingresar *.\\n'\n",
        "  )\n",
        "  while item != \"*\":\n",
        "    count +=1\n",
        "    item = input(f'Por favor ingrese su item #{count} a la lista: ')\n",
        "    if item != \"*\":\n",
        "      shopping.append(item)\n",
        "  print(\n",
        "      f'\\nFelicidades, usted ha ingresado los siguientes items '\n",
        "      f'para su lista de compras:'\n",
        "      )\n",
        "  print(*shopping, sep=\"\\n\")\n",
        "  print(\"\\nApúrese en ir a comprar antes que sufra los efectos de la inflación.\")"
      ],
      "metadata": {
        "id": "mIy-vnyrbFmV"
      },
      "execution_count": 70,
      "outputs": []
    },
    {
      "cell_type": "code",
      "source": [
        "shopping_list()"
      ],
      "metadata": {
        "colab": {
          "base_uri": "https://localhost:8080/"
        },
        "id": "M2DADcuhdyZK",
        "outputId": "26c88da4-cc6b-46dd-c767-0e39baec572f"
      },
      "execution_count": 71,
      "outputs": [
        {
          "output_type": "stream",
          "name": "stdout",
          "text": [
            "Bienvenido a su lista del supermercado\n",
            "Si desea finalizar con la lista recuerde ingresar *.\n",
            "\n",
            "Por favor ingrese su item #1 a la lista: 1 Rollo de cocina\n",
            "Por favor ingrese su item #2 a la lista: 2 leches descremadas\n",
            "Por favor ingrese su item #3 a la lista: 1 yogurt de vainilla\n",
            "Por favor ingrese su item #4 a la lista: *\n",
            "\n",
            "Felicidades, usted ha ingresado los siguientes items para su lista de compras:\n",
            "1 Rollo de cocina\n",
            "2 leches descremadas\n",
            "1 yogurt de vainilla\n",
            "\n",
            "Apúrese en ir a comprar antes que sufra los efectos de la inflación.\n"
          ]
        }
      ]
    },
    {
      "cell_type": "markdown",
      "source": [
        "**Ejercicio 4** Escribir un programa dónde se ingresen 10 edades y devuelva la cantidad de personas en cada grupo etario. \n",
        "\n",
        "*   Menor de 18 -> Menor de edad\n",
        "*   Mayor de 18 y menor de 64 -> Adulte\n",
        "*   Mayor de 64 -> Jubilade"
      ],
      "metadata": {
        "id": "F6FzLYKlpuQu"
      }
    },
    {
      "cell_type": "code",
      "source": [
        "def age_classifier(quantity:int=10):\n",
        "  \"\"\"\n",
        "  Permite el ingreso de n edades y retorna la cantidad \n",
        "  de personas segun los siguientes grupos etarios:\n",
        "\n",
        "  Menor de 18 -> Menor de edad\n",
        "  Mayor de 18 y menor de 64 -> Adulte\n",
        "  Mayor de 64 -> Jubilade\n",
        "\n",
        "  Parameters\n",
        "  ----------\n",
        "  quantity : int\n",
        "    Cantidad de edades a ingresar. Por default = 10\n",
        "\n",
        "  Returns\n",
        "  -------\n",
        "  minor : float\n",
        "    Cantidad de edades menores de 18.\n",
        "  \n",
        "  adult : int\n",
        "    Cantidad de edades mayores de 18 y menores de 64.\n",
        "  \n",
        "  retired : int\n",
        "    Cantidad de edades mayores a 64.\n",
        "  \"\"\"\n",
        "\n",
        "  minor = 0\n",
        "  adult = 0\n",
        "  retired = 0\n",
        "  for i in range(quantity):\n",
        "    while True: #misma validacion que ejercicio 2\n",
        "      try:\n",
        "        age = int(input(f\"Por favor, ingrese la edad de la #{i+1} persona: \"))\n",
        "        if age < 1 or age > 120:\n",
        "          print(\"ERROR. Por favor, asegúrese de ingresar una edad entre 1 y 120.\")\n",
        "          continue\n",
        "        break\n",
        "      except ValueError:\n",
        "        print(\"ERROR. Por favor, asegúrese de ingresar un número entero.\")\n",
        "        continue\n",
        "    if age < 18:\n",
        "      minor +=1\n",
        "    elif age > 64:\n",
        "      retired +=1\n",
        "    else:\n",
        "      adult +=1\n",
        "  return minor, adult, retired"
      ],
      "metadata": {
        "id": "y1D3bS96e9oB"
      },
      "execution_count": 76,
      "outputs": []
    },
    {
      "cell_type": "code",
      "source": [
        "minor, adult, retired = age_classifier()\n",
        "print(\n",
        "    f'Cantidad de menores: {minor}\\n'\n",
        "    f'Cantidad de adultos: {adult} \\n'\n",
        "    f'Cantidad de mayores: {retired}\\n'\n",
        "    )"
      ],
      "metadata": {
        "colab": {
          "base_uri": "https://localhost:8080/"
        },
        "id": "FWjBNO0ciXCY",
        "outputId": "c640c4cb-8c07-4315-bab2-42496f8855c0"
      },
      "execution_count": 79,
      "outputs": [
        {
          "output_type": "stream",
          "name": "stdout",
          "text": [
            "Por favor, ingrese la edad de la #1 persona: abc\n",
            "ERROR. Por favor, asegúrese de ingresar un número entero.\n",
            "Por favor, ingrese la edad de la #1 persona: -1\n",
            "ERROR. Por favor, asegúrese de ingresar una edad entre 1 y 120.\n",
            "Por favor, ingrese la edad de la #1 persona: 121\n",
            "ERROR. Por favor, asegúrese de ingresar una edad entre 1 y 120.\n",
            "Por favor, ingrese la edad de la #1 persona: 0\n",
            "ERROR. Por favor, asegúrese de ingresar una edad entre 1 y 120.\n",
            "Por favor, ingrese la edad de la #1 persona: 12\n",
            "Por favor, ingrese la edad de la #2 persona: 18\n",
            "Por favor, ingrese la edad de la #3 persona: 64\n",
            "Por favor, ingrese la edad de la #4 persona: 21\n",
            "Por favor, ingrese la edad de la #5 persona: 20\n",
            "Por favor, ingrese la edad de la #6 persona: 55\n",
            "Por favor, ingrese la edad de la #7 persona: 15\n",
            "Por favor, ingrese la edad de la #8 persona: 91\n",
            "Por favor, ingrese la edad de la #9 persona: 61\n",
            "Por favor, ingrese la edad de la #10 persona: 17\n",
            "Cantidad de menores: 3\n",
            "Cantidad de adultos: 6 \n",
            "Cantidad de mayores: 1\n",
            "\n"
          ]
        }
      ]
    }
  ]
}