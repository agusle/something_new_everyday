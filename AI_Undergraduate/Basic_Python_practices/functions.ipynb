{
  "nbformat": 4,
  "nbformat_minor": 0,
  "metadata": {
    "colab": {
      "provenance": [],
      "collapsed_sections": []
    },
    "kernelspec": {
      "name": "python3",
      "display_name": "Python 3"
    },
    "language_info": {
      "name": "python"
    }
  },
  "cells": [
    {
      "cell_type": "markdown",
      "source": [
        "# Funciones"
      ],
      "metadata": {
        "id": "ANxTuUPVQXL9"
      }
    },
    {
      "cell_type": "markdown",
      "source": [
        "**Ejercicio 1**\n",
        "\n",
        "Se realizó una encuesta donde las personas debían indicar su edad y remuneración por hora. Como\n",
        "resultado se tiene una lista de tuplas con esos datos similar a la de abajo. Escribir una función donde\n",
        "dado un segmento de edad descripto por un nivel inferior li y uno superior ls, por ejemplo 20 - 25,\n",
        "devuelva la remuneración promedio para personas mayores o iguales a li y menores a ls y la cantidad\n",
        "de personas usadas para calcular ese promedio. Si en la lista no existe ningún dato dentro del entorno\n",
        "estudiado, devolver cero para el promedio.\n",
        "\n",
        "\n",
        "\n",
        "```\n",
        "lista = [(20 , 400) , (25 , 500) , (20 , 350) , (50 , 1000) , (60 , 1500) , (40 , 760) , (35 , 1020)]\n",
        "```\n",
        "\n"
      ],
      "metadata": {
        "id": "_6hz7UlaQnmY"
      }
    },
    {
      "cell_type": "code",
      "source": [
        "lista = [(20 , 400) , (25 , 500) , (20 , 350) , (50 , 1000) , (60 , 1500) , (40 , 760) , (35 , 1020)]"
      ],
      "metadata": {
        "id": "cb7SHucWoeOP"
      },
      "execution_count": null,
      "outputs": []
    },
    {
      "cell_type": "code",
      "execution_count": null,
      "metadata": {
        "id": "IrxG7XrjQTov"
      },
      "outputs": [],
      "source": [
        "def average(data:list=lista,lower:int=20,higher:int=25) -> tuple:\n",
        "  \"\"\"\n",
        "  Dado un segmento de edad descripto por un nivel inferior lower\n",
        "  y uno superior higher retorna la remuneración promedio para \n",
        "  elementos mayores o iguales al segmento inferior y menores al\n",
        "  segmento superior y la cantidad de personas usadas para calcular el promedio. \n",
        "  Si en la lista no existe ningún dato dentro del entorno estudiado,\n",
        "  devuelve cero para el promedio.\n",
        "\n",
        "  Parameters\n",
        "  ----------\n",
        "  data = list\n",
        "    Lista con tuplas por cada ingreso de datos. Ej: (20,400)\n",
        "  \n",
        "  lower = int\n",
        "    Número entero que indica limite inferior del segmento. Ej: 30.\n",
        "    Por default es 20.\n",
        "\n",
        "  higher = int \n",
        "    Número entero que indica limite superior del segmento. Ej: 30.\n",
        "    Por default es 25.\n",
        "\n",
        "  Return\n",
        "  ------\n",
        "  result = float / int\n",
        "    Promedio de la remuneración del segmento redondeado en 2 decimales.\n",
        "    Ej: 375.0 , 0.-\n",
        "  \n",
        "  count  = int\n",
        "    Cantidad de personas en la que se basó el cálculo del promedio.\n",
        "    Ej: 2 \n",
        "  \"\"\"\n",
        "\n",
        "  sum = 0\n",
        "  count = 0\n",
        "  for person in data:\n",
        "    if person[0] in range(lower,higher):\n",
        "      sum += person[1]\n",
        "      count += 1\n",
        "  if count < 1:\n",
        "    result = 0\n",
        "  else:\n",
        "    result = round(sum/count,2)\n",
        "  return result, count"
      ]
    },
    {
      "cell_type": "markdown",
      "source": [
        "Prueba sin argumentos:"
      ],
      "metadata": {
        "id": "PiIyhnpYUplC"
      }
    },
    {
      "cell_type": "code",
      "source": [
        "rem_avg, count = average() # (lista,20,25)\n",
        "print(f\"Para el rango de edad ingresado, la remuneración promedio es ${rem_avg} calculado entre {count} personas.\")"
      ],
      "metadata": {
        "colab": {
          "base_uri": "https://localhost:8080/"
        },
        "id": "EnAUH1fSUeFZ",
        "outputId": "d73c8d08-ab65-4e2e-8a6d-e32e19ce6b47"
      },
      "execution_count": null,
      "outputs": [
        {
          "output_type": "stream",
          "name": "stdout",
          "text": [
            "Para el rango de edad ingresado, la remuneración promedio es $375.0 calculado entre 2 personas.\n"
          ]
        }
      ]
    },
    {
      "cell_type": "markdown",
      "source": [
        "Prueba con un argumento:"
      ],
      "metadata": {
        "id": "ASzVA9tjUD2m"
      }
    },
    {
      "cell_type": "code",
      "source": [
        "rem_avg, count = average(lista)\n",
        "print(f\"Para el rango de edad ingresado, la remuneración promedio es ${rem_avg} calculado entre {count} personas.\")"
      ],
      "metadata": {
        "colab": {
          "base_uri": "https://localhost:8080/"
        },
        "id": "kVav35TDoSKo",
        "outputId": "f7bed130-0e64-450e-e7bd-c2ed95593737"
      },
      "execution_count": null,
      "outputs": [
        {
          "output_type": "stream",
          "name": "stdout",
          "text": [
            "Para el rango de edad ingresado, la remuneración promedio es $375.0 calculado entre 2 personas.\n"
          ]
        }
      ]
    },
    {
      "cell_type": "markdown",
      "source": [
        "Prueba con 2 argumentos:"
      ],
      "metadata": {
        "id": "HbhhdV2bUHy4"
      }
    },
    {
      "cell_type": "code",
      "source": [
        "rem_avg, count = average(lista,21) #range(21,25) - sin datos\n",
        "print(f\"Para el rango de edad ingresado, la remuneración promedio es ${rem_avg} calculado entre {count} personas.\")"
      ],
      "metadata": {
        "colab": {
          "base_uri": "https://localhost:8080/"
        },
        "id": "kk3RfIXzTEc6",
        "outputId": "ebff4f02-ac07-4749-f96b-f61f52aaaf1c"
      },
      "execution_count": null,
      "outputs": [
        {
          "output_type": "stream",
          "name": "stdout",
          "text": [
            "Para el rango de edad ingresado, la remuneración promedio es $0 calculado entre 0 personas.\n"
          ]
        }
      ]
    },
    {
      "cell_type": "code",
      "source": [
        "print(rem_avg)\n",
        "print(type(rem_avg))\n",
        "print(count)\n",
        "print(type(count))"
      ],
      "metadata": {
        "colab": {
          "base_uri": "https://localhost:8080/"
        },
        "id": "1MZ0iA0HTsvC",
        "outputId": "27bd7dc1-0525-4ab5-efb1-e75ccffb7e1c"
      },
      "execution_count": null,
      "outputs": [
        {
          "output_type": "stream",
          "name": "stdout",
          "text": [
            "0\n",
            "<class 'int'>\n",
            "0\n",
            "<class 'int'>\n"
          ]
        }
      ]
    },
    {
      "cell_type": "markdown",
      "source": [
        "Prueba con 3 argumentos:"
      ],
      "metadata": {
        "id": "_5pK4whvUHpf"
      }
    },
    {
      "cell_type": "code",
      "source": [
        "rem_avg, count = average(lista,40,65)\n",
        "print(f\"Para el rango de edad ingresado, la remuneración promedio es ${rem_avg} calculado entre {count} personas.\")"
      ],
      "metadata": {
        "colab": {
          "base_uri": "https://localhost:8080/"
        },
        "id": "JWu7-_TjSVES",
        "outputId": "c978e99d-6dbf-49d1-8703-88f1bd6de320"
      },
      "execution_count": null,
      "outputs": [
        {
          "output_type": "stream",
          "name": "stdout",
          "text": [
            "Para el rango de edad ingresado, la remuneración promedio es $1086.67 calculado entre 3 personas.\n"
          ]
        }
      ]
    },
    {
      "cell_type": "code",
      "source": [
        "print(rem_avg)\n",
        "print(type(rem_avg))\n",
        "print(count)\n",
        "print(type(count))"
      ],
      "metadata": {
        "colab": {
          "base_uri": "https://localhost:8080/"
        },
        "id": "Q8UGb2gAShSK",
        "outputId": "185543dd-1f0c-4428-84a4-6b1b2be9a14a"
      },
      "execution_count": null,
      "outputs": [
        {
          "output_type": "stream",
          "name": "stdout",
          "text": [
            "1086.67\n",
            "<class 'float'>\n",
            "3\n",
            "<class 'int'>\n"
          ]
        }
      ]
    },
    {
      "cell_type": "markdown",
      "source": [
        "**Ejercicio 2**\n",
        "\n",
        "Escribir una función que calcule la distancia entre dos puntos en el plano. Los puntos deberán ingresar a la función como tuplas. Si solo se le pasa un argumento, por defecto el otro punto debe ser el origen."
      ],
      "metadata": {
        "id": "5p6BSIsWQ12t"
      }
    },
    {
      "cell_type": "markdown",
      "source": [
        "![image.png](data:image/png;base64,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)"
      ],
      "metadata": {
        "id": "0zR-gz_Pka__"
      }
    },
    {
      "cell_type": "code",
      "source": [
        "def plane_distance(a:tuple=(0,0),b:tuple=(0,0)) -> float :\n",
        "    \"\"\"\n",
        "    Calcula la distancia entre dos puntos en el plano. Por defecto,\n",
        "    ambos puntos son el origen.  \n",
        "    \n",
        "    Parameters\n",
        "    ----------\n",
        "    a = tuple\n",
        "      Punto en plano cartesiano (x,y). Ej: (-1,7)\n",
        "      Por defecto: (0,0) -> origen\n",
        "    \n",
        "    b = tuple\n",
        "      Punto en plano cartesiano (x,y). Ej: (3,4)\n",
        "      Por defecto: (0,0) -> origen\n",
        "\n",
        "    Return\n",
        "    ------\n",
        "    float \n",
        "      Resultado de la distancia entre los dos puntos ingresados como argumentos.\n",
        "    \"\"\"\n",
        "\n",
        "    return round((((b[0]-a[0])**2) + ((b[1]-a[1])**2))**(1/2),2)"
      ],
      "metadata": {
        "id": "UpxtDJzWRsUG"
      },
      "execution_count": 33,
      "outputs": []
    },
    {
      "cell_type": "markdown",
      "source": [
        "Sin argumentos:"
      ],
      "metadata": {
        "id": "qet_7lGvsu6p"
      }
    },
    {
      "cell_type": "code",
      "source": [
        "plane_distance()"
      ],
      "metadata": {
        "colab": {
          "base_uri": "https://localhost:8080/"
        },
        "id": "9VBW1Iy_mEvQ",
        "outputId": "5928aee6-fc28-4edc-a685-b060c1c56a6d"
      },
      "execution_count": 34,
      "outputs": [
        {
          "output_type": "execute_result",
          "data": {
            "text/plain": [
              "0.0"
            ]
          },
          "metadata": {},
          "execution_count": 34
        }
      ]
    },
    {
      "cell_type": "markdown",
      "source": [
        "Con ambos argumentos:"
      ],
      "metadata": {
        "id": "NCjOO5HDsw7W"
      }
    },
    {
      "cell_type": "code",
      "source": [
        "distance = plane_distance((-1,7),(3,4))\n",
        "distance"
      ],
      "metadata": {
        "colab": {
          "base_uri": "https://localhost:8080/"
        },
        "id": "uaZDH5H1n9em",
        "outputId": "ed733abb-2033-47f2-c60d-80caaa21b5f1"
      },
      "execution_count": 35,
      "outputs": [
        {
          "output_type": "execute_result",
          "data": {
            "text/plain": [
              "5.0"
            ]
          },
          "metadata": {},
          "execution_count": 35
        }
      ]
    },
    {
      "cell_type": "markdown",
      "source": [
        "Con argumento posicional:"
      ],
      "metadata": {
        "id": "SF6iyxbVszDb"
      }
    },
    {
      "cell_type": "code",
      "source": [
        "distance = plane_distance((8,6))\n",
        "distance"
      ],
      "metadata": {
        "colab": {
          "base_uri": "https://localhost:8080/"
        },
        "id": "EOS6wvVPrGBn",
        "outputId": "f43a361e-55a8-4f50-d407-a89cbaebd99d"
      },
      "execution_count": 36,
      "outputs": [
        {
          "output_type": "execute_result",
          "data": {
            "text/plain": [
              "10.0"
            ]
          },
          "metadata": {},
          "execution_count": 36
        }
      ]
    },
    {
      "cell_type": "markdown",
      "source": [
        "Con argumento por nombre:"
      ],
      "metadata": {
        "id": "gf1v-ln-s11_"
      }
    },
    {
      "cell_type": "code",
      "source": [
        "distance = plane_distance(b=(-4,1))\n",
        "distance"
      ],
      "metadata": {
        "colab": {
          "base_uri": "https://localhost:8080/"
        },
        "id": "t6snvYI3rLqv",
        "outputId": "0a3deba4-4f3d-4451-dee2-721a119c23d7"
      },
      "execution_count": 32,
      "outputs": [
        {
          "output_type": "execute_result",
          "data": {
            "text/plain": [
              "4.12"
            ]
          },
          "metadata": {},
          "execution_count": 32
        }
      ]
    },
    {
      "cell_type": "markdown",
      "source": [
        "**Ejercicio 3**\n",
        "\n",
        "Un número es primo sí solo sí sus únicos divisores son 1 y el mismo número.\n",
        "\n",
        "a.  Escriba una función que determine si un numero es primo o no.\n",
        "\n",
        "b. Escriba otra función que reciba un número n e imprima todos los números primos menores que n"
      ],
      "metadata": {
        "id": "Clfl9IaFRvja"
      }
    },
    {
      "cell_type": "code",
      "source": [
        "def prime_number (number:int) -> bool:\n",
        "  \"\"\"\n",
        "  Determina si un numero natural es primo o no y devuelve un booleano\n",
        "  True si es primo, de lo contrario False.\n",
        "\n",
        "  Parameter\n",
        "  --------\n",
        "  number = int\n",
        "    Numero entero. Ej: 5.\n",
        "  \n",
        "  Return\n",
        "  bool\n",
        "    True si es primo o False si no lo es \n",
        "  \"\"\"\n",
        "  \n",
        "  if number < 2: #debe ser numero natural mayor a 1\n",
        "    return False\n",
        "  for other in range(2,number): #resto de division por cada numero menor\n",
        "    if number%other == 0:\n",
        "      return False\n",
        "  return True"
      ],
      "metadata": {
        "id": "ve38GCNauFz8"
      },
      "execution_count": 72,
      "outputs": []
    },
    {
      "cell_type": "code",
      "source": [
        "for number in range(0,12):\n",
        "  print(f'{number} : {prime_number(number)}')"
      ],
      "metadata": {
        "colab": {
          "base_uri": "https://localhost:8080/"
        },
        "id": "jkrHK41XvNTY",
        "outputId": "2aa29607-1262-43d3-ec21-845a28a0662c"
      },
      "execution_count": 74,
      "outputs": [
        {
          "output_type": "stream",
          "name": "stdout",
          "text": [
            "0 : False\n",
            "1 : False\n",
            "2 : True\n",
            "3 : True\n",
            "4 : False\n",
            "5 : True\n",
            "6 : False\n",
            "7 : True\n",
            "8 : False\n",
            "9 : False\n",
            "10 : False\n",
            "11 : True\n"
          ]
        }
      ]
    },
    {
      "cell_type": "code",
      "source": [
        "def minor_prime(number:int=10) -> list:\n",
        "  \"\"\"\n",
        "  Imprime todos los numeros primos menores que el numero ingresado \n",
        "  como argumento y devuelve una lista con los mismos. En caso que no\n",
        "  se encuentren numeros primos, devuelve una lista vacía.\n",
        "\n",
        "  Parameters\n",
        "  ----------\n",
        "  number = int\n",
        "    Numero entero para calcular primos menores. \n",
        "    Por default number = 10.\n",
        "  \n",
        "  Return\n",
        "  ------\n",
        "  prime = list\n",
        "    Lista con números enteros menores que el argumento ingresado.\n",
        "  \"\"\"\n",
        "\n",
        "  prime = []\n",
        "  for num in range(number):\n",
        "    if prime_number(num):\n",
        "      prime.append(num)\n",
        "  print(*prime,sep=\", \")\n",
        "  return prime"
      ],
      "metadata": {
        "id": "wnpu_HURgX6w"
      },
      "execution_count": 91,
      "outputs": []
    },
    {
      "cell_type": "markdown",
      "source": [
        "Llamada sin argumentos:"
      ],
      "metadata": {
        "id": "9cjctVqs3Wz5"
      }
    },
    {
      "cell_type": "code",
      "source": [
        "primesto10 = minor_prime()"
      ],
      "metadata": {
        "colab": {
          "base_uri": "https://localhost:8080/"
        },
        "id": "Z2VCnBrb3Qwj",
        "outputId": "b48cfd99-c0d9-4caa-d139-d8029bad0d30"
      },
      "execution_count": 93,
      "outputs": [
        {
          "output_type": "stream",
          "name": "stdout",
          "text": [
            "2, 3, 5, 7\n"
          ]
        }
      ]
    },
    {
      "cell_type": "code",
      "source": [
        "primesto10"
      ],
      "metadata": {
        "colab": {
          "base_uri": "https://localhost:8080/"
        },
        "id": "CnSGSk0K3T_S",
        "outputId": "7b910101-db7c-4ddd-bf94-2864b50832c2"
      },
      "execution_count": 94,
      "outputs": [
        {
          "output_type": "execute_result",
          "data": {
            "text/plain": [
              "[2, 3, 5, 7]"
            ]
          },
          "metadata": {},
          "execution_count": 94
        }
      ]
    },
    {
      "cell_type": "markdown",
      "source": [
        "Llamada con argumentos:"
      ],
      "metadata": {
        "id": "KtN6Aal73Yty"
      }
    },
    {
      "cell_type": "code",
      "source": [
        "primesto12 = minor_prime(12)"
      ],
      "metadata": {
        "colab": {
          "base_uri": "https://localhost:8080/"
        },
        "id": "6_86dRnK06jP",
        "outputId": "d98e2809-4af5-4591-ed3c-8d8acc3f41b2"
      },
      "execution_count": 82,
      "outputs": [
        {
          "output_type": "stream",
          "name": "stdout",
          "text": [
            "2, 3, 5, 7, 11\n"
          ]
        }
      ]
    },
    {
      "cell_type": "code",
      "source": [
        "primesto12"
      ],
      "metadata": {
        "colab": {
          "base_uri": "https://localhost:8080/"
        },
        "id": "UnZDIzKO1YtS",
        "outputId": "1bb62f8a-3ee3-4f20-d224-1ab0ac17d60f"
      },
      "execution_count": 83,
      "outputs": [
        {
          "output_type": "execute_result",
          "data": {
            "text/plain": [
              "[2, 3, 5, 7, 11]"
            ]
          },
          "metadata": {},
          "execution_count": 83
        }
      ]
    },
    {
      "cell_type": "markdown",
      "source": [
        "Prueba con numeros primos menores que 2:"
      ],
      "metadata": {
        "id": "uqkvY_IG23SG"
      }
    },
    {
      "cell_type": "code",
      "source": [
        "primesto2 = minor_prime(2)"
      ],
      "metadata": {
        "colab": {
          "base_uri": "https://localhost:8080/"
        },
        "id": "bZ-mOdt32kBn",
        "outputId": "0e257d61-f54e-4502-d0c7-5fe5cda74e27"
      },
      "execution_count": 89,
      "outputs": [
        {
          "output_type": "stream",
          "name": "stdout",
          "text": [
            "\n"
          ]
        }
      ]
    },
    {
      "cell_type": "code",
      "source": [
        "primesto2"
      ],
      "metadata": {
        "colab": {
          "base_uri": "https://localhost:8080/"
        },
        "id": "iLdv5x712oOb",
        "outputId": "b0c673e2-cb1a-42f3-a8dc-6347336152d8"
      },
      "execution_count": 90,
      "outputs": [
        {
          "output_type": "execute_result",
          "data": {
            "text/plain": [
              "[]"
            ]
          },
          "metadata": {},
          "execution_count": 90
        }
      ]
    },
    {
      "cell_type": "markdown",
      "source": [
        "**Ejercicio 4**\n",
        "\n",
        "Escriba un programa que pida el ancho y altura de un rectángulo y el caracter a utilizar en el dibujo:\n",
        "\n",
        "\n",
        "```\n",
        "ancho = 5\n",
        "alto = 3\n",
        "caracter = o\n",
        "o o o o o\n",
        "o o o o o\n",
        "o o o o o\n",
        "```\n",
        "\n"
      ],
      "metadata": {
        "id": "2d4FT2zDSaYL"
      }
    },
    {
      "cell_type": "code",
      "source": [
        "def rectangle_paint(width:int, height:int, char:str):\n",
        "  \"\"\"\n",
        "  Dibuja un rectangulo con el ancho, altura y caracter ingresados.\n",
        "\n",
        "  Paramters\n",
        "  ---------\n",
        "  width = int\n",
        "    Ancho del rectángulo. Ej: 5\n",
        "  \n",
        "  height = int\n",
        "    Altura del rectángulo. Ej: 3\n",
        "  \n",
        "  char = str\n",
        "    Cualquier caracter ingresado para realizar dibujo. Ej: \"+\"\n",
        "  \"\"\"\n",
        "  for row in range(height):\n",
        "    print(f'{(char+\" \")*width}')\n",
        "  "
      ],
      "metadata": {
        "id": "5FpbNHWKSZx0"
      },
      "execution_count": 95,
      "outputs": []
    },
    {
      "cell_type": "code",
      "source": [
        "rectangle_paint(5,3,\"+\")"
      ],
      "metadata": {
        "colab": {
          "base_uri": "https://localhost:8080/"
        },
        "id": "C75490em7674",
        "outputId": "120f4774-722b-45b8-ee4e-9150f3f572fb"
      },
      "execution_count": 96,
      "outputs": [
        {
          "output_type": "stream",
          "name": "stdout",
          "text": [
            "+ + + + + \n",
            "+ + + + + \n",
            "+ + + + + \n"
          ]
        }
      ]
    },
    {
      "cell_type": "code",
      "source": [
        "def rectangle_paint(width:int, height:int, char:str) -> list:\n",
        "  \"\"\"\n",
        "  Crea y devuelve array 2d con forma (height,width) y luego imprime \n",
        "  la figura con el caracter ingresado.\n",
        "\n",
        "  Paramters\n",
        "  ---------\n",
        "  width = int\n",
        "    Ancho del rectángulo. Ej: 5\n",
        "  \n",
        "  height = int\n",
        "    Altura del rectángulo. Ej: 3\n",
        "  \n",
        "  char = str\n",
        "    Cualquier caracter ingresado para realizar dibujo. Ej: \"+\"\n",
        "\n",
        "  Return\n",
        "  ------\n",
        "  array2d = list\n",
        "    2d array con forma (height,width). Ejemplo: (3,5)\n",
        "  \"\"\"\n",
        "  array2d = []\n",
        "  features = list(char*width)\n",
        "  for row in range(height):\n",
        "    array2d.append(features)\n",
        "  for array in array2d:\n",
        "    print(*array,sep=\" \")\n",
        "  return array2d"
      ],
      "metadata": {
        "id": "Sjgp2DDBFtz9"
      },
      "execution_count": 160,
      "outputs": []
    },
    {
      "cell_type": "code",
      "source": [
        "array2d = rectangle_paint(5,3,\"+\")"
      ],
      "metadata": {
        "colab": {
          "base_uri": "https://localhost:8080/"
        },
        "id": "NmCaduosVCnw",
        "outputId": "88bdccd3-185a-4781-8e36-c3479b3b28b2"
      },
      "execution_count": 157,
      "outputs": [
        {
          "output_type": "stream",
          "name": "stdout",
          "text": [
            "+ + + + +\n",
            "+ + + + +\n",
            "+ + + + +\n"
          ]
        }
      ]
    },
    {
      "cell_type": "code",
      "source": [
        "array2d"
      ],
      "metadata": {
        "colab": {
          "base_uri": "https://localhost:8080/"
        },
        "id": "zgnsIJWmWyBo",
        "outputId": "baa00336-ac53-4398-93df-f8163f7ae15e"
      },
      "execution_count": 158,
      "outputs": [
        {
          "output_type": "execute_result",
          "data": {
            "text/plain": [
              "[['+', '+', '+', '+', '+'],\n",
              " ['+', '+', '+', '+', '+'],\n",
              " ['+', '+', '+', '+', '+']]"
            ]
          },
          "metadata": {},
          "execution_count": 158
        }
      ]
    },
    {
      "cell_type": "markdown",
      "source": [
        "**Ejercicio 5**\n",
        "\n",
        "Crear una función lambda que permita conocer si un número es par."
      ],
      "metadata": {
        "id": "yEpVS5bkUIvx"
      }
    },
    {
      "cell_type": "markdown",
      "source": [
        "Almacenando lambda en una variable:"
      ],
      "metadata": {
        "id": "Q59gRXFphehQ"
      }
    },
    {
      "cell_type": "code",
      "source": [
        "even = lambda number: True if number%2 == 0 else False"
      ],
      "metadata": {
        "id": "Tr9Kp3pCUNDp"
      },
      "execution_count": 172,
      "outputs": []
    },
    {
      "cell_type": "code",
      "source": [
        "for number in range(1,11):\n",
        "  print(f'{number}: {even(number)}')"
      ],
      "metadata": {
        "colab": {
          "base_uri": "https://localhost:8080/"
        },
        "id": "sf8_bKI3gNvJ",
        "outputId": "78a6be39-c37b-498d-f021-7285f57084d6"
      },
      "execution_count": 177,
      "outputs": [
        {
          "output_type": "stream",
          "name": "stdout",
          "text": [
            "1: False\n",
            "2: True\n",
            "3: False\n",
            "4: True\n",
            "5: False\n",
            "6: True\n",
            "7: False\n",
            "8: True\n",
            "9: False\n",
            "10: True\n"
          ]
        }
      ]
    },
    {
      "cell_type": "markdown",
      "source": [
        "Utilizandola exclusivamente para categorizar los numeros del 1 al 10:"
      ],
      "metadata": {
        "id": "_q1H6TtghdPS"
      }
    },
    {
      "cell_type": "code",
      "source": [
        "for number in range(1,11):\n",
        "  print(f'{number}: {(lambda even:True if even%2==0 else False)(number)}')"
      ],
      "metadata": {
        "colab": {
          "base_uri": "https://localhost:8080/"
        },
        "id": "_a7G44Dpgy6C",
        "outputId": "63d51975-cc51-4993-f74d-72be1e1f9fdc"
      },
      "execution_count": 179,
      "outputs": [
        {
          "output_type": "stream",
          "name": "stdout",
          "text": [
            "1: False\n",
            "2: True\n",
            "3: False\n",
            "4: True\n",
            "5: False\n",
            "6: True\n",
            "7: False\n",
            "8: True\n",
            "9: False\n",
            "10: True\n"
          ]
        }
      ]
    },
    {
      "cell_type": "markdown",
      "source": [
        "**Ejercicio 6**\n",
        "\n",
        "Crear una función a la cual se le pase una cantidad variable de números y devuelva la multiplicación de los pares sumado los números impares.\n",
        "\n",
        "Ejemplo:\n",
        "\n",
        "\n",
        "```\n",
        "1+3*6+7*2 = 33\n",
        "```\n",
        "\n"
      ],
      "metadata": {
        "id": "gpmXVUUUUNhU"
      }
    },
    {
      "cell_type": "code",
      "source": [],
      "metadata": {
        "id": "1FjiRfyvVRmo"
      },
      "execution_count": null,
      "outputs": []
    },
    {
      "cell_type": "markdown",
      "source": [
        "**Ejercicio 7**\n",
        "\n",
        "Dada la siguiente función \n",
        "\n",
        "\n",
        "```\n",
        "def resultado(x, y, op):\n",
        "    if op == '+':\n",
        "        return x + y\n",
        "    elif op == '-':\n",
        "        return x - y\n",
        "```\n",
        "\n",
        "Invocarla de manera convencional, con el parametro especial args y con kwargs.\n",
        "\n"
      ],
      "metadata": {
        "id": "CxGyR7i3VR9v"
      }
    },
    {
      "cell_type": "code",
      "source": [],
      "metadata": {
        "id": "8bWWUUVFZYsM"
      },
      "execution_count": null,
      "outputs": []
    }
  ]
}