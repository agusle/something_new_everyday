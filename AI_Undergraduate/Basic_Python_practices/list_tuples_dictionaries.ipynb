{
  "cells": [
    {
      "cell_type": "markdown",
      "id": "975346ff",
      "metadata": {
        "id": "975346ff"
      },
      "source": [
        "## Clase 6"
      ]
    },
    {
      "cell_type": "markdown",
      "id": "62ce5593",
      "metadata": {
        "id": "62ce5593"
      },
      "source": [
        "#### Listas"
      ]
    },
    {
      "cell_type": "markdown",
      "id": "6df460bc",
      "metadata": {
        "id": "6df460bc"
      },
      "source": [
        "1. Escriba una función que reciba una lista de números calcule la suma acumulada de sus elementos y la devuelva. Es decir, una nueva lista donde el primer elemento es el mismo que en la lista original, el segundo elemento es la suma del primer y segundo elemento de la lista original, el tercer elemento es la suma del resultado anterior con el tercer elemento de la lista original y así sucesivamente. Por ejemplo, dada la lista [1, 2, 3], la suma acumulada debería ser [1, 3, 6]."
      ]
    },
    {
      "cell_type": "code",
      "source": [
        "def acumulative_list_sum(numbers:list)-> list:\n",
        "  \"\"\"\n",
        "  Crea una nueva lista donde el primer elemento es el mismo que la original,\n",
        "  el segundo elemento es la suma del primer y segundo elemento de la lista \n",
        "  original y el tercer elemento es la suma del resultado anterior \n",
        "  con el tercer elemento de la lista original y así sucesivamente.\n",
        "\n",
        "  Parameters\n",
        "  ----------\n",
        "  numbers = list\n",
        "    Lista de números (int, float). e.g: [1,2,3]\n",
        "  \n",
        "  Returns\n",
        "  -------\n",
        "  sum_numbers = list\n",
        "    Lista con la suma acumulativa. e.g: [1,3,6]\n",
        "  \"\"\"\n",
        "\n",
        "  sum_numbers = []\n",
        "  for number in range(len(numbers)):\n",
        "    if len(sum_numbers) == 0: #primer elemento es igual que original\n",
        "      number = numbers[number]\n",
        "    elif len(sum_numbers) < 2 : #segundo elemento suma de 1ro + 2do original\n",
        "      number = numbers[number] + numbers[number-1]\n",
        "    else:\n",
        "      number = sum_numbers[-1] + numbers[number] #tercer elemento suma con ant.\n",
        "    sum_numbers.append(number)\n",
        "  return sum_numbers"
      ],
      "metadata": {
        "id": "3nrAjC2Pib1g"
      },
      "id": "3nrAjC2Pib1g",
      "execution_count": null,
      "outputs": []
    },
    {
      "cell_type": "code",
      "source": [
        "my_list = [1,2,3]\n",
        "sum_list = acumulative_list_sum(my_list)\n",
        "print(sum_list)"
      ],
      "metadata": {
        "colab": {
          "base_uri": "https://localhost:8080/"
        },
        "id": "4M8ljegd2qyL",
        "outputId": "720254c2-ac26-4458-f5d2-98757ea03732"
      },
      "id": "4M8ljegd2qyL",
      "execution_count": null,
      "outputs": [
        {
          "output_type": "stream",
          "name": "stdout",
          "text": [
            "[1, 3, 6]\n"
          ]
        }
      ]
    },
    {
      "cell_type": "markdown",
      "id": "a1864932",
      "metadata": {
        "id": "a1864932"
      },
      "source": [
        "2. Genere una lista llamada datosPersonales, mediante el uso de un bucle donde en cada iteración se pida un solo dato de los siguientes: Nombre, Apellido, Localidad, Edad, DNI, Carrera en curso (en esta última ingrese: Tecnicatura), año de inicio de la carrera. Luego, imprima por pantalla la lista con los datos completados. (Ingrese las palabras como cadenas y los números como enteros)"
      ]
    },
    {
      "cell_type": "code",
      "source": [
        "form = [\"Nombre\",\"Apellido\",\"Localidad\",\"Edad\",\"DNI\",\"Carrera en curso\",\"Año de inicio de carrera\"]"
      ],
      "metadata": {
        "id": "xC7_RIG88Euo"
      },
      "id": "xC7_RIG88Euo",
      "execution_count": 7,
      "outputs": []
    },
    {
      "cell_type": "code",
      "source": [
        "def fill_form(form:list) -> list:\n",
        "  \"\"\"\n",
        "  Genera una secuencia de input para cada uno de los elementos del formulario\n",
        "  ingresado como argumento. Si el valor ingresado es numérico, el elemento se\n",
        "  almacena como número entero, de lo contario como cadena.\n",
        "\n",
        "  Parameter\n",
        "  ---------\n",
        "  form = list\n",
        "    Lista con campos de datos a ingresar por el usuario.\n",
        "  \n",
        "  Returns\n",
        "  -------\n",
        "  datosPersonales = list\n",
        "    Lista con campos ingresados por usuario\n",
        "  \"\"\"\n",
        "  \n",
        "  datosPersonales = []\n",
        "  for data in form:\n",
        "    field = input(f'Por favor, ingrese su {data}: ')\n",
        "    if field.isnumeric():\n",
        "      field = int(field)\n",
        "    datosPersonales.append(field)\n",
        "  print(f'\\nMuchas gracias por completar el formulario. Usted ingresó los siguientes datos:')\n",
        "  for index in range(len(form)):\n",
        "    print(f'{form[index]}: {datosPersonales[index]}')\n",
        "  return datosPersonales"
      ],
      "metadata": {
        "id": "65yWKGmpihCC"
      },
      "id": "65yWKGmpihCC",
      "execution_count": 8,
      "outputs": []
    },
    {
      "cell_type": "code",
      "source": [
        "datosPersonales = fill_form(form)"
      ],
      "metadata": {
        "colab": {
          "base_uri": "https://localhost:8080/"
        },
        "id": "7XoUSmln9o8O",
        "outputId": "e38c6570-af2a-43c4-ea9d-15b4a75a61a5"
      },
      "id": "7XoUSmln9o8O",
      "execution_count": null,
      "outputs": [
        {
          "output_type": "stream",
          "name": "stdout",
          "text": [
            "Por favor, ingrese su Nombre: Agustin\n",
            "Por favor, ingrese su Apellido: Leperini\n",
            "Por favor, ingrese su Localidad: Carcarañá\n",
            "Por favor, ingrese su Edad: 30\n",
            "Por favor, ingrese su DNI: 36007849\n",
            "Por favor, ingrese su Carrera en curso: Tecnicatura\n",
            "Por favor, ingrese su Año de inicio de carrera: 2022\n",
            "\n",
            "Muchas gracias por completar el formulario. Usted ingresó los siguientes datos:\n",
            "Nombre: Agustin\n",
            "Apellido: Leperini\n",
            "Localidad: Carcarañá\n",
            "Edad: 30\n",
            "DNI: 36007849\n",
            "Carrera en curso: Tecnicatura\n",
            "Año de inicio de carrera: 2022\n"
          ]
        }
      ]
    },
    {
      "cell_type": "markdown",
      "source": [
        "Comprobación de almacenamiento de datos numéricos como enteros."
      ],
      "metadata": {
        "id": "YzlOtuWy99MY"
      },
      "id": "YzlOtuWy99MY"
    },
    {
      "cell_type": "code",
      "source": [
        "numeric_values = list(filter(lambda x: type(x)== int,datosPersonales))\n",
        "print(numeric_values)"
      ],
      "metadata": {
        "colab": {
          "base_uri": "https://localhost:8080/"
        },
        "id": "iuCAF92f-LLl",
        "outputId": "1dec8f0c-54be-4de9-b47f-915933027f79"
      },
      "id": "iuCAF92f-LLl",
      "execution_count": null,
      "outputs": [
        {
          "output_type": "stream",
          "name": "stdout",
          "text": [
            "[30, 36007849, 2022]\n"
          ]
        }
      ]
    },
    {
      "cell_type": "code",
      "source": [
        "print(type(datosPersonales[3]))#Edad\n",
        "print(type(datosPersonales[4]))#DNI\n",
        "print(type(datosPersonales[-1]))#Año de inicio"
      ],
      "metadata": {
        "colab": {
          "base_uri": "https://localhost:8080/"
        },
        "id": "_6eo8vvm-Cl1",
        "outputId": "51c770c4-ab89-4cf1-ce2a-34873a844ce6"
      },
      "id": "_6eo8vvm-Cl1",
      "execution_count": null,
      "outputs": [
        {
          "output_type": "stream",
          "name": "stdout",
          "text": [
            "<class 'int'>\n",
            "<class 'int'>\n",
            "<class 'int'>\n"
          ]
        }
      ]
    },
    {
      "cell_type": "markdown",
      "id": "571681d6",
      "metadata": {
        "id": "571681d6"
      },
      "source": [
        "3. Tomando la lista del ejercicio anterior y la de sus 3 compañeros más proximos, genere una lista base de datos. Que contenga en su interior las 4 listas de datos personales. Luego, implemente un programa que imprima los datos personales de cada persona."
      ]
    },
    {
      "cell_type": "code",
      "execution_count": 11,
      "id": "09e896e8",
      "metadata": {
        "id": "09e896e8",
        "colab": {
          "base_uri": "https://localhost:8080/"
        },
        "outputId": "f398233e-f90c-4db0-b32c-1305271e3d06"
      },
      "outputs": [
        {
          "output_type": "stream",
          "name": "stdout",
          "text": [
            "Por favor, ingrese su Nombre: Agustin\n",
            "Por favor, ingrese su Apellido: Leperini\n",
            "Por favor, ingrese su Localidad: Carcarañá\n",
            "Por favor, ingrese su Edad: 30\n",
            "Por favor, ingrese su DNI: 36007849\n",
            "Por favor, ingrese su Carrera en curso: Tecnicatura\n",
            "Por favor, ingrese su Año de inicio de carrera: 2022\n",
            "\n",
            "Muchas gracias por completar el formulario. Usted ingresó los siguientes datos:\n",
            "Nombre: Agustin\n",
            "Apellido: Leperini\n",
            "Localidad: Carcarañá\n",
            "Edad: 30\n",
            "DNI: 36007849\n",
            "Carrera en curso: Tecnicatura\n",
            "Año de inicio de carrera: 2022\n",
            "Por favor, ingrese su Nombre: Franco\n",
            "Por favor, ingrese su Apellido: Leperini\n",
            "Por favor, ingrese su Localidad: Carcarañá\n",
            "Por favor, ingrese su Edad: 30\n",
            "Por favor, ingrese su DNI: 36007848\n",
            "Por favor, ingrese su Carrera en curso: Tecnicatura\n",
            "Por favor, ingrese su Año de inicio de carrera: 2022\n",
            "\n",
            "Muchas gracias por completar el formulario. Usted ingresó los siguientes datos:\n",
            "Nombre: Franco\n",
            "Apellido: Leperini\n",
            "Localidad: Carcarañá\n",
            "Edad: 30\n",
            "DNI: 36007848\n",
            "Carrera en curso: Tecnicatura\n",
            "Año de inicio de carrera: 2022\n",
            "Por favor, ingrese su Nombre: Martin\n",
            "Por favor, ingrese su Apellido: Cavo\n",
            "Por favor, ingrese su Localidad: Rosario\n",
            "Por favor, ingrese su Edad: 31\n",
            "Por favor, ingrese su DNI: 34593748\n",
            "Por favor, ingrese su Carrera en curso: Tecnicatura\n",
            "Por favor, ingrese su Año de inicio de carrera: 2021\n",
            "\n",
            "Muchas gracias por completar el formulario. Usted ingresó los siguientes datos:\n",
            "Nombre: Martin\n",
            "Apellido: Cavo\n",
            "Localidad: Rosario\n",
            "Edad: 31\n",
            "DNI: 34593748\n",
            "Carrera en curso: Tecnicatura\n",
            "Año de inicio de carrera: 2021\n",
            "Por favor, ingrese su Nombre: Roberto\n",
            "Por favor, ingrese su Apellido: Gomez\n",
            "Por favor, ingrese su Localidad: Villa Constitución\n",
            "Por favor, ingrese su Edad: 27\n",
            "Por favor, ingrese su DNI: 38442157\n",
            "Por favor, ingrese su Carrera en curso: Tecnicatura\n",
            "Por favor, ingrese su Año de inicio de carrera: 2022\n",
            "\n",
            "Muchas gracias por completar el formulario. Usted ingresó los siguientes datos:\n",
            "Nombre: Roberto\n",
            "Apellido: Gomez\n",
            "Localidad: Villa Constitución\n",
            "Edad: 27\n",
            "DNI: 38442157\n",
            "Carrera en curso: Tecnicatura\n",
            "Año de inicio de carrera: 2022\n"
          ]
        }
      ],
      "source": [
        "datosPersonales1 = fill_form(form)\n",
        "datosPersonales2 = fill_form(form)\n",
        "datosPersonales3 = fill_form(form)\n",
        "datosPersonales4 = fill_form(form)"
      ]
    },
    {
      "cell_type": "code",
      "source": [
        "def database_lists(*lists:list) -> list:\n",
        "  \"\"\"\n",
        "  Genera una lista compuesta por las listas ingresadas como argumentos.\n",
        "\n",
        "  Parameters\n",
        "  ----------\n",
        "  *lists = non keyword lists\n",
        "    Listas a incluir como elementos de una lista madre.\n",
        "    e.g: datosPersonales1,datosPersonales2\n",
        "\n",
        "  Returns\n",
        "  -------\n",
        "  database = list\n",
        "    Lista con cada elemento como lista ingresadas como argumento.\n",
        "  \"\"\"\n",
        "\n",
        "  database = []\n",
        "  for argument in range(len(lists)):\n",
        "    database.append(lists[argument])\n",
        "  return database"
      ],
      "metadata": {
        "id": "monmroKrADcO"
      },
      "id": "monmroKrADcO",
      "execution_count": 13,
      "outputs": []
    },
    {
      "cell_type": "code",
      "source": [
        "database = database_lists(datosPersonales1,datosPersonales2,datosPersonales3,datosPersonales4)\n",
        "database"
      ],
      "metadata": {
        "colab": {
          "base_uri": "https://localhost:8080/"
        },
        "id": "8GfDNo7LCRjw",
        "outputId": "3d3b686b-2e37-4c85-be62-4c455c06a179"
      },
      "id": "8GfDNo7LCRjw",
      "execution_count": 15,
      "outputs": [
        {
          "output_type": "execute_result",
          "data": {
            "text/plain": [
              "[['Agustin', 'Leperini', 'Carcarañá', 30, 36007849, 'Tecnicatura', 2022],\n",
              " ['Franco', 'Leperini', 'Carcarañá', 30, 36007848, 'Tecnicatura', 2022],\n",
              " ['Martin', 'Cavo', 'Rosario', 31, 34593748, 'Tecnicatura', 2021],\n",
              " ['Roberto', 'Gomez', 'Villa Constitución', 27, 38442157, 'Tecnicatura', 2022]]"
            ]
          },
          "metadata": {},
          "execution_count": 15
        }
      ]
    },
    {
      "cell_type": "code",
      "source": [
        "# entiendo por datos personales, todos los datos incluidos en \n",
        "# el formulario principal\n",
        "\n",
        "def print_database(form:list,database:list):\n",
        "  \"\"\"\n",
        "  Imprime en pantalla todos los datos de cada elemento de una \n",
        "  base de datos en base a un formulario.\n",
        "\n",
        "  Parameters\n",
        "  ----------\n",
        "  form: list\n",
        "    Lista con campos de datos a ingresar.\n",
        "\n",
        "  database: list\n",
        "    Lista con campos de datos ingresados.\n",
        "  \n",
        "  Returns\n",
        "  -------\n",
        "  Imprime en pantalla \n",
        "  \"\"\"\n",
        "\n",
        "  for student in range(len(database)):\n",
        "    print(f'\\nEstudiante #{student+1}: \\n') \n",
        "    for field in range(len(form)):\n",
        "      print(f'{form[field]}: {database[student][field]} ')"
      ],
      "metadata": {
        "id": "a_z9IY0lCm1R"
      },
      "id": "a_z9IY0lCm1R",
      "execution_count": 78,
      "outputs": []
    },
    {
      "cell_type": "code",
      "source": [
        "print_database(form,database)"
      ],
      "metadata": {
        "colab": {
          "base_uri": "https://localhost:8080/"
        },
        "id": "0liv9xbXDaAS",
        "outputId": "84ee1919-2a49-4581-a5e2-caf3e5a3a93a"
      },
      "id": "0liv9xbXDaAS",
      "execution_count": 79,
      "outputs": [
        {
          "output_type": "stream",
          "name": "stdout",
          "text": [
            "\n",
            "Estudiante #1: \n",
            "\n",
            "Nombre: Agustin \n",
            "Apellido: Leperini \n",
            "Localidad: Carcarañá \n",
            "Edad: 30 \n",
            "DNI: 36007849 \n",
            "Carrera en curso: Tecnicatura \n",
            "Año de inicio de carrera: 2022 \n",
            "\n",
            "Estudiante #2: \n",
            "\n",
            "Nombre: Franco \n",
            "Apellido: Leperini \n",
            "Localidad: Carcarañá \n",
            "Edad: 30 \n",
            "DNI: 36007848 \n",
            "Carrera en curso: Tecnicatura \n",
            "Año de inicio de carrera: 2022 \n",
            "\n",
            "Estudiante #3: \n",
            "\n",
            "Nombre: Martin \n",
            "Apellido: Cavo \n",
            "Localidad: Rosario \n",
            "Edad: 31 \n",
            "DNI: 34593748 \n",
            "Carrera en curso: Tecnicatura \n",
            "Año de inicio de carrera: 2021 \n",
            "\n",
            "Estudiante #4: \n",
            "\n",
            "Nombre: Roberto \n",
            "Apellido: Gomez \n",
            "Localidad: Villa Constitución \n",
            "Edad: 27 \n",
            "DNI: 38442157 \n",
            "Carrera en curso: Tecnicatura \n",
            "Año de inicio de carrera: 2022 \n"
          ]
        }
      ]
    },
    {
      "cell_type": "markdown",
      "id": "18adbeee",
      "metadata": {
        "id": "18adbeee"
      },
      "source": [
        "#### Tuplas"
      ]
    },
    {
      "cell_type": "markdown",
      "source": [
        "5. Escribir una función donde pida las materias que cursa unx alumnx del TUIA, las almacene en una tupla y la devuelva."
      ],
      "metadata": {
        "id": "uxYxxjT4uAtW"
      },
      "id": "uxYxxjT4uAtW"
    },
    {
      "cell_type": "code",
      "source": [
        "def student_subjects()->tuple:\n",
        "  \"\"\"\n",
        "  Permite ingresar las materias como string de forma individual \n",
        "  hasta presionar la tecla enter. Luego, elimina los espacios adicionales\n",
        "  del/los string/s ingresado/s y lo/s formatea capitalizandolo/s.\n",
        "\n",
        "  Returns\n",
        "  -------\n",
        "  subjects = tuple\n",
        "    Tupla con materias ingresadas. E.g: ('Entorno de programacion', 'Logica')\n",
        "  \"\"\"\n",
        "\n",
        "  subjects = []\n",
        "  print(\n",
        "      f'Bienvenido! Por favor, ingrese las materias que se encuentra '\n",
        "      'cursando de forma individual. En caso que desee finalizar, '\n",
        "      'presione ENTER.'\n",
        "      )\n",
        "  while True:\n",
        "    subject = input(f'Ingrese su materia nro.{len(subjects)+1}: ')\n",
        "    if subject == \"\":\n",
        "      print(f'\\nGracias por ingresar sus materias de cursado. Le deseamos éxitos en su periodo lectivo.')\n",
        "      break\n",
        "    subjects.append(subject.strip().capitalize())\n",
        "  return  tuple(subjects)\n",
        "    "
      ],
      "metadata": {
        "id": "B3Zj_fewQyrx"
      },
      "id": "B3Zj_fewQyrx",
      "execution_count": null,
      "outputs": []
    },
    {
      "cell_type": "code",
      "source": [
        "subjects = student_subjects()\n",
        "print(\n",
        "    f\"\\nEl alumno cursa {len(subjects)} materias:\\n{subjects}\\n\"\n",
        "    f\"Las mismas se encuentran almacenadas en una {type(subjects)}\"\n",
        "    )"
      ],
      "metadata": {
        "colab": {
          "base_uri": "https://localhost:8080/"
        },
        "id": "F02T1xg9jWqQ",
        "outputId": "90f9a9b1-2a23-4adf-8254-7e91f4c3c65a"
      },
      "id": "F02T1xg9jWqQ",
      "execution_count": null,
      "outputs": [
        {
          "output_type": "stream",
          "name": "stdout",
          "text": [
            "Bienvenido! Por favor, ingrese las materias que se encuentra cursando de forma individual. En caso que desee finalizar, presione ENTER.\n",
            "Ingrese su materia nro.1: Lógica \n",
            "Ingrese su materia nro.2:            Programacion I\n",
            "Ingrese su materia nro.3: ENTORNO DE PROGRAMACION\n",
            "Ingrese su materia nro.4: \n",
            "\n",
            "Gracias por ingresar sus materias de cursado. Le deseamos éxitos en su periodo lectivo.\n",
            "\n",
            "El alumno cursa 3 materias:\n",
            "('Lógica', 'Programacion i', 'Entorno de programacion')\n",
            "Las mismas se encuentran almacenadas en una <class 'tuple'>\n"
          ]
        }
      ]
    },
    {
      "cell_type": "markdown",
      "source": [
        "6. A partir del ejercicio anterior, generar 2 tuplas donde se guarden las materias del primer cuatrimestre y del segundo respectivamente. \n",
        "Crear una nueva función que le pida al alumnx las materias que cursa y que le informe si corresponde al primer o segundo cuatrimestre."
      ],
      "metadata": {
        "id": "u4I3bI2uuCbc"
      },
      "id": "u4I3bI2uuCbc"
    },
    {
      "cell_type": "code",
      "source": [
        "four_month_1 = student_subjects()\n",
        "four_month_2 = student_subjects()"
      ],
      "metadata": {
        "colab": {
          "base_uri": "https://localhost:8080/"
        },
        "id": "2PpbxDo8oZkP",
        "outputId": "7e180431-18e5-47fb-cbea-4370e0e9f049"
      },
      "id": "2PpbxDo8oZkP",
      "execution_count": null,
      "outputs": [
        {
          "output_type": "stream",
          "name": "stdout",
          "text": [
            "Bienvenido! Por favor, ingrese las materias que se encuentra cursando de forma individual. En caso que desee finalizar, presione ENTER.\n",
            "Ingrese su materia nro.1: Lógica\n",
            "Ingrese su materia nro.2: Matemática\n",
            "Ingrese su materia nro.3: Entorno de Programación\n",
            "Ingrese su materia nro.4: Programación I \n",
            "Ingrese su materia nro.5: Inglés Técnico \n",
            "Ingrese su materia nro.6: \n",
            "\n",
            "Gracias por ingresar sus materias de cursado. Le deseamos éxitos en su periodo lectivo.\n",
            "Bienvenido! Por favor, ingrese las materias que se encuentra cursando de forma individual. En caso que desee finalizar, presione ENTER.\n",
            "Ingrese su materia nro.1: Cálculo \n",
            "Ingrese su materia nro.2: Programación II\n",
            "Ingrese su materia nro.3: Introducción a Inteligencia Artificial\n",
            "Ingrese su materia nro.4: Álgebra\n",
            "Ingrese su materia nro.5: Práctica Social Educativa – Módulo Introductorio\n",
            "Ingrese su materia nro.6: \n",
            "\n",
            "Gracias por ingresar sus materias de cursado. Le deseamos éxitos en su periodo lectivo.\n"
          ]
        }
      ]
    },
    {
      "cell_type": "code",
      "source": [
        "four_month_1"
      ],
      "metadata": {
        "colab": {
          "base_uri": "https://localhost:8080/"
        },
        "id": "Vsgdaauxo7Ni",
        "outputId": "a3af778a-0df3-4e90-f435-c67ce3550b68"
      },
      "id": "Vsgdaauxo7Ni",
      "execution_count": null,
      "outputs": [
        {
          "output_type": "execute_result",
          "data": {
            "text/plain": [
              "('Lógica',\n",
              " 'Matemática',\n",
              " 'Entorno de programación',\n",
              " 'Programación i',\n",
              " 'Inglés técnico')"
            ]
          },
          "metadata": {},
          "execution_count": 8
        }
      ]
    },
    {
      "cell_type": "code",
      "source": [
        "four_month_2"
      ],
      "metadata": {
        "colab": {
          "base_uri": "https://localhost:8080/"
        },
        "id": "dE55YtvBo50r",
        "outputId": "b2487645-5e6a-4fab-e94f-b2df306cbe45"
      },
      "id": "dE55YtvBo50r",
      "execution_count": null,
      "outputs": [
        {
          "output_type": "execute_result",
          "data": {
            "text/plain": [
              "('Cálculo',\n",
              " 'Programación ii',\n",
              " 'Introducción a inteligencia artificial',\n",
              " 'Álgebra',\n",
              " 'Práctica social educativa – módulo introductorio')"
            ]
          },
          "metadata": {},
          "execution_count": 7
        }
      ]
    },
    {
      "cell_type": "code",
      "source": [
        "def period_creation (period:str=\"cuatrimestre\",*periods:tuple) -> dict:\n",
        "  \"\"\"\n",
        "  Parameters\n",
        "  ----------\n",
        "  period = str\n",
        "    Perido lectivo en cual se divide el ciclo. E.g: \"Trimestre\", \"Cuatrimestre\".\n",
        "  *periods = tuple\n",
        "\n",
        "  Returns\n",
        "  ------\n",
        "  Dictionary\n",
        "  \"\"\"\n",
        "  # create dictionary with periods and list with student subjects\n",
        "  subjects = {}\n",
        "  for i in range(len(periods)):\n",
        "    value = str(i+1)+\"_\"+str(period.capitalize()) #period name generation\n",
        "    subjects[periods[i]] = value #assigned period name as value and tuple as key\n",
        "  return subjects"
      ],
      "metadata": {
        "id": "zWS9sWmMsA45"
      },
      "id": "zWS9sWmMsA45",
      "execution_count": null,
      "outputs": []
    },
    {
      "cell_type": "code",
      "source": [
        "subjects = period_creation(\"cuatrimestre\",four_month_1,four_month_2)"
      ],
      "metadata": {
        "id": "naSomKyit1Jq"
      },
      "id": "naSomKyit1Jq",
      "execution_count": null,
      "outputs": []
    },
    {
      "cell_type": "code",
      "source": [
        "subjects"
      ],
      "metadata": {
        "colab": {
          "base_uri": "https://localhost:8080/"
        },
        "id": "b61v1a_Et9u_",
        "outputId": "68f36f98-1909-4794-c012-25d1b7457156"
      },
      "id": "b61v1a_Et9u_",
      "execution_count": null,
      "outputs": [
        {
          "output_type": "execute_result",
          "data": {
            "text/plain": [
              "{('Lógica',\n",
              "  'Matemática',\n",
              "  'Entorno de programación',\n",
              "  'Programación i',\n",
              "  'Inglés técnico'): '1_Cuatrimestre',\n",
              " ('Cálculo',\n",
              "  'Programación ii',\n",
              "  'Introducción a inteligencia artificial',\n",
              "  'Álgebra',\n",
              "  'Práctica social educativa – módulo introductorio'): '2_Cuatrimestre'}"
            ]
          },
          "metadata": {},
          "execution_count": 18
        }
      ]
    },
    {
      "cell_type": "code",
      "source": [
        "subjects.get(\"Lógica\")"
      ],
      "metadata": {
        "id": "Jg4YAECZvAKS"
      },
      "id": "Jg4YAECZvAKS",
      "execution_count": null,
      "outputs": []
    },
    {
      "cell_type": "code",
      "source": [
        "for subjects_tuple in subjects:\n",
        "  print(\"Lógica\" in subjects_tuple)"
      ],
      "metadata": {
        "colab": {
          "base_uri": "https://localhost:8080/"
        },
        "id": "R_QvZxoquYBJ",
        "outputId": "9dedc3ec-6e91-47c1-a218-ff6ecd1650b4"
      },
      "id": "R_QvZxoquYBJ",
      "execution_count": null,
      "outputs": [
        {
          "output_type": "stream",
          "name": "stdout",
          "text": [
            "True\n",
            "False\n"
          ]
        }
      ]
    },
    {
      "cell_type": "code",
      "source": [
        "def check_subject_period (subjects:dict) -> str:\n",
        "  \"\"\"\n",
        "  Parameters\n",
        "  ----------\n",
        "  Returns\n",
        "  ------\n",
        "  \"\"\"\n",
        "  print(\n",
        "      f'Bienvenido al listado de materias de TUIA!'\n",
        "      f'Podrás conocer a qué periodo lectivo pertenece las materias que cursas.'\n",
        "      f'\\nPara finalizar, presione la tecla ENTER.'\n",
        "      )\n",
        "  student_subjects = []\n",
        "  while True:\n",
        "    subject = input(f'Por, favor ingrese su materia #{len(student_subjects)+1}: ')\n",
        "    if subject == \"\" and len(student_subjects)> 0:\n",
        "      print(f'\\nGracias por ingresar sus materias de cursado. Le deseamos éxitos en su periodo lectivo.')\n",
        "      break\n",
        "    elif subject == \"\" and len(student_subjects) == 0:\n",
        "      print(f'\\nDebe ingresar al menos una materia para realizar su consulta.')\n",
        "      continue\n",
        "    else:\n",
        "        for subjects_tuple in subjects:\n",
        "          if subject.capitalize() in subjects_tuple:\n",
        "            student_subjects.append(subject)\n",
        "            break\n",
        "  subjects_not_in_program = list(set(subjects)-set(student_subjects)) \n",
        "  print(subjects_not_in_program)\n",
        "  for subject in student_subjects:\n",
        "    for subjects_tuple in subjects:\n",
        "      if subject in subjects_tuple:\n",
        "        print(f'{subject} pertenece al {subjects[subjects_tuple]}')\n",
        "        break\n",
        "  print(*subjects_not_in_program,sep=\",\")"
      ],
      "metadata": {
        "id": "JiGqWiDeaknF"
      },
      "id": "JiGqWiDeaknF",
      "execution_count": null,
      "outputs": []
    },
    {
      "cell_type": "code",
      "source": [
        "check_subject_period(subjects)"
      ],
      "metadata": {
        "colab": {
          "base_uri": "https://localhost:8080/"
        },
        "id": "1Co4h0awbL-6",
        "outputId": "749d3e0e-2d2f-4bb0-9183-c65bd3290f81"
      },
      "id": "1Co4h0awbL-6",
      "execution_count": null,
      "outputs": [
        {
          "output_type": "stream",
          "name": "stdout",
          "text": [
            "Bienvenido al listado de materias de TUIA!Podrás conocer a qué periodo lectivo pertenece las materias que cursas.\n",
            "Para finalizar, presione la tecla ENTER.\n",
            "Por, favor ingrese su materia #1: Lógica\n",
            "Por, favor ingrese su materia #2: Programación II\n",
            "Por, favor ingrese su materia #3: ENTORNO\n",
            "Por, favor ingrese su materia #3: \n",
            "\n",
            "Gracias por ingresar sus materias de cursado. Le deseamos éxitos en su periodo lectivo.\n",
            "[('Lógica', 'Matemática', 'Entorno de programación', 'Programación i', 'Inglés técnico'), ('Cálculo', 'Programación ii', 'Introducción a inteligencia artificial', 'Álgebra', 'Práctica social educativa – módulo introductorio')]\n",
            "Lógica pertenece al 1_Cuatrimestre\n",
            "('Lógica', 'Matemática', 'Entorno de programación', 'Programación i', 'Inglés técnico'),('Cálculo', 'Programación ii', 'Introducción a inteligencia artificial', 'Álgebra', 'Práctica social educativa – módulo introductorio')\n"
          ]
        }
      ]
    },
    {
      "cell_type": "markdown",
      "id": "806981fb",
      "metadata": {
        "id": "806981fb"
      },
      "source": [
        "#### Diccionarios"
      ]
    },
    {
      "cell_type": "markdown",
      "source": [
        "7. Crear un diccionario de la lista de precios de una verdulería. "
      ],
      "metadata": {
        "id": "cbNjBJC9zFS3"
      },
      "id": "cbNjBJC9zFS3"
    },
    {
      "cell_type": "code",
      "source": [
        "grocery_prices = {\n",
        "    \"Banana\": 100,\n",
        "    \"Manzana\": 80,\n",
        "    \"Cebolla\": 50,\n",
        "    \"Pera\": 110,\n",
        "    \"Zapallo\": 120\n",
        "}"
      ],
      "metadata": {
        "id": "nVXK9JR5zRp9"
      },
      "id": "nVXK9JR5zRp9",
      "execution_count": 82,
      "outputs": []
    },
    {
      "cell_type": "markdown",
      "source": [
        "8. A partir del diccionario anterior, imprimir en la pantalla el nombre de la fruta/verdura con su correspondiente precio."
      ],
      "metadata": {
        "id": "GQq19546zToD"
      },
      "id": "GQq19546zToD"
    },
    {
      "cell_type": "code",
      "source": [
        "print(f'Lista de precios verduleria:\\n')\n",
        "for product,price in grocery_prices.items():\n",
        "  print(f'{product}: ${price}')"
      ],
      "metadata": {
        "id": "NOo9bmdazsa7",
        "colab": {
          "base_uri": "https://localhost:8080/"
        },
        "outputId": "4de3c262-e38c-44aa-eed9-069ea61170e8"
      },
      "id": "NOo9bmdazsa7",
      "execution_count": 84,
      "outputs": [
        {
          "output_type": "stream",
          "name": "stdout",
          "text": [
            "Lista de precios verduleria:\n",
            "\n",
            "Banana: $100\n",
            "Manzana: $80\n",
            "Cebolla: $50\n",
            "Pera: $110\n",
            "Zapallo: $120\n"
          ]
        }
      ]
    },
    {
      "cell_type": "markdown",
      "source": [
        "9. Utilizando el diccionario anterior, pedirle al usuario que ingrese una fruta/verdura y que indique su precio. Si no hay en stock avisarle al cliente."
      ],
      "metadata": {
        "id": "mY7bF_Auzs7u"
      },
      "id": "mY7bF_Auzs7u"
    },
    {
      "cell_type": "code",
      "source": [
        "# entiendo, segun el enunciado, que si el producto no tiene stock, no  \n",
        "# debe encontrarse en el diccionario\n",
        "def how_much(products:dict) -> float/None:\n",
        "  \"\"\"\n",
        "  Segun una lista de precios ingresada como argumento, solicita al\n",
        "  usuario el nombre de un producto y, si el mismo se encuentra\n",
        "  dentro de la lista, imprime y devuelve su precio. De lo contrario,\n",
        "  si no se encuentra, imprime un mensaje de no disponibilidad y\n",
        "  devuelve None.\n",
        "\n",
        "  Parameters\n",
        "  ----------\n",
        "  products = dict\n",
        "    Diccionario con lista de precios de productos.\n",
        "\n",
        "  Returns\n",
        "  -------\n",
        "  result = float/None\n",
        "    Si el producto existe, devuelve el valor como float. De lo \n",
        "    contrario, devuelve Nonetype. \n",
        "  \"\"\"\n",
        "\n",
        "  product = input(\"Por favor, ingrese el producto que desea consultar: \")\n",
        "  product = product.strip().capitalize()\n",
        "  result = products.get(product)\n",
        "  if result == None:\n",
        "    print(f'El producto ingresado: {product} no se encuentra disponible.')\n",
        "  else:\n",
        "    print(f'El producto ingresado: {product} cuesta ${result}.')\n",
        "  return result"
      ],
      "metadata": {
        "id": "isXXMDeuQsVu"
      },
      "id": "isXXMDeuQsVu",
      "execution_count": 94,
      "outputs": []
    },
    {
      "cell_type": "code",
      "source": [
        "pomelo = how_much(grocery_prices)"
      ],
      "metadata": {
        "colab": {
          "base_uri": "https://localhost:8080/"
        },
        "id": "bxRl8-GmS0Tm",
        "outputId": "7d841b40-e04c-4921-e00e-fa6374c7e4a3"
      },
      "id": "bxRl8-GmS0Tm",
      "execution_count": 98,
      "outputs": [
        {
          "output_type": "stream",
          "name": "stdout",
          "text": [
            "Por favor, ingrese el producto que desea consultar:     POMELO\n",
            "El producto ingresado: Pomelo no se encuentra disponible.\n"
          ]
        }
      ]
    },
    {
      "cell_type": "code",
      "source": [
        "print(pomelo)"
      ],
      "metadata": {
        "colab": {
          "base_uri": "https://localhost:8080/"
        },
        "id": "dn2hYksAUn1m",
        "outputId": "35e13f2f-f16d-4e97-b767-49212cfb801b"
      },
      "id": "dn2hYksAUn1m",
      "execution_count": 99,
      "outputs": [
        {
          "output_type": "stream",
          "name": "stdout",
          "text": [
            "None\n"
          ]
        }
      ]
    },
    {
      "cell_type": "code",
      "source": [
        "banana = how_much(grocery_prices)"
      ],
      "metadata": {
        "colab": {
          "base_uri": "https://localhost:8080/"
        },
        "id": "aVIYY1TOS8l_",
        "outputId": "43320d9f-3276-442b-f7ac-9eca94c17ee6"
      },
      "id": "aVIYY1TOS8l_",
      "execution_count": 95,
      "outputs": [
        {
          "output_type": "stream",
          "name": "stdout",
          "text": [
            "Por favor, ingrese el producto que desea consultar:         banana\n",
            "El producto ingresado: Banana cuesta $100.\n"
          ]
        }
      ]
    },
    {
      "cell_type": "code",
      "source": [
        "print(banana)"
      ],
      "metadata": {
        "colab": {
          "base_uri": "https://localhost:8080/"
        },
        "id": "K5bJGmNETDIs",
        "outputId": "507118e3-dcbf-4b7a-fc7d-65c13a48d253"
      },
      "id": "K5bJGmNETDIs",
      "execution_count": 96,
      "outputs": [
        {
          "output_type": "stream",
          "name": "stdout",
          "text": [
            "100\n"
          ]
        }
      ]
    },
    {
      "cell_type": "markdown",
      "id": "eea999dc",
      "metadata": {
        "id": "eea999dc"
      },
      "source": [
        "\n",
        "10. Escribir una primer función que pida el nombre y 3 notas de unx alumnx, devuelva el nombre y una lista con las notas. \n",
        "Llamar dicha función tantas veces como alumnos haya y crear un diccionario donde la clave sea el nombre del estudiante y el valor la lista de sus notas.\n",
        "Por último, calcular el promedio de cada unx y mostrarlo en pantalla.\n",
        "\n",
        "Por ejemplo para \n",
        "    \n",
        "    alumnos = { \" Juan \" : [6 ,9 ,8] , \" Manuel \" : [9 ,10 ,9] , \" Martin \" : [5 ,6 ,7]}\n",
        "\n",
        "\n",
        "Debería mostrar:\n",
        "<dd>El promedio de Juan es 7.666666</dd>\n",
        "<dd>El promedio de Manuel es 9.333333</dd>\n",
        "<dd>El promedio de Martin es 6</dd>"
      ]
    },
    {
      "cell_type": "code",
      "source": [],
      "metadata": {
        "id": "4SafvNynwoj_"
      },
      "id": "4SafvNynwoj_",
      "execution_count": null,
      "outputs": []
    },
    {
      "cell_type": "markdown",
      "id": "b133b714",
      "metadata": {
        "id": "b133b714"
      },
      "source": [
        "11. Cartas como diccionario.\n",
        "<dl>\n",
        "<dd>a. Proponer una representación con diccionarios para un mazo completo de cartas.</dd>\n",
        "<dd>b. Escribir una función de poker que baraje cinco cartas de la baraja francesa e informe (devuelva\n",
        "el valor lógico correspondiente) si esas cartas forman o no un poker (es decir que hay 4 cartas con\n",
        "el mismo número).</dd>\n",
        "</dl>"
      ]
    },
    {
      "cell_type": "code",
      "execution_count": null,
      "id": "77a04057",
      "metadata": {
        "id": "77a04057"
      },
      "outputs": [],
      "source": []
    }
  ],
  "metadata": {
    "kernelspec": {
      "display_name": "tuia",
      "language": "python",
      "name": "tuia"
    },
    "language_info": {
      "codemirror_mode": {
        "name": "ipython",
        "version": 3
      },
      "file_extension": ".py",
      "mimetype": "text/x-python",
      "name": "python",
      "nbconvert_exporter": "python",
      "pygments_lexer": "ipython3",
      "version": "3.8.10"
    },
    "colab": {
      "provenance": [],
      "collapsed_sections": []
    }
  },
  "nbformat": 4,
  "nbformat_minor": 5
}