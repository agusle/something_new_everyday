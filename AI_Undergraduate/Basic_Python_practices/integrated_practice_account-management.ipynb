{
  "cells": [
    {
      "cell_type": "markdown",
      "metadata": {
        "id": "v_Ym5cCa-J2A"
      },
      "source": [
        "# Ejercicio Integrador - Estructura de datos"
      ]
    },
    {
      "cell_type": "markdown",
      "metadata": {
        "id": "0uB54Qew-H-4"
      },
      "source": [
        "Se propone crear un programa que simule el ingreso o registro de una cuenta. Para ello se debe crear\n",
        "el siguiente menú con 5 opciones: \n",
        "\n",
        "* a. Ingresar: Pedirle al usuario que ingrese el usuario y contraseña, buscar en una colección de datos que crea apropiada y verificar que los datos ingresados sean correctos.\n",
        "* b. Registrarse: Crear un usuario y contraseña y guardarla en la colección de datos del punto 1.\n",
        "* c. Cerrar sesión: Para poder ingresar esta opción el usuario debe haber iniciado sesión o registrado. Si no lo hizo, ignorar la opción.\n",
        "* d. Salir: terminar el programa.\n",
        "* e. Agregar una opción que sea cambiar contraseña."
      ]
    },
    {
      "cell_type": "code",
      "source": [
        "def validate_input(options:list) -> int:\n",
        "  \"\"\"\n",
        "  Valida que el ingreso del usuario por pantalla coincida con una de\n",
        "  las opciones disponibles del listado ingresado como argumento y devuelve\n",
        "  la opción elegida por el usuario.\n",
        "  \n",
        "  Parameters\n",
        "  ----------\n",
        "  options: list\n",
        "    Listado de opciones dentro del cual el usuario debe elegir.\n",
        "    Ej: [\"Ingresar\",\"Registrarse\",\"Salir\"]\n",
        "  \n",
        "  Returns\n",
        "  -------\n",
        "  option: int\n",
        "    Número de opción que representa la elección del usuario.\n",
        "  \"\"\"\n",
        "  while True:\n",
        "    option = input(\n",
        "        f\"Por favor ingrese el valor numérico de\" \n",
        "        f\" la opción que quiere ejecutar: \"\n",
        "        )\n",
        "    #validacion que el valor ingresado sea numérico.\n",
        "    if not option.isnumeric():\n",
        "      print(\n",
        "          f'Usted ha ingresado: \"{option}\".'\n",
        "          f' Asegúrese de ingresar un valor numérico.\\n'\n",
        "          )\n",
        "      continue\n",
        "    else:\n",
        "      option = int(option)\n",
        "    #validacion que el valor numérico ingresado se encuentre en\n",
        "    #el rango de opciones disponibles\n",
        "    if option not in range(1,len(options)+1):\n",
        "      print(\n",
        "          f'Usted ha ingresado: \"{option}\".'\n",
        "          f' Asegúrese de que el número coincida con una de las opciones disponibles.\\n'\n",
        "          )\n",
        "      continue\n",
        "    break\n",
        "  return option"
      ],
      "metadata": {
        "id": "Bc67YkUuH8T7"
      },
      "execution_count": 112,
      "outputs": []
    },
    {
      "cell_type": "code",
      "execution_count": 54,
      "metadata": {
        "id": "EIlsBWEEZcpi"
      },
      "outputs": [],
      "source": [
        "def consult_database(database:dict,**credentials:str) -> tuple:\n",
        "  \"\"\"\n",
        "  Comprueba si las credenciales ingresadas coinciden con la base de datos\n",
        "  ingresada como argumento obligatorio devolviendo una tupla dos booleanos \n",
        "  que indican si existe el usuario y la contraseña respectivamente.\n",
        "\n",
        "  Parameters\n",
        "  ----------\n",
        "  database: dict\n",
        "    Diccionario que contenga datos de usuarios como key \n",
        "    y contraseña como value. Ej: database = {\"agustin\": \"prueba\"}\n",
        "  \n",
        "  **credentials: key,value\n",
        "    Argumentos variables donde se debe ingresar user y passwd como key \n",
        "    y sus valores como strings. Ej: (user = \"agustin\", passwd = \"prueba\")\n",
        "\n",
        "  Returns\n",
        "  -------\n",
        "  tuple: (bool,bool)\n",
        "    Tupla que contiene dos booleanos: True si existe, False en caso contrario.\n",
        "  \"\"\"\n",
        "  result = []\n",
        "  user = None\n",
        "  for credential, value in credentials.items():\n",
        "    if credential.lower() == \"user\":\n",
        "      if database.get(value) != None:\n",
        "        result.append(True)\n",
        "        user = value\n",
        "      else:\n",
        "        result.append(False)\n",
        "        result.append(False)\n",
        "        break\n",
        "    if credential.lower() == \"passwd\":\n",
        "      if database[user] == value:\n",
        "        result.append(True)\n",
        "      else:\n",
        "        result.append(False)\n",
        "  return tuple(result)\n"
      ]
    },
    {
      "cell_type": "code",
      "source": [
        "def user_interface(database:dict,user:str):\n",
        "  \"\"\"\n",
        "  \"\"\"\n",
        "  main_options = [\"Cambiar contraseña\",\"Cerrar Sesión\",\"Salir\"]\n",
        "\n",
        "  print(\"\\n------------------SU PORTAL------------------\\n\")\n",
        "  print(f'Hola {user}! Bienvenido a su portal, desde aquí podrá:')\n",
        "  for count,option in enumerate(main_options):\n",
        "    print(f\"{count+1}- {option}\")\n",
        "  print()\n",
        "\n",
        "  #validacion de input de usuario\n",
        "  option = validate_input(main_options)\n",
        "\n",
        "    \n",
        "  # manejo de opciones  \n",
        "  if option == 1:\n",
        "    print(\"Cambiar password\")\n",
        "    #change_password(database)\n",
        "  elif option == 2:\n",
        "    print(\"Cerrar sesion\")\n",
        "    #close_section\n",
        "  else:\n",
        "    print(\"Salir\")\n",
        "  \n",
        "  return database\n"
      ],
      "metadata": {
        "id": "aZsIDntA9wEP"
      },
      "execution_count": 109,
      "outputs": []
    },
    {
      "cell_type": "code",
      "execution_count": 82,
      "metadata": {
        "id": "azAfLM---Clh"
      },
      "outputs": [],
      "source": [
        "def login(database:dict) -> bool:\n",
        "  \"\"\"\n",
        "  Permite al usuario ingresar sus credenciales de acceso (usuario y contraseña)\n",
        "  y comprobar si las mismas coinciden con los datos almacenados en un \n",
        "  diccionario.\n",
        "\n",
        "  Parameters\n",
        "  ----------\n",
        "  database: dict\n",
        "    Diccionario que contenga datos de usuarios como key \n",
        "    y contraseña como value. Ej: database = {\"agustin\": \"micontrasenia\"}\n",
        "\n",
        "  Returns\n",
        "  -------\n",
        "  bool: True si el login fue exitoso, False en caso contrario.\n",
        "  \"\"\"\n",
        "  \n",
        "  print(\"\\n------------------LOGIN------------------\\n\")\n",
        "  print(\"Por favor, a continuación ingrese su usuario y contraseña.\")\n",
        "  while True:\n",
        "    user = input(\"Usuario: \")\n",
        "    passwd = input(\"Contraseña: \")\n",
        "    user_exist, passwd_exist = consult_database(database,user=user, passwd=passwd)\n",
        "    if not user_exist:\n",
        "      print(\"El usuario ingresado no existe.\")\n",
        "      again = input(\"¿Desea intentarlo de nuevo? (SI/NO)\")\n",
        "      if again.lower() == \"si\":\n",
        "        continue\n",
        "      else:\n",
        "        break\n",
        "    if not passwd_exist:\n",
        "      print(\"El password ingresado es incorrecto\")\n",
        "      again = input(\"¿Desea intentarlo de nuevo? (SI/NO)\")\n",
        "      if again.lower() == \"si\":\n",
        "        continue\n",
        "      else:\n",
        "        break\n",
        "        return False\n",
        "    print(\"\\nSu usuario y contraseña son correctos.\")\n",
        "    return True"
      ]
    },
    {
      "cell_type": "code",
      "execution_count": 5,
      "metadata": {
        "id": "XDAGuE7OBxBT"
      },
      "outputs": [],
      "source": [
        "def register():\n",
        "  pass"
      ]
    },
    {
      "cell_type": "code",
      "execution_count": 6,
      "metadata": {
        "id": "30iVqOvNB0fB"
      },
      "outputs": [],
      "source": [
        "def logoff():\n",
        "  pass"
      ]
    },
    {
      "cell_type": "code",
      "execution_count": 7,
      "metadata": {
        "id": "fcyo7GQcB3eX"
      },
      "outputs": [],
      "source": [
        "def exit():\n",
        "  pass"
      ]
    },
    {
      "cell_type": "code",
      "execution_count": 8,
      "metadata": {
        "id": "CwVnNhcPCIJs"
      },
      "outputs": [],
      "source": [
        "def change_password():\n",
        "  pass"
      ]
    },
    {
      "cell_type": "code",
      "execution_count": 20,
      "metadata": {
        "id": "11a34MsAD7lC"
      },
      "outputs": [],
      "source": [
        "users_database = {\"agustin\": \"prueba\"}"
      ]
    },
    {
      "cell_type": "code",
      "execution_count": 110,
      "metadata": {
        "id": "ZDp8poCsCkCu"
      },
      "outputs": [],
      "source": [
        "def account_management(database:dict) -> dict:\n",
        "  \"\"\"\n",
        "  \"\"\"\n",
        "  main_options = [\"Ingresar\",\"Registrarse\",\"Salir\"]\n",
        "  #Ingresar/ Usuario y contraseña / Mensaje bienvenida,cambiar contraseña, cerrar sesion, salir\n",
        "  #Registrarse/ Usuario y contraseña / Mensaje bienvenida,cambiar contraseña, cerrar sesion, salir\n",
        "  while True:\n",
        "    print(\n",
        "        f\"\\nBienvenido al portal FCEIA.\\n\"\n",
        "        f\"En esta sección le facilitamos el siguiente menú:\\n\"\n",
        "        )\n",
        "    for count,option in enumerate(main_options):\n",
        "      print(f\"{count+1}- {option}\")\n",
        "    print()\n",
        "    \n",
        "    #validacion de input de usuario\n",
        "    option = validate_input(main_options)\n",
        "\n",
        "    # manejo de opciones  \n",
        "    if option == 1:\n",
        "      if login(database):\n",
        "        database = user_interface(database,user)\n",
        "      else:\n",
        "        continue\n",
        "    elif option == 2:\n",
        "      database = register(database)\n",
        "      continue\n",
        "    else:\n",
        "      print(\"Gracias por utilizar nuestro portal\")\n",
        "      break\n",
        "  #return database"
      ]
    },
    {
      "cell_type": "code",
      "execution_count": 111,
      "metadata": {
        "colab": {
          "base_uri": "https://localhost:8080/",
          "height": 823
        },
        "id": "s4y7sr-fGtP-",
        "outputId": "a3165693-1e97-4af3-a82b-abb492dd9bf3"
      },
      "outputs": [
        {
          "output_type": "stream",
          "name": "stdout",
          "text": [
            "\n",
            "Bienvenido al portal FCEIA.\n",
            "En esta sección le facilitamos el siguiente menú:\n",
            "\n",
            "1- Ingresar\n",
            "2- Registrarse\n",
            "3- Salir\n",
            "\n",
            "Por favor ingrese el valor numérico de la opción que quiere ejecutar: 1\n",
            "\n",
            "------------------LOGIN------------------\n",
            "\n",
            "Por favor, a continuación ingrese su usuario y contraseña.\n",
            "Usuario: agustin\n",
            "Contraseña: prueba\n",
            "\n",
            "Su usuario y contraseña son correctos.\n",
            "\n",
            "------------------SU PORTAL------------------\n",
            "\n",
            "Hola agustin! Bienvenido a su portal, desde aquí podrá:\n",
            "1- Cambiar contraseña\n",
            "2- Cerrar Sesión\n",
            "3- Salir\n",
            "\n",
            "Por favor ingrese el valor numérico de la opción que quiere ejecutar: 3\n",
            "Salir\n"
          ]
        },
        {
          "output_type": "error",
          "ename": "KeyboardInterrupt",
          "evalue": "ignored",
          "traceback": [
            "\u001b[0;31m---------------------------------------------------------------------------\u001b[0m",
            "\u001b[0;31mKeyboardInterrupt\u001b[0m                         Traceback (most recent call last)",
            "\u001b[0;32m<ipython-input-111-ca81ec0d80e9>\u001b[0m in \u001b[0;36m<module>\u001b[0;34m\u001b[0m\n\u001b[0;32m----> 1\u001b[0;31m \u001b[0maccount_management\u001b[0m\u001b[0;34m(\u001b[0m\u001b[0musers_database\u001b[0m\u001b[0;34m)\u001b[0m\u001b[0;34m\u001b[0m\u001b[0;34m\u001b[0m\u001b[0m\n\u001b[0m",
            "\u001b[0;32m<ipython-input-110-ed4baae49380>\u001b[0m in \u001b[0;36maccount_management\u001b[0;34m(database)\u001b[0m\n\u001b[1;32m     19\u001b[0m     \u001b[0;31m# manejo de opciones\u001b[0m\u001b[0;34m\u001b[0m\u001b[0;34m\u001b[0m\u001b[0;34m\u001b[0m\u001b[0m\n\u001b[1;32m     20\u001b[0m     \u001b[0;32mif\u001b[0m \u001b[0moption\u001b[0m \u001b[0;34m==\u001b[0m \u001b[0;36m1\u001b[0m\u001b[0;34m:\u001b[0m\u001b[0;34m\u001b[0m\u001b[0;34m\u001b[0m\u001b[0m\n\u001b[0;32m---> 21\u001b[0;31m       \u001b[0;32mif\u001b[0m \u001b[0mlogin\u001b[0m\u001b[0;34m(\u001b[0m\u001b[0mdatabase\u001b[0m\u001b[0;34m)\u001b[0m\u001b[0;34m:\u001b[0m\u001b[0;34m\u001b[0m\u001b[0;34m\u001b[0m\u001b[0m\n\u001b[0m\u001b[1;32m     22\u001b[0m         \u001b[0mdatabase\u001b[0m \u001b[0;34m=\u001b[0m \u001b[0muser_interface\u001b[0m\u001b[0;34m(\u001b[0m\u001b[0mdatabase\u001b[0m\u001b[0;34m,\u001b[0m\u001b[0muser\u001b[0m\u001b[0;34m)\u001b[0m\u001b[0;34m\u001b[0m\u001b[0;34m\u001b[0m\u001b[0m\n\u001b[1;32m     23\u001b[0m       \u001b[0;32melse\u001b[0m\u001b[0;34m:\u001b[0m\u001b[0;34m\u001b[0m\u001b[0;34m\u001b[0m\u001b[0m\n",
            "\u001b[0;32m<ipython-input-82-7a5151121fd4>\u001b[0m in \u001b[0;36mlogin\u001b[0;34m(database)\u001b[0m\n\u001b[1;32m     19\u001b[0m   \u001b[0mprint\u001b[0m\u001b[0;34m(\u001b[0m\u001b[0;34m\"Por favor, a continuación ingrese su usuario y contraseña.\"\u001b[0m\u001b[0;34m)\u001b[0m\u001b[0;34m\u001b[0m\u001b[0;34m\u001b[0m\u001b[0m\n\u001b[1;32m     20\u001b[0m   \u001b[0;32mwhile\u001b[0m \u001b[0;32mTrue\u001b[0m\u001b[0;34m:\u001b[0m\u001b[0;34m\u001b[0m\u001b[0;34m\u001b[0m\u001b[0m\n\u001b[0;32m---> 21\u001b[0;31m     \u001b[0muser\u001b[0m \u001b[0;34m=\u001b[0m \u001b[0minput\u001b[0m\u001b[0;34m(\u001b[0m\u001b[0;34m\"Usuario: \"\u001b[0m\u001b[0;34m)\u001b[0m\u001b[0;34m\u001b[0m\u001b[0;34m\u001b[0m\u001b[0m\n\u001b[0m\u001b[1;32m     22\u001b[0m     \u001b[0mpasswd\u001b[0m \u001b[0;34m=\u001b[0m \u001b[0minput\u001b[0m\u001b[0;34m(\u001b[0m\u001b[0;34m\"Contraseña: \"\u001b[0m\u001b[0;34m)\u001b[0m\u001b[0;34m\u001b[0m\u001b[0;34m\u001b[0m\u001b[0m\n\u001b[1;32m     23\u001b[0m     \u001b[0muser_exist\u001b[0m\u001b[0;34m,\u001b[0m \u001b[0mpasswd_exist\u001b[0m \u001b[0;34m=\u001b[0m \u001b[0mconsult_database\u001b[0m\u001b[0;34m(\u001b[0m\u001b[0mdatabase\u001b[0m\u001b[0;34m,\u001b[0m\u001b[0muser\u001b[0m\u001b[0;34m=\u001b[0m\u001b[0muser\u001b[0m\u001b[0;34m,\u001b[0m \u001b[0mpasswd\u001b[0m\u001b[0;34m=\u001b[0m\u001b[0mpasswd\u001b[0m\u001b[0;34m)\u001b[0m\u001b[0;34m\u001b[0m\u001b[0;34m\u001b[0m\u001b[0m\n",
            "\u001b[0;32m/usr/local/lib/python3.7/dist-packages/ipykernel/kernelbase.py\u001b[0m in \u001b[0;36mraw_input\u001b[0;34m(self, prompt)\u001b[0m\n\u001b[1;32m    861\u001b[0m             \u001b[0mself\u001b[0m\u001b[0;34m.\u001b[0m\u001b[0m_parent_ident\u001b[0m\u001b[0;34m,\u001b[0m\u001b[0;34m\u001b[0m\u001b[0;34m\u001b[0m\u001b[0m\n\u001b[1;32m    862\u001b[0m             \u001b[0mself\u001b[0m\u001b[0;34m.\u001b[0m\u001b[0m_parent_header\u001b[0m\u001b[0;34m,\u001b[0m\u001b[0;34m\u001b[0m\u001b[0;34m\u001b[0m\u001b[0m\n\u001b[0;32m--> 863\u001b[0;31m             \u001b[0mpassword\u001b[0m\u001b[0;34m=\u001b[0m\u001b[0;32mFalse\u001b[0m\u001b[0;34m,\u001b[0m\u001b[0;34m\u001b[0m\u001b[0;34m\u001b[0m\u001b[0m\n\u001b[0m\u001b[1;32m    864\u001b[0m         )\n\u001b[1;32m    865\u001b[0m \u001b[0;34m\u001b[0m\u001b[0m\n",
            "\u001b[0;32m/usr/local/lib/python3.7/dist-packages/ipykernel/kernelbase.py\u001b[0m in \u001b[0;36m_input_request\u001b[0;34m(self, prompt, ident, parent, password)\u001b[0m\n\u001b[1;32m    902\u001b[0m             \u001b[0;32mexcept\u001b[0m \u001b[0mKeyboardInterrupt\u001b[0m\u001b[0;34m:\u001b[0m\u001b[0;34m\u001b[0m\u001b[0;34m\u001b[0m\u001b[0m\n\u001b[1;32m    903\u001b[0m                 \u001b[0;31m# re-raise KeyboardInterrupt, to truncate traceback\u001b[0m\u001b[0;34m\u001b[0m\u001b[0;34m\u001b[0m\u001b[0;34m\u001b[0m\u001b[0m\n\u001b[0;32m--> 904\u001b[0;31m                 \u001b[0;32mraise\u001b[0m \u001b[0mKeyboardInterrupt\u001b[0m\u001b[0;34m(\u001b[0m\u001b[0;34m\"Interrupted by user\"\u001b[0m\u001b[0;34m)\u001b[0m \u001b[0;32mfrom\u001b[0m \u001b[0;32mNone\u001b[0m\u001b[0;34m\u001b[0m\u001b[0;34m\u001b[0m\u001b[0m\n\u001b[0m\u001b[1;32m    905\u001b[0m             \u001b[0;32mexcept\u001b[0m \u001b[0mException\u001b[0m \u001b[0;32mas\u001b[0m \u001b[0me\u001b[0m\u001b[0;34m:\u001b[0m\u001b[0;34m\u001b[0m\u001b[0;34m\u001b[0m\u001b[0m\n\u001b[1;32m    906\u001b[0m                 \u001b[0mself\u001b[0m\u001b[0;34m.\u001b[0m\u001b[0mlog\u001b[0m\u001b[0;34m.\u001b[0m\u001b[0mwarning\u001b[0m\u001b[0;34m(\u001b[0m\u001b[0;34m\"Invalid Message:\"\u001b[0m\u001b[0;34m,\u001b[0m \u001b[0mexc_info\u001b[0m\u001b[0;34m=\u001b[0m\u001b[0;32mTrue\u001b[0m\u001b[0;34m)\u001b[0m\u001b[0;34m\u001b[0m\u001b[0;34m\u001b[0m\u001b[0m\n",
            "\u001b[0;31mKeyboardInterrupt\u001b[0m: Interrupted by user"
          ]
        }
      ],
      "source": [
        "account_management(users_database)"
      ]
    },
    {
      "cell_type": "code",
      "execution_count": 22,
      "metadata": {
        "colab": {
          "base_uri": "https://localhost:8080/"
        },
        "id": "UZ-P6IKlYxYE",
        "outputId": "66a16788-bb85-403e-8236-00879c086c1a"
      },
      "outputs": [
        {
          "output_type": "stream",
          "name": "stdout",
          "text": [
            "True True\n"
          ]
        }
      ],
      "source": [
        "user, passwd = consult_database(users_database,agustin=\"prueba\")\n",
        "print(user, passwd)"
      ]
    },
    {
      "cell_type": "code",
      "source": [
        "def prueba (**argumentos):\n",
        "  for key,value in argumentos.items():\n",
        "    print(key,value)"
      ],
      "metadata": {
        "id": "AqjtZzdX5U20"
      },
      "execution_count": 35,
      "outputs": []
    },
    {
      "cell_type": "code",
      "source": [
        "prueba(user=\"agustin\",password=\"prueba\")"
      ],
      "metadata": {
        "colab": {
          "base_uri": "https://localhost:8080/"
        },
        "id": "oALRTccJ5c_a",
        "outputId": "8362e97c-4bf9-4c40-b276-88020043e470"
      },
      "execution_count": 36,
      "outputs": [
        {
          "output_type": "stream",
          "name": "stdout",
          "text": [
            "user agustin\n",
            "password prueba\n"
          ]
        }
      ]
    }
  ],
  "metadata": {
    "colab": {
      "collapsed_sections": [],
      "provenance": []
    },
    "kernelspec": {
      "display_name": "Python 3",
      "name": "python3"
    },
    "language_info": {
      "name": "python"
    }
  },
  "nbformat": 4,
  "nbformat_minor": 0
}