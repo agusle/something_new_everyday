{
  "cells": [
    {
      "cell_type": "markdown",
      "id": "975346ff",
      "metadata": {
        "id": "975346ff"
      },
      "source": [
        "## Listas, tuplas y diccionarios"
      ]
    },
    {
      "cell_type": "markdown",
      "id": "62ce5593",
      "metadata": {
        "id": "62ce5593"
      },
      "source": [
        "#### Listas"
      ]
    },
    {
      "cell_type": "markdown",
      "id": "6df460bc",
      "metadata": {
        "id": "6df460bc"
      },
      "source": [
        "1. Escriba una función que reciba una lista de números calcule la suma acumulada de sus elementos y la devuelva. Es decir, una nueva lista donde el primer elemento es el mismo que en la lista original, el segundo elemento es la suma del primer y segundo elemento de la lista original, el tercer elemento es la suma del resultado anterior con el tercer elemento de la lista original y así sucesivamente. Por ejemplo, dada la lista [1, 2, 3], la suma acumulada debería ser [1, 3, 6]."
      ]
    },
    {
      "cell_type": "code",
      "source": [
        "def acumulative_list_sum(numbers:list)-> list:\n",
        "  \"\"\"\n",
        "  Crea una nueva lista donde el primer elemento es el mismo que la original,\n",
        "  el segundo elemento es la suma del primer y segundo elemento de la lista \n",
        "  original y el tercer elemento es la suma del resultado anterior \n",
        "  con el tercer elemento de la lista original y así sucesivamente.\n",
        "\n",
        "  Parameters\n",
        "  ----------\n",
        "  numbers = list\n",
        "    Lista de números (int, float). e.g: [1,2,3]\n",
        "  \n",
        "  Returns\n",
        "  -------\n",
        "  sum_numbers = list\n",
        "    Lista con la suma acumulativa. e.g: [1,3,6]\n",
        "  \"\"\"\n",
        "\n",
        "  sum_numbers = []\n",
        "  for number in range(len(numbers)):\n",
        "    if len(sum_numbers) == 0: #primer elemento es igual que original\n",
        "      number = numbers[number]\n",
        "    elif len(sum_numbers) < 2 : #segundo elemento suma de 1ro + 2do original\n",
        "      number = numbers[number] + numbers[number-1]\n",
        "    else:\n",
        "      number = sum_numbers[-1] + numbers[number] #tercer elemento suma con ant.\n",
        "    sum_numbers.append(number)\n",
        "  return sum_numbers"
      ],
      "metadata": {
        "id": "3nrAjC2Pib1g"
      },
      "id": "3nrAjC2Pib1g",
      "execution_count": null,
      "outputs": []
    },
    {
      "cell_type": "code",
      "source": [
        "my_list = [1,2,3]\n",
        "sum_list = acumulative_list_sum(my_list)\n",
        "print(sum_list)"
      ],
      "metadata": {
        "colab": {
          "base_uri": "https://localhost:8080/"
        },
        "id": "4M8ljegd2qyL",
        "outputId": "720254c2-ac26-4458-f5d2-98757ea03732"
      },
      "id": "4M8ljegd2qyL",
      "execution_count": null,
      "outputs": [
        {
          "output_type": "stream",
          "name": "stdout",
          "text": [
            "[1, 3, 6]\n"
          ]
        }
      ]
    },
    {
      "cell_type": "markdown",
      "id": "a1864932",
      "metadata": {
        "id": "a1864932"
      },
      "source": [
        "2. Genere una lista llamada datosPersonales, mediante el uso de un bucle donde en cada iteración se pida un solo dato de los siguientes: Nombre, Apellido, Localidad, Edad, DNI, Carrera en curso (en esta última ingrese: Tecnicatura), año de inicio de la carrera. Luego, imprima por pantalla la lista con los datos completados. (Ingrese las palabras como cadenas y los números como enteros)"
      ]
    },
    {
      "cell_type": "code",
      "source": [
        "form = [\"Nombre\",\"Apellido\",\"Localidad\",\"Edad\",\"DNI\",\"Carrera en curso\",\"Año de inicio de carrera\"]"
      ],
      "metadata": {
        "id": "xC7_RIG88Euo"
      },
      "id": "xC7_RIG88Euo",
      "execution_count": null,
      "outputs": []
    },
    {
      "cell_type": "code",
      "source": [
        "def fill_form(form:list) -> list:\n",
        "  \"\"\"\n",
        "  Genera una secuencia de input para cada uno de los elementos del formulario\n",
        "  ingresado como argumento. Si el valor ingresado es numérico, el elemento se\n",
        "  almacena como número entero, de lo contario como cadena.\n",
        "\n",
        "  Parameter\n",
        "  ---------\n",
        "  form = list\n",
        "    Lista con campos de datos a ingresar por el usuario.\n",
        "  \n",
        "  Returns\n",
        "  -------\n",
        "  datosPersonales = list\n",
        "    Lista con campos ingresados por usuario\n",
        "  \"\"\"\n",
        "  \n",
        "  datosPersonales = []\n",
        "  for data in form:\n",
        "    field = input(f'Por favor, ingrese su {data}: ')\n",
        "    if field.isnumeric():\n",
        "      field = int(field)\n",
        "    datosPersonales.append(field)\n",
        "  print(f'\\nMuchas gracias por completar el formulario. Usted ingresó los siguientes datos:')\n",
        "  for index in range(len(form)):\n",
        "    print(f'{form[index]}: {datosPersonales[index]}')\n",
        "  return datosPersonales"
      ],
      "metadata": {
        "id": "65yWKGmpihCC"
      },
      "id": "65yWKGmpihCC",
      "execution_count": null,
      "outputs": []
    },
    {
      "cell_type": "code",
      "source": [
        "datosPersonales = fill_form(form)"
      ],
      "metadata": {
        "colab": {
          "base_uri": "https://localhost:8080/"
        },
        "id": "7XoUSmln9o8O",
        "outputId": "e38c6570-af2a-43c4-ea9d-15b4a75a61a5"
      },
      "id": "7XoUSmln9o8O",
      "execution_count": null,
      "outputs": [
        {
          "output_type": "stream",
          "name": "stdout",
          "text": [
            "Por favor, ingrese su Nombre: Agustin\n",
            "Por favor, ingrese su Apellido: Leperini\n",
            "Por favor, ingrese su Localidad: Carcarañá\n",
            "Por favor, ingrese su Edad: 30\n",
            "Por favor, ingrese su DNI: 36007849\n",
            "Por favor, ingrese su Carrera en curso: Tecnicatura\n",
            "Por favor, ingrese su Año de inicio de carrera: 2022\n",
            "\n",
            "Muchas gracias por completar el formulario. Usted ingresó los siguientes datos:\n",
            "Nombre: Agustin\n",
            "Apellido: Leperini\n",
            "Localidad: Carcarañá\n",
            "Edad: 30\n",
            "DNI: 36007849\n",
            "Carrera en curso: Tecnicatura\n",
            "Año de inicio de carrera: 2022\n"
          ]
        }
      ]
    },
    {
      "cell_type": "markdown",
      "source": [
        "Comprobación de almacenamiento de datos numéricos como enteros."
      ],
      "metadata": {
        "id": "YzlOtuWy99MY"
      },
      "id": "YzlOtuWy99MY"
    },
    {
      "cell_type": "code",
      "source": [
        "numeric_values = list(filter(lambda x: type(x)== int,datosPersonales))\n",
        "print(numeric_values)"
      ],
      "metadata": {
        "colab": {
          "base_uri": "https://localhost:8080/"
        },
        "id": "iuCAF92f-LLl",
        "outputId": "1dec8f0c-54be-4de9-b47f-915933027f79"
      },
      "id": "iuCAF92f-LLl",
      "execution_count": null,
      "outputs": [
        {
          "output_type": "stream",
          "name": "stdout",
          "text": [
            "[30, 36007849, 2022]\n"
          ]
        }
      ]
    },
    {
      "cell_type": "code",
      "source": [
        "print(type(datosPersonales[3]))#Edad\n",
        "print(type(datosPersonales[4]))#DNI\n",
        "print(type(datosPersonales[-1]))#Año de inicio"
      ],
      "metadata": {
        "colab": {
          "base_uri": "https://localhost:8080/"
        },
        "id": "_6eo8vvm-Cl1",
        "outputId": "51c770c4-ab89-4cf1-ce2a-34873a844ce6"
      },
      "id": "_6eo8vvm-Cl1",
      "execution_count": null,
      "outputs": [
        {
          "output_type": "stream",
          "name": "stdout",
          "text": [
            "<class 'int'>\n",
            "<class 'int'>\n",
            "<class 'int'>\n"
          ]
        }
      ]
    },
    {
      "cell_type": "markdown",
      "id": "571681d6",
      "metadata": {
        "id": "571681d6"
      },
      "source": [
        "3. Tomando la lista del ejercicio anterior y la de sus 3 compañeros más proximos, genere una lista base de datos. Que contenga en su interior las 4 listas de datos personales. Luego, implemente un programa que imprima los datos personales de cada persona."
      ]
    },
    {
      "cell_type": "code",
      "execution_count": null,
      "id": "09e896e8",
      "metadata": {
        "id": "09e896e8",
        "colab": {
          "base_uri": "https://localhost:8080/"
        },
        "outputId": "f398233e-f90c-4db0-b32c-1305271e3d06"
      },
      "outputs": [
        {
          "output_type": "stream",
          "name": "stdout",
          "text": [
            "Por favor, ingrese su Nombre: Agustin\n",
            "Por favor, ingrese su Apellido: Leperini\n",
            "Por favor, ingrese su Localidad: Carcarañá\n",
            "Por favor, ingrese su Edad: 30\n",
            "Por favor, ingrese su DNI: 36007849\n",
            "Por favor, ingrese su Carrera en curso: Tecnicatura\n",
            "Por favor, ingrese su Año de inicio de carrera: 2022\n",
            "\n",
            "Muchas gracias por completar el formulario. Usted ingresó los siguientes datos:\n",
            "Nombre: Agustin\n",
            "Apellido: Leperini\n",
            "Localidad: Carcarañá\n",
            "Edad: 30\n",
            "DNI: 36007849\n",
            "Carrera en curso: Tecnicatura\n",
            "Año de inicio de carrera: 2022\n",
            "Por favor, ingrese su Nombre: Franco\n",
            "Por favor, ingrese su Apellido: Leperini\n",
            "Por favor, ingrese su Localidad: Carcarañá\n",
            "Por favor, ingrese su Edad: 30\n",
            "Por favor, ingrese su DNI: 36007848\n",
            "Por favor, ingrese su Carrera en curso: Tecnicatura\n",
            "Por favor, ingrese su Año de inicio de carrera: 2022\n",
            "\n",
            "Muchas gracias por completar el formulario. Usted ingresó los siguientes datos:\n",
            "Nombre: Franco\n",
            "Apellido: Leperini\n",
            "Localidad: Carcarañá\n",
            "Edad: 30\n",
            "DNI: 36007848\n",
            "Carrera en curso: Tecnicatura\n",
            "Año de inicio de carrera: 2022\n",
            "Por favor, ingrese su Nombre: Martin\n",
            "Por favor, ingrese su Apellido: Cavo\n",
            "Por favor, ingrese su Localidad: Rosario\n",
            "Por favor, ingrese su Edad: 31\n",
            "Por favor, ingrese su DNI: 34593748\n",
            "Por favor, ingrese su Carrera en curso: Tecnicatura\n",
            "Por favor, ingrese su Año de inicio de carrera: 2021\n",
            "\n",
            "Muchas gracias por completar el formulario. Usted ingresó los siguientes datos:\n",
            "Nombre: Martin\n",
            "Apellido: Cavo\n",
            "Localidad: Rosario\n",
            "Edad: 31\n",
            "DNI: 34593748\n",
            "Carrera en curso: Tecnicatura\n",
            "Año de inicio de carrera: 2021\n",
            "Por favor, ingrese su Nombre: Roberto\n",
            "Por favor, ingrese su Apellido: Gomez\n",
            "Por favor, ingrese su Localidad: Villa Constitución\n",
            "Por favor, ingrese su Edad: 27\n",
            "Por favor, ingrese su DNI: 38442157\n",
            "Por favor, ingrese su Carrera en curso: Tecnicatura\n",
            "Por favor, ingrese su Año de inicio de carrera: 2022\n",
            "\n",
            "Muchas gracias por completar el formulario. Usted ingresó los siguientes datos:\n",
            "Nombre: Roberto\n",
            "Apellido: Gomez\n",
            "Localidad: Villa Constitución\n",
            "Edad: 27\n",
            "DNI: 38442157\n",
            "Carrera en curso: Tecnicatura\n",
            "Año de inicio de carrera: 2022\n"
          ]
        }
      ],
      "source": [
        "datosPersonales1 = fill_form(form)\n",
        "datosPersonales2 = fill_form(form)\n",
        "datosPersonales3 = fill_form(form)\n",
        "datosPersonales4 = fill_form(form)"
      ]
    },
    {
      "cell_type": "code",
      "source": [
        "def database_lists(*lists:list) -> list:\n",
        "  \"\"\"\n",
        "  Genera una lista compuesta por las listas ingresadas como argumentos.\n",
        "\n",
        "  Parameters\n",
        "  ----------\n",
        "  *lists = non keyword lists\n",
        "    Listas a incluir como elementos de una lista madre.\n",
        "    e.g: datosPersonales1,datosPersonales2\n",
        "\n",
        "  Returns\n",
        "  -------\n",
        "  database = list\n",
        "    Lista con cada elemento como lista ingresadas como argumento.\n",
        "  \"\"\"\n",
        "\n",
        "  database = []\n",
        "  for argument in range(len(lists)):\n",
        "    database.append(lists[argument])\n",
        "  return database"
      ],
      "metadata": {
        "id": "monmroKrADcO"
      },
      "id": "monmroKrADcO",
      "execution_count": null,
      "outputs": []
    },
    {
      "cell_type": "code",
      "source": [
        "database = database_lists(datosPersonales1,datosPersonales2,datosPersonales3,datosPersonales4)\n",
        "database"
      ],
      "metadata": {
        "colab": {
          "base_uri": "https://localhost:8080/"
        },
        "id": "8GfDNo7LCRjw",
        "outputId": "3d3b686b-2e37-4c85-be62-4c455c06a179"
      },
      "id": "8GfDNo7LCRjw",
      "execution_count": null,
      "outputs": [
        {
          "output_type": "execute_result",
          "data": {
            "text/plain": [
              "[['Agustin', 'Leperini', 'Carcarañá', 30, 36007849, 'Tecnicatura', 2022],\n",
              " ['Franco', 'Leperini', 'Carcarañá', 30, 36007848, 'Tecnicatura', 2022],\n",
              " ['Martin', 'Cavo', 'Rosario', 31, 34593748, 'Tecnicatura', 2021],\n",
              " ['Roberto', 'Gomez', 'Villa Constitución', 27, 38442157, 'Tecnicatura', 2022]]"
            ]
          },
          "metadata": {},
          "execution_count": 15
        }
      ]
    },
    {
      "cell_type": "code",
      "source": [
        "# entiendo por datos personales, todos los datos incluidos en \n",
        "# el formulario principal\n",
        "\n",
        "def print_database(form:list,database:list):\n",
        "  \"\"\"\n",
        "  Imprime en pantalla todos los datos de cada elemento de una \n",
        "  base de datos en base a un formulario.\n",
        "\n",
        "  Parameters\n",
        "  ----------\n",
        "  form: list\n",
        "    Lista con campos de datos a ingresar.\n",
        "\n",
        "  database: list\n",
        "    Lista con campos de datos ingresados.\n",
        "  \n",
        "  Returns\n",
        "  -------\n",
        "  Imprime en pantalla \n",
        "  \"\"\"\n",
        "\n",
        "  for student in range(len(database)):\n",
        "    print(f'\\nEstudiante #{student+1}: \\n') \n",
        "    for field in range(len(form)):\n",
        "      print(f'{form[field]}: {database[student][field]} ')"
      ],
      "metadata": {
        "id": "a_z9IY0lCm1R"
      },
      "id": "a_z9IY0lCm1R",
      "execution_count": null,
      "outputs": []
    },
    {
      "cell_type": "code",
      "source": [
        "print_database(form,database)"
      ],
      "metadata": {
        "colab": {
          "base_uri": "https://localhost:8080/"
        },
        "id": "0liv9xbXDaAS",
        "outputId": "84ee1919-2a49-4581-a5e2-caf3e5a3a93a"
      },
      "id": "0liv9xbXDaAS",
      "execution_count": null,
      "outputs": [
        {
          "output_type": "stream",
          "name": "stdout",
          "text": [
            "\n",
            "Estudiante #1: \n",
            "\n",
            "Nombre: Agustin \n",
            "Apellido: Leperini \n",
            "Localidad: Carcarañá \n",
            "Edad: 30 \n",
            "DNI: 36007849 \n",
            "Carrera en curso: Tecnicatura \n",
            "Año de inicio de carrera: 2022 \n",
            "\n",
            "Estudiante #2: \n",
            "\n",
            "Nombre: Franco \n",
            "Apellido: Leperini \n",
            "Localidad: Carcarañá \n",
            "Edad: 30 \n",
            "DNI: 36007848 \n",
            "Carrera en curso: Tecnicatura \n",
            "Año de inicio de carrera: 2022 \n",
            "\n",
            "Estudiante #3: \n",
            "\n",
            "Nombre: Martin \n",
            "Apellido: Cavo \n",
            "Localidad: Rosario \n",
            "Edad: 31 \n",
            "DNI: 34593748 \n",
            "Carrera en curso: Tecnicatura \n",
            "Año de inicio de carrera: 2021 \n",
            "\n",
            "Estudiante #4: \n",
            "\n",
            "Nombre: Roberto \n",
            "Apellido: Gomez \n",
            "Localidad: Villa Constitución \n",
            "Edad: 27 \n",
            "DNI: 38442157 \n",
            "Carrera en curso: Tecnicatura \n",
            "Año de inicio de carrera: 2022 \n"
          ]
        }
      ]
    },
    {
      "cell_type": "markdown",
      "id": "18adbeee",
      "metadata": {
        "id": "18adbeee"
      },
      "source": [
        "#### Tuplas"
      ]
    },
    {
      "cell_type": "markdown",
      "source": [
        "5. Escribir una función donde pida las materias que cursa unx alumnx del TUIA, las almacene en una tupla y la devuelva."
      ],
      "metadata": {
        "id": "uxYxxjT4uAtW"
      },
      "id": "uxYxxjT4uAtW"
    },
    {
      "cell_type": "code",
      "source": [
        "def student_subjects()->tuple:\n",
        "  \"\"\"\n",
        "  Permite ingresar las materias como string de forma individual \n",
        "  hasta presionar la tecla enter. Luego, elimina los espacios adicionales\n",
        "  del/los string/s ingresado/s y lo/s formatea capitalizandolo/s.\n",
        "\n",
        "  Returns\n",
        "  -------\n",
        "  subjects = tuple\n",
        "    Tupla con materias ingresadas. E.g: ('Entorno de programacion', 'Logica')\n",
        "  \"\"\"\n",
        "\n",
        "  subjects = []\n",
        "  print(\n",
        "      f'Bienvenido! Por favor, ingrese las materias que se encuentra '\n",
        "      'cursando de forma individual. En caso que desee finalizar, '\n",
        "      'presione ENTER.'\n",
        "      )\n",
        "  while True:\n",
        "    subject = input(f'Ingrese su materia nro.{len(subjects)+1}: ')\n",
        "    if subject == \"\":\n",
        "      print(f'\\nGracias por ingresar sus materias de cursado. Le deseamos éxitos en su periodo lectivo.')\n",
        "      break\n",
        "    subjects.append(subject.strip().capitalize())\n",
        "  return  tuple(subjects)\n",
        "    "
      ],
      "metadata": {
        "id": "B3Zj_fewQyrx"
      },
      "id": "B3Zj_fewQyrx",
      "execution_count": null,
      "outputs": []
    },
    {
      "cell_type": "code",
      "source": [
        "subjects = student_subjects()\n",
        "print(\n",
        "    f\"\\nEl alumno cursa {len(subjects)} materias:\\n{subjects}\\n\"\n",
        "    f\"Las mismas se encuentran almacenadas en una {type(subjects)}\"\n",
        "    )"
      ],
      "metadata": {
        "colab": {
          "base_uri": "https://localhost:8080/"
        },
        "id": "F02T1xg9jWqQ",
        "outputId": "90f9a9b1-2a23-4adf-8254-7e91f4c3c65a"
      },
      "id": "F02T1xg9jWqQ",
      "execution_count": null,
      "outputs": [
        {
          "output_type": "stream",
          "name": "stdout",
          "text": [
            "Bienvenido! Por favor, ingrese las materias que se encuentra cursando de forma individual. En caso que desee finalizar, presione ENTER.\n",
            "Ingrese su materia nro.1: Lógica \n",
            "Ingrese su materia nro.2:            Programacion I\n",
            "Ingrese su materia nro.3: ENTORNO DE PROGRAMACION\n",
            "Ingrese su materia nro.4: \n",
            "\n",
            "Gracias por ingresar sus materias de cursado. Le deseamos éxitos en su periodo lectivo.\n",
            "\n",
            "El alumno cursa 3 materias:\n",
            "('Lógica', 'Programacion i', 'Entorno de programacion')\n",
            "Las mismas se encuentran almacenadas en una <class 'tuple'>\n"
          ]
        }
      ]
    },
    {
      "cell_type": "markdown",
      "source": [
        "6. A partir del ejercicio anterior, generar 2 tuplas donde se guarden las materias del primer cuatrimestre y del segundo respectivamente. \n",
        "Crear una nueva función que le pida al alumnx las materias que cursa y que le informe si corresponde al primer o segundo cuatrimestre."
      ],
      "metadata": {
        "id": "u4I3bI2uuCbc"
      },
      "id": "u4I3bI2uuCbc"
    },
    {
      "cell_type": "code",
      "source": [
        "four_month_1 = student_subjects()\n",
        "four_month_2 = student_subjects()"
      ],
      "metadata": {
        "colab": {
          "base_uri": "https://localhost:8080/"
        },
        "id": "2PpbxDo8oZkP",
        "outputId": "13d23bd3-305e-409d-91c6-67775768dc9f"
      },
      "id": "2PpbxDo8oZkP",
      "execution_count": null,
      "outputs": [
        {
          "output_type": "stream",
          "name": "stdout",
          "text": [
            "Bienvenido! Por favor, ingrese las materias que se encuentra cursando de forma individual. En caso que desee finalizar, presione ENTER.\n",
            "Ingrese su materia nro.1: Lógica\n",
            "Ingrese su materia nro.2: Matemática\n",
            "Ingrese su materia nro.3: Entorno de Programación\n",
            "Ingrese su materia nro.4: Programación I \n",
            "Ingrese su materia nro.5: Inglés Técnico\n",
            "Ingrese su materia nro.6: \n",
            "\n",
            "Gracias por ingresar sus materias de cursado. Le deseamos éxitos en su periodo lectivo.\n",
            "Bienvenido! Por favor, ingrese las materias que se encuentra cursando de forma individual. En caso que desee finalizar, presione ENTER.\n",
            "Ingrese su materia nro.1: Cálculo \n",
            "Ingrese su materia nro.2: Programación II\n",
            "Ingrese su materia nro.3: Introducción a Inteligencia Artificial\n",
            "Ingrese su materia nro.4: Álgebra\n",
            "Ingrese su materia nro.5: Práctica Social Educativa – Módulo Introductorio\n",
            "Ingrese su materia nro.6: \n",
            "\n",
            "Gracias por ingresar sus materias de cursado. Le deseamos éxitos en su periodo lectivo.\n"
          ]
        }
      ]
    },
    {
      "cell_type": "code",
      "source": [
        "four_month_1"
      ],
      "metadata": {
        "colab": {
          "base_uri": "https://localhost:8080/"
        },
        "id": "Vsgdaauxo7Ni",
        "outputId": "476bb4d4-5dec-417f-9fd0-14b34e268025"
      },
      "id": "Vsgdaauxo7Ni",
      "execution_count": null,
      "outputs": [
        {
          "output_type": "execute_result",
          "data": {
            "text/plain": [
              "('Lógica',\n",
              " 'Matemática',\n",
              " 'Entorno de programación',\n",
              " 'Programación i',\n",
              " 'Inglés técnico')"
            ]
          },
          "metadata": {},
          "execution_count": 146
        }
      ]
    },
    {
      "cell_type": "code",
      "source": [
        "four_month_2"
      ],
      "metadata": {
        "colab": {
          "base_uri": "https://localhost:8080/"
        },
        "id": "dE55YtvBo50r",
        "outputId": "1e47cb98-488b-42d1-cfd4-60f5f47c93a9"
      },
      "id": "dE55YtvBo50r",
      "execution_count": null,
      "outputs": [
        {
          "output_type": "execute_result",
          "data": {
            "text/plain": [
              "('Cálculo',\n",
              " 'Programación ii',\n",
              " 'Introducción a inteligencia artificial',\n",
              " 'Álgebra',\n",
              " 'Práctica social educativa – módulo introductorio')"
            ]
          },
          "metadata": {},
          "execution_count": 147
        }
      ]
    },
    {
      "cell_type": "code",
      "source": [
        "def period_creation (period:str=\"cuatrimestre\",*periods:tuple) -> dict:\n",
        "  \"\"\"\n",
        "  Parameters\n",
        "  ----------\n",
        "  period = str\n",
        "    Perido lectivo en cual se divide el ciclo. E.g: \"Trimestre\", \"Cuatrimestre\".\n",
        "  *periods = tuple\n",
        "\n",
        "  Returns\n",
        "  ------\n",
        "  Dictionary\n",
        "  \"\"\"\n",
        "  # create dictionary with periods and list with student subjects\n",
        "  subjects = {}\n",
        "  for i in range(len(periods)):\n",
        "    value = str(i+1)+\"_\"+str(period.capitalize()) #period name generation\n",
        "    subjects[periods[i]] = value #assigned period name as value and tuple as key\n",
        "  return subjects"
      ],
      "metadata": {
        "id": "zWS9sWmMsA45"
      },
      "id": "zWS9sWmMsA45",
      "execution_count": null,
      "outputs": []
    },
    {
      "cell_type": "code",
      "source": [
        "subjects = period_creation(\"cuatrimestre\",four_month_1,four_month_2)"
      ],
      "metadata": {
        "id": "naSomKyit1Jq"
      },
      "id": "naSomKyit1Jq",
      "execution_count": null,
      "outputs": []
    },
    {
      "cell_type": "code",
      "source": [
        "subjects"
      ],
      "metadata": {
        "colab": {
          "base_uri": "https://localhost:8080/"
        },
        "id": "b61v1a_Et9u_",
        "outputId": "8a6888e1-1a21-43b0-dd34-307f6b226ce3"
      },
      "id": "b61v1a_Et9u_",
      "execution_count": null,
      "outputs": [
        {
          "output_type": "execute_result",
          "data": {
            "text/plain": [
              "{('Lógica',\n",
              "  'Matemática',\n",
              "  'Entorno de programación',\n",
              "  'Programación i',\n",
              "  'Inglés técnico'): '1_Cuatrimestre',\n",
              " ('Cálculo',\n",
              "  'Programación ii',\n",
              "  'Introducción a inteligencia artificial',\n",
              "  'Álgebra',\n",
              "  'Práctica social educativa – módulo introductorio'): '2_Cuatrimestre'}"
            ]
          },
          "metadata": {},
          "execution_count": 151
        }
      ]
    },
    {
      "cell_type": "code",
      "source": [
        "def check_subject_period (subjects:dict) -> str:\n",
        "  \"\"\"\n",
        "  Parameters\n",
        "  ----------\n",
        "  Returns\n",
        "  ------\n",
        "  \"\"\"\n",
        "  print(\n",
        "      f'Bienvenido al listado de materias de TUIA!'\n",
        "      f'Podrás conocer a qué periodo lectivo pertenece las materias que cursas.'\n",
        "      f'\\nPara finalizar, presione la tecla ENTER.'\n",
        "      )\n",
        "  student_subjects = []\n",
        "  while True:\n",
        "    subject = input(f'Por, favor ingrese su materia #{len(student_subjects)+1}: ')\n",
        "    if subject == \"\" and len(student_subjects) == 0:\n",
        "      print(f'\\nDebe ingresar al menos una materia para realizar su consulta.')\n",
        "      continue\n",
        "    elif subject == \"\" and len(student_subjects)> 0:\n",
        "      print(f'\\nGracias por ingresar sus materias de cursado. Le deseamos éxitos en su periodo lectivo.')\n",
        "      break\n",
        "    else:\n",
        "        for subjects_tuple in subjects:\n",
        "          if subject.capitalize() in subjects_tuple:\n",
        "            student_subjects.append(subject)\n",
        "            break\n",
        "  for subject in student_subjects:\n",
        "    for subjects_tuple in subjects:\n",
        "      if subject in subjects_tuple:\n",
        "        print(f'{subject} pertenece al {subjects[subjects_tuple]}')\n",
        "        break"
      ],
      "metadata": {
        "id": "JiGqWiDeaknF"
      },
      "id": "JiGqWiDeaknF",
      "execution_count": null,
      "outputs": []
    },
    {
      "cell_type": "code",
      "source": [
        "check_subject_period(subjects)"
      ],
      "metadata": {
        "colab": {
          "base_uri": "https://localhost:8080/"
        },
        "id": "1Co4h0awbL-6",
        "outputId": "4d048292-ef11-41a5-d812-3cb7bde33d5b"
      },
      "id": "1Co4h0awbL-6",
      "execution_count": null,
      "outputs": [
        {
          "output_type": "stream",
          "name": "stdout",
          "text": [
            "Bienvenido al listado de materias de TUIA!Podrás conocer a qué periodo lectivo pertenece las materias que cursas.\n",
            "Para finalizar, presione la tecla ENTER.\n",
            "Por, favor ingrese su materia #1: Lógica\n",
            "Por, favor ingrese su materia #2: Matemática\n",
            "Por, favor ingrese su materia #3: Álgebra\n",
            "Por, favor ingrese su materia #4: Cálculo\n",
            "Por, favor ingrese su materia #5: \n",
            "\n",
            "Gracias por ingresar sus materias de cursado. Le deseamos éxitos en su periodo lectivo.\n",
            "Lógica pertenece al 1_Cuatrimestre\n",
            "Matemática pertenece al 1_Cuatrimestre\n",
            "Álgebra pertenece al 2_Cuatrimestre\n",
            "Cálculo pertenece al 2_Cuatrimestre\n"
          ]
        }
      ]
    },
    {
      "cell_type": "markdown",
      "id": "806981fb",
      "metadata": {
        "id": "806981fb"
      },
      "source": [
        "#### Diccionarios"
      ]
    },
    {
      "cell_type": "markdown",
      "source": [
        "7. Crear un diccionario de la lista de precios de una verdulería. "
      ],
      "metadata": {
        "id": "cbNjBJC9zFS3"
      },
      "id": "cbNjBJC9zFS3"
    },
    {
      "cell_type": "code",
      "source": [
        "grocery_prices = {\n",
        "    \"Banana\": 100,\n",
        "    \"Manzana\": 80,\n",
        "    \"Cebolla\": 50,\n",
        "    \"Pera\": 110,\n",
        "    \"Zapallo\": 120\n",
        "}"
      ],
      "metadata": {
        "id": "nVXK9JR5zRp9"
      },
      "id": "nVXK9JR5zRp9",
      "execution_count": null,
      "outputs": []
    },
    {
      "cell_type": "markdown",
      "source": [
        "8. A partir del diccionario anterior, imprimir en la pantalla el nombre de la fruta/verdura con su correspondiente precio."
      ],
      "metadata": {
        "id": "GQq19546zToD"
      },
      "id": "GQq19546zToD"
    },
    {
      "cell_type": "code",
      "source": [
        "print(f'Lista de precios verduleria:\\n')\n",
        "for product,price in grocery_prices.items():\n",
        "  print(f'{product}: ${price}')"
      ],
      "metadata": {
        "id": "NOo9bmdazsa7",
        "colab": {
          "base_uri": "https://localhost:8080/"
        },
        "outputId": "4de3c262-e38c-44aa-eed9-069ea61170e8"
      },
      "id": "NOo9bmdazsa7",
      "execution_count": null,
      "outputs": [
        {
          "output_type": "stream",
          "name": "stdout",
          "text": [
            "Lista de precios verduleria:\n",
            "\n",
            "Banana: $100\n",
            "Manzana: $80\n",
            "Cebolla: $50\n",
            "Pera: $110\n",
            "Zapallo: $120\n"
          ]
        }
      ]
    },
    {
      "cell_type": "markdown",
      "source": [
        "9. Utilizando el diccionario anterior, pedirle al usuario que ingrese una fruta/verdura y que indique su precio. Si no hay en stock avisarle al cliente."
      ],
      "metadata": {
        "id": "mY7bF_Auzs7u"
      },
      "id": "mY7bF_Auzs7u"
    },
    {
      "cell_type": "code",
      "source": [
        "# entiendo, segun el enunciado, que si el producto no tiene stock, no  \n",
        "# debe encontrarse en el diccionario\n",
        "def how_much(products:dict) -> float/None:\n",
        "  \"\"\"\n",
        "  Segun una lista de precios ingresada como argumento, solicita al\n",
        "  usuario el nombre de un producto y, si el mismo se encuentra\n",
        "  dentro de la lista, imprime y devuelve su precio. De lo contrario,\n",
        "  si no se encuentra, imprime un mensaje de no disponibilidad y\n",
        "  devuelve None.\n",
        "\n",
        "  Parameters\n",
        "  ----------\n",
        "  products = dict\n",
        "    Diccionario con lista de precios de productos.\n",
        "\n",
        "  Returns\n",
        "  -------\n",
        "  result = float/None\n",
        "    Si el producto existe, devuelve el valor como float. De lo \n",
        "    contrario, devuelve Nonetype. \n",
        "  \"\"\"\n",
        "\n",
        "  product = input(\"Por favor, ingrese el producto que desea consultar: \")\n",
        "  product = product.strip().capitalize()\n",
        "  result = products.get(product)\n",
        "  if result == None:\n",
        "    print(f'El producto ingresado: {product} no se encuentra disponible.')\n",
        "  else:\n",
        "    print(f'El producto ingresado: {product} cuesta ${result}.')\n",
        "  return result"
      ],
      "metadata": {
        "id": "isXXMDeuQsVu"
      },
      "id": "isXXMDeuQsVu",
      "execution_count": null,
      "outputs": []
    },
    {
      "cell_type": "code",
      "source": [
        "pomelo = how_much(grocery_prices)"
      ],
      "metadata": {
        "colab": {
          "base_uri": "https://localhost:8080/"
        },
        "id": "bxRl8-GmS0Tm",
        "outputId": "7d841b40-e04c-4921-e00e-fa6374c7e4a3"
      },
      "id": "bxRl8-GmS0Tm",
      "execution_count": null,
      "outputs": [
        {
          "output_type": "stream",
          "name": "stdout",
          "text": [
            "Por favor, ingrese el producto que desea consultar:     POMELO\n",
            "El producto ingresado: Pomelo no se encuentra disponible.\n"
          ]
        }
      ]
    },
    {
      "cell_type": "code",
      "source": [
        "print(pomelo)"
      ],
      "metadata": {
        "colab": {
          "base_uri": "https://localhost:8080/"
        },
        "id": "dn2hYksAUn1m",
        "outputId": "35e13f2f-f16d-4e97-b767-49212cfb801b"
      },
      "id": "dn2hYksAUn1m",
      "execution_count": null,
      "outputs": [
        {
          "output_type": "stream",
          "name": "stdout",
          "text": [
            "None\n"
          ]
        }
      ]
    },
    {
      "cell_type": "code",
      "source": [
        "banana = how_much(grocery_prices)"
      ],
      "metadata": {
        "colab": {
          "base_uri": "https://localhost:8080/"
        },
        "id": "aVIYY1TOS8l_",
        "outputId": "43320d9f-3276-442b-f7ac-9eca94c17ee6"
      },
      "id": "aVIYY1TOS8l_",
      "execution_count": null,
      "outputs": [
        {
          "output_type": "stream",
          "name": "stdout",
          "text": [
            "Por favor, ingrese el producto que desea consultar:         banana\n",
            "El producto ingresado: Banana cuesta $100.\n"
          ]
        }
      ]
    },
    {
      "cell_type": "code",
      "source": [
        "print(banana)"
      ],
      "metadata": {
        "colab": {
          "base_uri": "https://localhost:8080/"
        },
        "id": "K5bJGmNETDIs",
        "outputId": "507118e3-dcbf-4b7a-fc7d-65c13a48d253"
      },
      "id": "K5bJGmNETDIs",
      "execution_count": null,
      "outputs": [
        {
          "output_type": "stream",
          "name": "stdout",
          "text": [
            "100\n"
          ]
        }
      ]
    },
    {
      "cell_type": "markdown",
      "id": "eea999dc",
      "metadata": {
        "id": "eea999dc"
      },
      "source": [
        "\n",
        "10. Escribir una primer función que pida el nombre y 3 notas de unx alumnx, devuelva el nombre y una lista con las notas. \n",
        "Llamar dicha función tantas veces como alumnos haya y crear un diccionario donde la clave sea el nombre del estudiante y el valor la lista de sus notas.\n",
        "Por último, calcular el promedio de cada unx y mostrarlo en pantalla.\n",
        "\n",
        "Por ejemplo para \n",
        "    \n",
        "    alumnos = { \" Juan \" : [6 ,9 ,8] , \" Manuel \" : [9 ,10 ,9] , \" Martin \" : [5 ,6 ,7]}\n",
        "\n",
        "\n",
        "Debería mostrar:\n",
        "<dd>El promedio de Juan es 7.666666</dd>\n",
        "<dd>El promedio de Manuel es 9.333333</dd>\n",
        "<dd>El promedio de Martin es 6</dd>"
      ]
    },
    {
      "cell_type": "markdown",
      "source": [
        "1er parte: Funcion para pedir el nombre y 3 notas por alumno. "
      ],
      "metadata": {
        "id": "i5xujvHrojC5"
      },
      "id": "i5xujvHrojC5"
    },
    {
      "cell_type": "code",
      "source": [
        "def student_grades(quant_grades:int=3) -> str and list:\n",
        "  \"\"\"\n",
        "  Solicita el nombre y 3 notas del 0 al 10 del alumno ingresado.\n",
        "  Luego, devuelve el nombre como string y las notas en una lista.\n",
        "\n",
        "  Parameters\n",
        "  ----------\n",
        "  quant_grades = int\n",
        "    Cantidad de notas a ingresar por alumno. Valor por defecto: 3\n",
        "\n",
        "  Returns\n",
        "  -------\n",
        "  student_name = str  -> primer salida\n",
        "    Nombre del alumno ingresado.\n",
        "\n",
        "  student_grades = list -> segunda salida\n",
        "    Lista con cantidad de notas del alumno.\n",
        "  \"\"\"\n",
        "  \n",
        "  student_name = input(\"Por favor, ingrese el nombre del alumno: \")\n",
        "  student_name = student_name.strip().capitalize()\n",
        "  \n",
        "  student_grades = []\n",
        "  for i in range(quant_grades):\n",
        "    while True:\n",
        "      grade = input(f'Ingrese la #{i+1} nota: ')\n",
        "      try:\n",
        "        grade = int(grade)\n",
        "      except:\n",
        "        print(\n",
        "            f'Usted ha ingresado \"{grade}\". Asegúrese de ingresar un valor ' \n",
        "            f'numérico entre el 0 y el 10.'\n",
        "            )\n",
        "        continue\n",
        "      if grade<0 or grade>10:\n",
        "        print(\n",
        "          f'Usted ha ingresado \"{grade}\". Asegúrese de ingresar un valor ' \n",
        "          f'numérico entre el 0 y el 10.'\n",
        "          )\n",
        "        continue\n",
        "      break\n",
        "    student_grades.append(grade)\n",
        "  \n",
        "  return student_name, student_grades"
      ],
      "metadata": {
        "id": "4SafvNynwoj_"
      },
      "id": "4SafvNynwoj_",
      "execution_count": null,
      "outputs": []
    },
    {
      "cell_type": "code",
      "source": [
        "student_name_1 , student_grades_1 = student_grades()\n",
        "student_name_2 , student_grades_2 = student_grades()\n",
        "student_name_3 , student_grades_3 = student_grades()"
      ],
      "metadata": {
        "colab": {
          "base_uri": "https://localhost:8080/"
        },
        "id": "6UnC9esqab5Z",
        "outputId": "39455616-275d-45a3-ec7a-4d3616a9f8d9"
      },
      "id": "6UnC9esqab5Z",
      "execution_count": null,
      "outputs": [
        {
          "name": "stdout",
          "output_type": "stream",
          "text": [
            "Por favor, ingrese el nombre del alumno:      AGUSTIN\n",
            "Ingrese la #1 nota: cinco\n",
            "Usted ha ingresado \"cinco\". Asegúrese de ingresar un valor numérico entre el 0 y el 10.\n",
            "Ingrese la #1 nota: 5\n",
            "Ingrese la #2 nota: 8\n",
            "Ingrese la #3 nota: 11\n",
            "Usted ha ingresado \"11\". Asegúrese de ingresar un valor numérico entre el 0 y el 10.\n",
            "Ingrese la #3 nota: 10\n",
            "Por favor, ingrese el nombre del alumno: roberto     \n",
            "Ingrese la #1 nota: 10\n",
            "Ingrese la #2 nota: 4\n",
            "Ingrese la #3 nota: 8\n",
            "Por favor, ingrese el nombre del alumno: Martin\n",
            "Ingrese la #1 nota: 7\n",
            "Ingrese la #2 nota: 6\n",
            "Ingrese la #3 nota: 7\n"
          ]
        }
      ]
    },
    {
      "cell_type": "markdown",
      "source": [
        "Comprobación de resultados de la función"
      ],
      "metadata": {
        "id": "eAbITxi4dEpY"
      },
      "id": "eAbITxi4dEpY"
    },
    {
      "cell_type": "code",
      "source": [
        "print(student_name_1)\n",
        "print(student_grades_1)"
      ],
      "metadata": {
        "colab": {
          "base_uri": "https://localhost:8080/"
        },
        "id": "LFLEJFWxcOGr",
        "outputId": "090cd232-e20c-4c42-9e9e-d5f4dbf0660d"
      },
      "id": "LFLEJFWxcOGr",
      "execution_count": null,
      "outputs": [
        {
          "output_type": "stream",
          "name": "stdout",
          "text": [
            "Agustin\n",
            "[5, 8, 10]\n"
          ]
        }
      ]
    },
    {
      "cell_type": "code",
      "source": [
        "print(student_name_2)\n",
        "print(student_grades_2)"
      ],
      "metadata": {
        "colab": {
          "base_uri": "https://localhost:8080/"
        },
        "id": "SurELOFadAdW",
        "outputId": "79f79fef-f2b6-4972-9d5c-49ed4aa660f8"
      },
      "id": "SurELOFadAdW",
      "execution_count": null,
      "outputs": [
        {
          "output_type": "stream",
          "name": "stdout",
          "text": [
            "Roberto\n",
            "[10, 4, 8]\n"
          ]
        }
      ]
    },
    {
      "cell_type": "code",
      "source": [
        "print(student_name_3)\n",
        "print(student_grades_3)"
      ],
      "metadata": {
        "colab": {
          "base_uri": "https://localhost:8080/"
        },
        "id": "Gn6sdkUudCLt",
        "outputId": "5a17d4a9-bd32-4ffe-fb28-ebc2c5fa4e83"
      },
      "id": "Gn6sdkUudCLt",
      "execution_count": null,
      "outputs": [
        {
          "output_type": "stream",
          "name": "stdout",
          "text": [
            "Martin\n",
            "[7, 6, 7]\n"
          ]
        }
      ]
    },
    {
      "cell_type": "markdown",
      "source": [
        "2da parte: Funcion para crear un diccionario con todas las notas por nombre de alumnos. "
      ],
      "metadata": {
        "id": "BWscKnV0ozMh"
      },
      "id": "BWscKnV0ozMh"
    },
    {
      "cell_type": "code",
      "source": [
        "def database_dict (*names:str,**grades:list) -> dict:\n",
        "  \"\"\"\n",
        "  Crea un diccionario donde la clave es el nombre del estudiante \n",
        "  y el valor la lista de sus notas.\n",
        "\n",
        "  Paramters\n",
        "  ---------\n",
        "  *names = str\n",
        "    Nombres de los alumnos. e.g: Agustin\n",
        "  \n",
        "  **grades = list\n",
        "    Lista con nota del alumno. e.g: [5, 8, 10]\n",
        "\n",
        "  Returns\n",
        "  -------\n",
        "  database = dict\n",
        "    Diccionario donde la clave es el nombre del estudiante \n",
        "    y el valor la lista de sus notas.e.g: {'Agustin': [5, 8, 10]}\n",
        "  \"\"\"\n",
        "\n",
        "  database = {}\n",
        "  index = 0\n",
        "  for name,grades in grades.items():\n",
        "    name = names[index]\n",
        "    database[name] = grades\n",
        "    index += 1\n",
        "  return database"
      ],
      "metadata": {
        "id": "kD9MXUGEe0I2"
      },
      "id": "kD9MXUGEe0I2",
      "execution_count": null,
      "outputs": []
    },
    {
      "cell_type": "code",
      "source": [
        "students_grades = database_dict(student_name_1,student_name_2,student_name_3,student_name_1=student_grades_1,student_name_2=student_grades_2,student_name_3=student_grades_3)\n",
        "students_grades"
      ],
      "metadata": {
        "colab": {
          "base_uri": "https://localhost:8080/"
        },
        "id": "YwmtzM61fKDQ",
        "outputId": "aaf6a6c2-78a3-49ff-fbc1-1d44fc172f3d"
      },
      "id": "YwmtzM61fKDQ",
      "execution_count": null,
      "outputs": [
        {
          "output_type": "execute_result",
          "data": {
            "text/plain": [
              "{'Agustin': [5, 8, 10], 'Roberto': [10, 4, 8], 'Martin': [7, 6, 7]}"
            ]
          },
          "metadata": {},
          "execution_count": 64
        }
      ]
    },
    {
      "cell_type": "markdown",
      "source": [
        "3ra parte: Funcion para calcular el promedio por alumno y mostrarlo."
      ],
      "metadata": {
        "id": "iGPACQBSo9S5"
      },
      "id": "iGPACQBSo9S5"
    },
    {
      "cell_type": "code",
      "source": [
        "def grades_average (students_grades:dict) -> dict:\n",
        "  \"\"\"\n",
        "  Calcula el promedio de los valores por cada clave del diccionario\n",
        "  ingresado como argumento.\n",
        "\n",
        "  Parameters\n",
        "  ----------\n",
        "  student_grades = dict\n",
        "    Diccionario que contenga str como clave y una lista con valores numéricos.\n",
        "  \n",
        "  Returns\n",
        "  -------\n",
        "  average_dict = dict\n",
        "    Diccionario que contiene la misma clave siendo su valor reemplazado\n",
        "    por el promedio del listado de valores numéricos. \n",
        "  \"\"\"\n",
        "\n",
        "  average_dict = {}\n",
        "  for name,grades in students_grades.items():\n",
        "    average = round(sum(grades)/len(grades),2)\n",
        "    average_dict[name] = average\n",
        "    print(f'{name} posee una nota promedio de {average}')\n",
        "  return average_dict"
      ],
      "metadata": {
        "id": "H9-c8s5fiDll"
      },
      "id": "H9-c8s5fiDll",
      "execution_count": null,
      "outputs": []
    },
    {
      "cell_type": "code",
      "source": [
        "students_average = grades_average(students_grades)"
      ],
      "metadata": {
        "colab": {
          "base_uri": "https://localhost:8080/"
        },
        "id": "6U5ryaPjjFJD",
        "outputId": "7b12aa2c-5a2b-44c0-e188-6f95e39512e0"
      },
      "id": "6U5ryaPjjFJD",
      "execution_count": null,
      "outputs": [
        {
          "output_type": "stream",
          "name": "stdout",
          "text": [
            "Agustin posee una nota promedio de 7.67\n",
            "Roberto posee una nota promedio de 7.33\n",
            "Martin posee una nota promedio de 6.67\n"
          ]
        }
      ]
    },
    {
      "cell_type": "code",
      "source": [
        "students_average"
      ],
      "metadata": {
        "colab": {
          "base_uri": "https://localhost:8080/"
        },
        "id": "9L2PJ7o9sA8w",
        "outputId": "f55f278c-7275-441b-f8c2-4cd51ddc4072"
      },
      "id": "9L2PJ7o9sA8w",
      "execution_count": null,
      "outputs": [
        {
          "output_type": "execute_result",
          "data": {
            "text/plain": [
              "{'Agustin': 7.67, 'Roberto': 7.33, 'Martin': 6.67}"
            ]
          },
          "metadata": {},
          "execution_count": 69
        }
      ]
    },
    {
      "cell_type": "markdown",
      "id": "b133b714",
      "metadata": {
        "id": "b133b714"
      },
      "source": [
        "11. Cartas como diccionario.\n",
        "<dl>\n",
        "<dd>a. Proponer una representación con diccionarios para un mazo completo de cartas.</dd>\n",
        "<dd>b. Escribir una función de poker que baraje cinco cartas de la baraja francesa e informe (devuelva\n",
        "el valor lógico correspondiente) si esas cartas forman o no un poker (es decir que hay 4 cartas con\n",
        "el mismo número).</dd>\n",
        "</dl>"
      ]
    },
    {
      "cell_type": "code",
      "execution_count": null,
      "id": "77a04057",
      "metadata": {
        "id": "77a04057"
      },
      "outputs": [],
      "source": [
        "def french_deck () -> dict:\n",
        "  \"\"\"\n",
        "  Genera un mazo de barajas francesas donde la clave \n",
        "  corresponde a uno de los 4 simbolos diferentes, mientras que los valores\n",
        "  de cada uno varian en el rango del 1 - 13, siendo 2-10 valores numericos y \n",
        "  los restantes 1(az),11(jota),12(rey). \n",
        "\n",
        "  Returns\n",
        "  -------\n",
        "  deck = dict\n",
        "    Mazo de barajas representado como diccionario.\n",
        "  \"\"\"\n",
        "  \n",
        "  deck = {}\n",
        "  suits = \"trébol\",\"diamantes\",\"corazones\",\"picas\"\n",
        "  values = []\n",
        "\n",
        "  for suit in suits:\n",
        "    deck[suit] = values\n",
        "  for value in range(1,14):\n",
        "    values.append(value)\n",
        "\n",
        "  print(f'Felicidades! Ha creado su mazo de poker {len(deck)*len(deck[\"trébol\"])} cartas. Espero lo disfrute!')\n",
        "  return deck"
      ]
    },
    {
      "cell_type": "code",
      "source": [
        "deck = french_deck()"
      ],
      "metadata": {
        "colab": {
          "base_uri": "https://localhost:8080/"
        },
        "id": "XErG6_OEvGyB",
        "outputId": "e3c00947-29df-4ad5-b70d-974d0bba4458"
      },
      "id": "XErG6_OEvGyB",
      "execution_count": null,
      "outputs": [
        {
          "output_type": "stream",
          "name": "stdout",
          "text": [
            "Felicidades! Ha creado su mazo de poker 52 cartas. Espero lo disfrute!\n"
          ]
        }
      ]
    },
    {
      "cell_type": "code",
      "source": [
        "deck"
      ],
      "metadata": {
        "colab": {
          "base_uri": "https://localhost:8080/"
        },
        "id": "3TdmDRYevenB",
        "outputId": "f29ddd6a-3102-4a6e-a19c-9c1bc3a6c630"
      },
      "id": "3TdmDRYevenB",
      "execution_count": null,
      "outputs": [
        {
          "output_type": "execute_result",
          "data": {
            "text/plain": [
              "{'trébol': [1, 2, 3, 4, 5, 6, 7, 8, 9, 10, 11, 12, 13],\n",
              " 'diamantes': [1, 2, 3, 4, 5, 6, 7, 8, 9, 10, 11, 12, 13],\n",
              " 'corazones': [1, 2, 3, 4, 5, 6, 7, 8, 9, 10, 11, 12, 13],\n",
              " 'picas': [1, 2, 3, 4, 5, 6, 7, 8, 9, 10, 11, 12, 13]}"
            ]
          },
          "metadata": {},
          "execution_count": 138
        }
      ]
    },
    {
      "cell_type": "code",
      "source": [
        "import random\n",
        "import time\n",
        "def random_deal_poker(deck:dict) -> bool and dict:\n",
        "    \"\"\"\n",
        "    Elige cinco cartas de forma aleatoria de la baraja francesa ingresada \n",
        "    como argumento y retorna un booleano identificando si esas cartas forman \n",
        "    o no poker y el mazo de cartas restantes.\n",
        "\n",
        "    Parameters\n",
        "    ----------\n",
        "    deck = dict\n",
        "      Diccionario representando baraja de cartas francesa.\n",
        "\n",
        "    Returns\n",
        "    -------\n",
        "    bool = True/False\n",
        "      Dependiendo si forma o no poker.\n",
        "\n",
        "    deck = dict\n",
        "      Diccionario con mazo de cartas restantes.\n",
        "    \"\"\"\n",
        "    \n",
        "    suits = \"trébol\",\"diamantes\",\"corazones\",\"picas\"\n",
        "    values = []\n",
        "    \n",
        "    #Barajado y generacion de carta\n",
        "    print(\"Bienvenido al generador de baraja de poker! Que tenga mucha suerte!\")\n",
        "    print(\"Barajando..\")\n",
        "    time.sleep(3)\n",
        "    for card in range(5):\n",
        "      time.sleep(2)\n",
        "      while True: \n",
        "        suit = random.choice(suits)\n",
        "        value = random.randint(1,13)\n",
        "        if value in deck[suit]: #verificacion si la carta se encuentra en el mazo\n",
        "          values.append(value)\n",
        "          break\n",
        "        else:\n",
        "          continue #en caso que la carta no se encuentre, genera una nueva\n",
        "      print(f'#{card+1} carta: {value} de {suit}')\n",
        "      #remover la carta del mazo una vez barajada\n",
        "      deck[suit] = list(set(deck[suit])-set([value]))\n",
        "    \n",
        "    #calculo de cartas restantes\n",
        "    cards = 0\n",
        "    for key,value in deck.items():\n",
        "      cards += len(value)\n",
        "     \n",
        "    #verificacion de poker  \n",
        "    for value in values:\n",
        "      occurrences = values.count(value)\n",
        "      if occurrences>=4:\n",
        "        print('Felicitaciones! Ha conseguido poker!')\n",
        "        print(f'\\nEl mazo posee {cards} cartas restantes')\n",
        "        return True , deck\n",
        "      else:\n",
        "        print(f'Lamentablemente no ha conseguido poker. Vuelva a intentarlo.')\n",
        "        print(f'\\nEl mazo posee {cards} cartas restantes')\n",
        "        return False , deck\n",
        "    \n"
      ],
      "metadata": {
        "id": "UpISvzzlxrWj"
      },
      "id": "UpISvzzlxrWj",
      "execution_count": null,
      "outputs": []
    },
    {
      "cell_type": "code",
      "source": [
        "poker,deck = random_deal_poker(deck)"
      ],
      "metadata": {
        "colab": {
          "base_uri": "https://localhost:8080/"
        },
        "id": "EMajiQLOzX39",
        "outputId": "3119b664-0e15-4dbe-e430-485dd5e10d99"
      },
      "id": "EMajiQLOzX39",
      "execution_count": null,
      "outputs": [
        {
          "output_type": "stream",
          "name": "stdout",
          "text": [
            "Bienvenido al generador de baraja de poker! Que tenga mucha suerte!\n",
            "Barajando..\n",
            "#1 carta: 9 de trébol\n",
            "#2 carta: 13 de corazones\n",
            "#3 carta: 10 de diamantes\n",
            "#4 carta: 12 de diamantes\n",
            "#5 carta: 1 de picas\n",
            "Lamentablemente no ha conseguido poker. Vuelva a intentarlo.\n",
            "\n",
            "El mazo posee 47 cartas restantes\n"
          ]
        }
      ]
    },
    {
      "cell_type": "code",
      "source": [
        "poker"
      ],
      "metadata": {
        "colab": {
          "base_uri": "https://localhost:8080/"
        },
        "id": "DTG_77yO57Sw",
        "outputId": "4a72e4ca-f631-49a0-d791-6c18eea516b3"
      },
      "id": "DTG_77yO57Sw",
      "execution_count": null,
      "outputs": [
        {
          "output_type": "execute_result",
          "data": {
            "text/plain": [
              "False"
            ]
          },
          "metadata": {},
          "execution_count": 141
        }
      ]
    },
    {
      "cell_type": "code",
      "source": [
        "deck"
      ],
      "metadata": {
        "colab": {
          "base_uri": "https://localhost:8080/"
        },
        "id": "55Q2bmxnAj7Z",
        "outputId": "a973d54d-1ef4-4720-d6f6-05321a21f4ac"
      },
      "id": "55Q2bmxnAj7Z",
      "execution_count": null,
      "outputs": [
        {
          "output_type": "execute_result",
          "data": {
            "text/plain": [
              "{'trébol': [1, 2, 3, 4, 5, 6, 7, 8, 10, 11, 12, 13],\n",
              " 'diamantes': [1, 2, 3, 4, 5, 6, 7, 8, 9, 11, 13],\n",
              " 'corazones': [1, 2, 3, 4, 5, 6, 7, 8, 9, 10, 11, 12],\n",
              " 'picas': [2, 3, 4, 5, 6, 7, 8, 9, 10, 11, 12, 13]}"
            ]
          },
          "metadata": {},
          "execution_count": 142
        }
      ]
    },
    {
      "cell_type": "markdown",
      "source": [
        "Curioso problema que me topé al tratar de remover las cartas barajadas del mazo original para que no se repitan.\n",
        "Probé con los 3 métodos para eliminar un valor de una lista:\n",
        "\n",
        "\n",
        "*   remove()\n",
        "``\n",
        "deck[\"trébol\"].remove(4)\n",
        "``\n",
        "*   pop()\n",
        "``\n",
        "deck[\"trébol\"].pop(deck[\"trébol\"].index(2))\n",
        "``\n",
        "*  del \n",
        "``\n",
        "del deck[\"trébol\"][deck[\"trébol\"].index(1)]\n",
        "``\n",
        "\n",
        "En todos los casos me eliminaba ese mismo valor en todos los listados, por lo que conseguir poker se hace imposible. Por ejemplo, si sacaba el 4 de trébol, el mazo quedaba sin 4 en su totalidad porque esos métodos me eliminaban adicionalmente el 4 de picas, corazones y diamantes.\n",
        "Entonces, encontré la solución remplazando el valor de esa key por un nuevo listado, calculando el mismo como la diferencia entre su estado anterior menos el valor barajado con la estructura de los sets.\n"
      ],
      "metadata": {
        "id": "BnEKFcqgGc6G"
      },
      "id": "BnEKFcqgGc6G"
    },
    {
      "cell_type": "markdown",
      "source": [
        "Ejemplo de problemática"
      ],
      "metadata": {
        "id": "62vDrfnwLnws"
      },
      "id": "62vDrfnwLnws"
    },
    {
      "cell_type": "code",
      "source": [
        "deck"
      ],
      "metadata": {
        "colab": {
          "base_uri": "https://localhost:8080/"
        },
        "id": "fblrCVOQHfj8",
        "outputId": "90c10044-96a9-4e01-9f8c-cfef7a319164"
      },
      "id": "fblrCVOQHfj8",
      "execution_count": null,
      "outputs": [
        {
          "output_type": "execute_result",
          "data": {
            "text/plain": [
              "{'trébol': [1, 2, 3, 4, 5, 6, 7, 8, 9, 10, 11, 12, 13],\n",
              " 'diamantes': [1, 2, 3, 4, 5, 6, 7, 8, 9, 10, 11, 12, 13],\n",
              " 'corazones': [1, 2, 3, 4, 5, 6, 7, 8, 9, 10, 11, 12, 13],\n",
              " 'picas': [1, 2, 3, 4, 5, 6, 7, 8, 9, 10, 11, 12, 13]}"
            ]
          },
          "metadata": {},
          "execution_count": 113
        }
      ]
    },
    {
      "cell_type": "code",
      "source": [
        "#4 de trebol\n",
        "deck[\"trébol\"].remove(4)\n",
        "deck"
      ],
      "metadata": {
        "colab": {
          "base_uri": "https://localhost:8080/"
        },
        "id": "vwlVbargFCfY",
        "outputId": "3f5b6114-bfc7-4560-cdbe-7594e2c2cdd4"
      },
      "id": "vwlVbargFCfY",
      "execution_count": null,
      "outputs": [
        {
          "output_type": "execute_result",
          "data": {
            "text/plain": [
              "{'trébol': [1, 2, 3, 5, 6, 7, 8, 9, 10, 11, 12, 13],\n",
              " 'diamantes': [1, 2, 3, 5, 6, 7, 8, 9, 10, 11, 12, 13],\n",
              " 'corazones': [1, 2, 3, 5, 6, 7, 8, 9, 10, 11, 12, 13],\n",
              " 'picas': [1, 2, 3, 5, 6, 7, 8, 9, 10, 11, 12, 13]}"
            ]
          },
          "metadata": {},
          "execution_count": 114
        }
      ]
    },
    {
      "cell_type": "code",
      "source": [
        "#2 de trebol\n",
        "deck[\"trébol\"].pop(deck[\"trébol\"].index(2))\n",
        "deck"
      ],
      "metadata": {
        "colab": {
          "base_uri": "https://localhost:8080/"
        },
        "id": "mA4-7Ist_rAn",
        "outputId": "1fb50067-0086-4059-f355-faa3a506dd32"
      },
      "id": "mA4-7Ist_rAn",
      "execution_count": null,
      "outputs": [
        {
          "output_type": "execute_result",
          "data": {
            "text/plain": [
              "{'trébol': [1, 3, 5, 6, 7, 8, 9, 10, 11, 12, 13],\n",
              " 'diamantes': [1, 3, 5, 6, 7, 8, 9, 10, 11, 12, 13],\n",
              " 'corazones': [1, 3, 5, 6, 7, 8, 9, 10, 11, 12, 13],\n",
              " 'picas': [1, 3, 5, 6, 7, 8, 9, 10, 11, 12, 13]}"
            ]
          },
          "metadata": {},
          "execution_count": 115
        }
      ]
    },
    {
      "cell_type": "code",
      "source": [
        "#Az de trébol\n",
        "del deck[\"trébol\"][deck[\"trébol\"].index(1)]\n",
        "deck"
      ],
      "metadata": {
        "colab": {
          "base_uri": "https://localhost:8080/"
        },
        "id": "CtSALswnDbPx",
        "outputId": "eb74b7c5-fc21-4e7d-e1e5-b82e22b5f882"
      },
      "id": "CtSALswnDbPx",
      "execution_count": null,
      "outputs": [
        {
          "output_type": "execute_result",
          "data": {
            "text/plain": [
              "{'trébol': [3, 5, 6, 7, 8, 9, 10, 11, 12, 13],\n",
              " 'diamantes': [3, 5, 6, 7, 8, 9, 10, 11, 12, 13],\n",
              " 'corazones': [3, 5, 6, 7, 8, 9, 10, 11, 12, 13],\n",
              " 'picas': [3, 5, 6, 7, 8, 9, 10, 11, 12, 13]}"
            ]
          },
          "metadata": {},
          "execution_count": 116
        }
      ]
    },
    {
      "cell_type": "markdown",
      "source": [
        "Solución"
      ],
      "metadata": {
        "id": "3-ARGHEfIiul"
      },
      "id": "3-ARGHEfIiul"
    },
    {
      "cell_type": "code",
      "source": [
        "#3 de trebol\n",
        "deck[\"trébol\"] = list(set(deck[\"trébol\"])-set([3]))\n",
        "deck"
      ],
      "metadata": {
        "colab": {
          "base_uri": "https://localhost:8080/"
        },
        "id": "_xlb68h4Ih-K",
        "outputId": "e975b119-98fb-43ee-bb09-73445803453a"
      },
      "id": "_xlb68h4Ih-K",
      "execution_count": null,
      "outputs": [
        {
          "output_type": "execute_result",
          "data": {
            "text/plain": [
              "{'trébol': [5, 6, 7, 8, 9, 10, 11, 12, 13],\n",
              " 'diamantes': [3, 5, 6, 7, 8, 9, 10, 11, 12, 13],\n",
              " 'corazones': [3, 5, 6, 7, 8, 9, 10, 11, 12, 13],\n",
              " 'picas': [3, 5, 6, 7, 8, 9, 10, 11, 12, 13]}"
            ]
          },
          "metadata": {},
          "execution_count": 117
        }
      ]
    },
    {
      "cell_type": "markdown",
      "source": [
        "12. Escribe un programa que lea una cadena y devuelva un diccionario con la cantidad de apariciones de\n",
        "cada palabra en la cadena. Por ejemplo:\n",
        " \n",
        "![image.png](data:image/png;base64,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)"
      ],
      "metadata": {
        "id": "eOE82Fdu9cKo"
      },
      "id": "eOE82Fdu9cKo"
    },
    {
      "cell_type": "code",
      "source": [
        "def words(phrase:str) -> dict:\n",
        "  \"\"\"\n",
        "  Devuelve un diccionario con la cantidad de apariciones de cada palabra \n",
        "  en phrase. Las palabras son almacenadas en lowercase.\n",
        "\n",
        "  Parameters\n",
        "  ----------\n",
        "  phrase: str\n",
        "    Frase a evaluar. Ej: Me gustaría ver la cantidad de palabras de la frase.\n",
        "\n",
        "  Returns\n",
        "  -------\n",
        "  words: dict\n",
        "    Diccionario con cada palabra como key y su cantidad de repeticiones como\n",
        "    value. Ej: {\"me\":1, \"gustaría\":1, \"la\":2}\n",
        "  \"\"\"\n",
        "  words = {}\n",
        "  for word in phrase.lower().replace(\".\",\"\").split(\" \"):\n",
        "    if word not in words:\n",
        "      words[word] = 1\n",
        "    else:\n",
        "      words[word] = words[word] + 1   \n",
        "  return words\n"
      ],
      "metadata": {
        "id": "oyvBDrJl9bGs"
      },
      "id": "oyvBDrJl9bGs",
      "execution_count": 20,
      "outputs": []
    },
    {
      "cell_type": "code",
      "source": [
        "string = \"Me gustaría ver la cantidad de palabras que me devuelve la frase ingresada.\"\n",
        "count_words = words(string)\n",
        "count_words"
      ],
      "metadata": {
        "colab": {
          "base_uri": "https://localhost:8080/"
        },
        "id": "cUOsvFI0_jo-",
        "outputId": "26c13a71-cc53-46c9-b1cd-d7a777efe859"
      },
      "id": "cUOsvFI0_jo-",
      "execution_count": 21,
      "outputs": [
        {
          "output_type": "execute_result",
          "data": {
            "text/plain": [
              "{'me': 2,\n",
              " 'gustaría': 1,\n",
              " 'ver': 1,\n",
              " 'la': 2,\n",
              " 'cantidad': 1,\n",
              " 'de': 1,\n",
              " 'palabras': 1,\n",
              " 'que': 1,\n",
              " 'devuelve': 1,\n",
              " 'frase': 1,\n",
              " 'ingresada': 1}"
            ]
          },
          "metadata": {},
          "execution_count": 21
        }
      ]
    },
    {
      "cell_type": "markdown",
      "source": [
        "13. Escribir un programa que toma una lista de tuplas con el formato (Alumno, Nota) donde alumno es\n",
        "una cadena con el nombre del alumno y nota es un número.\n",
        "Ejemplo: [(’Perez’, 8), (’Gonzalez’, 10), (’Fernandez’, 10)]\n",
        " \n",
        "![image.png](data:image/png;base64,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)"
      ],
      "metadata": {
        "id": "Mty1vzKgA5Zj"
      },
      "id": "Mty1vzKgA5Zj"
    },
    {
      "cell_type": "code",
      "source": [
        "#solucion 13.a.\n",
        "\n",
        "def student_grade(grades:list) -> dict:\n",
        "  \"\"\"\n",
        "  Convierte una lista de tuplas con el formato (Alumno, Nota) \n",
        "  donde \"Alumno\" es una cadena con el nombre del alumno y \"Nota\" es un número\n",
        "  entero del 1-10 a un diccionario con el formato {\"Alumno\": [Nota]} donde Nota\n",
        "  es un listado.\n",
        "\n",
        "  Parameters\n",
        "  ----------\n",
        "  grades: list\n",
        "    Lista que contenga 1 o mas tuplas con el formato (Alumno, Nota).\n",
        "    Ej: [(\"Perez\",8),(\"Gonzalez\",10),(\"Fernandez\",9)]\n",
        "  \n",
        "  Returns\n",
        "  -------\n",
        "  grades_dict = dict\n",
        "    Diccionario con formato {\"Alumno\": [Nota]}. Ej: {\"Perez\":[8]}\n",
        "  \"\"\"\n",
        "  grades_dict = {}\n",
        "  for student in grades:\n",
        "    if student[0] not in grades_dict:\n",
        "      grades_dict[student[0]] = [student[1]]\n",
        "    else:\n",
        "      grades_dict[student[0]].append(student[1])\n",
        "  return grades_dict\n",
        "  "
      ],
      "metadata": {
        "id": "2in7tphlBt-u"
      },
      "id": "2in7tphlBt-u",
      "execution_count": 31,
      "outputs": []
    },
    {
      "cell_type": "code",
      "source": [
        "grades = [(\"Perez\",8),(\"Gonzalez\",10),(\"Fernandez\",9),(\"Fernandez\",8)]\n",
        "student_dict = student_grade(grades)\n",
        "student_dict"
      ],
      "metadata": {
        "colab": {
          "base_uri": "https://localhost:8080/"
        },
        "id": "SO8u0k0_E-5-",
        "outputId": "88ec95c5-3ec3-4b8d-8c77-2137a677e019"
      },
      "id": "SO8u0k0_E-5-",
      "execution_count": 32,
      "outputs": [
        {
          "output_type": "execute_result",
          "data": {
            "text/plain": [
              "{'Perez': [8], 'Gonzalez': [10], 'Fernandez': [9, 8]}"
            ]
          },
          "metadata": {},
          "execution_count": 32
        }
      ]
    }
  ],
  "metadata": {
    "kernelspec": {
      "display_name": "tuia",
      "language": "python",
      "name": "tuia"
    },
    "language_info": {
      "codemirror_mode": {
        "name": "ipython",
        "version": 3
      },
      "file_extension": ".py",
      "mimetype": "text/x-python",
      "name": "python",
      "nbconvert_exporter": "python",
      "pygments_lexer": "ipython3",
      "version": "3.8.10"
    },
    "colab": {
      "provenance": [],
      "collapsed_sections": []
    }
  },
  "nbformat": 4,
  "nbformat_minor": 5
}