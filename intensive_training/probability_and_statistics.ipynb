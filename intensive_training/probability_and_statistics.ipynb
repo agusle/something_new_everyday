{
  "cells": [
    {
      "cell_type": "markdown",
      "metadata": {
        "_cell_guid": "891db468-cd01-4c43-b31b-2c9b89ae4074",
        "_uuid": "734a3a9a6749c369857af7aedf9c76a52293e5c0",
        "id": "VNSCx8LChWtH"
      },
      "source": [
        "# Intro to Probability & Statistics\n",
        "\n",
        "#### TODO:\n",
        "1. Descriptive Statistics:\n",
        "    * Calculate statistics such as Mode, Mean, Median and Standard Deviation of weight and age. Do they respond to any known distribution?\n",
        "    * Carry out an analysis of outliers and missing values.\n",
        "    * Explain how the metrics vary when we breakdown the dataset by gender. Do they respond to any known distribution? Qualitatively and graphically compare both distributions.\n",
        "2. Calculate the marginal and joint probability, and the correlation between two other variables, for example alcohol consumption and smoking.\n",
        "    * Visually represent the joint probability between the possible values of the chosen variables.\n",
        "3. Answer the following questions: What would happen to smoking levels if smoking is banned in bars? What would happen to the number of alcohol consumers if the number of smokers who drink alcohol decreases?"
      ]
    },
    {
      "cell_type": "code",
      "execution_count": 3,
      "metadata": {
        "_cell_guid": "7b9b5703-1e29-47f2-a1a9-2e0ba2db581f",
        "_execution_state": "idle",
        "_uuid": "8e20f5b53ce35391006b921cd79280cf3756d929",
        "id": "jZx4qEnqhWtK"
      },
      "outputs": [],
      "source": [
        "import copy\n",
        "import numpy as np\n",
        "import pandas as pd\n",
        "import seaborn as sns\n",
        "import matplotlib.pyplot as plt\n",
        "sns.set_theme()\n",
        "\n",
        "import warnings\n",
        "warnings.filterwarnings(\"ignore\")"
      ]
    },
    {
      "cell_type": "code",
      "execution_count": 4,
      "metadata": {
        "_cell_guid": "22243ad2-790b-4e36-8cf5-01a30210b580",
        "_execution_state": "idle",
        "_uuid": "130c13cbd4d1fcde16644265f1e288158ad97fe7",
        "id": "1O0CE_rjhWtL"
      },
      "outputs": [],
      "source": [
        "young = pd.read_csv('https://raw.githubusercontent.com/anyoneai/notebooks/main/datasets/people_responses.csv')"
      ]
    },
    {
      "cell_type": "code",
      "execution_count": 5,
      "metadata": {
        "_cell_guid": "f6c4f282-6184-4f64-a028-7a415e5815b6",
        "_execution_state": "idle",
        "_uuid": "6dd8dd30468941f0530a04ee7db7b3db0ea42269",
        "id": "orAYN2MihWtL",
        "outputId": "73f62b89-4b86-46cc-bdc4-7eb40ebacb54",
        "colab": {
          "base_uri": "https://localhost:8080/",
          "height": 456
        }
      },
      "outputs": [
        {
          "output_type": "execute_result",
          "data": {
            "text/plain": [
              "   Music  Slow songs or fast songs  Dance  Folk  Country  Classical music  \\\n",
              "0    5.0                       3.0    2.0   1.0      2.0              2.0   \n",
              "1    4.0                       4.0    2.0   1.0      1.0              1.0   \n",
              "2    5.0                       5.0    2.0   2.0      3.0              4.0   \n",
              "3    5.0                       3.0    2.0   1.0      1.0              1.0   \n",
              "4    5.0                       3.0    4.0   3.0      2.0              4.0   \n",
              "\n",
              "   Musical  Pop  Rock  Metal or Hardrock  ...   Age  Height  Weight  \\\n",
              "0      1.0  5.0   5.0                1.0  ...  20.0   163.0    48.0   \n",
              "1      2.0  3.0   5.0                4.0  ...  19.0   163.0    58.0   \n",
              "2      5.0  3.0   5.0                3.0  ...  20.0   176.0    67.0   \n",
              "3      1.0  2.0   2.0                1.0  ...  22.0   172.0    59.0   \n",
              "4      3.0  5.0   3.0                1.0  ...  20.0   170.0    59.0   \n",
              "\n",
              "   Number of siblings  Gender  Left - right handed                Education  \\\n",
              "0                 1.0  female         right handed  college/bachelor degree   \n",
              "1                 2.0  female         right handed  college/bachelor degree   \n",
              "2                 2.0  female         right handed         secondary school   \n",
              "3                 1.0  female         right handed  college/bachelor degree   \n",
              "4                 1.0  female         right handed         secondary school   \n",
              "\n",
              "   Only child  Village - town  House - block of flats  \n",
              "0          no         village          block of flats  \n",
              "1          no            city          block of flats  \n",
              "2          no            city          block of flats  \n",
              "3         yes            city          house/bungalow  \n",
              "4          no         village          house/bungalow  \n",
              "\n",
              "[5 rows x 150 columns]"
            ],
            "text/html": [
              "\n",
              "  <div id=\"df-63cfe344-cb08-4359-a0a9-3a3b6d921aa3\">\n",
              "    <div class=\"colab-df-container\">\n",
              "      <div>\n",
              "<style scoped>\n",
              "    .dataframe tbody tr th:only-of-type {\n",
              "        vertical-align: middle;\n",
              "    }\n",
              "\n",
              "    .dataframe tbody tr th {\n",
              "        vertical-align: top;\n",
              "    }\n",
              "\n",
              "    .dataframe thead th {\n",
              "        text-align: right;\n",
              "    }\n",
              "</style>\n",
              "<table border=\"1\" class=\"dataframe\">\n",
              "  <thead>\n",
              "    <tr style=\"text-align: right;\">\n",
              "      <th></th>\n",
              "      <th>Music</th>\n",
              "      <th>Slow songs or fast songs</th>\n",
              "      <th>Dance</th>\n",
              "      <th>Folk</th>\n",
              "      <th>Country</th>\n",
              "      <th>Classical music</th>\n",
              "      <th>Musical</th>\n",
              "      <th>Pop</th>\n",
              "      <th>Rock</th>\n",
              "      <th>Metal or Hardrock</th>\n",
              "      <th>...</th>\n",
              "      <th>Age</th>\n",
              "      <th>Height</th>\n",
              "      <th>Weight</th>\n",
              "      <th>Number of siblings</th>\n",
              "      <th>Gender</th>\n",
              "      <th>Left - right handed</th>\n",
              "      <th>Education</th>\n",
              "      <th>Only child</th>\n",
              "      <th>Village - town</th>\n",
              "      <th>House - block of flats</th>\n",
              "    </tr>\n",
              "  </thead>\n",
              "  <tbody>\n",
              "    <tr>\n",
              "      <th>0</th>\n",
              "      <td>5.0</td>\n",
              "      <td>3.0</td>\n",
              "      <td>2.0</td>\n",
              "      <td>1.0</td>\n",
              "      <td>2.0</td>\n",
              "      <td>2.0</td>\n",
              "      <td>1.0</td>\n",
              "      <td>5.0</td>\n",
              "      <td>5.0</td>\n",
              "      <td>1.0</td>\n",
              "      <td>...</td>\n",
              "      <td>20.0</td>\n",
              "      <td>163.0</td>\n",
              "      <td>48.0</td>\n",
              "      <td>1.0</td>\n",
              "      <td>female</td>\n",
              "      <td>right handed</td>\n",
              "      <td>college/bachelor degree</td>\n",
              "      <td>no</td>\n",
              "      <td>village</td>\n",
              "      <td>block of flats</td>\n",
              "    </tr>\n",
              "    <tr>\n",
              "      <th>1</th>\n",
              "      <td>4.0</td>\n",
              "      <td>4.0</td>\n",
              "      <td>2.0</td>\n",
              "      <td>1.0</td>\n",
              "      <td>1.0</td>\n",
              "      <td>1.0</td>\n",
              "      <td>2.0</td>\n",
              "      <td>3.0</td>\n",
              "      <td>5.0</td>\n",
              "      <td>4.0</td>\n",
              "      <td>...</td>\n",
              "      <td>19.0</td>\n",
              "      <td>163.0</td>\n",
              "      <td>58.0</td>\n",
              "      <td>2.0</td>\n",
              "      <td>female</td>\n",
              "      <td>right handed</td>\n",
              "      <td>college/bachelor degree</td>\n",
              "      <td>no</td>\n",
              "      <td>city</td>\n",
              "      <td>block of flats</td>\n",
              "    </tr>\n",
              "    <tr>\n",
              "      <th>2</th>\n",
              "      <td>5.0</td>\n",
              "      <td>5.0</td>\n",
              "      <td>2.0</td>\n",
              "      <td>2.0</td>\n",
              "      <td>3.0</td>\n",
              "      <td>4.0</td>\n",
              "      <td>5.0</td>\n",
              "      <td>3.0</td>\n",
              "      <td>5.0</td>\n",
              "      <td>3.0</td>\n",
              "      <td>...</td>\n",
              "      <td>20.0</td>\n",
              "      <td>176.0</td>\n",
              "      <td>67.0</td>\n",
              "      <td>2.0</td>\n",
              "      <td>female</td>\n",
              "      <td>right handed</td>\n",
              "      <td>secondary school</td>\n",
              "      <td>no</td>\n",
              "      <td>city</td>\n",
              "      <td>block of flats</td>\n",
              "    </tr>\n",
              "    <tr>\n",
              "      <th>3</th>\n",
              "      <td>5.0</td>\n",
              "      <td>3.0</td>\n",
              "      <td>2.0</td>\n",
              "      <td>1.0</td>\n",
              "      <td>1.0</td>\n",
              "      <td>1.0</td>\n",
              "      <td>1.0</td>\n",
              "      <td>2.0</td>\n",
              "      <td>2.0</td>\n",
              "      <td>1.0</td>\n",
              "      <td>...</td>\n",
              "      <td>22.0</td>\n",
              "      <td>172.0</td>\n",
              "      <td>59.0</td>\n",
              "      <td>1.0</td>\n",
              "      <td>female</td>\n",
              "      <td>right handed</td>\n",
              "      <td>college/bachelor degree</td>\n",
              "      <td>yes</td>\n",
              "      <td>city</td>\n",
              "      <td>house/bungalow</td>\n",
              "    </tr>\n",
              "    <tr>\n",
              "      <th>4</th>\n",
              "      <td>5.0</td>\n",
              "      <td>3.0</td>\n",
              "      <td>4.0</td>\n",
              "      <td>3.0</td>\n",
              "      <td>2.0</td>\n",
              "      <td>4.0</td>\n",
              "      <td>3.0</td>\n",
              "      <td>5.0</td>\n",
              "      <td>3.0</td>\n",
              "      <td>1.0</td>\n",
              "      <td>...</td>\n",
              "      <td>20.0</td>\n",
              "      <td>170.0</td>\n",
              "      <td>59.0</td>\n",
              "      <td>1.0</td>\n",
              "      <td>female</td>\n",
              "      <td>right handed</td>\n",
              "      <td>secondary school</td>\n",
              "      <td>no</td>\n",
              "      <td>village</td>\n",
              "      <td>house/bungalow</td>\n",
              "    </tr>\n",
              "  </tbody>\n",
              "</table>\n",
              "<p>5 rows × 150 columns</p>\n",
              "</div>\n",
              "      <button class=\"colab-df-convert\" onclick=\"convertToInteractive('df-63cfe344-cb08-4359-a0a9-3a3b6d921aa3')\"\n",
              "              title=\"Convert this dataframe to an interactive table.\"\n",
              "              style=\"display:none;\">\n",
              "        \n",
              "  <svg xmlns=\"http://www.w3.org/2000/svg\" height=\"24px\"viewBox=\"0 0 24 24\"\n",
              "       width=\"24px\">\n",
              "    <path d=\"M0 0h24v24H0V0z\" fill=\"none\"/>\n",
              "    <path d=\"M18.56 5.44l.94 2.06.94-2.06 2.06-.94-2.06-.94-.94-2.06-.94 2.06-2.06.94zm-11 1L8.5 8.5l.94-2.06 2.06-.94-2.06-.94L8.5 2.5l-.94 2.06-2.06.94zm10 10l.94 2.06.94-2.06 2.06-.94-2.06-.94-.94-2.06-.94 2.06-2.06.94z\"/><path d=\"M17.41 7.96l-1.37-1.37c-.4-.4-.92-.59-1.43-.59-.52 0-1.04.2-1.43.59L10.3 9.45l-7.72 7.72c-.78.78-.78 2.05 0 2.83L4 21.41c.39.39.9.59 1.41.59.51 0 1.02-.2 1.41-.59l7.78-7.78 2.81-2.81c.8-.78.8-2.07 0-2.86zM5.41 20L4 18.59l7.72-7.72 1.47 1.35L5.41 20z\"/>\n",
              "  </svg>\n",
              "      </button>\n",
              "      \n",
              "  <style>\n",
              "    .colab-df-container {\n",
              "      display:flex;\n",
              "      flex-wrap:wrap;\n",
              "      gap: 12px;\n",
              "    }\n",
              "\n",
              "    .colab-df-convert {\n",
              "      background-color: #E8F0FE;\n",
              "      border: none;\n",
              "      border-radius: 50%;\n",
              "      cursor: pointer;\n",
              "      display: none;\n",
              "      fill: #1967D2;\n",
              "      height: 32px;\n",
              "      padding: 0 0 0 0;\n",
              "      width: 32px;\n",
              "    }\n",
              "\n",
              "    .colab-df-convert:hover {\n",
              "      background-color: #E2EBFA;\n",
              "      box-shadow: 0px 1px 2px rgba(60, 64, 67, 0.3), 0px 1px 3px 1px rgba(60, 64, 67, 0.15);\n",
              "      fill: #174EA6;\n",
              "    }\n",
              "\n",
              "    [theme=dark] .colab-df-convert {\n",
              "      background-color: #3B4455;\n",
              "      fill: #D2E3FC;\n",
              "    }\n",
              "\n",
              "    [theme=dark] .colab-df-convert:hover {\n",
              "      background-color: #434B5C;\n",
              "      box-shadow: 0px 1px 3px 1px rgba(0, 0, 0, 0.15);\n",
              "      filter: drop-shadow(0px 1px 2px rgba(0, 0, 0, 0.3));\n",
              "      fill: #FFFFFF;\n",
              "    }\n",
              "  </style>\n",
              "\n",
              "      <script>\n",
              "        const buttonEl =\n",
              "          document.querySelector('#df-63cfe344-cb08-4359-a0a9-3a3b6d921aa3 button.colab-df-convert');\n",
              "        buttonEl.style.display =\n",
              "          google.colab.kernel.accessAllowed ? 'block' : 'none';\n",
              "\n",
              "        async function convertToInteractive(key) {\n",
              "          const element = document.querySelector('#df-63cfe344-cb08-4359-a0a9-3a3b6d921aa3');\n",
              "          const dataTable =\n",
              "            await google.colab.kernel.invokeFunction('convertToInteractive',\n",
              "                                                     [key], {});\n",
              "          if (!dataTable) return;\n",
              "\n",
              "          const docLinkHtml = 'Like what you see? Visit the ' +\n",
              "            '<a target=\"_blank\" href=https://colab.research.google.com/notebooks/data_table.ipynb>data table notebook</a>'\n",
              "            + ' to learn more about interactive tables.';\n",
              "          element.innerHTML = '';\n",
              "          dataTable['output_type'] = 'display_data';\n",
              "          await google.colab.output.renderOutput(dataTable, element);\n",
              "          const docLink = document.createElement('div');\n",
              "          docLink.innerHTML = docLinkHtml;\n",
              "          element.appendChild(docLink);\n",
              "        }\n",
              "      </script>\n",
              "    </div>\n",
              "  </div>\n",
              "  "
            ]
          },
          "metadata": {},
          "execution_count": 5
        }
      ],
      "source": [
        "young.head(5)"
      ]
    },
    {
      "cell_type": "markdown",
      "source": [
        "#### Functions"
      ],
      "metadata": {
        "id": "Tnk1lcMaStk7"
      }
    },
    {
      "cell_type": "code",
      "source": [
        "def freq_distribution(series, title, x, y):\n",
        "    \"\"\"\n",
        "    Display a sns_displot with mode, median and mean.\n",
        "    Parameters\n",
        "    ----------\n",
        "    series: pandas.Series\n",
        "        Dataset series to be analyzed.\n",
        "    title: str\n",
        "        Figure title.\n",
        "    x: str\n",
        "        Chart x label\n",
        "    y: str\n",
        "        Chart y label\n",
        "    Returns\n",
        "    -------\n",
        "    Plot Seaborn displot chart\n",
        "    \"\"\"\n",
        "\n",
        "    # plotting data on distribution chart\n",
        "    plt.figure(figsize=(10, 5))\n",
        "    chart = sns.displot(\n",
        "        # data=X_train,\n",
        "        x=series,\n",
        "        kind=\"kde\",\n",
        "        fill=True,\n",
        "        height=5,\n",
        "        aspect=1.5,\n",
        "    )\n",
        "\n",
        "    ##calculate statistics\n",
        "    median = series.median()\n",
        "    mean = round(series.mean(), 2)\n",
        "    mode = series.mode()[0]\n",
        "\n",
        "    # add vertical line to show statistical info\n",
        "    plt.axvline(x=mode, color=\"b\", ls=\":\", lw=2.5, label=f\"Mode:{mode:,}\")\n",
        "    plt.axvline(\n",
        "        x=median, color=\"black\", ls=\"--\", lw=2, label=f\"Median: {median:,}\"\n",
        "    )\n",
        "    plt.axvline(x=mean, color=\"r\", ls=\"-\", lw=1.5, label=f\"Mean: {mean:,}\")\n",
        "\n",
        "    # customize plot\n",
        "    chart.set(title=title)\n",
        "    plt.xlabel(x, fontsize=10, labelpad=25)\n",
        "    plt.ylabel(y, fontsize=10, labelpad=25)\n",
        "    plt.legend(fontsize=12, shadow=True)\n",
        "\n",
        "    return plt.show()"
      ],
      "metadata": {
        "id": "GUOGKMx1Slae"
      },
      "execution_count": 12,
      "outputs": []
    },
    {
      "cell_type": "code",
      "source": [
        "def missing_values(df):\n",
        "    \"\"\"\n",
        "    Create a dataframe with NaN and empty values. Both with features indicating\n",
        "    the sum on NaN or Empty values and corresponding percentage of total.\n",
        "\n",
        "    Parameters\n",
        "    ----------\n",
        "    df : pandas.DataFrame\n",
        "        Dataframe to analize NaN and empty values.\n",
        "    \n",
        "    Returns\n",
        "    -------\n",
        "    Print both dataframes.\n",
        "    \"\"\"\n",
        "\n",
        "    # build a dataframe with nan values by headers\n",
        "    nan = pd.DataFrame(df.isna().sum(), columns=[\"NaN Values\"])\n",
        "\n",
        "    # calculate percentage\n",
        "    nan[\"% of NaN\"] = round(nan[\"NaN Values\"] / (df.shape[0]), 4) * 100\n",
        "\n",
        "    # sort values descending\n",
        "    nan = nan.sort_values(by=\"% of NaN\", ascending=False)\n",
        "\n",
        "    # build a dataframe with empty values by headers\n",
        "    empty = pd.DataFrame(df.eq(\" \").sum(), columns=[\"Empty Values\"])\n",
        "\n",
        "    # calculate percentage\n",
        "    empty[\"% of empty\"] = round(empty[\"Empty Values\"] / (df.shape[0]), 4) * 100\n",
        "\n",
        "    # sort values descending\n",
        "    empty = empty.sort_values(by=\"% of empty\", ascending=False)\n",
        "\n",
        "    # print features with nan values\n",
        "    return print(\n",
        "        f'{nan[nan[\"% of NaN\"]>0]}\\n\\n' f'{empty[empty[\"% of empty\"]>0]}'\n",
        "    )"
      ],
      "metadata": {
        "id": "KkYoo6W9R4NV"
      },
      "execution_count": 7,
      "outputs": []
    },
    {
      "cell_type": "markdown",
      "metadata": {
        "id": "f6lxJaQFhWtM"
      },
      "source": [
        "*****\n",
        "## 1. Descriptive statistics"
      ]
    },
    {
      "cell_type": "code",
      "source": [
        "young.info()"
      ],
      "metadata": {
        "id": "LadGxBWMe13J",
        "outputId": "9d8a5c10-a5fe-4f6e-820a-456fbe0bf9da",
        "colab": {
          "base_uri": "https://localhost:8080/"
        }
      },
      "execution_count": 8,
      "outputs": [
        {
          "output_type": "stream",
          "name": "stdout",
          "text": [
            "<class 'pandas.core.frame.DataFrame'>\n",
            "RangeIndex: 1010 entries, 0 to 1009\n",
            "Columns: 150 entries, Music to House - block of flats\n",
            "dtypes: float64(134), int64(5), object(11)\n",
            "memory usage: 1.2+ MB\n"
          ]
        }
      ]
    },
    {
      "cell_type": "code",
      "execution_count": 9,
      "metadata": {
        "id": "bxlz4flohWtM",
        "colab": {
          "base_uri": "https://localhost:8080/"
        },
        "outputId": "21d6cf23-cd0b-4659-d0ab-0e43a1a9c70b"
      },
      "outputs": [
        {
          "output_type": "stream",
          "name": "stdout",
          "text": [
            "Describe function:\n",
            "\n",
            "       Weight     Age\n",
            "count   990.0  1003.0\n",
            "mean     66.4    20.4\n",
            "std      13.8     2.8\n",
            "min      41.0    15.0\n",
            "25%      55.0    19.0\n",
            "50%      64.0    20.0\n",
            "75%      75.0    22.0\n",
            "max     165.0    30.0\n",
            "\n",
            "Median:\n",
            "Weight    64.0\n",
            "Age       20.0\n",
            "dtype: float64\n",
            "\n",
            "Mode:\n",
            "   Weight   Age\n",
            "0    60.0  19.0\n"
          ]
        }
      ],
      "source": [
        "print(\n",
        "    f'Describe function:\\n\\n'\n",
        "    f'{round(young[[\"Weight\",\"Age\"]].describe(),1)}\\n\\n'\n",
        "    f'Median:\\n'\n",
        "    f'{young[[\"Weight\",\"Age\"]].median()}\\n\\n'\n",
        "    f'Mode:\\n'\n",
        "    f'{young[[\"Weight\",\"Age\"]].mode()}'\n",
        "    )"
      ]
    },
    {
      "cell_type": "markdown",
      "metadata": {
        "id": "lWsCc7p3hWtM"
      },
      "source": [
        "### Frequency Distribution by Age and Weight"
      ]
    },
    {
      "cell_type": "code",
      "execution_count": 10,
      "metadata": {
        "id": "-L8RI24ehWtN",
        "colab": {
          "base_uri": "https://localhost:8080/"
        },
        "outputId": "ad454c40-e7bc-4744-849d-008b4898dc67"
      },
      "outputs": [
        {
          "output_type": "stream",
          "name": "stdout",
          "text": [
            "Frecuency distribution by Age:\n",
            "19.0    210\n",
            "20.0    194\n",
            "21.0    127\n",
            "18.0    123\n",
            "22.0     84\n",
            "17.0     53\n",
            "23.0     47\n",
            "25.0     30\n",
            "16.0     29\n",
            "24.0     28\n",
            "28.0     17\n",
            "26.0     15\n",
            "27.0     14\n",
            "15.0     11\n",
            "29.0     11\n",
            "30.0     10\n",
            "Name: Age, dtype: int64\n",
            "\n",
            "Frecuency distribution by Weight:\n",
            "60.0     76\n",
            "55.0     62\n",
            "70.0     51\n",
            "80.0     50\n",
            "65.0     49\n",
            "         ..\n",
            "111.0     1\n",
            "41.0      1\n",
            "103.0     1\n",
            "101.0     1\n",
            "105.0     1\n",
            "Name: Weight, Length: 69, dtype: int64\n",
            "\n"
          ]
        }
      ],
      "source": [
        "print(\n",
        "    f'Frecuency distribution by Age:\\n'\n",
        "    f'{young[\"Age\"].value_counts()}\\n\\n' \n",
        "    f'Frecuency distribution by Weight:\\n'\n",
        "    f'{young[\"Weight\"].value_counts()}\\n'     \n",
        "    )"
      ]
    },
    {
      "cell_type": "markdown",
      "metadata": {
        "id": "xi8eBik4hWtN"
      },
      "source": [
        "### Histogram"
      ]
    },
    {
      "cell_type": "code",
      "source": [
        "freq_distribution(young['Age'], \"Frequency distribution by Age\",\"Ages Values\", \"Count of Ages frequency\")"
      ],
      "metadata": {
        "colab": {
          "base_uri": "https://localhost:8080/",
          "height": 414
        },
        "id": "ywywaCzvSmfH",
        "outputId": "a95858c6-d121-4875-8d5c-e6e5c495a693"
      },
      "execution_count": 11,
      "outputs": [
        {
          "output_type": "display_data",
          "data": {
            "text/plain": [
              "<Figure size 720x360 with 0 Axes>"
            ]
          },
          "metadata": {}
        },
        {
          "output_type": "display_data",
          "data": {
            "text/plain": [
              "<Figure size 540x360 with 1 Axes>"
            ],
            "image/png": "[encoded data removed]"
          },
          "metadata": {}
        }
      ]
    },
    {
      "cell_type": "markdown",
      "metadata": {
        "id": "Ras2a8j3hWtN"
      },
      "source": [
        "### Missing values"
      ]
    },
    {
      "cell_type": "code",
      "execution_count": null,
      "metadata": {
        "id": "AzRYowcIhWtO",
        "colab": {
          "base_uri": "https://localhost:8080/"
        },
        "outputId": "a801feb1-0763-4c89-967d-d2ee321aea31"
      },
      "outputs": [
        {
          "output_type": "stream",
          "name": "stdout",
          "text": [
            "                  NaN Values  % of NaN\n",
            "Height                    20      1.98\n",
            "Weight                    20      1.98\n",
            "Passive sport             15      1.49\n",
            "Chemistry                 10      0.99\n",
            "Geography                  9      0.89\n",
            "...                      ...       ...\n",
            "Keeping promises           1      0.10\n",
            "Politics                   1      0.10\n",
            "Storm                      1      0.10\n",
            "Law                        1      0.10\n",
            "Fake                       1      0.10\n",
            "\n",
            "[144 rows x 2 columns]\n",
            "\n",
            "Empty DataFrame\n",
            "Columns: [Empty Values, % of empty]\n",
            "Index: []\n"
          ]
        }
      ],
      "source": [
        "missing_values(young)"
      ]
    },
    {
      "cell_type": "markdown",
      "metadata": {
        "id": "ClNbs6NchWtO"
      },
      "source": [
        "### Outliers"
      ]
    },
    {
      "cell_type": "code",
      "execution_count": null,
      "metadata": {
        "id": "nCMpPktDhWtO"
      },
      "outputs": [],
      "source": []
    },
    {
      "cell_type": "markdown",
      "metadata": {
        "id": "YMoAtgPahWtO"
      },
      "source": [
        "### Gender breakdown"
      ]
    },
    {
      "cell_type": "code",
      "execution_count": null,
      "metadata": {
        "id": "-osd26WjhWtO"
      },
      "outputs": [],
      "source": []
    },
    {
      "cell_type": "markdown",
      "metadata": {
        "id": "k0WAliG2hWtP"
      },
      "source": [
        "### Correlation between variables"
      ]
    },
    {
      "cell_type": "code",
      "execution_count": null,
      "metadata": {
        "id": "aHPJq5jihWtP"
      },
      "outputs": [],
      "source": []
    },
    {
      "cell_type": "markdown",
      "metadata": {
        "id": "Y8XPkfU6hWtP"
      },
      "source": [
        "****\n",
        "## 2. Joint probability"
      ]
    },
    {
      "cell_type": "markdown",
      "metadata": {
        "id": "Z7Y7rotQhWtP"
      },
      "source": [
        "#### To do this we will define the concepts of marginal probability and joint probability\n",
        "\n",
        "Marginal Probability: Probability of one variable without considering another, for example:\n",
        "\n",
        "$$P_X=P[X=x]=\\sum_{\\forall y_i}p_{xy}(x,y_i)$$"
      ]
    },
    {
      "cell_type": "code",
      "execution_count": null,
      "metadata": {
        "id": "l4QqqNBqhWtP"
      },
      "outputs": [],
      "source": []
    },
    {
      "cell_type": "markdown",
      "metadata": {
        "id": "oehQSvZNhWtP"
      },
      "source": [
        "#### Joint Probability: In a bivariate or multimavariate sample space, each possible outcome refers to two or more characteristics. Then the probability of a joint outcome is denoted $P(X \\cap Y)$ and is defined as:\n",
        "\n",
        "$$P_{XY}=P[(X=x)\\cap(Y=y)]$$\n",
        "\n",
        "__TODO:__\n",
        "Do some research on [crosstab](https://pandas.pydata.org/docs/reference/api/pandas.crosstab.html) pandas function."
      ]
    },
    {
      "cell_type": "code",
      "execution_count": null,
      "metadata": {
        "id": "XlzufKM2hWtQ"
      },
      "outputs": [],
      "source": []
    },
    {
      "cell_type": "markdown",
      "metadata": {
        "id": "44Nc0gPWhWtQ"
      },
      "source": [
        "****\n",
        "## 3. Answers\n",
        "### Smoking levels and smoking bans in bars"
      ]
    },
    {
      "cell_type": "code",
      "execution_count": null,
      "metadata": {
        "id": "d-8oLRPZhWtQ"
      },
      "outputs": [],
      "source": []
    },
    {
      "cell_type": "markdown",
      "metadata": {
        "id": "Y7OreMYIhWtQ"
      },
      "source": [
        "****\n",
        "# Extras:"
      ]
    },
    {
      "cell_type": "markdown",
      "metadata": {
        "_cell_guid": "9cc06f7f-cea2-4d5a-baec-6be4f491c251",
        "_uuid": "19f7bf02a33ef1616a8b8e23001fcae8889d0d7a",
        "id": "_Ld0LwKihWtQ"
      },
      "source": [
        "## Other data visualizations"
      ]
    },
    {
      "cell_type": "markdown",
      "metadata": {
        "_cell_guid": "75ac7bcc-1cb7-4c97-9e15-a66db03a5553",
        "_uuid": "875061af6669258f6c504f8b1c5baefea83c1e56",
        "id": "JXb-lcRChWtQ"
      },
      "source": [
        "#### We choose some characteristics (numerical) and analyze them breaking down by gender using a box plot"
      ]
    },
    {
      "cell_type": "code",
      "execution_count": null,
      "metadata": {
        "id": "1cmNAqsAhWtQ"
      },
      "outputs": [],
      "source": []
    }
  ],
  "metadata": {
    "kernelspec": {
      "display_name": "Python 3 (ipykernel)",
      "language": "python",
      "name": "python3"
    },
    "language_info": {
      "codemirror_mode": {
        "name": "ipython",
        "version": 3
      },
      "file_extension": ".py",
      "mimetype": "text/x-python",
      "name": "python",
      "nbconvert_exporter": "python",
      "pygments_lexer": "ipython3",
      "version": "3.9.7"
    },
    "colab": {
      "provenance": [],
      "collapsed_sections": []
    }
  },
  "nbformat": 4,
  "nbformat_minor": 0
}