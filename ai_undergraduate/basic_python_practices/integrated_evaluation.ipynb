{
  "nbformat": 4,
  "nbformat_minor": 0,
  "metadata": {
    "colab": {
      "provenance": []
    },
    "kernelspec": {
      "name": "python3",
      "display_name": "Python 3"
    },
    "language_info": {
      "name": "python"
    }
  },
  "cells": [
    {
      "cell_type": "markdown",
      "source": [
        "# Programación 1\n",
        "**23/10/22**\n",
        "\n",
        "*Nombre:* Agustin \n",
        "\n",
        "*Apellido:* Leperini\n",
        "\n",
        "*Legajo:* L-3261/1"
      ],
      "metadata": {
        "id": "3nEZ40yDlWBl"
      }
    },
    {
      "cell_type": "markdown",
      "source": [
        "# Enunciados"
      ],
      "metadata": {
        "id": "p7JVJEEMmfKl"
      }
    },
    {
      "cell_type": "markdown",
      "source": [
        "**Ejercicio 1**\n",
        "\n",
        "Crear una función que reciba tres lados de un triángulo y muestre por pantalla si es equilátero (3 lados iguales), isósceles (2 lados iguales) o escaleno (todos sus lados diferentes)."
      ],
      "metadata": {
        "id": "7zM_bAPXmirO"
      }
    },
    {
      "cell_type": "markdown",
      "source": [
        "**Ejercicio 2**\n",
        "\n",
        "Hacer una función dada una lista de números, retorne una tupla de tamaño dos, con una lista de pares, y otra de impares. Consideramos al cero sin paridad, o sea que no es ni par ni impar."
      ],
      "metadata": {
        "id": "PqwF7s2gm3e6"
      }
    },
    {
      "cell_type": "markdown",
      "source": [
        "**Ejercicio 3**\n",
        "\n",
        "Se quiere crear un anotador para un juego de dardos, para ello se necesita conocer cuantas rondas se van a jugar y los nombres de las participantes.\n",
        "\n",
        "Crear un diccionario que guarde los nombres de las jugadoras y una lista que vaya actualizando el puntaje que consiguió cada participante en cada tiro.\n",
        "\n",
        "Cuando finalice el juego, se debe mostrar un mensaje felicitando a la ganadora, por ejemplo: \n",
        "\n",
        "``` python\n",
        "Felicitaciones Carla!\n",
        "```\n",
        "\n",
        "\n",
        "Y por último un mensaje donde aparezca el nombre y el puntaje de cada jugador/a. \n",
        "\n",
        "\n",
        "``` python\n",
        "Carla: 100 puntos\n",
        "Sol: 41 puntos\n",
        "Victoria: 97 puntos\n",
        "```\n",
        "\n",
        "Nota: No contemplar el caso de un empate, o sea que nunca ocurre\n"
      ],
      "metadata": {
        "id": "vTq0wrobo8Fj"
      }
    },
    {
      "cell_type": "code",
      "source": [
        "rondas = int(input('Ingrese cantidad de rondas: '))\n",
        "cant_jugadores = int(input('Ingrese cantidad de jugadores: '))\n",
        "dicc_jugadores = crear_jugadores(cant_jugadores)\n",
        "jugar(dicc_jugadores, rondas)\n",
        "buscar_ganador(dicc_jugadores)\n",
        "mostrar_puntajes(dicc_jugadores)"
      ],
      "metadata": {
        "id": "k5za_Rm1tXOz"
      },
      "execution_count": null,
      "outputs": []
    },
    {
      "cell_type": "code",
      "source": [
        "def crear_jugadores(cant_jugadores):\n",
        "  \"\"\" \n",
        "  Es una función que guarda en un diccionario con la clave el nombre del jugador\n",
        "  y valor una lista\n",
        "  INPUT: int --> cantidad de participantes del juego\n",
        "  OUTPUT: None\n",
        "  \"\"\"\n",
        "\n",
        "  pass"
      ],
      "metadata": {
        "id": "ns7SejUltpjd"
      },
      "execution_count": null,
      "outputs": []
    },
    {
      "cell_type": "code",
      "source": [
        "def jugar(dicc_jugadores, rondas):\n",
        "  \"\"\" \n",
        "  Esta función actualiza los puntajes de cada jugador, hasta que finalice el juego\n",
        "  INPUT: None\n",
        "  OUTPUT: None\n",
        "  \"\"\"\n",
        "  pass"
      ],
      "metadata": {
        "id": "uPuu4JPIuZxC"
      },
      "execution_count": null,
      "outputs": []
    },
    {
      "cell_type": "code",
      "source": [
        "def buscar_ganador(dicc_jugadores):\n",
        "  \"\"\" \n",
        "  Esta función hace algo\n",
        "  INPUT: None\n",
        "  OUTPUT: None\n",
        "  \"\"\"\n",
        "  pass"
      ],
      "metadata": {
        "id": "BGTrJkMYvGiY"
      },
      "execution_count": null,
      "outputs": []
    },
    {
      "cell_type": "code",
      "source": [
        "def mostrar_puntajes(dicc_jugadores):\n",
        "  \"\"\" \n",
        "  Esta función hace algo\n",
        "  INPUT: None\n",
        "  OUTPUT: None\n",
        "  \"\"\"\n",
        "  pass"
      ],
      "metadata": {
        "id": "xPZe2Krjxiob"
      },
      "execution_count": null,
      "outputs": []
    }
  ]
}