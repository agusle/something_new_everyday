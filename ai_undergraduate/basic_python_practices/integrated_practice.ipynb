{
  "cells": [
    {
      "cell_type": "markdown",
      "metadata": {
        "id": "v_Ym5cCa-J2A"
      },
      "source": [
        "# Ejercicio Integrador - Estructura de datos"
      ]
    },
    {
      "cell_type": "markdown",
      "metadata": {
        "id": "0uB54Qew-H-4"
      },
      "source": [
        "Se propone crear un programa que simule el ingreso o registro de una cuenta. Para ello se debe crear\n",
        "el siguiente menú con 5 opciones: \n",
        "\n",
        "* a. Ingresar: Pedirle al usuario que ingrese el usuario y contraseña, buscar en una colección de datos que crea apropiada y verificar que los datos ingresados sean correctos.\n",
        "* b. Registrarse: Crear un usuario y contraseña y guardarla en la colección de datos del punto 1.\n",
        "* c. Cerrar sesión: Para poder ingresar esta opción el usuario debe haber iniciado sesión o registrado. Si no lo hizo, ignorar la opción.\n",
        "* d. Salir: terminar el programa.\n",
        "* e. Agregar una opción que sea cambiar contraseña."
      ]
    },
    {
      "cell_type": "markdown",
      "source": [
        "----------------------------------------------------------------------------------------------------------------------------------------------------------------\n",
        "##Solucion\n",
        "----------------------------------------------------------------------------------------------------------------------------------------------------------------"
      ],
      "metadata": {
        "id": "36zgzB-IMA9I"
      }
    },
    {
      "cell_type": "markdown",
      "source": [
        "### Funciones de utilidad\n",
        "\n",
        "Asegurarse de ejecutar todas antes de la función principal"
      ],
      "metadata": {
        "id": "NETVS2wnLYPH"
      }
    },
    {
      "cell_type": "code",
      "source": [
        "def try_again() -> bool:\n",
        "  \"\"\"\n",
        "  Consulta al usuario si quiere intentarlo nuevamente y devuelve un booleano\n",
        "  'True' en caso que la respuesta sea positiva y 'False' de lo contrario. Se\n",
        "  asegura que el usuario seleccione de forma obligatoria una u otra opción.\n",
        "\n",
        "  Returns\n",
        "  -------\n",
        "  bool: 'True' en caso que la respuesta sea positiva y 'False' de lo contrario\n",
        "  \"\"\"\n",
        "\n",
        "  while True:\n",
        "    again = input(\"\\n¿Desea intentarlo de nuevo? (SI/NO): \")\n",
        "    if again.lower() == \"si\":\n",
        "      return True\n",
        "    elif again.lower() == \"no\":\n",
        "      return False\n",
        "    else:\n",
        "      print(\n",
        "          f'Usted ha ingresado \"{again}\".' \n",
        "          f'Por, favor, asegúrese de ingresar \"SI\" o \"NO\".'\n",
        "          )\n",
        "      continue"
      ],
      "metadata": {
        "id": "f8NQ_VeWg9NO"
      },
      "execution_count": 15,
      "outputs": []
    },
    {
      "cell_type": "code",
      "source": [
        "def validate_input(options:list) -> int:\n",
        "  \"\"\"\n",
        "  Valida que el ingreso del usuario por pantalla coincida con una de\n",
        "  las opciones disponibles del listado ingresado como argumento y devuelve\n",
        "  la opción elegida por el usuario.\n",
        "  \n",
        "  Parameters\n",
        "  ----------\n",
        "  options: list\n",
        "    Listado de opciones dentro del cual el usuario debe elegir.\n",
        "    Ej: [\"Ingresar\",\"Registrarse\",\"Salir\"]\n",
        "  \n",
        "  Returns\n",
        "  -------\n",
        "  option: int\n",
        "    Número de opción que representa la elección del usuario.\n",
        "  \"\"\"\n",
        "  \n",
        "  while True:\n",
        "    option = input(\n",
        "        f\"Por favor ingrese el valor numérico de\" \n",
        "        f\" la opción que quiere ejecutar: \"\n",
        "        )\n",
        "    #validacion que el valor ingresado sea numérico.\n",
        "    if not option.isnumeric():\n",
        "      print(\n",
        "          f'Usted ha ingresado: \"{option}\".'\n",
        "          f' Asegúrese de ingresar un valor numérico.\\n'\n",
        "          )\n",
        "      continue\n",
        "    else:\n",
        "      option = int(option)\n",
        "    #validacion que el valor numérico ingresado se encuentre en\n",
        "    #el rango de opciones disponibles\n",
        "    if option not in range(1,len(options)+1):\n",
        "      print(\n",
        "          f'Usted ha ingresado: \"{option}\".'\n",
        "          f' Asegúrese de que el número coincida con una de las opciones disponibles.\\n'\n",
        "          )\n",
        "      continue\n",
        "    break\n",
        "  return option"
      ],
      "metadata": {
        "id": "Bc67YkUuH8T7"
      },
      "execution_count": 1,
      "outputs": []
    },
    {
      "cell_type": "code",
      "execution_count": 2,
      "metadata": {
        "id": "EIlsBWEEZcpi"
      },
      "outputs": [],
      "source": [
        "def consult_database(database:dict,**credentials:str) -> tuple:\n",
        "  \"\"\"\n",
        "  Comprueba si las credenciales ingresadas coinciden con la base de datos\n",
        "  ingresada como argumento obligatorio devolviendo una tupla dos booleanos \n",
        "  que indican si existe el usuario y la contraseña respectivamente.\n",
        "\n",
        "  Parameters\n",
        "  ----------\n",
        "  database: dict\n",
        "    Diccionario que contenga el nombre de usuario como key \n",
        "    y contraseña como value. Ej: database = {\"agustin\": \"prueba\"}\n",
        "  \n",
        "  **credentials: key,value\n",
        "    Argumentos variables donde se debe ingresar user y passwd como key \n",
        "    y sus valores como strings. Ej: (user = \"agustin\", passwd = \"prueba\")\n",
        "\n",
        "  Returns\n",
        "  -------\n",
        "  tuple: (bool,bool)\n",
        "    Tupla que contiene dos booleanos: True si existe, False en caso contrario.\n",
        "  \"\"\"\n",
        "\n",
        "  result = []\n",
        "  user = None\n",
        "  for credential, value in credentials.items():\n",
        "    if credential.lower() == \"user\":\n",
        "      if database.get(value) != None:\n",
        "        result.append(True) # User True\n",
        "        user = value\n",
        "      else:\n",
        "        result.append(False) # User False\n",
        "        result.append(False) # passwd False\n",
        "        break\n",
        "    if credential.lower() == \"passwd\":\n",
        "      if database[user] == value:\n",
        "        result.append(True) # User True and passwd True\n",
        "      else:\n",
        "        result.append(False) # User True and passwd False\n",
        "  return tuple(result)\n"
      ]
    },
    {
      "cell_type": "code",
      "execution_count": 23,
      "metadata": {
        "id": "CwVnNhcPCIJs"
      },
      "outputs": [],
      "source": [
        "def change_password(database:dict,user:str) -> dict:\n",
        "  \"\"\"\n",
        "  Permite al usuario ingresado como argumento (key), cambiar el valor de su \n",
        "  contraseña dentro el diccionario ingresado (value). Valida que la nueva \n",
        "  contraseña sea distinta a la actual y ésta última sea correctamente ingresada\n",
        "  por el usuario.\n",
        "\n",
        "  Parameters\n",
        "  ----------\n",
        "  database: dict\n",
        "    Diccionario que contenga el nombre de usuario como key \n",
        "    y contraseña como value. Ej: database = {\"agustin\": \"prueba\"}\n",
        "  \n",
        "  user: str\n",
        "    Nombre del usuario. Ej: \"agustin\"\n",
        "  \n",
        "  Returns\n",
        "  -------\n",
        "  database: dict\n",
        "    Diccionario que contenga el nombre de usuario como key \n",
        "    y contraseña como value. Ej: database = {\"agustin\": \"prueba\"}\n",
        "  \"\"\"\n",
        "\n",
        "  print(\"\\n------------------CAMBIE SU CONTRASEÑA------------------\\n\")\n",
        "  print(f\"Hola {user}, a continuación ingrese su actual y su nueva contraseña.\")\n",
        "  while True:\n",
        "    actual_passwd = input(\"Contraseña actual: \")\n",
        "    new_passwd = input(\"Nueva contraseña: \")\n",
        "    \n",
        "    #verificación de ingreso de nueva contraseña igual a la anterior\n",
        "    if actual_passwd == new_passwd:\n",
        "      print(\"La nueva contraseña no puede ser igual a la contraseña actual.\")\n",
        "      if try_again():\n",
        "        continue\n",
        "      else:\n",
        "        return database\n",
        "    \n",
        "    #verificacion de que la contraseña actual sea incorrecta\n",
        "    _, passwd_exist = consult_database(database,user=user, passwd=actual_passwd)\n",
        "    if not passwd_exist:\n",
        "      print(\"La contraseña actual es incorrecta.\")\n",
        "      if try_again():\n",
        "        continue\n",
        "      else:\n",
        "        return database\n",
        "    \n",
        "    #si todo esta ok, se reemplaza el valor(passwd) de la key (user) respectiva.\n",
        "    database[user] = new_passwd\n",
        "    print(f'\\nSu contraseña ha sido modificada con éxito, felicitaciones!')\n",
        "    return database\n",
        "  pass"
      ]
    },
    {
      "cell_type": "code",
      "source": [
        "def user_interface(database:dict,user:str) -> dict:\n",
        "  \"\"\"\n",
        "  Imprime en pantalla las opciones disponibles para el usuario que se \n",
        "  ingresó como argumento. Luego, valida que la opción ingresada se encuentre \n",
        "  disponible y la ejecuta. En caso que la opción sea \"Cambiar contraseña\", la\n",
        "  misma reemplaza el valor que almacena su clave en el diccionario ingresado\n",
        "  como argumento.\n",
        "\n",
        "  Parameters\n",
        "  ----------\n",
        "  database: dict\n",
        "    Diccionario que contenga el nombre de usuario como key \n",
        "    y contraseña como value. Ej: database = {\"agustin\": \"prueba\"}\n",
        "  \n",
        "  user: str\n",
        "    Nombre del usuario. Ej: \"agustin\"\n",
        "\n",
        "  Returns\n",
        "  -------\n",
        "  database: dict\n",
        "    Diccionario que contenga el nombre de usuario como key \n",
        "    y contraseña como value. Ej: database = {\"agustin\": \"prueba\"}\n",
        "  \n",
        "  bool: True si desea salir cerrando su sesion, False en caso contrario.\n",
        "  \"\"\"\n",
        "\n",
        "  main_options = [\"Cambiar contraseña\",\"Cerrar Sesión\",\"Salir\"]\n",
        "  \n",
        "  while True:\n",
        "    print(\"\\n------------------SU PORTAL------------------\\n\")\n",
        "    print(f'Hola {user}! Bienvenido a su portal, desde aquí podrá:\\n')\n",
        "    for count,option in enumerate(main_options):\n",
        "      print(f\"{count+1}- {option}\")\n",
        "    print()\n",
        "\n",
        "    #validacion de input de usuario\n",
        "    option = validate_input(main_options)\n",
        "\n",
        "    # manejo de opciones  \n",
        "    if option == 1:\n",
        "      database = change_password(database,user)\n",
        "      continue\n",
        "    elif option == 2:\n",
        "      print(f'{user}, usted ha cerrado su sesión correctamente.')\n",
        "      return database , True\n",
        "    else:\n",
        "      exit = input(\"¿Desea salir sin cerrar su sesión? (SI/NO) : \")\n",
        "      if exit.lower() == \"si\":\n",
        "        return database, False\n",
        "      else:\n",
        "        continue"
      ],
      "metadata": {
        "id": "aZsIDntA9wEP"
      },
      "execution_count": 4,
      "outputs": []
    },
    {
      "cell_type": "code",
      "execution_count": 22,
      "metadata": {
        "id": "azAfLM---Clh"
      },
      "outputs": [],
      "source": [
        "def login(database:dict) -> bool:\n",
        "  \"\"\"\n",
        "  Permite al usuario ingresar sus credenciales de acceso (usuario y contraseña)\n",
        "  y comprobar si las mismas coinciden con los datos almacenados en un \n",
        "  diccionario.\n",
        "\n",
        "  Parameters\n",
        "  ----------\n",
        "  database: dict\n",
        "    Diccionario que contenga el nombre de usuario como key \n",
        "    y contraseña como value. Ej: database = {\"agustin\": \"prueba\"}\n",
        "\n",
        "  Returns\n",
        "  -------\n",
        "  bool: True si el login fue exitoso, False en caso contrario.\n",
        " \n",
        "  user: str\n",
        "    Nombre del usuario. Ej: \"agustin\"\n",
        "  \"\"\"\n",
        "  \n",
        "  print(\"\\n------------------INGRESO------------------\\n\")\n",
        "  print(\"Por favor, a continuación ingrese su usuario y contraseña.\")\n",
        "  while True:\n",
        "    user = input(\"Usuario: \")\n",
        "    passwd = input(\"Contraseña: \")\n",
        "    user_exist, passwd_exist = consult_database(database,user=user,passwd=passwd)\n",
        "    \n",
        "    #validacion si usuario ingresado no existe\n",
        "    if not user_exist:\n",
        "      print(\"El usuario ingresado no existe.\")\n",
        "      if try_again():\n",
        "        continue\n",
        "      else:\n",
        "        return False, user\n",
        "\n",
        "    #validacion si password ingresado no existe\n",
        "    if not passwd_exist:\n",
        "      print(\"El password ingresado es incorrecto\")\n",
        "      if try_again():\n",
        "        continue\n",
        "      else:\n",
        "        return False, user\n",
        "    \n",
        "    #mensaje de confirmacion en caso de credenciales correctas.\n",
        "    print(\"\\nSu usuario y contraseña son correctos.\")\n",
        "    return True , user"
      ]
    },
    {
      "cell_type": "code",
      "execution_count": 6,
      "metadata": {
        "id": "XDAGuE7OBxBT"
      },
      "outputs": [],
      "source": [
        "def register(database:dict) -> dict:\n",
        "  \"\"\"\n",
        "  Permite al usuario registrar sus credenciales de acceso (usuario y contraseña)\n",
        "  y volver a ingresar otra alternativa si el usuario ya existe. En caso que el  \n",
        "  usuario no exista, se crea un nuevo elemento en el diccionario ingresado como\n",
        "  argumento donde key: usuario y value: password.\n",
        "\n",
        "  Parameters\n",
        "  ----------\n",
        "  database: dict\n",
        "    Diccionario que contenga el nombre de usuario como key \n",
        "    y contraseña como value. Ej: database = {\"agustin\": \"prueba\"}\n",
        "\n",
        "  Returns\n",
        "  -------\n",
        "  bool: True si el registro fue exitoso, False en caso contrario.\n",
        "\n",
        "  database: dict\n",
        "    Diccionario que contenga el nombre de usuario como key \n",
        "    y contraseña como value. Ej: database = {\"agustin\": \"prueba\"}\n",
        " \n",
        "  user: str\n",
        "    Nombre del usuario. Ej: \"agustin\"\n",
        "  \"\"\"\n",
        "  \n",
        "  print(\"\\n------------------REGISTRESE------------------\\n\")\n",
        "  print(\"Por favor, a continuación ingrese su usuario y contraseña.\")\n",
        "  while True:\n",
        "    user = input(\"Usuario: \")\n",
        "    passwd = input(\"Contraseña: \")\n",
        "    user_exist, passwd_exist = consult_database(database,user=user, passwd=passwd)\n",
        "    if user_exist:\n",
        "      print(\"El usuario ingresado ya existe.\")\n",
        "      again = input(\"¿Desea intentarlo de nuevo? (SI/NO)\")\n",
        "      if again.lower() == \"si\":\n",
        "        continue\n",
        "      else:\n",
        "        return False , database , user\n",
        "\n",
        "    database[user] = passwd\n",
        "    print(f'\\nSu cuenta ha sido creada con éxito, felicitaciones!')\n",
        "    return True , database , user"
      ]
    },
    {
      "cell_type": "markdown",
      "source": [
        "### Función principal"
      ],
      "metadata": {
        "id": "HnE1U117LjQu"
      }
    },
    {
      "cell_type": "code",
      "execution_count": 20,
      "metadata": {
        "id": "ZDp8poCsCkCu"
      },
      "outputs": [],
      "source": [
        "def account_management(database:dict) -> dict:\n",
        "  \"\"\"\n",
        "\n",
        "  Parameters\n",
        "  ----------\n",
        "  database: dict\n",
        "    Diccionario que contenga el nombre de usuario como key \n",
        "    y contraseña como value. Ej: database = {\"agustin\": \"prueba\"}\n",
        "  \"\"\"\n",
        "\n",
        "  main_options = [\"Ingresar\",\"Registrarse\",\"Salir\"]\n",
        "  #Ingresar/ Usuario y contraseña / Mensaje bienvenida,cambiar contraseña, cerrar sesion, salir\n",
        "  #Registrarse/ Usuario y contraseña / Mensaje bienvenida,cambiar contraseña, cerrar sesion, salir\n",
        "  while True:\n",
        "    print(\n",
        "        f\"\\nBienvenido al portal FCEIA.\\n\"\n",
        "        f\"En esta sección le facilitamos el siguiente menú:\\n\"\n",
        "        )\n",
        "    for count,option in enumerate(main_options):\n",
        "      print(f\"{count+1}- {option}\")\n",
        "    print()\n",
        "\n",
        "    #validacion de input de usuario\n",
        "    option = validate_input(main_options)\n",
        "\n",
        "    # manejo de opciones  \n",
        "    if option == 1:\n",
        "      success,user = login(database)\n",
        "      if success:\n",
        "        database, logout = user_interface(database,user)\n",
        "        if logout:\n",
        "          continue\n",
        "      else:\n",
        "        continue\n",
        "    elif option == 2:\n",
        "      success,database,user = register(database)\n",
        "      if success:\n",
        "        database, logout = user_interface(database,user)\n",
        "        if logout:\n",
        "          continue\n",
        "      else:\n",
        "        continue\n",
        "    print(f'\\nGracias por utilizar nuestro portal. Que tenga un buen dia!')\n",
        "    break\n",
        "  return database"
      ]
    },
    {
      "cell_type": "markdown",
      "source": [
        "### Ejecución"
      ],
      "metadata": {
        "id": "yLSg3MZcM5Sz"
      }
    },
    {
      "cell_type": "code",
      "execution_count": 8,
      "metadata": {
        "id": "11a34MsAD7lC"
      },
      "outputs": [],
      "source": [
        "users_database = {}"
      ]
    },
    {
      "cell_type": "code",
      "execution_count": 24,
      "metadata": {
        "colab": {
          "base_uri": "https://localhost:8080/"
        },
        "id": "s4y7sr-fGtP-",
        "outputId": "8b42e751-91b9-4034-d5d0-94e16fcfc7b9"
      },
      "outputs": [
        {
          "output_type": "stream",
          "name": "stdout",
          "text": [
            "\n",
            "Bienvenido al portal FCEIA.\n",
            "En esta sección le facilitamos el siguiente menú:\n",
            "\n",
            "1- Ingresar\n",
            "2- Registrarse\n",
            "3- Salir\n",
            "\n",
            "Por favor ingrese el valor numérico de la opción que quiere ejecutar: 1\n",
            "\n",
            "------------------INGRESO------------------\n",
            "\n",
            "Por favor, a continuación ingrese su usuario y contraseña.\n",
            "Usuario: agusle\n",
            "Contraseña: agus\n",
            "\n",
            "Su usuario y contraseña son correctos.\n",
            "\n",
            "------------------SU PORTAL------------------\n",
            "\n",
            "Hola agusle! Bienvenido a su portal, desde aquí podrá:\n",
            "\n",
            "1- Cambiar contraseña\n",
            "2- Cerrar Sesión\n",
            "3- Salir\n",
            "\n",
            "Por favor ingrese el valor numérico de la opción que quiere ejecutar: 1\n",
            "\n",
            "------------------CAMBIE SU CONTRASEÑA------------------\n",
            "\n",
            "Hola agusle, a continuación ingrese su actual y su nueva contraseña.\n",
            "Contraseña actual: agusle\n",
            "Nueva contraseña: agusle\n",
            "La nueva contraseña no puede ser igual a la contraseña actual.\n",
            "\n",
            "¿Desea intentarlo de nuevo? (SI/NO): no\n",
            "\n",
            "------------------SU PORTAL------------------\n",
            "\n",
            "Hola agusle! Bienvenido a su portal, desde aquí podrá:\n",
            "\n",
            "1- Cambiar contraseña\n",
            "2- Cerrar Sesión\n",
            "3- Salir\n",
            "\n",
            "Por favor ingrese el valor numérico de la opción que quiere ejecutar: 1\n",
            "\n",
            "------------------CAMBIE SU CONTRASEÑA------------------\n",
            "\n",
            "Hola agusle, a continuación ingrese su actual y su nueva contraseña.\n",
            "Contraseña actual: agusle\n",
            "Nueva contraseña: aguslee\n",
            "La contraseña actual es incorrecta.\n",
            "\n",
            "¿Desea intentarlo de nuevo? (SI/NO): si\n",
            "Contraseña actual: agus\n",
            "Nueva contraseña: agusle\n",
            "\n",
            "Su contraseña ha sido modificada con éxito, felicitaciones!\n",
            "\n",
            "------------------SU PORTAL------------------\n",
            "\n",
            "Hola agusle! Bienvenido a su portal, desde aquí podrá:\n",
            "\n",
            "1- Cambiar contraseña\n",
            "2- Cerrar Sesión\n",
            "3- Salir\n",
            "\n",
            "Por favor ingrese el valor numérico de la opción que quiere ejecutar: 3\n",
            "¿Desea salir sin cerrar su sesión? (SI/NO) : si\n",
            "\n",
            "Gracias por utilizar nuestro portal. Que tenga un buen dia!\n"
          ]
        }
      ],
      "source": [
        "users_database = account_management(users_database)"
      ]
    },
    {
      "cell_type": "code",
      "source": [
        "users_database"
      ],
      "metadata": {
        "colab": {
          "base_uri": "https://localhost:8080/"
        },
        "id": "V-VG_W4rdyPb",
        "outputId": "2f3142b9-ff8d-44fa-bc2d-f2e8c701bc8d"
      },
      "execution_count": 25,
      "outputs": [
        {
          "output_type": "execute_result",
          "data": {
            "text/plain": [
              "{'agusle': 'agusle'}"
            ]
          },
          "metadata": {},
          "execution_count": 25
        }
      ]
    }
  ],
  "metadata": {
    "colab": {
      "collapsed_sections": [],
      "provenance": []
    },
    "kernelspec": {
      "display_name": "Python 3",
      "name": "python3"
    },
    "language_info": {
      "name": "python"
    }
  },
  "nbformat": 4,
  "nbformat_minor": 0
}