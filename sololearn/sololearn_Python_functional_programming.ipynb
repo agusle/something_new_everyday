{
  "nbformat": 4,
  "nbformat_minor": 0,
  "metadata": {
    "colab": {
      "provenance": [],
      "collapsed_sections": []
    },
    "kernelspec": {
      "name": "python3",
      "display_name": "Python 3"
    },
    "language_info": {
      "name": "python"
    }
  },
  "cells": [
    {
      "cell_type": "markdown",
      "source": [
        "# Lambdas\n",
        "\n",
        "\n",
        "Creating a function normally (using def) assigns it to a variable automatically.\n",
        "This is different from the creation of other objects - such as strings and integers - which can be created on the fly, without assigning them to a variable.\n",
        "The same is possible with functions, provided that they are created using lambda syntax. Functions created this way are known as anonymous.\n",
        "This approach is most commonly used when passing a simple function as an argument to another function. The syntax is shown in the next example and consists of the lambda keyword followed by a list of arguments, a colon, and the expression to evaluate and return."
      ],
      "metadata": {
        "id": "s4O2DbFMhBSR"
      }
    },
    {
      "cell_type": "code",
      "source": [
        "def my_func(f, arg):\n",
        "  return f(arg)\n",
        "\n",
        "my_func(lambda x: 2*x*x, 5)"
      ],
      "metadata": {
        "colab": {
          "base_uri": "https://localhost:8080/"
        },
        "id": "ctttDvaUhDUg",
        "outputId": "2487fff0-f9a2-41aa-e35d-c776ae6f2b7e"
      },
      "execution_count": null,
      "outputs": [
        {
          "output_type": "execute_result",
          "data": {
            "text/plain": [
              "50"
            ]
          },
          "metadata": {},
          "execution_count": 2
        }
      ]
    },
    {
      "cell_type": "markdown",
      "source": [
        "Lambda functions aren't as powerful as named functions.\n",
        "They can only do things that require a single expression - usually equivalent to a single line of code."
      ],
      "metadata": {
        "id": "YhmmQFGCh6M4"
      }
    },
    {
      "cell_type": "code",
      "source": [
        "(lambda x: 2*x*x)(5)"
      ],
      "metadata": {
        "colab": {
          "base_uri": "https://localhost:8080/"
        },
        "id": "uK2CLPykhu6t",
        "outputId": "5fbbbfcd-4b74-4309-996a-ceb148eef986"
      },
      "execution_count": null,
      "outputs": [
        {
          "output_type": "execute_result",
          "data": {
            "text/plain": [
              "50"
            ]
          },
          "metadata": {},
          "execution_count": 5
        }
      ]
    },
    {
      "cell_type": "code",
      "source": [
        "(lambda x: x+x+x)(3)"
      ],
      "metadata": {
        "colab": {
          "base_uri": "https://localhost:8080/"
        },
        "id": "kX4oGLjeh7oQ",
        "outputId": "4f73b9a8-8410-47cf-aeaf-cd46d7de3051"
      },
      "execution_count": null,
      "outputs": [
        {
          "output_type": "execute_result",
          "data": {
            "text/plain": [
              "9"
            ]
          },
          "metadata": {},
          "execution_count": 6
        }
      ]
    },
    {
      "cell_type": "code",
      "source": [
        "(lambda x,y: x-y)(5,4)"
      ],
      "metadata": {
        "colab": {
          "base_uri": "https://localhost:8080/"
        },
        "id": "p_2W8YgziDLz",
        "outputId": "2291a390-66e7-492f-ebeb-32a051fddb9d"
      },
      "execution_count": null,
      "outputs": [
        {
          "output_type": "execute_result",
          "data": {
            "text/plain": [
              "1"
            ]
          },
          "metadata": {},
          "execution_count": 9
        }
      ]
    },
    {
      "cell_type": "code",
      "source": [
        "myfirstlambda = (lambda x: x+1)(7)\n",
        "myfirstlambda"
      ],
      "metadata": {
        "colab": {
          "base_uri": "https://localhost:8080/"
        },
        "id": "8540e-_xilYb",
        "outputId": "5495d7c1-146a-4a7b-d4fe-82b595c2310e"
      },
      "execution_count": null,
      "outputs": [
        {
          "output_type": "execute_result",
          "data": {
            "text/plain": [
              "8"
            ]
          },
          "metadata": {},
          "execution_count": 14
        }
      ]
    },
    {
      "cell_type": "markdown",
      "source": [
        "Lambda functions can be assigned to variables, and used like normal functions.\n",
        "However, there is rarely a good reason to do this - it is usually better to define a function with def instead.\n"
      ],
      "metadata": {
        "id": "ntSJ7GEXi6yB"
      }
    },
    {
      "cell_type": "code",
      "source": [
        "lambdafunc = lambda x,y: x*y\n",
        "x = lambdafunc(5,3)\n",
        "x"
      ],
      "metadata": {
        "colab": {
          "base_uri": "https://localhost:8080/"
        },
        "id": "3_fBJm5gi76-",
        "outputId": "fe555bc3-b8bf-4ac2-dfe7-4b59e34536d5"
      },
      "execution_count": null,
      "outputs": [
        {
          "output_type": "execute_result",
          "data": {
            "text/plain": [
              "15"
            ]
          },
          "metadata": {},
          "execution_count": 16
        }
      ]
    },
    {
      "cell_type": "markdown",
      "source": [
        "# map\n",
        "\n",
        "The built-in functions map and filter are very useful higher-order functions that operate on lists (or similar objects called iterables).\n",
        "The function map takes a function and an iterable as arguments, and returns a new iterable with the function applied to each argument."
      ],
      "metadata": {
        "id": "x8MXJazAjS0c"
      }
    },
    {
      "cell_type": "code",
      "source": [
        "def add_five (x):\n",
        "  return x+5\n",
        "\n",
        "nums = [11,22,33,44]\n",
        "result = list(map(add_five,nums))\n",
        "print(result)"
      ],
      "metadata": {
        "colab": {
          "base_uri": "https://localhost:8080/"
        },
        "id": "VFmG00zDjrOu",
        "outputId": "ea703b41-f601-481d-c223-05e22108ac72"
      },
      "execution_count": null,
      "outputs": [
        {
          "output_type": "stream",
          "name": "stdout",
          "text": [
            "[16, 27, 38, 49]\n"
          ]
        }
      ]
    },
    {
      "cell_type": "markdown",
      "source": [
        "Using lambda syntax"
      ],
      "metadata": {
        "id": "Wu-zTgYOkHa_"
      }
    },
    {
      "cell_type": "code",
      "source": [
        "nums = [11,22,33,44]\n",
        "result = list(map(lambda x: x + 5,nums))\n",
        "print(result)"
      ],
      "metadata": {
        "colab": {
          "base_uri": "https://localhost:8080/"
        },
        "id": "CyMR-lpNkD1_",
        "outputId": "9548833c-2446-46c7-b4af-d28cf060ed25"
      },
      "execution_count": null,
      "outputs": [
        {
          "output_type": "stream",
          "name": "stdout",
          "text": [
            "[16, 27, 38, 49]\n"
          ]
        }
      ]
    },
    {
      "cell_type": "markdown",
      "source": [
        "# filter \n",
        "The function filter filters an iterable by removing items that don't match a predicate (a function that returns a Boolean)."
      ],
      "metadata": {
        "id": "Mow7EmLiknN3"
      }
    },
    {
      "cell_type": "code",
      "source": [
        "nums = [11,22,33,44]\n",
        "result = list(filter(lambda x: x%2 == 0, nums))\n",
        "print(result)"
      ],
      "metadata": {
        "colab": {
          "base_uri": "https://localhost:8080/"
        },
        "id": "98PPph8qkm4x",
        "outputId": "c4c1cba1-d56e-4dcb-81b8-754122313396"
      },
      "execution_count": null,
      "outputs": [
        {
          "output_type": "stream",
          "name": "stdout",
          "text": [
            "[22, 44]\n"
          ]
        }
      ]
    },
    {
      "cell_type": "markdown",
      "source": [
        "Given a list of names, output a list that contains only the names that consist of more than 5 characters."
      ],
      "metadata": {
        "id": "hfd12LOBlSH9"
      }
    },
    {
      "cell_type": "code",
      "source": [
        "names = [\"David\", \"John\", \"Annabelle\", \"Johnathan\", \"Veronica\"]\n",
        "\n",
        "names_filtered = list(filter(lambda x: len(x)>5, names)) \n",
        "print(names_filtered)"
      ],
      "metadata": {
        "colab": {
          "base_uri": "https://localhost:8080/"
        },
        "id": "Y8r8cHFSlSm8",
        "outputId": "e1c39439-f5d3-46ac-f279-ba1fb81252e7"
      },
      "execution_count": null,
      "outputs": [
        {
          "output_type": "stream",
          "name": "stdout",
          "text": [
            "['Annabelle', 'Johnathan', 'Veronica']\n"
          ]
        }
      ]
    },
    {
      "cell_type": "markdown",
      "source": [
        "Fill in the blanks to extract all items that are less than 5 from the list.\n"
      ],
      "metadata": {
        "id": "KlP-Qr_2l00-"
      }
    },
    {
      "cell_type": "code",
      "source": [
        "nums = [1, 2, 5, 8, 3, 0, 7]\n",
        "\n",
        "less = list(filter(lambda x: x<5, nums))\n",
        "print(less)"
      ],
      "metadata": {
        "colab": {
          "base_uri": "https://localhost:8080/"
        },
        "id": "yas8RUJHlz22",
        "outputId": "10a67853-8776-4cb9-8ecb-a3e389318d15"
      },
      "execution_count": null,
      "outputs": [
        {
          "output_type": "stream",
          "name": "stdout",
          "text": [
            "[1, 2, 3, 0]\n"
          ]
        }
      ]
    }
  ]
}