{
 "cells": [
  {
   "cell_type": "markdown",
   "metadata": {
    "id": "4Mlc5tOcQ4i0"
   },
   "source": [
    "---\n",
    "\n",
    "# 2. NumPy"
   ]
  },
  {
   "cell_type": "markdown",
   "metadata": {
    "id": "z7SI3UG3Q4i1"
   },
   "source": [
    "It is very important that you google and consult the documentation. If you didn't install it, now is a good time. When we want to use a library, we must first import it.\n",
    "\n",
    "Now our work environment knows that if we put something like __np.__ it means that this functionality must be found in NumPy. Important: If the library was NOT installed correctly, you will get an error message.\n",
    "\n",
    "The main data type that NumPy works on are arrays. Arrays are similar to lists and can actually be created from them."
   ]
  },
  {
   "cell_type": "code",
   "execution_count": null,
   "metadata": {
    "id": "MAfdxIZ8Q4i1"
   },
   "outputs": [],
   "source": [
    "import numpy as np"
   ]
  },
  {
   "cell_type": "code",
   "execution_count": null,
   "metadata": {
    "colab": {
     "base_uri": "https://localhost:8080/"
    },
    "id": "HXxW1c51Q4i2",
    "outputId": "d3e0a223-534e-4aa6-e3bf-f0415af15b1a"
   },
   "outputs": [
    {
     "name": "stdout",
     "output_type": "stream",
     "text": [
      "[0, 1, 2, 3, 4, 5]\n",
      "[0 1 2 3 4 5]\n",
      "\n"
     ]
    }
   ],
   "source": [
    "my_list = [0,1,2,3,4,5]\n",
    "array = np.array(my_list)\n",
    "\n",
    "print(my_list)\n",
    "print(array)\n",
    "print()"
   ]
  },
  {
   "cell_type": "markdown",
   "metadata": {
    "id": "kKrgLFmmQ4i3"
   },
   "source": [
    "But they are more than a list. Some things that couldn't be done with lists can now be done with fixes. Remember that adding a number to the entire list was not allowed."
   ]
  },
  {
   "cell_type": "code",
   "execution_count": null,
   "metadata": {
    "colab": {
     "base_uri": "https://localhost:8080/",
     "height": 167
    },
    "id": "P1xVH2MqQ4i3",
    "outputId": "caa25f37-41a4-49d9-8934-19a3c8f55617"
   },
   "outputs": [
    {
     "ename": "TypeError",
     "evalue": "ignored",
     "output_type": "error",
     "traceback": [
      "\u001b[0;31m---------------------------------------------------------------------------\u001b[0m\n",
      "\u001b[0;31mTypeError\u001b[0m                                 Traceback (most recent call last)\n",
      "\u001b[0;32m<ipython-input-109-c39b2b5ca5a3>\u001b[0m in \u001b[0;36m<module>\u001b[0;34m()\u001b[0m\n",
      "\u001b[0;32m----> 1\u001b[0;31m \u001b[0mmy_list\u001b[0m \u001b[0;34m+\u001b[0m \u001b[0;36m1\u001b[0m\u001b[0;34m\u001b[0m\u001b[0;34m\u001b[0m\u001b[0m\n",
      "\u001b[0m\n",
      "\u001b[0;31mTypeError\u001b[0m: can only concatenate list (not \"int\") to list"
     ]
    }
   ],
   "source": [
    "my_list + 1"
   ]
  },
  {
   "cell_type": "markdown",
   "metadata": {
    "id": "DL-m12M9Q4i4"
   },
   "source": [
    "But now with the arrays yes!"
   ]
  },
  {
   "cell_type": "code",
   "execution_count": null,
   "metadata": {
    "colab": {
     "base_uri": "https://localhost:8080/"
    },
    "id": "0N7TvUbVQ4i4",
    "outputId": "4d3f75b5-ad6d-4f7a-a211-3ebddad146a5"
   },
   "outputs": [
    {
     "data": {
      "text/plain": [
       "array([1, 2, 3, 4, 5, 6])"
      ]
     },
     "metadata": {},
     "output_type": "display_data"
    }
   ],
   "source": [
    "array + 1"
   ]
  },
  {
   "cell_type": "code",
   "execution_count": null,
   "metadata": {
    "colab": {
     "base_uri": "https://localhost:8080/"
    },
    "id": "Gr0HvDABQ4i4",
    "outputId": "e494669d-3aaa-4838-914a-ed501b45ad44"
   },
   "outputs": [
    {
     "name": "stdout",
     "output_type": "stream",
     "text": [
      "[-5 -4 -3 -2 -1  0]\n",
      "[-2 -1  0  1  2  3]\n",
      "[ 0  4  8 12 16 20]\n",
      "[ 0  1  4  9 16 25]\n"
     ]
    }
   ],
   "source": [
    "print(array - 5)\n",
    "print(array - 2)\n",
    "print(array * 4)\n",
    "print(array ** 2)"
   ]
  },
  {
   "cell_type": "markdown",
   "metadata": {
    "id": "W2nMW2wDQ4i5"
   },
   "source": [
    "**TODO:** Except for multiplication, none was allowed in lists. What does multiplication do for a list?\n",
    "\n",
    "**Concatenation as well as string**"
   ]
  },
  {
   "cell_type": "code",
   "execution_count": null,
   "metadata": {
    "colab": {
     "base_uri": "https://localhost:8080/"
    },
    "id": "5XnHGH7wkj3v",
    "outputId": "e27869a9-1bad-46f0-9097-6432cc421cd4"
   },
   "outputs": [
    {
     "name": "stdout",
     "output_type": "stream",
     "text": [
      "[['Hello'], ['Hello'], ['Hello']]\n",
      "HelloHelloHello\n"
     ]
    }
   ],
   "source": [
    "my_list= [\"Hello\"]\n",
    "print([my_list]*3)\n",
    "print(\"Hello\"*3)"
   ]
  },
  {
   "cell_type": "markdown",
   "metadata": {
    "id": "UPOFZHDmQ4i6"
   },
   "source": [
    "## Array Creation\n",
    "\n",
    "While we can create arrays from lists, NumPy comes with many features to do so. Let's see some.\n",
    "\n",
    "A widely used one is __np.arange()__. Check your documentation. Alternatively, in a code cell, type __np.arange__ and press __shift + tab__. That way, help will appear.\n",
    "\n",
    "Play around with the example below."
   ]
  },
  {
   "cell_type": "code",
   "execution_count": null,
   "metadata": {
    "colab": {
     "base_uri": "https://localhost:8080/"
    },
    "id": "ZM0A1oYDQ4i6",
    "outputId": "1ce7333f-88ac-4540-bd1c-c31ec1d52230"
   },
   "outputs": [
    {
     "name": "stdout",
     "output_type": "stream",
     "text": [
      "[ 3  5  7  9 11 13 15 17 19]\n"
     ]
    }
   ],
   "source": [
    "array = np.arange(3, 20, 2)\n",
    "print(array)"
   ]
  },
  {
   "cell_type": "code",
   "execution_count": null,
   "metadata": {
    "colab": {
     "base_uri": "https://localhost:8080/"
    },
    "id": "SSqih62BjkfL",
    "outputId": "24df8ed3-9f21-420e-bc80-1a4a11c08588"
   },
   "outputs": [
    {
     "name": "stdout",
     "output_type": "stream",
     "text": [
      "[10 15 20]\n"
     ]
    }
   ],
   "source": [
    "array2 = np.arange(10,21,5)\n",
    "print(array2)"
   ]
  },
  {
   "cell_type": "code",
   "execution_count": null,
   "metadata": {
    "colab": {
     "base_uri": "https://localhost:8080/"
    },
    "id": "OZPhE_MHqOSc",
    "outputId": "a0c01817-b627-4b17-fa7d-2b8563933a90"
   },
   "outputs": [
    {
     "name": "stdout",
     "output_type": "stream",
     "text": [
      "[10  9  8  7  6  5  4  3  2  1]\n"
     ]
    }
   ],
   "source": [
    "array3= np.arange(10,0,-1)\n",
    "print(array3)"
   ]
  },
  {
   "cell_type": "markdown",
   "metadata": {
    "id": "kzxpZWkuQ4i7"
   },
   "source": [
    "**TODO:**\n",
    "Investigate and create examples with the following functions\n",
    "\n",
    "* np.linspace\n",
    "* np.arange\n",
    "* np.zeros and np.ones"
   ]
  },
  {
   "cell_type": "code",
   "execution_count": null,
   "metadata": {
    "colab": {
     "base_uri": "https://localhost:8080/"
    },
    "id": "Slaup-cKlCOw",
    "outputId": "8ff930c3-052b-4a9f-9949-dfeddd0e063b"
   },
   "outputs": [
    {
     "name": "stdout",
     "output_type": "stream",
     "text": [
      "[ 0 10 20 30 40 50]\n",
      "El shape de array1 es: (6,)\n",
      "El size del array1 es:6\n",
      "\n",
      "[  1.           3.08333333   5.16666667   7.25         9.33333333\n",
      "  11.41666667  13.5         15.58333333  17.66666667  19.75\n",
      "  21.83333333  23.91666667  26.          28.08333333  30.16666667\n",
      "  32.25        34.33333333  36.41666667  38.5         40.58333333\n",
      "  42.66666667  44.75        46.83333333  48.91666667  51.\n",
      "  53.08333333  55.16666667  57.25        59.33333333  61.41666667\n",
      "  63.5         65.58333333  67.66666667  69.75        71.83333333\n",
      "  73.91666667  76.          78.08333333  80.16666667  82.25\n",
      "  84.33333333  86.41666667  88.5         90.58333333  92.66666667\n",
      "  94.75        96.83333333  98.91666667 101.        ]\n",
      "El shape de array2 es: (49,)\n",
      "El size del array2 es:49\n",
      "\n",
      "[[0 0 0 0]\n",
      " [0 0 0 0]\n",
      " [0 0 0 0]]\n",
      "El shape de array3 es: (3, 4)\n",
      "El size del array3 es:12\n",
      "\n",
      "[['1' '1' '1' '1' '1' '1' '1' '1' '1' '1']\n",
      " ['1' '1' '1' '1' '1' '1' '1' '1' '1' '1']]\n",
      "El shape de array4 es: (2, 10)\n",
      "El size del array4 es:20\n",
      "\n"
     ]
    }
   ],
   "source": [
    "array1 = np.arange(0,51,10)\n",
    "print(array1)\n",
    "print(\"El shape de array1 es:\", array1.shape)\n",
    "print(\"El size del array1 es:\",array1.size,\"\\n\",sep=\"\")\n",
    "\n",
    "array2 = np.linspace(1,101,49)\n",
    "print(array2)\n",
    "print(\"El shape de array2 es:\", array2.shape)\n",
    "print(\"El size del array2 es:\",array2.size,\"\\n\",sep=\"\")\n",
    "\n",
    "array3= np.zeros((3,4), dtype=int)\n",
    "print(array3)\n",
    "print(\"El shape de array3 es:\", array3.shape)\n",
    "print(\"El size del array3 es:\",array3.size,\"\\n\",sep=\"\")\n",
    "\n",
    "array4 = np.ones((2,10),dtype=str)\n",
    "print(array4)\n",
    "print(\"El shape de array4 es:\", array4.shape)\n",
    "print(\"El size del array4 es:\",array4.size,\"\\n\",sep=\"\")"
   ]
  },
  {
   "cell_type": "markdown",
   "metadata": {
    "id": "e-DTySRuQ4i7"
   },
   "source": [
    "## Array Shape\n",
    "Arrays have many more properties than lists. In particular, they may have more than one axis or dimension. Let's see what we mean:"
   ]
  },
  {
   "cell_type": "code",
   "execution_count": null,
   "metadata": {
    "colab": {
     "base_uri": "https://localhost:8080/"
    },
    "id": "qOdCnLniQ4i7",
    "outputId": "e2836b11-9a53-418e-cc78-93fb9245b134"
   },
   "outputs": [
    {
     "name": "stdout",
     "output_type": "stream",
     "text": [
      "[[1 2 3 4]\n",
      " [5 6 7 8]]\n"
     ]
    }
   ],
   "source": [
    "array_2d = np.array([\n",
    "                     [1, 2, 3, 4], \n",
    "                     [5, 6, 7, 8]\n",
    "                     ])\n",
    "print(array_2d)\n"
   ]
  },
  {
   "cell_type": "code",
   "execution_count": null,
   "metadata": {
    "colab": {
     "base_uri": "https://localhost:8080/"
    },
    "id": "koWBCgngQ4i8",
    "outputId": "0473052c-003f-4bfb-bcb0-3e42641532b8"
   },
   "outputs": [
    {
     "data": {
      "text/plain": [
       "(2, 4)"
      ]
     },
     "metadata": {},
     "output_type": "display_data"
    }
   ],
   "source": [
    "array_2d.shape"
   ]
  },
  {
   "cell_type": "code",
   "execution_count": null,
   "metadata": {
    "colab": {
     "base_uri": "https://localhost:8080/"
    },
    "id": "Rwdmj1e2Q4i8",
    "outputId": "ffc372ba-fc2b-46ec-ecc8-210315b1cedc"
   },
   "outputs": [
    {
     "name": "stdout",
     "output_type": "stream",
     "text": [
      "[[1 2]\n",
      " [3 4]\n",
      " [5 6]\n",
      " [7 8]]\n",
      "(4, 2)\n",
      "8\n"
     ]
    }
   ],
   "source": [
    "array_2d = np.array([[1, 2], [3, 4], [5, 6], [7, 8]])\n",
    "print(array_2d)\n",
    "print(array_2d.shape)\n",
    "print(array_2d.size)"
   ]
  },
  {
   "cell_type": "code",
   "execution_count": null,
   "metadata": {
    "colab": {
     "base_uri": "https://localhost:8080/"
    },
    "id": "Wxrf6PNzrpYt",
    "outputId": "1751bf44-7569-4925-beda-af486359aa36"
   },
   "outputs": [
    {
     "name": "stdout",
     "output_type": "stream",
     "text": [
      "[[ 1  2  3]\n",
      " [ 4  5  6]\n",
      " [ 7  8  9]\n",
      " [10 11 12]]\n",
      "12\n",
      "(4, 3)\n",
      "<class 'numpy.ndarray'>\n",
      "<class 'numpy.int64'>\n",
      "3\n"
     ]
    }
   ],
   "source": [
    "array_2d2= np.array([[1,2,3],[4,5,6],[7,8,9],[10,11,12]], dtype=int)\n",
    "print(array_2d2)\n",
    "print(array_2d2.size)\n",
    "print(array_2d2.shape)\n",
    "print(type(array_2d2))\n",
    "print(type(array_2d2[0][0]))\n",
    "print(array_2d2[0][2])"
   ]
  },
  {
   "cell_type": "markdown",
   "metadata": {
    "id": "bUg9aYnIQ4i9"
   },
   "source": [
    "If we want to know how many elements it has, we can use __.size__"
   ]
  },
  {
   "cell_type": "code",
   "execution_count": null,
   "metadata": {
    "colab": {
     "base_uri": "https://localhost:8080/"
    },
    "id": "4d7vaqkZQ4i9",
    "outputId": "d7a4743c-ff28-489e-8ab6-b52233befc40"
   },
   "outputs": [
    {
     "name": "stdout",
     "output_type": "stream",
     "text": [
      "8\n"
     ]
    }
   ],
   "source": [
    "print(array_2d.size)"
   ]
  },
  {
   "cell_type": "markdown",
   "metadata": {
    "id": "ndMX_RBzQ4i-"
   },
   "source": [
    "## Arrays operations\n",
    "\n",
    "NumPy arrays come with a bunch of functions that operate on arrays."
   ]
  },
  {
   "cell_type": "code",
   "execution_count": null,
   "metadata": {
    "colab": {
     "base_uri": "https://localhost:8080/"
    },
    "id": "jj-AWKSvQ4i-",
    "outputId": "794aaa38-911a-4223-a4c3-7c02f3743707"
   },
   "outputs": [
    {
     "name": "stdout",
     "output_type": "stream",
     "text": [
      "-100\n",
      "95\n"
     ]
    }
   ],
   "source": [
    "array = np.array([-100,2,3,17,25,1,95])\n",
    "print(array.min())\n",
    "print(array.max())"
   ]
  },
  {
   "cell_type": "markdown",
   "metadata": {
    "id": "TT2EFwZVQ4i-"
   },
   "source": [
    "In the 2D case, we can request that these functions operate on the entire array, or by axes."
   ]
  },
  {
   "cell_type": "markdown",
   "metadata": {
    "id": "At63EDYsQ4i_"
   },
   "source": [
    "**TODO:** Try to understand the difference between the following instructions"
   ]
  },
  {
   "cell_type": "code",
   "execution_count": null,
   "metadata": {
    "colab": {
     "base_uri": "https://localhost:8080/"
    },
    "id": "3wCFlb1eQ4i_",
    "outputId": "5c803ee8-0a51-4e13-cd80-25a4c9b41cb6"
   },
   "outputs": [
    {
     "name": "stdout",
     "output_type": "stream",
     "text": [
      "-----Array 2d-----\n",
      "[[1 2]\n",
      " [3 4]\n",
      " [5 6]\n",
      " [7 8]] \n",
      "\n",
      "El shape de array_2d es: (4, 2)\n",
      "El size del array_2d es:8\n",
      "\n",
      "-----Array 2d max----\n",
      "The maximum value of the entire array_2d is: 8\n",
      "The maximum value of the axis 0 of array_2d is: [7 8]\n",
      "The maximum value of the axis 1 of array_2d is:[2 4 6 8]\n",
      "\n",
      "-----Array 2d min----\n",
      "The minimum value of the entire array_2d is: 1\n",
      "The minimum value of the axis 0 of array_2d is: [1 2]\n",
      "The minimum value of the axis 1 of array_2d is:[1 3 5 7]\n",
      "\n",
      "-----Array 3d-----\n",
      "[[[9 8]\n",
      "  [7 6]]\n",
      "\n",
      " [[5 4]\n",
      "  [3 2]]]\n",
      "\n",
      "El shape de array_3d es: (2, 2, 2)\n",
      "El size del array_3d es:8\n",
      "\n",
      "-----Array 3d max----\n",
      "The maximum value of the entire array_3d is: 9\n",
      "The maximum value of the axis 0 of array_3d is: [[9 8]\n",
      " [7 6]]\n",
      "The maximum value of the axis 1 of array_3d is: [[9 8]\n",
      " [5 4]]\n",
      "The maximum value of the axis 2 of array_3d is:[[9 7]\n",
      " [5 3]]\n",
      "\n",
      "-----Array 3d min----\n",
      "The minimum value of the entire array_3d is: 2\n",
      "The minimum value of the axis 0 of array_3d is: [[5 4]\n",
      " [3 2]]\n",
      "The minimum value of the axis 1 of array_3d is: [[7 6]\n",
      " [3 2]]\n",
      "The minimum value of the axis 2 of array_3d is:[[8 6]\n",
      " [4 2]]\n",
      "\n"
     ]
    }
   ],
   "source": [
    "print(\"-----Array 2d-----\")\n",
    "print(array_2d,\"\\n\")\n",
    "print(\"El shape de array_2d es:\", array_2d.shape)\n",
    "print(\"El size del array_2d es:\", array_2d.size,\"\\n\",sep=\"\")\n",
    "print(\"-----Array 2d max----\")\n",
    "print(\"The maximum value of the entire array_2d is:\",array_2d.max())\n",
    "print(\"The maximum value of the axis 0 of array_2d is:\",array_2d.max(axis=0))\n",
    "print(\"The maximum value of the axis 1 of array_2d is:\",array_2d.max(axis=1),\"\\n\",sep=\"\")\n",
    "print(\"-----Array 2d min----\")\n",
    "print(\"The minimum value of the entire array_2d is:\",array_2d.min())\n",
    "print(\"The minimum value of the axis 0 of array_2d is:\",array_2d.min(axis=0))\n",
    "print(\"The minimum value of the axis 1 of array_2d is:\",array_2d.min(axis=1),\"\\n\",sep=\"\")\n",
    "print(\"-----Array 3d-----\")\n",
    "array_3d= np.arange(9,1,-1).reshape(2,2,2)\n",
    "print(array_3d,\"\\n\",sep=\"\")\n",
    "print(\"El shape de array_3d es:\", array_3d.shape)\n",
    "print(\"El size del array_3d es:\", array_3d.size,\"\\n\",sep=\"\")\n",
    "print(\"-----Array 3d max----\")\n",
    "print(\"The maximum value of the entire array_3d is:\",array_3d.max())\n",
    "print(\"The maximum value of the axis 0 of array_3d is:\",array_3d.max(axis=0))\n",
    "print(\"The maximum value of the axis 1 of array_3d is:\",array_3d.max(axis=1))\n",
    "print(\"The maximum value of the axis 2 of array_3d is:\",array_3d.max(axis=2),\"\\n\",sep=\"\")\n",
    "print(\"-----Array 3d min----\")\n",
    "print(\"The minimum value of the entire array_3d is:\",array_3d.min())\n",
    "print(\"The minimum value of the axis 0 of array_3d is:\",array_3d.min(axis=0))\n",
    "print(\"The minimum value of the axis 1 of array_3d is:\",array_3d.min(axis=1))\n",
    "print(\"The minimum value of the axis 2 of array_3d is:\",array_3d.min(axis=2),\"\\n\",sep=\"\")"
   ]
  },
  {
   "cell_type": "markdown",
   "metadata": {
    "id": "WgrZ6Q6eQ4jA"
   },
   "source": [
    "## Slicing\n",
    "\n",
    "We didn't say anything about indexing or slicing. This is because, for 1D arrays, it is similar to that for lists. For 2D arrays, it's slightly more complicated."
   ]
  },
  {
   "cell_type": "code",
   "execution_count": null,
   "metadata": {
    "colab": {
     "base_uri": "https://localhost:8080/"
    },
    "id": "F9XGL5koQ4jB",
    "outputId": "f971ee36-62c0-4dec-e562-7e6bbbc3eafc"
   },
   "outputs": [
    {
     "name": "stdout",
     "output_type": "stream",
     "text": [
      "[[0 1 2]\n",
      " [3 4 5]\n",
      " [6 7 8]]\n",
      "\n",
      "[3 4 5] <class 'numpy.ndarray'>\n",
      "8 <class 'numpy.int64'>\n",
      "Working with Rows\n",
      "[2 1 0]\n",
      "[2 1]\n",
      "[6 7]\n",
      "Working with Columns\n",
      "[1 4 7]\n",
      "[2 5]\n",
      "[6 3 0]\n",
      "[0 3 6]\n"
     ]
    }
   ],
   "source": [
    "array_2d = np.arange(9).reshape(3,3)\n",
    "\n",
    "print(array_2d,\"\\n\",sep=\"\")\n",
    "print(array_2d[1],type(array_2d[1]))\n",
    "print(array_2d[2][2],type(array_2d[2][2]))\n",
    "print(\"Working with Rows\")\n",
    "print(array_2d[0,::-1])\n",
    "print(array_2d[0,:0:-1])\n",
    "print(array_2d[2,:2:])\n",
    "print(\"Working with Columns\")\n",
    "print(array_2d[:, 1])\n",
    "print(array_2d[:2, 2])\n",
    "print(array_2d[::-1, 0])\n",
    "print(array_2d[:,0])\n"
   ]
  },
  {
   "cell_type": "markdown",
   "metadata": {
    "id": "TxkIdhChQ4jB"
   },
   "source": [
    "**TODO:** Write an array with 100 equally spaced numbers from 0 to 9"
   ]
  },
  {
   "cell_type": "code",
   "execution_count": null,
   "metadata": {
    "colab": {
     "base_uri": "https://localhost:8080/"
    },
    "id": "gdqO4y9jQ4jC",
    "outputId": "21b2a44d-bc49-474b-9a83-e1fd08941583"
   },
   "outputs": [
    {
     "name": "stdout",
     "output_type": "stream",
     "text": [
      "[0.         0.09090909 0.18181818 0.27272727 0.36363636 0.45454545\n",
      " 0.54545455 0.63636364 0.72727273 0.81818182 0.90909091 1.\n",
      " 1.09090909 1.18181818 1.27272727 1.36363636 1.45454545 1.54545455\n",
      " 1.63636364 1.72727273 1.81818182 1.90909091 2.         2.09090909\n",
      " 2.18181818 2.27272727 2.36363636 2.45454545 2.54545455 2.63636364\n",
      " 2.72727273 2.81818182 2.90909091 3.         3.09090909 3.18181818\n",
      " 3.27272727 3.36363636 3.45454545 3.54545455 3.63636364 3.72727273\n",
      " 3.81818182 3.90909091 4.         4.09090909 4.18181818 4.27272727\n",
      " 4.36363636 4.45454545 4.54545455 4.63636364 4.72727273 4.81818182\n",
      " 4.90909091 5.         5.09090909 5.18181818 5.27272727 5.36363636\n",
      " 5.45454545 5.54545455 5.63636364 5.72727273 5.81818182 5.90909091\n",
      " 6.         6.09090909 6.18181818 6.27272727 6.36363636 6.45454545\n",
      " 6.54545455 6.63636364 6.72727273 6.81818182 6.90909091 7.\n",
      " 7.09090909 7.18181818 7.27272727 7.36363636 7.45454545 7.54545455\n",
      " 7.63636364 7.72727273 7.81818182 7.90909091 8.         8.09090909\n",
      " 8.18181818 8.27272727 8.36363636 8.45454545 8.54545455 8.63636364\n",
      " 8.72727273 8.81818182 8.90909091 9.        ]\n"
     ]
    }
   ],
   "source": [
    "# To complete\n",
    "array_test= np.linspace(0,9,100)\n",
    "print(array_test)"
   ]
  },
  {
   "cell_type": "markdown",
   "metadata": {
    "id": "tOKt8KohQ4jC"
   },
   "source": [
    "**TODO:** Create a 1D array of 20 zeros. Replace the first 15 elements with ones."
   ]
  },
  {
   "cell_type": "code",
   "execution_count": null,
   "metadata": {
    "colab": {
     "base_uri": "https://localhost:8080/"
    },
    "id": "mCw4-VTiQ4jD",
    "outputId": "ce832c81-2811-4529-ac2a-f2f2e6b1f20e"
   },
   "outputs": [
    {
     "name": "stdout",
     "output_type": "stream",
     "text": [
      "Original array:\n",
      "\n",
      "[0. 0. 0. 0. 0. 0. 0. 0. 0. 0. 0. 0. 0. 0. 0. 0. 0. 0. 0. 0.]\n",
      "20\n",
      "\n",
      "New array:\n",
      "[1. 1. 1. 1. 1. 1. 1. 1. 1. 1. 1. 1. 1. 1. 1.]\n",
      "15\n",
      "\n",
      "The result is:\n",
      "[1. 1. 1. 1. 1. 1. 1. 1. 1. 1. 1. 1. 1. 1. 1. 0. 0. 0. 0. 0.]\n",
      "20\n",
      "\n"
     ]
    }
   ],
   "source": [
    "# To complete\n",
    "print(\"Original array:\\n\")\n",
    "array_test2=np.zeros(20)\n",
    "print(array_test2)\n",
    "print(array_test2.size,\"\\n\",sep=\"\")\n",
    "print(\"New array:\")\n",
    "array_test3= array_test2[:15]= np.ones(15)\n",
    "print(array_test3)\n",
    "print(array_test3.size,\"\\n\",sep=\"\")\n",
    "print(\"The result is:\")\n",
    "print(array_test2)\n",
    "print(array_test2.size,\"\\n\",sep=\"\")\n"
   ]
  },
  {
   "cell_type": "markdown",
   "metadata": {
    "id": "yCRBqGBWQ4jD"
   },
   "source": [
    "**TODO:** Create a 1D array of 50 zeros. Replace the first 25 elements with the natural numbers from 0 to 24."
   ]
  },
  {
   "cell_type": "code",
   "execution_count": null,
   "metadata": {
    "colab": {
     "base_uri": "https://localhost:8080/"
    },
    "id": "7FaMKwsfQ4jD",
    "outputId": "bd2b23f4-8f50-4fb1-d6dc-73ccaa014d48"
   },
   "outputs": [
    {
     "name": "stdout",
     "output_type": "stream",
     "text": [
      "[ 0  1  2  3  4  5  6  7  8  9 10 11 12 13 14 15 16 17 18 19 20 21 22 23\n",
      " 24  0  0  0  0  0  0  0  0  0  0  0  0  0  0  0  0  0  0  0  0  0  0  0\n",
      "  0  0]\n"
     ]
    }
   ],
   "source": [
    "# To complete\n",
    "array_test4= np.zeros(50,int)\n",
    "array_test4[:25]=np.arange(25)\n",
    "print(array_test4)"
   ]
  },
  {
   "cell_type": "markdown",
   "metadata": {
    "id": "RLr6tcWSQ4jD"
   },
   "source": [
    "**TODO:** Create a 2D array of 3 rows and 3 columns, filled with zeros. Replace the elements of the second column by the numbers 1, 2 and 3 respectively."
   ]
  },
  {
   "cell_type": "code",
   "execution_count": null,
   "metadata": {
    "colab": {
     "base_uri": "https://localhost:8080/"
    },
    "id": "TcLMXEVnQ4jE",
    "outputId": "52aaf71b-114e-4c13-ce26-6df837ed1c70"
   },
   "outputs": [
    {
     "name": "stdout",
     "output_type": "stream",
     "text": [
      "[[0 1 0]\n",
      " [0 2 0]\n",
      " [0 3 0]]\n"
     ]
    }
   ],
   "source": [
    "# To complete\n",
    "array_test5=np.zeros((3,3),int)\n",
    "array_test5[:,1]=np.arange(1,4)\n",
    "print(array_test5)"
   ]
  },
  {
   "cell_type": "markdown",
   "metadata": {
    "id": "aML2A_OHQ4jE"
   },
   "source": [
    "**TODO:** Create a 2D array of 3 rows and 3 columns, filled with zeros. Replace the elements of the diagonal by ones."
   ]
  },
  {
   "cell_type": "code",
   "execution_count": null,
   "metadata": {
    "colab": {
     "base_uri": "https://localhost:8080/"
    },
    "id": "pNHWOrvlQ4jE",
    "outputId": "e74660aa-5037-4a31-8160-62696b2a75bb"
   },
   "outputs": [
    {
     "name": "stdout",
     "output_type": "stream",
     "text": [
      "[[1 0 0]\n",
      " [0 1 0]\n",
      " [0 0 1]]\n",
      "\n",
      "[[1 0 0]\n",
      " [0 1 0]\n",
      " [0 0 1]]\n"
     ]
    }
   ],
   "source": [
    "# To complete\n",
    "array_test6=np.zeros((3,3),int)\n",
    "np.fill_diagonal(array_test6,np.ones(1))\n",
    "print(array_test6,\"\\n\",sep=\"\")\n",
    "\n",
    "#Other option\n",
    "array_test6=np.zeros((3,3),int)\n",
    "np.fill_diagonal(array_test6,1)\n",
    "print(array_test6)"
   ]
  },
  {
   "cell_type": "markdown",
   "metadata": {
    "id": "3hNTP5RdQ4jF"
   },
   "source": [
    "**TODO:** Create a 2D array of 100 rows and 100 columns, filled with zeros. Replace the elements of the diagonal by ones."
   ]
  },
  {
   "cell_type": "code",
   "execution_count": null,
   "metadata": {
    "colab": {
     "base_uri": "https://localhost:8080/"
    },
    "id": "HbOr-tyYQ4jF",
    "outputId": "9e3e1fbc-ce89-43f1-8da6-791bd9ee32db"
   },
   "outputs": [
    {
     "name": "stdout",
     "output_type": "stream",
     "text": [
      "[[1. 0. 0. ... 0. 0. 0.]\n",
      " [0. 1. 0. ... 0. 0. 0.]\n",
      " [0. 0. 1. ... 0. 0. 0.]\n",
      " ...\n",
      " [0. 0. 0. ... 1. 0. 0.]\n",
      " [0. 0. 0. ... 0. 1. 0.]\n",
      " [0. 0. 0. ... 0. 0. 1.]]\n",
      "10000\n",
      "(100, 100)\n"
     ]
    }
   ],
   "source": [
    "# To complete\n",
    "array_test7 = np.zeros((100,100))\n",
    "np.fill_diagonal(array_test7,np.ones(1))\n",
    "print(array_test7)\n",
    "print(array_test7.size)\n",
    "print(array_test7.shape)"
   ]
  },
  {
   "cell_type": "markdown",
   "metadata": {
    "id": "uvgwzXDpQ4jF"
   },
   "source": [
    "## Statistics\n",
    "\n",
    "Descriptive Statistics helps us to begin to analyze and understand a set of data. In the case of numerical data, it does so by obtaining statistical values that, in some way, replace our data. For example, it is very difficult to read and understand the age of 1000 people. But with a reduced set of statistical values (minimum, maximum, mean and standard deviation, etc.) we can approximate that set in a much more understandable way.\n",
    "\n",
    "Given a set of numbers, the average is usually considered the most representative number of that set. This is not always the case.\n",
    "\n",
    "**TODO:**\n",
    "Given the following list of numbers, write a routine that computes their mean, [variance](https://en.wikipedia.org/wiki/Variance), and [standard deviation](https://en.wikipedia.org/wiki/Standard_deviation)."
   ]
  },
  {
   "cell_type": "code",
   "execution_count": null,
   "metadata": {
    "id": "Lh4JY3lDQ4jG"
   },
   "outputs": [],
   "source": [
    "my_list = [11, 12, 63, 31, 82, 56, 32, 686, 1, 2, 39, 9, 99, 2, 1]\n",
    "n = len(my_list)"
   ]
  },
  {
   "cell_type": "code",
   "execution_count": null,
   "metadata": {
    "colab": {
     "base_uri": "https://localhost:8080/"
    },
    "id": "LVLU4WEnQ4jG",
    "outputId": "89665118-a589-4487-d86c-8af45fbb9f7a"
   },
   "outputs": [
    {
     "name": "stdout",
     "output_type": "stream",
     "text": [
      "The mean is: 75.07\n",
      "The variance is: 27570.86\n",
      "The standard deviation is: 166.04\n"
     ]
    }
   ],
   "source": [
    "# To complete\n",
    "\n",
    "#total of sum with loop \n",
    "total = 0\n",
    "for i in my_list:\n",
    "   total+= i\n",
    "\n",
    "#calculate the mean\n",
    "mean = round(total/n,2)\n",
    "print(f'The mean is: {mean}')\n",
    "\n",
    "#calculate the variance\n",
    "#difference btw mean and values\n",
    "dif=[]\n",
    "for i in my_list:\n",
    "  x = i - mean\n",
    "  dif.append(x)\n",
    "\n",
    "#elevate result by square\n",
    "square = []\n",
    "for i in dif:\n",
    "  x = i**2\n",
    "  square.append(x)\n",
    "\n",
    "#sum all the results and calculate mean\n",
    "total2= 0\n",
    "for i in square:\n",
    "  total2 += i\n",
    "\n",
    "#calculate variance\n",
    "variance = round(total2/n,2)\n",
    "print(f'The variance is: {variance}')\n",
    "\n",
    "#calculate standard deviation\n",
    "standard_deviation = round(variance **(1/2),2) \n",
    "print(f'The standard deviation is: {standard_deviation}')"
   ]
  },
  {
   "cell_type": "markdown",
   "metadata": {
    "id": "-ozLQTU2Q4jH"
   },
   "source": [
    "**TODO:** Now with NumPy"
   ]
  },
  {
   "cell_type": "code",
   "execution_count": null,
   "metadata": {
    "colab": {
     "base_uri": "https://localhost:8080/"
    },
    "id": "sXu6g6e_Q4jH",
    "outputId": "0c28e8bc-6c5a-4b0b-9627-28033dab890a"
   },
   "outputs": [
    {
     "name": "stdout",
     "output_type": "stream",
     "text": [
      "The mean is: 75.07\n",
      "The variance is: 27570.86\n",
      "The standard deviation is: 166.04\n"
     ]
    }
   ],
   "source": [
    "# To complete\n",
    "array_test8=np.array(my_list)\n",
    "print(\"The mean is:\",round(np.mean(array_test8),2))\n",
    "print(\"The variance is:\",round(np.var(array_test8),2))\n",
    "print(\"The standard deviation is:\",round(np.std (array_test8),2))"
   ]
  },
  {
   "cell_type": "markdown",
   "metadata": {
    "id": "URImy2I0Q4jI"
   },
   "source": [
    "## Random\n",
    "\n",
    "One extremely useful thing we can do with NumPy is to generate random samples. These functions are found within the NumPy random package."
   ]
  },
  {
   "cell_type": "code",
   "execution_count": null,
   "metadata": {
    "colab": {
     "base_uri": "https://localhost:8080/"
    },
    "id": "5kfyFXQeQ4jI",
    "outputId": "4ef85b5f-9679-4a53-a2d0-d26080f2b275"
   },
   "outputs": [
    {
     "name": "stdout",
     "output_type": "stream",
     "text": [
      "[6 2 2 1 6 1 5 4 2 1 5 5 3 6 4]\n",
      "[1 2 5 6 1 6 3 2 1 1 5 1 2 4 5]\n",
      "[5 6 6 8 2 2 6 2 6 5]\n"
     ]
    }
   ],
   "source": [
    "die_samples = np.random.randint(1, 7, size=15)\n",
    "print(die_samples)\n",
    "\n",
    "die_samples = np.random.choice([1, 2, 3, 4, 5, 6], size=15)\n",
    "print(die_samples)\n",
    "\n",
    "die_samples =np.random.choice((np.array(np.random.randint(0,9,10))),size=10)\n",
    "print(die_samples)"
   ]
  },
  {
   "cell_type": "markdown",
   "metadata": {
    "id": "xPhqo5NGQ4jJ"
   },
   "source": [
    "**TODO:**\n",
    "What will be the mean of the values obtained by throwing a die many times? We are going to try to answer this question by simulating a die. For it:\n",
    "\n",
    "* Get random samples of a die with differet sample size (e.g. 10, 100, 1000, ...).\n",
    "* Calculate its mean and standard deviation.\n",
    "* From what number of samples does the average \"stabilize\"? **It stabilizes from number 10.000**"
   ]
  },
  {
   "cell_type": "code",
   "execution_count": null,
   "metadata": {
    "colab": {
     "base_uri": "https://localhost:8080/"
    },
    "id": "y8tzLWFpQ4jJ",
    "outputId": "cd3d03b4-4e89-4d2a-da0b-e67e349a582d"
   },
   "outputs": [
    {
     "name": "stdout",
     "output_type": "stream",
     "text": [
      "Sample10:\n",
      "Mean:3.7\n",
      "Std:2\n",
      "\n",
      "Sample100:\n",
      "Mean:3.2\n",
      "Std:2\n",
      "\n",
      "Sample1.000:\n",
      "Mean:3.451\n",
      "Std:2\n",
      "\n",
      "Sample10.000:\n",
      "Mean:3.5086\n",
      "Std:2\n",
      "\n",
      "Sample100.000:\n",
      "Mean:3.49825\n",
      "Std:2\n",
      "\n",
      "Sample1.000.000:\n",
      "Mean:3.497784\n",
      "Std:2\n",
      "\n",
      "Sample10.000.000:\n",
      "Mean:3.4999123\n",
      "Std:2\n",
      "\n",
      "Sample100.000.000:\n",
      "Mean:3.50010347\n",
      "Std:2\n",
      "\n"
     ]
    }
   ],
   "source": [
    "# To complete\n",
    "sample10 = np.random.randint(1,7,10)\n",
    "sample100 = np.random.randint(1,7,100)\n",
    "sample1000 = np.random.randint(1,7,1000)\n",
    "sample10000 = np.random.randint(1,7,10000)\n",
    "sample100000 = np.random.randint(1,7,100000)\n",
    "sample1000000 = np.random.randint(1,7,1000000)\n",
    "sample10000000 = np.random.randint(1,7,10000000)\n",
    "sample100000000 = np.random.randint(1,7,100000000)\n",
    "\n",
    "print(\"Sample10:\\n\",\"Mean:\",np.mean(sample10),\"\\nStd:\",round(np.std(sample10)),\"\\n\",sep=\"\")\n",
    "print(\"Sample100:\\n\",\"Mean:\",np.mean(sample100),\"\\nStd:\",round(np.std(sample100)),\"\\n\",sep=\"\")\n",
    "print(\"Sample1.000:\\n\",\"Mean:\",np.mean(sample1000),\"\\nStd:\",round(np.std(sample1000)),\"\\n\",sep=\"\")\n",
    "print(\"Sample10.000:\\n\",\"Mean:\",np.mean(sample10000),\"\\nStd:\",round(np.std(sample10000)),\"\\n\",sep=\"\")\n",
    "print(\"Sample100.000:\\n\",\"Mean:\",np.mean(sample100000),\"\\nStd:\",round(np.std(sample100000)),\"\\n\",sep=\"\")\n",
    "print(\"Sample1.000.000:\\n\",\"Mean:\",np.mean(sample1000000),\"\\nStd:\",round(np.std(sample1000000)),\"\\n\",sep=\"\")\n",
    "print(\"Sample10.000.000:\\n\",\"Mean:\",np.mean(sample10000000),\"\\nStd:\",round(np.std(sample10000000)),\"\\n\",sep=\"\")\n",
    "print(\"Sample100.000.000:\\n\",\"Mean:\",np.mean(sample100000000),\"\\nStd:\",round(np.std(sample100000000)),\"\\n\",sep=\"\")"
   ]
  },
  {
   "cell_type": "markdown",
   "metadata": {
    "id": "bR76I96-Q4jJ"
   },
   "source": [
    "**TODO:**\n",
    "\n",
    "Simulate a loaded die to favor a value of your choice. For example, the 6. To do this, consult the help of the __np.random.choice__ function. How do you modify the mean and standard deviation?"
   ]
  },
  {
   "cell_type": "code",
   "execution_count": null,
   "metadata": {
    "colab": {
     "base_uri": "https://localhost:8080/"
    },
    "id": "GhRdP_DlQ4jK",
    "outputId": "b8946e36-d72b-4090-cfd3-464235596e6c"
   },
   "outputs": [
    {
     "name": "stdout",
     "output_type": "stream",
     "text": [
      "[2 5 5 5 4 4 5 5 4 5 2 5 1 5 4 2 3 4 4 5 5 5 2 2 1 3 6 5 6 5 2 5 5 4 6 5 1\n",
      " 3 2 5 3 2 5 3 6 5 5 5 2 2 5 5 1 5 5 6 5 4 2 6 5 6 5 4 3 1 6 5 5 4 2 1 5 5\n",
      " 2 2 6 5 1 4 5 5 1 6 5 4 2 5 5 5 1 4 4 5 5 5 3 1 4 5]\n",
      "\n",
      " 43 times number 5 out of 100\n"
     ]
    }
   ],
   "source": [
    "# To complete\n",
    "die = np.arange(1,7)\n",
    "prob5= [0.12,0.12,0.12,0.12,0.4,0.12]\n",
    "\n",
    "loadeddie5= np.random.choice(die,p=prob5,size=100)\n",
    "\n",
    "print(loadeddie5)\n",
    "print(\"\\n\",np.count_nonzero(loadeddie5 == 5),\"times number 5 out of 100\")"
   ]
  }
 ],
 "metadata": {
  "kernelspec": {
   "display_name": "Python 3.10.5 64-bit",
   "language": "python",
   "name": "python3"
  },
  "language_info": {
   "name": "python",
   "version": "3.10.5"
  },
  "orig_nbformat": 4,
  "vscode": {
   "interpreter": {
    "hash": "63413d40248b15c5e3979e4e9ac9f50870b25d2b4b7e5c66b4da92bd9f0fa5ed"
   }
  }
 },
 "nbformat": 4,
 "nbformat_minor": 2
}
