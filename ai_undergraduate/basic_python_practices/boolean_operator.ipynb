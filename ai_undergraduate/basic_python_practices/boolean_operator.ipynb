{
  "cells": [
    {
      "cell_type": "markdown",
      "metadata": {
        "id": "NjWjmNU09lvn"
      },
      "source": [
        "# Boolean operators"
      ]
    },
    {
      "cell_type": "markdown",
      "metadata": {
        "id": "_EZNFZkSkY_r"
      },
      "source": [
        "**Ejercicio 1.**\n",
        "Escribir un programa que pregunte al usuario su edad y muestre por pantalla si es mayor de edad o no."
      ]
    },
    {
      "cell_type": "code",
      "execution_count": null,
      "metadata": {
        "colab": {
          "base_uri": "https://localhost:8080/"
        },
        "id": "jS6hwILi223r",
        "outputId": "51dee706-0e73-4a31-a88a-bfebed17b7a4"
      },
      "outputs": [
        {
          "name": "stdout",
          "output_type": "stream",
          "text": [
            "Ingrese su edad:10\n",
            "Es menor de edad\n"
          ]
        }
      ],
      "source": [
        "age = int(input(\"Ingrese su edad:\"))\n",
        "print(\"Es mayor de edad\")if age >= 18 else print(\"Es menor de edad\")"
      ]
    },
    {
      "cell_type": "markdown",
      "metadata": {
        "id": "1Y4IDUmPkgwG"
      },
      "source": [
        "**Ejercicio 2.**\n",
        "Escribir un programa que almacene la cadena de caracteres contraseña en una variable, pregunte al usuario por la contraseña e imprima por pantalla si la contraseña introducida por el usuario coincide con la guardada en la variable sin tener en cuenta mayúsculas y minúsculas."
      ]
    },
    {
      "cell_type": "code",
      "execution_count": null,
      "metadata": {
        "colab": {
          "base_uri": "https://localhost:8080/"
        },
        "id": "mHkLvI2D3Ha7",
        "outputId": "45d438d6-8d12-4527-b2e8-69d30d18522f"
      },
      "outputs": [
        {
          "name": "stdout",
          "output_type": "stream",
          "text": [
            "Ingrese su contraseña:Contraseña\n",
            "La constraseña coincide\n"
          ]
        }
      ],
      "source": [
        "password = \"contraseña\"\n",
        "auth = input(\"Ingrese su contraseña:\")\n",
        "print(\"La constraseña coincide\") if auth.lower() == password else print(\"La contraseña no coincide\") "
      ]
    },
    {
      "cell_type": "markdown",
      "metadata": {
        "id": "j556A-ZekplC"
      },
      "source": [
        "**Ejercicio 3.**\n",
        "Escribir un programa para una empresa que tiene salas de juegos para todas las edades y quiere calcular de forma automática el precio que debe cobrar a sus clientes por entrar. El programa debe preguntar al usuario la edad del cliente y mostrar el precio de la entrada. Si el cliente es menor de 4 años puede entrar gratis, si tiene entre 4 y 18 años debe pagar 5 pesos y si es mayor de 18 años, 10 pesos."
      ]
    },
    {
      "cell_type": "code",
      "execution_count": null,
      "metadata": {
        "colab": {
          "base_uri": "https://localhost:8080/"
        },
        "id": "nBgsp-sa4Kf2",
        "outputId": "9763bae8-93ff-48e3-b3f3-c8410dbef6dd"
      },
      "outputs": [
        {
          "name": "stdout",
          "output_type": "stream",
          "text": [
            "Ingrese la edad del cliente:4\n",
            "El precio de la entrada para su cliente es: $5\n"
          ]
        }
      ],
      "source": [
        "age = int(input(\"Ingrese la edad del cliente:\"))\n",
        "price = 0\n",
        "if age < 4:\n",
        "  price = 0\n",
        "elif age >= 4 and age <18:\n",
        "  price = 5\n",
        "else:\n",
        "  price = 10\n",
        "print (f\"El precio de la entrada para su cliente es: ${price}\") "
      ]
    },
    {
      "cell_type": "markdown",
      "metadata": {
        "id": "VmDCTJ95lTaD"
      },
      "source": [
        "**Ejercicio 4.** Dada la nota de un parcial se quiere saber en que condición está el alumno.\n",
        "\n",
        "* Si la nota es mayor igual a 6 se debe mostrar en pantalla un mensaje \n",
        "que diga 'aprobado'.\n",
        "* Si la nota es mayor o igual a 0 y menor a 6: 'desaprobado'.\n",
        "* Si la nota no está entre 0 y 10: 'nota inválida'.\n",
        "\n",
        "Realizar las verificaciones en el orden anterior.\n"
      ]
    },
    {
      "cell_type": "code",
      "execution_count": null,
      "metadata": {
        "colab": {
          "base_uri": "https://localhost:8080/"
        },
        "id": "c5rJfwYC6Bly",
        "outputId": "02e93ab9-f017-4b18-c09f-d3aa0e57d19f"
      },
      "outputs": [
        {
          "name": "stdout",
          "output_type": "stream",
          "text": [
            "Ingrese la nota del parcial:2\n",
            "Desaprobado\n"
          ]
        }
      ],
      "source": [
        "grade = int(input(\"Ingrese la nota del parcial:\"))\n",
        "if grade < 0 or grade > 10 :\n",
        "  print(\"Nota inválida\")\n",
        "elif grade >= 6:\n",
        "  print(\"Aprobado\")\n",
        "else:\n",
        "  print(\"Desaprobado\")"
      ]
    },
    {
      "cell_type": "markdown",
      "metadata": {
        "id": "fc0EcDtFmG5U"
      },
      "source": [
        "**Ejercicio 5.** Realizar el mismo programa pero con las verificaciones en el siguiente orden:\n",
        "\n",
        "* Si la nota no está entre 0 y 10: 'nota inválida'.\n",
        "* Si la nota es mayor o igual a 0 y menor a 6: 'desaprobado'.\n",
        "* Si la nota es mayor igual a 6 se debe mostrar en pantalla un mensaje que diga 'aprobado'."
      ]
    },
    {
      "cell_type": "code",
      "execution_count": null,
      "metadata": {
        "colab": {
          "base_uri": "https://localhost:8080/"
        },
        "id": "KQqNQJ6u8R5t",
        "outputId": "ed79d727-a7dd-4db6-8e31-904bb13bb90c"
      },
      "outputs": [
        {
          "name": "stdout",
          "output_type": "stream",
          "text": [
            "Ingrese la nota del parcial:8\n",
            "Aprobado\n"
          ]
        }
      ],
      "source": [
        "grade = int(input(\"Ingrese la nota del parcial:\"))\n",
        "if grade < 0 or grade > 10 :\n",
        "  print(\"Nota inválida\")\n",
        "elif grade >= 0 and grade < 6:\n",
        "  print(\"Desaprobado\")\n",
        "else:\n",
        "  print(\"Aprobado\")"
      ]
    },
    {
      "cell_type": "markdown",
      "metadata": {
        "id": "c5HYowNBIwbO"
      },
      "source": [
        "**Ejercicio 6.** El gobierno nacional implementa un plan de vivienda subsidiado.\n",
        "\n",
        "Las condiciones para acceder a este tipo de financiacón son las siguientes:\n",
        "\n",
        "- tener nacionalidad argentina\n",
        "- ser mayor de edad\n",
        "- no poseer vivienda propia\n",
        "- ser empleado en relacion de dependencia, con ingresos netos no mayores a 2.646.009,01 de pesos anuales\n",
        "- ser monotributista, sin superar la categoria G (2.646.009,01 de facturación anual)\n",
        "\n",
        "\n",
        "generar un programa que por medio del control de flujo por declaraciones coneicionales if-elif-else pueda evaluar si la persona califica o no para el crédito e imprima por pantalla si califica o no para el mismo."
      ]
    },
    {
      "cell_type": "code",
      "execution_count": null,
      "metadata": {
        "colab": {
          "base_uri": "https://localhost:8080/"
        },
        "id": "HZRkhUF6JJtA",
        "outputId": "a736300e-c432-45ec-c943-5b30b9d05ffc"
      },
      "outputs": [
        {
          "name": "stdout",
          "output_type": "stream",
          "text": [
            "Ingrese su nacionalidad: ARGENTINA\n",
            "Ingrese su edad: 30\n",
            "Posee vivienda propia (Si/No): NO\n",
            "Es empleado en relacion de dependencia (Si/No): NO\n",
            "Ingrese sus ingresos netos anuales en pesos argentinos: 2000000\n",
            "\n",
            "Felicitaciones! Usted califica para el crédito aplicado. Nos contactaremos brevemente para continuar con el proceso.\n"
          ]
        }
      ],
      "source": [
        "nationality = input(\"Ingrese su nacionalidad: \",) \n",
        "age = int(input(\"Ingrese su edad: \",))\n",
        "home = input(\"Posee vivienda propia (Si/No): \",)\n",
        "employee = input(\"Es empleado en relacion de dependencia (Si/No): \",)\n",
        "income = int(input(\"Ingrese sus ingresos netos anuales en pesos argentinos: \",))\n",
        "\n",
        "if nationality.lower() != \"argentina\":\n",
        "  print(\"Lamentablemente no puede acceder a la financiación aplicada porque su nacionalidad no es Argentina.\")\n",
        "elif age < 18:\n",
        "  print(\"Lamentablemente no puede acceder a la financiación aplicada porque es menor de edad.\")\n",
        "elif home.lower() != \"no\":\n",
        "  print(\"Lamentablemente no puede acceder a la financiación aplicada porque ya posee vivienda propia.\")\n",
        "elif income > 2646009.01:\n",
        "  print(\"Lamentablemente no puede acceder a la financiación aplicada porque sus ingresos superan los $2.646.009,01 anuales.\")\n",
        "else:\n",
        "  print(\"\\nFelicitaciones! Usted califica para el crédito aplicado. Nos contactaremos brevemente para continuar con el proceso.\")    "
      ]
    },
    {
      "cell_type": "markdown",
      "metadata": {
        "id": "LKieBJiP9t3c"
      },
      "source": [
        "# Práctica 3"
      ]
    },
    {
      "cell_type": "markdown",
      "metadata": {
        "id": "yTk9DLV29zWJ"
      },
      "source": [
        "1. Dada una contraseña verificar que su longitud es superior a 8 caracteres.\n"
      ]
    },
    {
      "cell_type": "code",
      "execution_count": null,
      "metadata": {
        "colab": {
          "base_uri": "https://localhost:8080/"
        },
        "id": "MCJzJxRX9yYO",
        "outputId": "27effddd-30dd-4b0d-a4b3-db85e537ac8f"
      },
      "outputs": [
        {
          "name": "stdout",
          "output_type": "stream",
          "text": [
            "Ingrese su contraseña:holaten\n",
            "La constraseña es menor o igual a 8 caracteres\n"
          ]
        }
      ],
      "source": [
        "password = input(\"Ingrese su contraseña:\")\n",
        "num = 8\n",
        "print(f\"La constraseña es mayor a {num} caracteres\") if len (password) > num else print(f\"La constraseña es menor o igual a {num} caracteres\")"
      ]
    },
    {
      "cell_type": "markdown",
      "metadata": {
        "id": "WjK0BfDt-kr7"
      },
      "source": [
        "2. Escribir un programa que verifique si un número es divisible por 4.\n"
      ]
    },
    {
      "cell_type": "code",
      "execution_count": null,
      "metadata": {
        "colab": {
          "base_uri": "https://localhost:8080/"
        },
        "id": "QItIu8lT-j97",
        "outputId": "22b6b38e-3604-45c9-8ee2-02ea7ef8c11a"
      },
      "outputs": [
        {
          "name": "stdout",
          "output_type": "stream",
          "text": [
            "Ingrese un número para comprobar si es divisible por 4:4\n",
            "El número es divisible por 4\n"
          ]
        }
      ],
      "source": [
        "num = int(input(\"Ingrese un número para comprobar si es divisible por 4:\"))\n",
        "print (\"El número es divisible por 4\") if (num % 4) == 0 else print (\"El número no es divisible por 4\") "
      ]
    },
    {
      "cell_type": "markdown",
      "metadata": {
        "id": "VuGtZtf2_dle"
      },
      "source": [
        "3. Determinar e informar el mayor valor de 3 números enteros. ¿Qué cambiarıas en el algoritmo si se\n",
        "trataran de 3 números reales o de 3 caracteres o de 3 palabras?. ¿Y si se buscara el menor valor?\n"
      ]
    },
    {
      "cell_type": "code",
      "execution_count": null,
      "metadata": {
        "colab": {
          "base_uri": "https://localhost:8080/"
        },
        "id": "t95mjN3U_eYw",
        "outputId": "081d7b84-c245-45ec-c749-395c798a842c"
      },
      "outputs": [
        {
          "name": "stdout",
          "output_type": "stream",
          "text": [
            "Ingrese su primer número: 5\n",
            "Ingrese su segundo número: 9\n",
            "Ingrese su tercer número: 3\n",
            "9 es el mayor de los 3 números ingresados.\n"
          ]
        }
      ],
      "source": [
        "num1 = int(input(\"Ingrese su primer número: \"))\n",
        "num2 = int(input(\"Ingrese su segundo número: \"))\n",
        "num3 = int(input(\"Ingrese su tercer número: \"))\n",
        "\n",
        "if num1 >= num2 and num1 >= num3:\n",
        "  print(f\"{num1} es el mayor de los 3 números ingresados.\")\n",
        "elif num2 > num3:\n",
        "  print(f\"{num2} es el mayor de los 3 números ingresados.\")\n",
        "else:\n",
        "  print(f\"{num3} es el mayor de los 3 números ingresados.\")"
      ]
    },
    {
      "cell_type": "markdown",
      "metadata": {
        "id": "XEQJOQweD3tv"
      },
      "source": [
        "4. Dados 3 lados de un triángulo, informar si el mismo es equilátero, isósceles o escaleno.\n"
      ]
    },
    {
      "cell_type": "code",
      "execution_count": null,
      "metadata": {
        "colab": {
          "base_uri": "https://localhost:8080/"
        },
        "id": "_hUkd9VaD3O1",
        "outputId": "cac3032e-34f8-4387-eaeb-0c10b2e7a8c2"
      },
      "outputs": [
        {
          "name": "stdout",
          "output_type": "stream",
          "text": [
            "Ingrese su primer lado2\n",
            "Ingrese su segundo lado:2\n",
            "Ingrese su tercer lado3\n",
            "Triángulo isoceles\n"
          ]
        }
      ],
      "source": [
        "side1 = int(input(\"Ingrese su primer lado: \"))\n",
        "side2 = int(input(\"Ingrese su segundo lado: \"))\n",
        "side3 = int(input(\"Ingrese su tercer lado: \"))\n",
        "\n",
        "if side1 == side2 and side1 == side3:\n",
        "  print(\"Triangulo equilatero\")\n",
        "elif side2 == side3 or side2 ==side1 :\n",
        "  print(\"Triángulo isoceles\")\n",
        "else:\n",
        "  print(\"Triángulo escaleno\")"
      ]
    },
    {
      "cell_type": "markdown",
      "metadata": {
        "id": "EKiouEeJ2jHg"
      },
      "source": [
        "5. Convertir las calificaciones alfab´eticas ‘I’, ‘A’, ‘B’, ‘M’, ‘D’ y ‘E’ en calificaciones numéricas 5, 6, 7, 8, 9 y\n",
        "10 respectivamente. Ingresar una calificación alfabética e informar por pantalla la calificación numérica\n",
        "correspondiente, en caso de ingresar cualquier otra letra mostrar (error calificación inexistente).\n",
        "\n"
      ]
    },
    {
      "cell_type": "code",
      "execution_count": null,
      "metadata": {
        "colab": {
          "base_uri": "https://localhost:8080/"
        },
        "id": "QysnElrf2ln4",
        "outputId": "0679b489-d8ec-4907-c960-4e5d61bdfc22"
      },
      "outputs": [
        {
          "name": "stdout",
          "output_type": "stream",
          "text": [
            "Hola, bienvenido. El siguiente es el listado de calificaciones alfabéticas: \n",
            "I\n",
            "A\n",
            "B\n",
            "M\n",
            "D\n",
            "E\n",
            "\n",
            "Por favor, ingrese una calificación alfabética existente en listado: b\n",
            "La calificación b se correpsonde con la calificación 7.\n"
          ]
        }
      ],
      "source": [
        "grades = {\n",
        "    \"I\":5,\n",
        "    \"A\":6,\n",
        "    \"B\":7,\n",
        "    \"M\":8,\n",
        "    \"D\":9,\n",
        "    \"E\":10\n",
        "}\n",
        "print(f'Hola, bienvenido. El siguiente es el listado de calificaciones alfabéticas: ')\n",
        "for keys in grades:\n",
        "  print(keys)\n",
        "grade = input(f'\\nPor favor, ingrese una calificación alfabética existente en listado: ',)\n",
        "\n",
        "if grade.upper() in grades:\n",
        "  print(f'La calificación {grade} se correpsonde con la calificación {grades[grade.upper()]}.')\n",
        "else: \n",
        "  print(f'ERROR. Calificación inexistente. Asegurese de ingresar una opción existente.')"
      ]
    },
    {
      "cell_type": "markdown",
      "metadata": {
        "id": "hukl9JmJ_Dnc"
      },
      "source": [
        "6. Escribir un programa que le pregunte a las personas su fecha de cumpleaños y en base a eso imprimir\n",
        "su signo zodíaco. Recomendación, pedirle a la persona ingresar la fecha con cierto formato, por ejemplo\n",
        "DD/MM y si la persona no lo respeta, imprimir un mensaje de error.\n"
      ]
    },
    {
      "cell_type": "markdown",
      "metadata": {
        "id": "j7MFBB93Sesq"
      },
      "source": [
        "- Aries (21 de marzo al 19 de abril)\n",
        "- Tauro (20 de abril al 20 de mayo)\n",
        "- Géminis (21 de mayo al 20 de junio)\n",
        "- Cáncer (21 de junio al 22 de julio)\n",
        "- Leo (23 de julio al 22 de agosto)\n",
        "- Virgo (23 de agosto al 22 de septiembre)\n",
        "- Libra (23 de septiembre al 22 de octubre)\n",
        "- Escorpio (23 de octubre al 21 de noviembre)\n",
        "- Sagitario (22 de noviembre al 21 de diciembre)\n",
        "- Capricornio (22 de diciembre al 19 de enero)\n",
        "- Acuario (20 de enero al 18 de febrero)\n",
        "- Piscis (19 de febrero al 20 de marzo)"
      ]
    },
    {
      "cell_type": "code",
      "execution_count": null,
      "metadata": {
        "colab": {
          "base_uri": "https://localhost:8080/"
        },
        "id": "97I0_Je2_-W6",
        "outputId": "b6504780-e7dc-4d4e-bed2-3e8f11d26301"
      },
      "outputs": [
        {
          "name": "stdout",
          "output_type": "stream",
          "text": [
            "Bienvenido! Ingrese su fecha de nacimiento bajo el formato \"DD/MM\" (ejemplo:04/11) para conocer su signo del zodíaco: 04/11\n",
            "\n",
            "Su signo del zodíago es Escorpio. Exitos en su vida astrológica y que dios lo acompañe!\n"
          ]
        }
      ],
      "source": [
        "birthday = input('Bienvenido! Ingrese su fecha de nacimiento bajo el formato \"DD/MM\" (ejemplo:04/11) para conocer su signo del zodíaco: ',)\n",
        "\n",
        "if birthday[2]!=\"/\":\n",
        "  print(f'ERROR. Por favor asegúrese de respetar el formato \"DD/MM\" (ejemplo:04/11) e ingresar fechas válidas y vuelva a intentarlo.')\n",
        "elif int(birthday[:2]) > 31 or int(birthday[:2]) < 1:\n",
        "  print(f'ERROR. Por favor asegúrese de ingresar días válidos entre 1 y 31 y vuelva a intentarlo.')\n",
        "elif int(birthday[3:5]) > 12 or int(birthday[3:5]) < 0:\n",
        "  print(f'ERROR. Por favor asegúrese de ingresar meses válidos entre 01 y 12 y vuelva a intentarlo.')\n",
        "else:\n",
        "  birthday = int(birthday.split(\"/\")[1] + birthday.split(\"/\")[0])\n",
        "\n",
        "  if birthday >= 120 and birthday < 219:\n",
        "     zodiac = \"Acuario\"\n",
        "  elif birthday >= 219 and birthday < 321:\n",
        "     zodiac = \"Piscis\"  \n",
        "  elif birthday >= 321 and birthday < 420:\n",
        "     zodiac = \"Aries\"\n",
        "  elif birthday >= 420 and birthday < 521:\n",
        "     zodiac = \"Tauro\"\n",
        "  elif birthday >= 521 and birthday < 621:\n",
        "     zodiac = \"Géminis\"\n",
        "  elif birthday >= 621 and birthday < 723:\n",
        "     zodiac = \"Cáncer\"\n",
        "  elif birthday >= 723 and birthday < 823:\n",
        "     zodiac = \"Leo\"\n",
        "  elif birthday >= 823 and birthday < 923:\n",
        "     zodiac = \"Virgo\"\n",
        "  elif birthday >= 923 and birthday < 1023:\n",
        "     zodiac = \"Libra\"\n",
        "  elif birthday >= 1023 and birthday < 1122:\n",
        "     zodiac = \"Escorpio\"\n",
        "  elif birthday >= 1122 and birthday < 1222:\n",
        "     zodiac = \"Sagitario\"     \n",
        "  else :\n",
        "     zodiac = \"Capricornio\"  \n",
        "\n",
        "  print(f'\\nSu signo del zodíago es {zodiac}. Exitos en su vida astrológica y que dios lo acompañe!')"
      ]
    },
    {
      "cell_type": "markdown",
      "metadata": {
        "id": "_xkCHXnYZAhY"
      },
      "source": [
        "7. En el centro de la ciudad de Rosario el estacionamiento en vía se encuentra tarifado y está dividido\n",
        "en tres zonas con tarifas diferenciadas. El vehículo puede estacionarse como máximo por 3 horas en\n",
        "el mismo sitio, luego de este tiempo, para renovar el servicio, hay que mover el vehículo. La siguiente\n",
        "tabla muestra los costos por hora en cada una de las zonas:\n",
        "\n",
        "![image.png](data:image/png;base64,iVBORw0KGgoAAAANSUhEUgAAAToAAABMCAYAAAD9Tns0AAAgAElEQVR4nO2dd1QUV/+HH3ZhF0FFsIK9BINdgz12TdTYYzd2jf5sIYn1NXljEMtrbDFq1GgsqFHsomLvDRt2QQWVCIL0Kgu7c39/LCjC7loSAdd5zvEc2Zm5e/cz3707c2f2WQshhEBGRkbGjFHkdgdkZGRk3jXyQCcjI2P2yAOdjIyM2SMPdDIyMmaPPNDJyMiYPZavs1JqYgyJGomXL89aoLAuiL3tazWRo2iTYolP0b3or4UCta0d+dV5dFxPjSUk+DFPpWLUdC6Wxz99Ugi9fIwz91Io4dqaxo7RBCeUplyJXOy1Joa/H4UQpXSiRkWHN8ovNTaE4MdPkYrVxLlY3k4+b6MlJTEFnUKBBSAkUOe3RkpKJs0i4zEJZb78WCtzvnevsWeT2TWsElXauzF/tRc7vb3x3rGAr6qV5FP3C6S++z6+IRJRtw6xyeNLKpdsxcSNu/HevZ11i39iWO9h/HLsCZKxTVPPMaNtCybsT8jJDqOLuIHP/GF8NmEfSTn6zG+IFMWBn8ay/FFpmrZxxfraSqb0+4qZF3O3CnRPruL9vwF88dPxN6xHHRE3fJg/7DMm7MvTyZPs1ZeP6vdnkscvzJ/zDS2dbPio64/Mmz+Hn7/tRq0633BMk4sdlCLw27uWKZ+VpJDrcH73Ossj7TPun9jE/K+qUah8J35ef5BbsUbffe8W8Urixbpx34j98Rl/a4X/wpaiiPNI4RPz6q1zC835SaKqQ0+xOenFY0mH/k+UL/yFWPFIZ3gjXag4uuxXsft+Ws50MhOak26iapfVIv7Vq+YaademiWa91mfqo1YEzPtS/N/uZ7nYKz3P9gwVLl9tE2/eE4046VZVdFmdl5PXicfLfxKL7mv1f6b5if/WshWf/R6evlwjfGe4i21JRhvIITTizPeVhV23DeJFV3QibGkbYVv7v+Jqzr+tnvPqIzopGVWdVnxaQP+nLmgl380MouMcdz4r9I5H4X8ZdfnyOCVe5cKtNMMrKBxpMWIcHSvmvdPxvIAuKoIn9/25m5LxiJKKHbpQL79FbnbrA0AiUlWG2qWMnfOpqFa1FCkJuXS09B7w6ne0oji9BnbU/1/6mw3j3bnecj4XOhZ9ft6rDT3C0tU3sK/kiAgNIsl1CF83KULw3l+YvmA3BQfMppl1BKkRvpxM7IDHpKbYIxHj64WXP+RPCcTvYVF6TRpG3ULvap5EIsr3Ig/LdmJqA0vu7vgJ99/OUXbQGJyfeLMzogPT2wfz6+x1WI48zu+dn7L3l+ks2F2QAbObYR2hJf66Lwmth9Mg8hpPtNFcOB7N5+6TaVFYASl32brgL8LKfoxN4BXC633DpNaJ7HJ357dzZRk0xpkn3juJ6LScuR2LGe6i7im+27cQr33K+ROJdPCYRFN7QBvKkaWruWFfCUcRSlCSK0O+bkKRwB24u//GubKDGOP8BO+dEXRaPocvrC7ipQ+WQL+HFO01iWF1C/3juT913W60S+xEx2aB9OvehmYtPqO161cMctYvT7m7lQV/hVH2YxsCr4RT75tJfO6kQBOwhXlbIylX+hl370Ep51gOn67MpC6PWTxvCxZDD7KyZwL7F0xn/iYd/fesou8zH36ZvoDdBQcwu5k1EakR+J7MlAkJ3Ny8kv1xxSlfTEmK31N0z3d1DL5eXviTn5RAPx4W7cWkYXUxVVq6p75s3xKP9ul5TjyvUeO1HbjDPUv9dGL5nC+wuvguatqSmoOGmFzDpvNgut3dyqxlL+ffOnGXwRppL51k0a/HsKxcEdvEpyg/GUr/hvakGtiHxtro+LZzmrlRz69/8KcTTzb3FaUdu4rVmU/9NBfFtBZdxNKH6Y9p74m57VuLOTfShBAacXyci6gy0luE64QQKUfE6CrdxLp4IYSIFeu6FhXN5t8XWqEVtz0ai3r/vSr+raNbzflJooqtqxi59A/xxx/LxJKFHmLy1MXi+OOMZ3gmdg2qKOpMOipiH+wVv631FbFCI46Pq/LiNEZzXIxzqSJGeocLffdHi8ouw8T2UJ3Qn/JUF51XRQkhksSJ72qJlnPvC60QQiT6iJGNhond8UKIZ7vEoIp1xKSjseLB3t/EWt9Yw/096SYqfzRE7NIHJY6MriK6rYsXQmjExWktRJelD4U+Ya24N7e9aD3nhv5V7BokKtaZJI7GPhB7f1srfGOFiF3XVRRtNl/c1wqhve0hGtf7904bUu7vEtP6NRMuxfMJhYW1KNNxgbiUKIRIOiG+q9VSzE0/vUr0GSkaDdst4nWPxJK2tcW3JzVCiHixuc/HYuCOhIzWxNHRlUW7jFMwzRnxffU2YtFjXXr844RLlZHCO1smWhG4vLNoNO6o0LekEyG/txWl+qWfusauE12LNhPz9QEIj8b1xH+NBqARJ90qi4+G7MpeoyZr21D9vNuafk62U1dhPH9hoEaibom5LeqIsUcShBBacW/Op6JEny0i6U3aMFjGGnHme2dhU3uw+GXBArEg/Z9H74+F9fNT19yp59c+R5Oi9jB18iGq/vcc/csoAC13zvthr9nAX9EueJZMH1+VZXCtFIzbpqtM8KiBQmGBo0tNiigACxtsrJKIT5SggB19Vl2nZXwYh7ZuJSZKIjwhFB01X+9S8GtRgnp9hzHYzvBShYWgXDVX7MoVYEw5gFQUisynYQoUFo641CyCvvs2qIuVo2YxBaDAxlZFQnwCkuYqXjsjKDD8Kt47bwAJWKuCuBWspWNFBRaiHNVc7ShXYAzlTPRWWaYmtfVBYWNjRVJ8IlLqVdb/FY2LZ8n0TzAlZVwrEey2CSZ4gMICUa4arnblKDAmvfU+q7jeMp6wQ1vZGhOFFJ5AqA5q/gvBqit24qf1nfiJFELPr2XSoKlM+rMzu6t6sTOiAMOveqOPwBpV0C2C0yoSEydhZQVghbVaR2JixtSBBZZWmTulQJH5Y1qhwMLRhZpZM9H9zcZVl/hoakPyp2/nUKww6ozt7Pqw6npL4sMOsXVrDFFSOAkmA1BSpmbtbDWaenW9idquZqB+yIGaNozmvJH8tR2pmKVGtDd+ZvTdGvy3kT69St8f5qFWDafHvHYbxrHAqnxrRrn1xQYAifDf9zErIH1xqm+u1PNrrhrLkR8nsKvcFE4Pq4h+piCey5f9aVE+kWTy89LwoIDk+IyrWBaoVOpMh5kSkgRIMZxZPJK5MX353089aJK8iaknc9gvYKHG1tbqFeuoUGW6LcVCpUad6cUKSQCpaLQOuLTsSJd6KgC6dOmvXyEFLNS2vOpp9G2ryHwHjCRJICWQmAz5swecsRVqW1teNC8Rc2YxI+fG0Pd/P9GjSTKbpp7k30g25dAqNpcdxEBnJWCNU4MRLPrxMA2P3SLtIw1aBxdaduyCPoIu6CPQYTOkLhO2rWDj/RQu2U9mWg97I88gyKqYMJiJLoGEZEtUKsNzg1LMGRaPnEtM3//xU48mJG+aiunSMlyjUsIrajtr/eRmTacayx9SstSIlPyMFKUlVhkvTKFGrQLNG7Tx1uRSPb/WaW7iyel8u7kI3y8czcfpQ6MUvJMDt/Nh36AdzdIC8I/L6Fckt+9Z0rxdnfQHRHp3X0YK38TMJSr6ufekih1ERMUiIRG4Yxu+/8rdCuKVYbxWWAJe6r0w8F91fTq0SuO6X8TzNRPP7+XIE+l1n8XgUwFg3YB2zdIIeBEwkbfvYdm8neEXIYWzaeYSVP3c6akPllgJpMAdbPunwaZcYfeugJdu4RCSFRUqVyJ//Q60SruOX8TzBDi/9whPpDRuRX/E+J/H0Per8cyfP4Rqzw+9FFjns0YIoX/ZycEEP9VlfkbDmaiq83lzWwL9X9wqlJL8jDQEIBG+aSZLVP1w71kFOyKI0gfAjm2+Rm4/MVyj1q+o7ezRv+uaztTj9CfP6LPaaP7ZO6qq3paWtlc5569NfyQZ331HiKn7+m0Y75eh912mR3KpnpXTpk2bZnIN7S3m9h3B3gKNqavw58yJoxzYtoKfJy7kWsX+fNPzC5pVC8Zz6SniRDR+OzZwy2UK0/uUI/zICpZt9OFKmKBEJUfC965kw97LhEpFqdygNupr3vimOFEw5CyXtSpiTl4hsZIrLT6pwNtfyJMIPbmOlRu9OXLtESkWAnXRmnxcLPPBq477+xazYtMBrobrUNiVpXaFAjw+upJlG3y4EqakfE1HHm1ZzkafK4SJElRyDGfvyg3svRyCrlhFHKP28+f6PVx8rKNwxYZ0792QcM9fORipQPfYl2NPS9LaNZVjS1aw6cBVwnUK7MrWpoKBiWndw8OsWLYRnythiBKVcAzfy8oNe7kcKlHU+VO69/iEYM+lnIoTRPvtYMMtF6ZM74NTiA+LV2ziwNVwdAo7ytauQCGlCqvoC3j7puBUMISzl7WoYk5yJbESri0+ocI/uEKqvbuHP/fd4I5/MJKtFbHXtrBofxFG/dCZsnbOfForHM9fDxKp0PHY9xhPS7amfhkbVDfn0G3QfDZu+JM/Vm1k/81Uyjf4hJLWCgrne8Iu7yBKOGm5cyWIexd3c+FpUZwdI9iz2lgmDejQrRHxW3/nWLIN0oPjeO85xGHfv9GVqkmb6gouePuS4lSQkLOX0apiOHklkUquLfikQuYjNB0PDxuvUedPu9PjE8O1HeKTtX4KoVRZEX3hXdR0Bolc2/4HXnv343PoGg+TJKSoIOIK16JSycoG83dNPcaSrDWiLkfDuqnsXLSDMJWS8EuHCS7SgkYutWnyum1kLWNdMMfXrmKj92GuPU5FIawpVqskITuXsXrbAXzvxWGhtMSuQl3afF495+v5zab0TKER0SGhIvYNJwnTYkNFcKT+7ifdsySRYuQWt/cFTfRj8Sjy3dxXpokOEaGvG3BarAgNjtRPzuueiaR/IVhdZKh48kwIXXyQ8D20Rxw8d19EZ+uORkQ/fiQyItDeWigGjN4qQtNvARPaKHFpYVfRdtqLSXpdUrh4EBwt0kSKiHr8WITHpojX7a0m+rEIjkoRuoQw8Sg0UiRoMrZME7Ghwen90IlnSa/fpoFneaPazt2afjl/06SJmMePxNNs99+9SRtvT07Ws4UQsnhT5t2h9ZtOrxXV+X1JF/R3I0iEbPqa8aHfs/47F3Lh20AyHyDyQCfzjtERdn4Lu25qsbdTI55FE6OuQ7fudSkmj3IyOYQ80MnIyJg9sq5BRkbG7JEHOhkZGbPnzQe6lOt47wtA++o133MSeXByHsOHL+BEUM5qmz5EEh+cZN7w4Sw4EYSc9rvjQ835jefoEncPxmWCHRuuL6Sp+tXrv6/4zPyWWy7VSblTkKbOoVyz7syoDmVRAik+U+jhmUStqo6oEkOILjuIGSNdsdEcY+IXswir5Ixdxm3nFlZU7vETY5pk+R5asj/bVp9A52RHXGAEJbqNoGMFVfqibaw+ocPJLo7AiBJ0G9GR9EVmiESEz2xm3nKhesodCjZ1JvSaNZ1HdaDEyYl8MSuMSs52vIizMj1+GkMTu1Rig3zZvvhPwrsvZ0ojIwFJ4Zxd58npSC3xDx5i0XQck3pV0X91zMQ+MD+M51xWCcn+h9hx6SkW4hlRMXY0G9KDGvmBFB+m9PAkqVZVHFWJhESXZdCMkbjaZG0/BZ8pPfBMqkVVRxWJIdGUHTSDka42eSLnNzyiS+DYlccUerqHLWdz0/L3rtGyRTsAt/YVKWRXmnp1HLm5+S9upR/GSnFJPNOEcvtmECnlezFhiCs2gBR9nySHGpQtXpjChQtT2EFFyD0tFaoUyNJ+Cmfcx+Lj1IueXXszdIADW0bPwU8LpJzBfawPTr160rX3UAY4bGH0HD/zPYLW3mD5Fi0D3NpTsZAdpevVwfHmZv66lUr0/SQcapSleGF9ng6qEO5pK1ClgMTTs9vYdiWcgHMneBBv7LNaInjTKq7VGcvE8ZPx8OhI2A/tGbMjCpP7wBwxmrMWUs+zfHsy7b7qR9/+wxj1RRiLZp5AAyDFkfRMQ+jtmwSllKfXhCEGBjkAibikZ2hCb3MzKIXyvSYwxNWGvJLzm33XOO4oAYV/YHyr7kzbcopfWrTG+h11LHfRERAQQJRwBEDSpFGiei2KZnwsKCvRfd5CRpZ7+XNCiixJh1lDaFdRCUiE71vIltZDaV84y+dJylFWe6moP1Ev9FMUaUytlBmsPTsRl8TVeKnqo1+koEjjWqTMWMvZibVpao4HG7oYIgICCIgSOAJIGtJKVKdWUYgs2YFZQ9qhjzOcfQu30HpoeworgEZ9GCo9YsFSiDHaeCoX987jh10V6bu5F3b2rfi8bgJue32hHUb3QW1zDNpozgqkmKucPhZLi28642ALymJO5EuKRguoUVKp+zwWjiz3yqMiZaXuzFs4kpfeFiZqPSdzfqMjupgjd7Fu3pBO3VuStNeL48nvqlu5jZrGN8bStNMv+Fy+zN1ivfh5Ylscn6clEXdzP9u2bcFz42GC0g9uLau3Tx/kQHqymzWBDRmc9ZQVkML8uRdvS8GMTwmFPfb5Q/C/E0OY/z3ibQvyYpE9+UP8uROXrRnzQF2P7o1vMLZpJ37xuczlu8Xo9fNE2jqqqN4+fZBD4snuNQQ2HIyBOE1gTbvpe9g1vT12AFIUYeGpFC9VysQ+MNOgjeasQFGkBS0s5tKifh/mHb6A95Kr1BnWHtv0TaW4m+zfto0tnhs5HGTiTE6K4+b+bWzb4snGw0FoMFXrOZvzGwx00Ry+b0MLFxX2bbvTWuPD1mN527P/T5jpvZHh5ZMI2PYd9au0Yeb5xOfLlEXzobarT9cve9C19AGG9V9L8EvfCE/g+JLTOPao/7xYMiMlxJNkocz0rQBLlEpBYnwsCfFJWCgz3UlrqUQpEomP1xloyRywoclMbzYOL09SwDa+q1+FNjPPk5h5lYTjLDntSI/6htJ8ResVGvKps37qQOO3gg1hPZk6opqJfRBvrKn3HBM5Kysz6q/1DLQ7hUf7Fkzxr4Rr+fQJeGVR8qntqN/1S3p0Lc2BYf1ZG2zIZKykaD41dvW78mWPrpQ+MIz+a4PR5pGcX3+gi/Dh2KWHHFi8kIVr7mNZPIp9W4+8XJBmhGXZNoxfNA23Gfs49UMB1rp78nf6/lU3H4Fbk8IogPx1m1D2zHyWX3kx6SCFb2Xp9ZI0NWJgtVCpsRJSJluGhCRZoFKrUamtEFKmQpIkJAsVaiNKIrPAsixtxi9imtsM9p36gQJr3fHMCBuJ8K1LuV6yKf/oR7piTjDzfyF8vXUp3RwVJvaBGZ62ZmAs56QLLJ11jU7bA7l18GeqXviGtoPS613dnBFuTfTTBfnr0qTsGeYvv2KgcTXNR7jRRL8idZuU5cz85fgp8kbOr1k6Ek8PP6H2rNl85+aGm9sUlk7vheLAFg6a5ZF+KjWrf8+pVMDCllojJtPNOpjHWiD1HB4du7PgavrAZpEPtWUkT8JeDHRR+3biW6AMxn4BUFmkOIWlJBIzzgKkeBKS1BQpVoQixQsjJSXyYlECSeoiFLM301seU88wsWZ1vteHjW2tEUzuZk3w44w8o9i305cCZUq8/U2fKTdZO+8Un8xdxmAXQfCjMBP7wJgr7z3HRM4RXou5/MkIWhZX49R8PH+d3s6XD3dwJD6Vcx4d6b7gavrFMAvyqS2JfBKWvflzHnTsvoAXbws1lpFPiCiUN3J+vdqRwtj3oAAty704AM3fqjttlYfYejD2XfUtF1HSb7IbGXcsiIQQ0io1wEUFIKCkKw3L6KOT4oIJ0dWmYe2MTygN1y/eQGFr+5KwEU0ghzcf0c/nFWpGqzqRPAhKrwptIEGxDWjTxIZCzVpRJ/IBLxYFEdugDU0MXukyA5RFqdxvMm4vwiYkrRINXNL/1lzn4g0FtraGjmiFAU+ahsDDmzmSMZekC2b/HycpOWoi7Z1AE32KvYfDTO4Ds8RUzhY6UjUvfjBK4VCHho3KU1wFgpK4NiyjHyikOIJDdNRuWBsATeBhNh/Rz8Xp3xYNKZMubogLDkFXuyG1i+WNnF/po9M99GHB1PH84uVPUqm6tKxaFIUUwdm/vNh/9iQnroagtXKgUo2yFDCbsysF1rf+YNPJm1y/eB0/vyQajR1KTTsFKJ0op7zJ0YA0CkiBeM32JHnwHP7TpGj6PEQqV9bP4mjBfoxuX+75ZW3d/TV83edH/F1G0MGlGNWdI9m45g5OVewJ8lzC+dqTmdrGESuH6jhHbmTNHSeq2AfhueQ8tSdPpY2jmf4ymaIwH1nfYu2mk9y8fpHrfn4kNRrL0Jp2+jdX6hXWzzpKwX6jaV/uRQaJ17bzx8Zt7D1wjqBEBSkxWhxrlMdO3GfN13340d+FER0q4jf9MzpMXsmqeR5Mnz4dj1+2Y9nNnd61nYzuA7NM2kTO+T8qQ8i6RZxNK4aDIhzfHRsIrDqcr6oXplQ5JTePBpBWQCLQazaeyYOZ858mFFHquL/ma/r86I/LiA5UKVMO5c2jBKQVQAr0YrZnMoPn/IcmxYvmjZzfSOr0gaGLPSFWrr1i8LdCE4MviaOHTovbT1OyLUu4d05ceqzJvlH8frH76Iv1tbFBwvfIMXElODGLK00rYoN8xZFjV0Rw4nsu6HtddLHixMq14kq2sBPEvXOXhKE4jRMv9u8+KrLvmewY3wdmitGcn4nQa8eFz8EzIiAyiyMuMVhcOnpInL79NFum8ft3ixclnSiCLx0Vh07fFlnfFrmds2wvyTEk/t6zmbsNe9Eq6311Mv8q0t972Hy3Ib1aFZa/zP0ukf5mz+a7NOzVirxe0nm8e2aE7jFPHZvpfwNW5h2i4/FTR5q1kAe5d43u8VMcm7XI84McyD46GRmZD4D3YCyWkZGR+WfIA52MjIzZ8+qBTptEbHQUUVEv/kXHJpmvTeM5so8uJ/lQPWk5zYea8yvn6KTwC2zbvpnf/7uM+G6/MLqhDRZpsTw4f5wbDn2Z5dGTymbopTPlo3tBKjcXDGV9tZXMbqMG2Uf3FpjwpKWZcKEl+3NoxyWeWgieRcVg12wIPWrkz9a65pgJp51V7nvScg4TOWtN1a0V/ttWc0LnhF1cIBElujGiYwWyp/Se++gUxevRY3hfGpW0o2r7IQweNIhBw934+ff/UHn/MAYvuI35fd3ctI/u+Vr+W5ix7BgRqem/9C776N4cU540oy60VM4v305yu6/o17c/w0Z9QdiimZzIJtaQTDjt8oYnLccwkbOpuk05485YHyd69exK76EDcNgymjkGQzInH91LW5ageBEtkeFR6MDMfp/zFT46AG0Au8/nx9XZktvpD8k+urfAhCcNYy40KYarp48R2+IbOusFajjlSyJaL1DLvKJxp13qvjzhScsxTPnojNZtKvtWe6GqPxF9ORahca0UZqw9yw+1m2Z7CrPx0b0gmYBN09iYOJCZ3zYycBj7vvMqH52O+97nKNi2GQ6ZEpR9dG+BCU8aGHGhKYrQooUFc1vUp8+8w1zwXsLVOsNon83iZGnUaZdXPGk5homcjdatFIb/vXhsX4SEvX1+QvzvGH4Os/DRCQ1/X9zJ1q1b2LjiV/48rabZwF40cjKvY7kMTPnodIHenLb5nJYljH25V/bRvT6mPGnGXGhKKo/6i/UD7Tjl0Z4WU/yp5Foek1PFWZx2so/OgPcva91KCcQnWfByOSoRiYYyyts+utc/dbVQU7puF7p31g/NfaUwNvRypcX1ZZxe1uHl0zozQO+jU2FdXUc98Sv93T3pv+f/KC0esPeUNZ8NcESB4U+lDB/d3Lfx0Wk/XB+dyro6unqCX/u749l/D/9Xujkj3NLXSXeh/bj8CgNnuHBh6SyuddpO4MQ7/PbtKL5pOwjFeS/6lzaUeYbTbu5zp92H7KPLnnP60XPWurVQobYSvFyOEhYqQx8peh+dnnQf3Y/L8duYP0/k/PbDk6IYzZs682iHF2dS/8Ue5QmM++hSL3pz/N4NNs6fy9y5v7L/Xjy3dy9i2YEHz7eWfXRvgFFPWrJxF1qEF4svf8KIlsVROzVn/F+n2f7lQ3YcMXaUkN1pJ/vosnr/DNStsgjFC0skvQiJ+IQk1EWKZW/eLHx02aVfIEVy+mwANnUaUNPq3+1U7mPcR6dqMI75MyYwfvx4xn/bD9fC+anSaRwjPy+fvq3so3sjTHjSjLvQLNClanhuUFM4UKdhI8oXV5HNRweGnXayj+5l75/Bui1Es1Z1iHwQlP5hoyUwKJYGbZrot3iPfHSvPHWVQk+ydt16jgTHkLR1AQse5MNCm0iYvy9+lt+wdc0IypvdNJ2SVorNLFweza1LGqY/sKfpuCn6K08ZJF1n27I1HApOIHrLQv607ceQ5qUBHTExcVgWefn30XQPdjHTbTHO+W6zrFNFhnt0YdSqVfg6tEazcx2xA6czoKQCJcPx6DKKVat8cWitYee6WAZOH0BJMz2gQ+lMz1aXWb5wOdG3LqGZ/gD7puOYUkgFAzpzddcRzhX8mNSjv7HHcSZzB5YEVQ/c6k/CfYE9A9u7oLx/kr2PWzK2pw3o/Nk1043Fzvm4vayT/qKOLoaYOEte2iVK4/vALDGac8YKhupWScXhHnQZtYpVvg601uxkXexApg8oCeh4sGsmboudyXd7GZ3qD6Dz1V0cOVeQj1OP8tseR2bOHUhJK1XeyDkX1FDvDaZ8dKaQfXRvgTFPmgkX2rPQa+K4z0FxJiBSvGxQy+qjM+60y21PWo5j1Ednom61sSLI94g4diVYZC1H2UcnkwXZR5dTyD66HEL20clkQ/bR5RCyjy6nkH10MjIyMnmI92AslpGRkflnyAOdjIyM2fOGA52WuIeXOLR1E9tPBBAngRQRRFCM9OpN3ztkH11O8qF60nKaDzXn156j0wRuYer4dcQ2GsaYXq7YPD6Dz5Eggn0PkW/aATxczevXME356KRwX7YfuE+qFMWdq8QM8owAAAa1SURBVCGU/2oKQ1wLyT66t8KEJy3T/ZmpNxcwdH01Vs5u8/w7rZr7O1m+J5oiRSGOj+nZp1H2iXEpnLPrPDkdqSX+wUMsmo5jUq8q5Ic84UnLOUzlbMIll2LCCfgS77mPDkAK382Yjj+TPHItKyZ0plaZkjg36sk34+qS+jDG0Pcm3nNM+eji2DH1e/ZYNqTXoHFMav6EH76cxP4U2Uf3Vpjy0T1fx58tM5ZxLCL1ea1pby+lj9s1Go4cQu9PNXhPmMPubN8AkwjetIprdcYycfxkPDw6EvZDe8bsiCKveNJyDJM5G3PJYcIJmJX33keXyoUFU9hUdCjXWzu8PDLaNWdkv9p4vave5RqmfHRqyrrWo6yN/nDDSq1CkZZKKrKP7q0w6aMD0BKw+zz5XZ2xfC7+i8Dr5wUoevtS1xoo3ZclR7+gWKGsjadyce88fthVkb6be2Fn34rP6ybgttcX2pEnPGk5xityNuiS0y8x7AQ0QF720b16oNPeYt/+QJxa1qNktq96Kfm4z1i+tDW3axoZPrr6VCrVnk97j+DniRkv3hrXkfNxBdA9YvOG69SYvJK21uk+uvS1MrxeY8Ya99G1yeLoOngnhrCke8TbtsniozvInThoWvSdvujcQV2P7o3H0a1pJ+pXKkX7T3sz4ueJz7U+uvvenCvYli4OO15s8+wke08U5KPe51m/Ph6hscC5Sw/KZ2vcmnbT97BLWw07ACmKsPBUijcphRR22Mg+MNOgX5FzhkvuclIyGvvGfNm6wvMpAr0T8DJJyRrsG39J6wpGhFgG2rAyWus5m/OrRyhdOGGRUMDOzuDKynK1qGFujiZM++gAku8eZvWcOeyy/ILRHSpnkY/KPrrXx4QnTReI92kbPm9Z4iVBghQRzOO4cK79XZyuX/Wmb8twPL5052KKgdYrNORTZ/3UgcZvBRvCejJ1RDXZR/eSj86wS04CE07ArORtH92rRyhlSUoWh7iYGAy9PCkulCcJ5nfVVe+jm4bbjH2c+qEAa909+TvTy7Rxbs3gKUtYPSiK8a2GsvlJJuNWuter6dv46NQfro9umtsM9p36gQJr3fH8O40He09h/VmbTGbndJRKlIqCVK9fHVtAWboRNWKWs8gnyfhzxJxg5v9C+HrrUro5Kj5oH93LOUtkuOSaFFbw3CU3fzlXtIC6OSPcmugv8qQ7Aecvv2KgccNt+CnyRs6vHugsXejUoQrhF87xwMBBxbOzBzke8w56lqsY99GReocts+eyJz0MG9e6fPx0JxsPvviEkn10b4AxT9qD83gfv8eNjfOZO3cuv+6/R/zt3SxadgBF4TKUsrPBxiYjEzVWlglERCQbfo6Um6ydd4pP5i5jsIsg+FGY7KPL5KMz5pIL06YadwJmbf7999FZUvObOQxJXsOsnU9ePqrTBrDzbn4amZ3axriPToo6wZrf1nPivn7PSVGRxEgOODplTELIPro3wpgnrUYTxs2fwYTx4xk//lv6uRYmf5VOjBv5OVg35rPGiTwMSje+6sIJj3Om7if2ZPPR6YLZ/8dJSo6aSHsn0ESfYu/hMNlHl9lHZ8wlp8KEE/D98tEpp02bNu1VK1nkq0CbjhW5Pv8HVvhpsHdQEHH9MNu2+lO+71fUsTO3gU6B9a0/2HTyJtcvXsfPL4lGY4dS006BhW0FStkmkGJpSyHrSA7NXsjFhu4sHFkNOwuAVK6sn8XRgv0Y3b7c86s9uvtr+LrPj/i7jKCDSzGqO0eycc0dnKrYE+S5hPO1JzO1jSNWDtVxjtzImjtOVLEPwnPJeWpPnkobR/O6T/E5isJ8ZH2LtZtOcvP6Ra77+ZHUaCxDa2bMCSdxfdti/vA6iO/DZCwtC/Fpnap8XN2GQ6sPo6zgQOCfCzlVYyoze1Ugn3SfNV/34Ud/F0Z0qIjf9M/oMHklq+Z5MH36dDx+2Y5lN3d613Yyug/MMmkTOVs5lUN58ygBaQWQAr2Y7ZnM4Dn/oUlRFU7llNw8GkBaAYlAr9l4Jg9mzn+aUESp4/6ar+nzoz8uIzpQpYyRNooXzRs5v6nXSRN1T5w/tEccvPBQJJi5wMu4j04n4h9cEIf3HRa+gTFCm2Wp7KN7C0x40oxuEh8kzh8+LM5n2wdZfXTGyW1PWo5jNGfjLjlTTkDZRyeTBdlHl1PIProcQvbRyWRD9tHlELKPLqeQfXQyMjIyeYj3YCyWkZGR+WfIA52MjIzZIw90MjIyZo880MnIyJg98kAnIyNj9sgDnYyMjNkjD3QyMjJmjzzQycjImD3/D11tXcG/eUChAAAAAElFTkSuQmCC)\n",
        "\n",
        "Escribir un programa que dada la zona, A, B o C, y la cantidad de horas que el vehículo estará\n",
        "estacionado, devuelva el costo a pagar. En caso de que el tiempo de estacionamiento supere las 3 horas,\n",
        "imprimir un mensaje de error acorde.\n"
      ]
    },
    {
      "cell_type": "code",
      "execution_count": null,
      "metadata": {
        "colab": {
          "base_uri": "https://localhost:8080/"
        },
        "id": "S9kjLZfbZhAl",
        "outputId": "f5ca2b0d-fc5e-40c3-b199-d8d1716a59cc"
      },
      "outputs": [
        {
          "name": "stdout",
          "output_type": "stream",
          "text": [
            "Bienvenido a Estacionamiento Rosario. Por favor, complete los siguientes datos para calcular el costo de su estacionamiento: \n",
            "Ingrese la zona en la que estacionó su vehículo (A/B/C): c\n",
            "Ingrese el tiempo que su vehículo lleva estacionado (en minutos): 122\n",
            "El costo de su estacionamiento es de $138.7.-\n"
          ]
        }
      ],
      "source": [
        "# para su posterior corrección, entiendo que la hora se suma al costo total\n",
        "# una vez haya pasado la hora anterior en su totalidad. \n",
        "# Ejemplo: si el usuario ingresa 122 minutos, se van a tomar 3 horas.\n",
        "\n",
        "rate = {\n",
        "    \"A\" : [57,71.20,85.50],\n",
        "    \"B\" : [47,58.70,70.50],\n",
        "    \"C\" : [37,46.20,55.50],    \n",
        "}\n",
        "\n",
        "print(\"Bienvenido a Estacionamiento Rosario. Por favor, complete los siguientes datos para calcular el costo de su estacionamiento: \")\n",
        "zone = input(\"Ingrese la zona en la que estacionó su vehículo (A/B/C): \",)\n",
        "time = int(input(\"Ingrese el tiempo que su vehículo lleva estacionado (en minutos): \",))\n",
        "\n",
        "zone = zone.upper()\n",
        "\n",
        "if zone not in rate:\n",
        "  print(\"Error! Por favor, ingrese una zona válida y vuelva a intentarlo.\")\n",
        "elif (time/60) > 3:\n",
        "  print(\n",
        "      f'\\nSu vehículo se encuentra estacionado por más de 3 horas.\\nDebe abonar un total de ${sum(rate[zone])} '\n",
        "      f'y estacionar su vehículo en otra ubicación para evitar una multa por infracción.\\n'\n",
        "      f'Luego, vuelva a inicializar el conteo de su estacionamiento.'\n",
        "        )\n",
        "else:\n",
        "  payment = sum(rate[zone][:int(time/60)+1])\n",
        "  print(f'El costo de su estacionamiento es de ${payment}.-')"
      ]
    }
  ],
  "metadata": {
    "colab": {
      "collapsed_sections": [],
      "provenance": []
    },
    "kernelspec": {
      "display_name": "Python 3.10.5 64-bit",
      "language": "python",
      "name": "python3"
    },
    "language_info": {
      "name": "python",
      "version": "3.10.5"
    },
    "vscode": {
      "interpreter": {
        "hash": "63413d40248b15c5e3979e4e9ac9f50870b25d2b4b7e5c66b4da92bd9f0fa5ed"
      }
    }
  },
  "nbformat": 4,
  "nbformat_minor": 0
}
