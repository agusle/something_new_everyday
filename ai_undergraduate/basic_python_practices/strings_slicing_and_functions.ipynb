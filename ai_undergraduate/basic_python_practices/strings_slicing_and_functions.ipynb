{
  "nbformat": 4,
  "nbformat_minor": 0,
  "metadata": {
    "colab": {
      "provenance": [],
      "collapsed_sections": []
    },
    "kernelspec": {
      "name": "python3",
      "display_name": "Python 3"
    },
    "language_info": {
      "name": "python"
    }
  },
  "cells": [
    {
      "cell_type": "markdown",
      "source": [
        "# Práctica de cadenas"
      ],
      "metadata": {
        "id": "_d9VpHC3s6-e"
      }
    },
    {
      "cell_type": "markdown",
      "source": [
        "**Ejercicio 1** Al realizar una consulta en un registro hemos obtenido una cadena de texto corrupta al revés. Al parecer contiene el nombre de un alumno y la nota de un exámen. ¿Cómo podríamos formatear la cadena y conseguir una estructura como la siguiente?:\n",
        "\n",
        "* **Nombre Apellido** ha sacado un 'Nota' de nota.  \n",
        "\n",
        "Ayuda: Para voltear una cadena rápidamente utilizando slicing podemos utilizar un tercer índice -1: cadena[::-1]"
      ],
      "metadata": {
        "id": "aRoCADD4z-yg"
      }
    },
    {
      "cell_type": "code",
      "source": [
        "cadena = \"zeréP nauJ,01\"\n",
        "fname = cadena[-4:-8:-1]\n",
        "lname = cadena[-9::-1]\n",
        "grade = cadena[:-3:-1]\n",
        "\n",
        "print(f'{fname} {lname} ha sacado un {grade} de nota.')"
      ],
      "metadata": {
        "colab": {
          "base_uri": "https://localhost:8080/"
        },
        "id": "Piq42iRyQn-t",
        "outputId": "362091e6-f245-4f26-912d-1afabfbde8c4"
      },
      "execution_count": null,
      "outputs": [
        {
          "output_type": "stream",
          "name": "stdout",
          "text": [
            "Juan Pérez ha sacado un 10 de nota.\n"
          ]
        }
      ]
    },
    {
      "cell_type": "code",
      "source": [
        "cadena = \"zeréP nauJ,01\"\n",
        "fname = cadena[-4::-1].split(\" \")[0]\n",
        "lname = cadena[-4::-1].split(\" \")[1]\n",
        "grade = cadena[:-3:-1]\n",
        "\n",
        "print(f'{fname} {lname} ha sacado un {grade} de nota.')"
      ],
      "metadata": {
        "id": "Zsiq9uZn00kZ",
        "colab": {
          "base_uri": "https://localhost:8080/"
        },
        "outputId": "d0c41f52-6ab0-4c90-cc6f-bc60a60edf53"
      },
      "execution_count": null,
      "outputs": [
        {
          "output_type": "stream",
          "name": "stdout",
          "text": [
            "Juan Pérez ha sacado un 10 de nota.\n"
          ]
        }
      ]
    },
    {
      "cell_type": "markdown",
      "source": [
        "**Ejercicio 2**\n",
        "Escribir un programa que pregunte el nombre c\n",
        "del usuario en la consola y después muestre por pantalla el nombre del usuario tres veces, una con todas las letras minúsculas, otra con todas las letras mayúsculas y otra solo con la primera letra del nombre en mayúscula."
      ],
      "metadata": {
        "id": "4CGjGC8korFU"
      }
    },
    {
      "cell_type": "code",
      "source": [
        "name = input(\"Por favor, ingrese su nombre de usuario: \")\n",
        "print(name.lower())\n",
        "print(name.upper())\n",
        "print(name.capitalize())"
      ],
      "metadata": {
        "colab": {
          "base_uri": "https://localhost:8080/"
        },
        "id": "sdlk7BucEpGC",
        "outputId": "01564c39-6c23-42d6-b29f-b486ab4e454a"
      },
      "execution_count": null,
      "outputs": [
        {
          "output_type": "stream",
          "name": "stdout",
          "text": [
            "Por favor, ingrese su nombre de usuario: agusle\n",
            "agusle\n",
            "AGUSLE\n",
            "Agusle\n"
          ]
        }
      ]
    },
    {
      "cell_type": "markdown",
      "source": [
        "**Ejercicio 3**\n",
        "Escribir un programa que pregunte al usuario la fecha de su nacimiento en formato dd/mm/aaaa y muestra por pantalla, el día, el mes y el año. "
      ],
      "metadata": {
        "id": "QJXqWqjbo0v0"
      }
    },
    {
      "cell_type": "code",
      "source": [
        "months = {\n",
        "    1 : \"Enero\",\n",
        "    2 : \"Febrero\",\n",
        "    3 : \"Marzo\",\n",
        "    4 : \"Abril\",\n",
        "    5 : \"Mayo\",\n",
        "    6 : \"Junio\",\n",
        "    7 : \"Julio\",\n",
        "    8 : \"Agosto\",\n",
        "    9 : \"Septiembre\",\n",
        "    10 : \"Octubre\",\n",
        "    11 : \"Noviembre\",\n",
        "    12 : \"Diciembre\",\n",
        "}"
      ],
      "metadata": {
        "id": "id0SFGwGGVrj"
      },
      "execution_count": null,
      "outputs": []
    },
    {
      "cell_type": "code",
      "source": [
        "date = input(\"Por favor, ingrese la fecha de su nacimiento bajo el formato dd/mm/aaaa: \",)\n",
        "date = date.split(\"/\")\n",
        "day = date[0]\n",
        "month = int(date[1])\n",
        "year = date[2]\n",
        "print(f'Usted ha ingresado el día {day} de {months[month]} del año {year}.')"
      ],
      "metadata": {
        "colab": {
          "base_uri": "https://localhost:8080/"
        },
        "id": "ebQhVBnCFJD-",
        "outputId": "93e17d52-8537-43f8-dce7-61513163d135"
      },
      "execution_count": null,
      "outputs": [
        {
          "output_type": "stream",
          "name": "stdout",
          "text": [
            "Por favor, ingrese la fecha de su nacimiento bajo el formato dd/mm/aaaa: 04/11/1992\n",
            "Usted ha ingresado el día 04 de Noviembre del año 1992.\n"
          ]
        }
      ]
    },
    {
      "cell_type": "code",
      "source": [
        "date = input(\"Por favor, ingrese la fecha de su nacimiento bajo el formato dd/mm/aaaa: \",)\n",
        "day = date[:2]\n",
        "month = int(date[3:5])\n",
        "year = date[6:]\n",
        "print(f'Usted ha ingresado el día {day} de {months[month]} del año {year}.')"
      ],
      "metadata": {
        "colab": {
          "base_uri": "https://localhost:8080/"
        },
        "id": "CkIZ6pglFuPY",
        "outputId": "7652de91-0570-4779-a6f1-33da657c4b1b"
      },
      "execution_count": null,
      "outputs": [
        {
          "output_type": "stream",
          "name": "stdout",
          "text": [
            "Por favor, ingrese la fecha de su nacimiento bajo el formato dd/mm/aaaa: 25/12/1991\n",
            "Usted ha ingresado el día 25 de Diciembre del año 1991.\n"
          ]
        }
      ]
    },
    {
      "cell_type": "markdown",
      "source": [
        "**Ejercicio 4**\n",
        "Escribir un programa que pregunte por consola el precio de un producto en pesos con dos decimales y muestre por pantalla el número de pesos y el número de centavos del precio introducido."
      ],
      "metadata": {
        "id": "BbtGPq2Qo2-N"
      }
    },
    {
      "cell_type": "code",
      "source": [
        "price = input(\"Por favor, ingrese el precio de su producto: \",)\n",
        "price = price.split(\".\")\n",
        "whole = price[0] \n",
        "cents = price[1]\n",
        "print(f'Usted ha ingresado {whole} pesos y {cents} centavos.')"
      ],
      "metadata": {
        "colab": {
          "base_uri": "https://localhost:8080/"
        },
        "id": "qFohmUekHeSM",
        "outputId": "3ad209d4-aa99-49dd-f5b4-c3a5f6b0a444"
      },
      "execution_count": null,
      "outputs": [
        {
          "output_type": "stream",
          "name": "stdout",
          "text": [
            "Por favor, ingrese el precio de su producto: 12.99\n",
            "Usted ha ingresado 12 pesos y 99 centavos.\n"
          ]
        }
      ]
    },
    {
      "cell_type": "code",
      "source": [
        "price = float(input(\"Por favor, ingrese el precio de su producto: \",))\n",
        "whole = int(price)\n",
        "cents = int((price - whole) * 100)\n",
        "print(f'Usted ha ingresado {whole} pesos y {cents} centavos.')"
      ],
      "metadata": {
        "colab": {
          "base_uri": "https://localhost:8080/"
        },
        "id": "KXO8aVVYIzCs",
        "outputId": "b9426bce-1ee5-49ab-b3aa-e1231fe0592d"
      },
      "execution_count": null,
      "outputs": [
        {
          "output_type": "stream",
          "name": "stdout",
          "text": [
            "Por favor, ingrese el precio de su producto: 12.99\n",
            "Usted ha ingresado 12 pesos y 99 centavos.\n"
          ]
        }
      ]
    },
    {
      "cell_type": "markdown",
      "source": [
        "# Práctica métodos y funciones built in"
      ],
      "metadata": {
        "id": "PG0_CG8t15Tk"
      }
    },
    {
      "cell_type": "markdown",
      "source": [
        "**Ejercicio 1** Escribir un programa que le pregunte a las personas su fecha de nacimiento y en base a eso imprimir su signo zodıacal.\n",
        "\n",
        "El formato de ingreso de la fecha debe ser DD/MM/YY. \n",
        "Tener en cuenta que el usuario puede no ingresar el '0' del mes o el dia, investigar que metodo nos puede facilitar la tarea."
      ],
      "metadata": {
        "id": "6upib1wwwQTm"
      }
    },
    {
      "cell_type": "code",
      "source": [
        "birthday = input('Bienvenido! Ingrese su fecha de nacimiento bajo el formato \"DD/MM/YY\" (ejemplo:04/11/91) para conocer su signo del zodíaco: ',)\n",
        "\n",
        "if birthday[2] != \"/\" or birthday[5] != \"/\" : #validacion formato\n",
        "  print(f'ERROR. Por favor asegúrese de respetar el formato \"DD/MM/YY\" (ejemplo:04/11/91) y vuelva a intentarlo.')\n",
        "elif int(birthday[:2]) > 31 or int(birthday[:2]) < 1: #validacion dia\n",
        "  print(f'ERROR. Por favor asegúrese de ingresar días válidos entre 1 y 31 y vuelva a intentarlo.')\n",
        "elif int(birthday[3:5]) > 12 or int(birthday[3:5]) < 1: #validacion mes\n",
        "  print(f'ERROR. Por favor asegúrese de ingresar meses válidos entre 1 y 12 y vuelva a intentarlo.')\n",
        "elif int(birthday[-2:]) < 0 : #validacion año\n",
        "  print(f'ERROR. Por favor asegúrese de ingresar un año positivo mayor a 0.')  \n",
        "elif int(birthday[-2:])%4 != 0 and birthday[:5] == \"29/02\": #validacion año bisiesto\n",
        "  print(f'ERROR. Por favor el día 29/02 solo existe en años bisiestos.') \n",
        "\n",
        "else:\n",
        "  birthday = int(birthday.split(\"/\")[1] + birthday.split(\"/\")[0])\n",
        "\n",
        "  if birthday >= 120 and birthday < 219:\n",
        "     zodiac = \"Acuario\"\n",
        "  elif birthday >= 219 and birthday < 321:\n",
        "     zodiac = \"Piscis\"  \n",
        "  elif birthday >= 321 and birthday < 420:\n",
        "     zodiac = \"Aries\"\n",
        "  elif birthday >= 420 and birthday < 521:\n",
        "     zodiac = \"Tauro\"\n",
        "  elif birthday >= 521 and birthday < 621:\n",
        "     zodiac = \"Géminis\"\n",
        "  elif birthday >= 621 and birthday < 723:\n",
        "     zodiac = \"Cáncer\"\n",
        "  elif birthday >= 723 and birthday < 823:\n",
        "     zodiac = \"Leo\"\n",
        "  elif birthday >= 823 and birthday < 923:\n",
        "     zodiac = \"Virgo\"\n",
        "  elif birthday >= 923 and birthday < 1023:\n",
        "     zodiac = \"Libra\"\n",
        "  elif birthday >= 1023 and birthday < 1122:\n",
        "     zodiac = \"Escorpio\"\n",
        "  elif birthday >= 1122 and birthday < 1222:\n",
        "     zodiac = \"Sagitario\"     \n",
        "  else :\n",
        "     zodiac = \"Capricornio\"  \n",
        "\n",
        "  print(f'\\nSu signo del zodíago es {zodiac}. Exitos en su vida astrológica y que dios lo acompañe!')"
      ],
      "metadata": {
        "colab": {
          "base_uri": "https://localhost:8080/"
        },
        "id": "ahWyoLQ0MGFW",
        "outputId": "39b11fef-accb-4ff0-883e-6572b2af7d5d"
      },
      "execution_count": null,
      "outputs": [
        {
          "output_type": "stream",
          "name": "stdout",
          "text": [
            "Bienvenido! Ingrese su fecha de nacimiento bajo el formato \"DD/MM/YY\" (ejemplo:04/11/91) para conocer su signo del zodíaco: 29/02/00\n",
            "\n",
            "Su signo del zodíago es Piscis. Exitos en su vida astrológica y que dios lo acompañe!\n"
          ]
        }
      ]
    },
    {
      "cell_type": "markdown",
      "source": [
        "**Ejercicio 2** Realizar el ejercicio 1 de la práctica de cadenas utilizando una función Built-in"
      ],
      "metadata": {
        "id": "XFJsZET61eze"
      }
    },
    {
      "cell_type": "code",
      "source": [
        "cadena = \"zeréP nauJ,01\"\n",
        "fname = cadena[-4::-1].split(\" \")[0]\n",
        "lname = cadena[-4::-1].split(\" \")[1]\n",
        "grade = cadena[:-3:-1]\n",
        "\n",
        "print(f'{fname} {lname} ha sacado un {grade} de nota.')"
      ],
      "metadata": {
        "colab": {
          "base_uri": "https://localhost:8080/"
        },
        "id": "2bvK1w2OQdHA",
        "outputId": "b8ba65b8-e4f2-410b-fc91-9ebcad791a63"
      },
      "execution_count": null,
      "outputs": [
        {
          "output_type": "stream",
          "name": "stdout",
          "text": [
            "Juan Pérez ha sacado un 10 de nota.\n"
          ]
        }
      ]
    },
    {
      "cell_type": "markdown",
      "source": [
        "**Ejercicio 3** Dada una lista de valores ordenarla de forma ascendente y luego descendente.\n",
        "\n",
        "Ayuda: investigar *sorted* y *sort*"
      ],
      "metadata": {
        "id": "W1Us3dUA3TdL"
      }
    },
    {
      "cell_type": "markdown",
      "source": [
        "**Sort es un método propio de los listados**. Por lo tanto, su sintaxis es list.sort()"
      ],
      "metadata": {
        "id": "fXpvRl50S_w-"
      }
    },
    {
      "cell_type": "code",
      "source": [
        "import random"
      ],
      "metadata": {
        "id": "s3g9lk_vULlY"
      },
      "execution_count": null,
      "outputs": []
    },
    {
      "cell_type": "code",
      "source": [
        "#ascending sort\n",
        "values = [random.randint(1,100) for x in range(10)]\n",
        "values.sort()\n",
        "print(f\"Lista de valores ordenadas de forma ascendente:\\n{values}\")"
      ],
      "metadata": {
        "colab": {
          "base_uri": "https://localhost:8080/"
        },
        "id": "zgzWJYP4RL4E",
        "outputId": "73ac4378-2449-4810-9610-261a5f7126b8"
      },
      "execution_count": null,
      "outputs": [
        {
          "output_type": "stream",
          "name": "stdout",
          "text": [
            "Lista de valores ordenadas de forma ascendente:\n",
            "[5, 13, 41, 43, 45, 50, 51, 56, 87, 100]\n"
          ]
        }
      ]
    },
    {
      "cell_type": "code",
      "source": [
        "#descending sort\n",
        "values = [random.randint(1,100) for x in range(10)]\n",
        "values.sort(reverse=True)\n",
        "print(f\"Lista de valores ordenadas de forma descendente:\\n{values}\")"
      ],
      "metadata": {
        "colab": {
          "base_uri": "https://localhost:8080/"
        },
        "id": "Q92R1pucTS6i",
        "outputId": "05430a99-d83c-4dbb-f088-1548848fb4c4"
      },
      "execution_count": null,
      "outputs": [
        {
          "output_type": "stream",
          "name": "stdout",
          "text": [
            "Lista de valores ordenadas de forma descendente:\n",
            "[94, 82, 76, 66, 52, 41, 25, 17, 15, 1]\n"
          ]
        }
      ]
    },
    {
      "cell_type": "markdown",
      "source": [
        "Mientras que **sorted es una función built-in de python**. Siendo su sintaxis:\n",
        "sorted(iterable object)"
      ],
      "metadata": {
        "id": "rXUmbvIxTI8F"
      }
    },
    {
      "cell_type": "code",
      "source": [
        "#ascending sorted\n",
        "values = [random.randint(1,100) for x in range(10)]\n",
        "print(f\"Lista de valores ordenadas de forma ascendente:\\n{sorted(values)}\")"
      ],
      "metadata": {
        "colab": {
          "base_uri": "https://localhost:8080/"
        },
        "id": "p9A4v1ruSc1a",
        "outputId": "693d7e84-2d95-4749-c814-77f31280fe74"
      },
      "execution_count": null,
      "outputs": [
        {
          "output_type": "stream",
          "name": "stdout",
          "text": [
            "Lista de valores ordenadas de forma ascendente:\n",
            "[9, 25, 42, 44, 44, 47, 57, 60, 89, 97]\n"
          ]
        }
      ]
    },
    {
      "cell_type": "code",
      "source": [
        "#descending sorted\n",
        "values = [random.randint(1,100) for x in range(10)]\n",
        "print(f\"Lista de valores ordenadas de forma descendente:\\n{sorted(values,reverse=True)}\")"
      ],
      "metadata": {
        "colab": {
          "base_uri": "https://localhost:8080/"
        },
        "id": "IM9NgxQTTint",
        "outputId": "05f67524-d555-4e1f-f6ae-b733c1d2078a"
      },
      "execution_count": null,
      "outputs": [
        {
          "output_type": "stream",
          "name": "stdout",
          "text": [
            "Lista de valores ordenadas de forma descendente:\n",
            "[100, 88, 83, 82, 79, 49, 23, 20, 11, 7]\n"
          ]
        }
      ]
    },
    {
      "cell_type": "markdown",
      "source": [
        "# Práctica de funciones"
      ],
      "metadata": {
        "id": "ZXl5_ySxtAOs"
      }
    },
    {
      "cell_type": "markdown",
      "source": [
        "**Ejercicio 1**\n",
        "Escribir una función que muestre por pantalla el saludo ¡Hola amiga! cada vez que se la invoque."
      ],
      "metadata": {
        "id": "XqEFK47UtDFh"
      }
    },
    {
      "cell_type": "code",
      "source": [
        "def greeting () -> str:\n",
        "  \"\"\"\n",
        "  Imprime el string \"¡Hola amiga!\" en pantalla. \n",
        "  \"\"\"\n",
        "  print(\"¡Hola amiga!\")"
      ],
      "metadata": {
        "id": "jRfka4eKU_4x"
      },
      "execution_count": null,
      "outputs": []
    },
    {
      "cell_type": "code",
      "source": [
        "greeting()"
      ],
      "metadata": {
        "colab": {
          "base_uri": "https://localhost:8080/"
        },
        "id": "mTqykCUNVTxU",
        "outputId": "e2e289ce-6c35-4b8f-8001-d6a6d1c3a115"
      },
      "execution_count": null,
      "outputs": [
        {
          "output_type": "stream",
          "name": "stdout",
          "text": [
            "¡Hola amiga!\n"
          ]
        }
      ]
    },
    {
      "cell_type": "markdown",
      "source": [
        "**Ejercicio 2**\n",
        "Escribir una función a la que se le pase una cadena < nombre > y muestre por pantalla el saludo ¡hola < nombre >!."
      ],
      "metadata": {
        "id": "6OXTbUsDtGSP"
      }
    },
    {
      "cell_type": "code",
      "source": [
        "def greeting (name:str = \"amigo/a\") -> str:\n",
        "  \"\"\"\n",
        "  Imprime el nombre ingresado como argumento en el siguiente string:\n",
        "  \"¡Hola < nombre >!\" en pantalla. \n",
        "  \"\"\"\n",
        "  print(f'¡Hola {name}!')"
      ],
      "metadata": {
        "id": "1VD--R2EVhRq"
      },
      "execution_count": null,
      "outputs": []
    },
    {
      "cell_type": "code",
      "source": [
        "greeting()"
      ],
      "metadata": {
        "colab": {
          "base_uri": "https://localhost:8080/"
        },
        "id": "6tk8Uc_7V_SP",
        "outputId": "415a9e5d-1f0a-4512-fa62-d0d0efe16fbb"
      },
      "execution_count": null,
      "outputs": [
        {
          "output_type": "stream",
          "name": "stdout",
          "text": [
            "¡Hola amigo/a!\n"
          ]
        }
      ]
    },
    {
      "cell_type": "code",
      "source": [
        "greeting(\"Agustin\")"
      ],
      "metadata": {
        "colab": {
          "base_uri": "https://localhost:8080/"
        },
        "id": "DLYwr-x1WC0J",
        "outputId": "138b133d-7aa7-4959-e2c6-f35ba147aa62"
      },
      "execution_count": null,
      "outputs": [
        {
          "output_type": "stream",
          "name": "stdout",
          "text": [
            "¡Hola Agustin!\n"
          ]
        }
      ]
    },
    {
      "cell_type": "markdown",
      "source": [
        "**Ejercicio 3**\n",
        "Escribir una función que calcule el total de una factura tras aplicarle el IVA. La función debe recibir la cantidad sin IVA y el porcentaje de IVA a aplicar, y devolver el total de la factura."
      ],
      "metadata": {
        "id": "MI9uFBvDtORh"
      }
    },
    {
      "cell_type": "code",
      "source": [
        "def tax_iva(amount:float,tax:float=21) -> float :\n",
        "  \"\"\"\n",
        "  Calcula el total de una factura tras aplicarle el IVA.\n",
        "\n",
        "  Parameters\n",
        "  ----------\n",
        "  amount = float\n",
        "    Total amount without IVA.\n",
        "  tax = float\n",
        "    Tax to apply on amount(10.5,21,27).\n",
        "    By default is set to 21%.\n",
        "  \n",
        "  Returns\n",
        "  -------\n",
        "  total = float\n",
        "    Total amount with applied tax.\n",
        "  \n",
        "  \"\"\"\n",
        "  total = amount * (1 + tax/100)\n",
        "  return total"
      ],
      "metadata": {
        "id": "U---okU7WJVj"
      },
      "execution_count": null,
      "outputs": []
    },
    {
      "cell_type": "code",
      "source": [
        "tax_iva(200,10.5)"
      ],
      "metadata": {
        "colab": {
          "base_uri": "https://localhost:8080/"
        },
        "id": "TtietDU2W8dn",
        "outputId": "5ebf79a6-0ca0-4de1-cbda-2bef6286df38"
      },
      "execution_count": null,
      "outputs": [
        {
          "output_type": "execute_result",
          "data": {
            "text/plain": [
              "221.0"
            ]
          },
          "metadata": {},
          "execution_count": 169
        }
      ]
    },
    {
      "cell_type": "code",
      "source": [
        "tax_iva(200)"
      ],
      "metadata": {
        "colab": {
          "base_uri": "https://localhost:8080/"
        },
        "id": "C5Zu2J4IXrE0",
        "outputId": "5bdb1cca-2036-4bd5-c64a-3be830516586"
      },
      "execution_count": null,
      "outputs": [
        {
          "output_type": "execute_result",
          "data": {
            "text/plain": [
              "242.0"
            ]
          },
          "metadata": {},
          "execution_count": 170
        }
      ]
    },
    {
      "cell_type": "markdown",
      "source": [
        "**Ejercicio 4** Realizar una función que tome como parámetros 3 números, se fije cual es el número más grande (N) y el más chico (M) y devuelva la potencia de Nᴹ.\n",
        "Utilizar solo funciones built in."
      ],
      "metadata": {
        "id": "PORApgqa1xv0"
      }
    },
    {
      "cell_type": "code",
      "source": [
        "def power_nm (first:int, second:int , third:int) -> int:\n",
        "  \"\"\"\n",
        "  Calcula el número más grande (N) y el más chico (M) y devuelva la potencia de Nᴹ.\n",
        "  \"\"\"\n",
        "  n = max(first,second,third)\n",
        "  m = min(first,second,third)\n",
        "  return n**m"
      ],
      "metadata": {
        "id": "wdk-7_pVX-4i"
      },
      "execution_count": null,
      "outputs": []
    },
    {
      "cell_type": "code",
      "source": [
        "power_nm(1,2,3) # 3**1"
      ],
      "metadata": {
        "colab": {
          "base_uri": "https://localhost:8080/"
        },
        "id": "by8eO-qwY2uv",
        "outputId": "15c9607d-768b-4871-9fc6-1b0507332efc"
      },
      "execution_count": null,
      "outputs": [
        {
          "output_type": "execute_result",
          "data": {
            "text/plain": [
              "3"
            ]
          },
          "metadata": {},
          "execution_count": 173
        }
      ]
    },
    {
      "cell_type": "code",
      "source": [
        "power_nm(2,3,4) # 4**2"
      ],
      "metadata": {
        "colab": {
          "base_uri": "https://localhost:8080/"
        },
        "id": "Fo9mf3bxZMTI",
        "outputId": "21ed7b22-526b-41a3-eac6-ebd3820807d6"
      },
      "execution_count": null,
      "outputs": [
        {
          "output_type": "execute_result",
          "data": {
            "text/plain": [
              "16"
            ]
          },
          "metadata": {},
          "execution_count": 174
        }
      ]
    },
    {
      "cell_type": "markdown",
      "source": [
        "## Práctica adicional\n"
      ],
      "metadata": {
        "id": "ByB-WJyILtEY"
      }
    },
    {
      "cell_type": "markdown",
      "source": [
        "Genere una función a la que se ingresan dos parámetros:\n",
        "+ una variable que permita seleccionas el calculo\n",
        "+ una cadena que contengas dos valores numéricos separados por un punto y como\n",
        "  de la forma \"24;78\" \n",
        "La función debe generar el calculo deseado e imprimir por pantalla un formato\n",
        "como el que sigue:"
      ],
      "metadata": {
        "id": "g8CRbJlLLust"
      }
    },
    {
      "cell_type": "markdown",
      "source": [
        "# ![cuenta.jpg](data:image/jpeg;base64,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)"
      ],
      "metadata": {
        "id": "7jsy98-hLzrQ"
      }
    },
    {
      "cell_type": "markdown",
      "source": [
        "Con las variantes tanto en cálculo como en formato según los parámetros utilizados."
      ],
      "metadata": {
        "id": "ZMSw7gO-L4Dx"
      }
    },
    {
      "cell_type": "code",
      "source": [
        "# para la resolución entiendo, según el ejemplo de la imagen, utilizar solo los operadores aritméticos\n",
        "operators = {\n",
        "    \"+\": \"Adición entre los operandos\",\n",
        "    \"-\": \"Substracción entre los operandos\",\n",
        "    \"*\": \"Multiplicación entre los operandos\",\n",
        "    \"/\": \"División entre los operandos\",\n",
        "    \"%\": \"Módulo entre los operandos\",\n",
        "    \"**\": \"Potencia de los operandos\",\n",
        "    \"//\": \"División con resultado de número entero\",\n",
        "    }"
      ],
      "metadata": {
        "id": "TGcFLQNBYYGS"
      },
      "execution_count": 19,
      "outputs": []
    },
    {
      "cell_type": "code",
      "source": [
        "# para el calculo, entiendo que se trata de valores numéricos enteros\n",
        "def calculator (operator:str, operands:str) -> str:\n",
        "  \"\"\"\n",
        "  Print the result of the arithmetic operation with the following shape:\n",
        "\n",
        "             operand 1\n",
        "  operator   operand 2\n",
        "  ---------------------\n",
        "             result\n",
        "\n",
        "  Parameters\n",
        "  ----------\n",
        "  operator = str\n",
        "    Aritmetic operator (+,-,*,/,%,**,//)\n",
        "  operands = str\n",
        "    String with two operands separated with \";\". eg: 24;78\n",
        "\n",
        "  Return\n",
        "  ------\n",
        "    Printed result.\n",
        "  \"\"\"\n",
        "  \n",
        "  operands = operands.split(\";\")\n",
        "  operand1 = int(operands[0])\n",
        "  operand2 = int(operands[1])\n",
        "  print(f'   {operand1}\\n{operator}  {operand2}\\n--------')\n",
        "  if operator == \"+\":\n",
        "    result = operand1 + operand2\n",
        "  elif operator == \"-\":\n",
        "    result = operand1 - operand2\n",
        "  elif operator == \"*\":\n",
        "    result = operand1 * operand2\n",
        "  elif operator == \"/\":\n",
        "    result = operand1 / operand2\n",
        "  elif operator == \"%\":\n",
        "    result = operand1 % operand2\n",
        "  elif operator == \"**\":\n",
        "    result = operand1 ** operand2\n",
        "  else:\n",
        "    result = operand1 // operand2\n",
        "  print(f'   {result}')"
      ],
      "metadata": {
        "id": "uEIYhUuKLt5Z"
      },
      "execution_count": 26,
      "outputs": []
    },
    {
      "cell_type": "code",
      "source": [
        "print(f'Bienvenido a la calculadora de la FCEIA\\n')\n",
        "while True:\n",
        "  print(f'Disponemos de los siguientes operadores para realizar su cálculo:')\n",
        "  for key,value in operators.items():\n",
        "    print(f'\"{key}\" - {value}')\n",
        "  operator = input(\"\\nPor favor, seleccione uno de los operadores disponibles: \",)\n",
        "  operator = operator.strip()\n",
        "  if operator not in operators: #validacion de operador\n",
        "    print(f\"Ha ingresado {operator} y no se encuentra disponible. Por favor, asegúrese de haber ingresado el operador correctamente.\\n\")\n",
        "    continue  \n",
        "  print(f'Usted ha seleccionado el operador {operator} ({operators[operator]}) para realizar su operación.\\n')\n",
        "  while True:\n",
        "    operands = input('Por favor, ingrese los operandos separados por \";\" (ejemplo: 24;78) :\\n')\n",
        "    if \";\" not in operands: #validacion de separador de operandos\n",
        "      print(f'Usted ha ingresado {operands}. Asegúrese de haber ingresado los operandos separados por \";\" (ejemplo: 24;78).')\n",
        "      continue\n",
        "    operands_split = operands.split(\";\")\n",
        "    if not (operands_split[0].isnumeric() and operands_split[1].isnumeric()): #validacion de operandos numericos\n",
        "      print(f'Usted ha ingresado {operands}. Asegúrese de haber ingresado valores numéricos (ejemplo: 24;78).')\n",
        "      continue \n",
        "    print('\\nEl resultado de su cálculo es: \\n')\n",
        "    result = calculator(operator,operands) #llamada a la función\n",
        "    break\n",
        "  keep = input(\"\\n¿Desea realizar otro cálculo? (Si/No) \")\n",
        "  if keep.lower() == \"si\":\n",
        "    continue\n",
        "  print(\"\\nGracias por utilizar la calculadora de la FCEIA. Que tenga un buen día!\")\n",
        "  break"
      ],
      "metadata": {
        "colab": {
          "base_uri": "https://localhost:8080/"
        },
        "id": "MizQiZwdM_Zl",
        "outputId": "9930e60c-2e24-4919-ac79-7ce9341b40a0"
      },
      "execution_count": 37,
      "outputs": [
        {
          "output_type": "stream",
          "name": "stdout",
          "text": [
            "Bienvenido a la calculadora de la FCEIA\n",
            "\n",
            "Disponemos de los siguientes operadores para realizar su cálculo:\n",
            "\"+\" - Adición entre los operandos\n",
            "\"-\" - Substracción entre los operandos\n",
            "\"*\" - Multiplicación entre los operandos\n",
            "\"/\" - División entre los operandos\n",
            "\"%\" - Módulo entre los operandos\n",
            "\"**\" - Potencia de los operandos\n",
            "\"//\" - División con resultado de número entero\n",
            "\n",
            "Por favor, seleccione uno de los operadores disponibles: <\n",
            "Ha ingresado < y no se encuentra disponible. Por favor, asegúrese de haber ingresado el operador correctamente.\n",
            "\n",
            "Disponemos de los siguientes operadores para realizar su cálculo:\n",
            "\"+\" - Adición entre los operandos\n",
            "\"-\" - Substracción entre los operandos\n",
            "\"*\" - Multiplicación entre los operandos\n",
            "\"/\" - División entre los operandos\n",
            "\"%\" - Módulo entre los operandos\n",
            "\"**\" - Potencia de los operandos\n",
            "\"//\" - División con resultado de número entero\n",
            "\n",
            "Por favor, seleccione uno de los operadores disponibles: +\n",
            "Usted ha seleccionado el operador + (Adición entre los operandos) para realizar su operación.\n",
            "\n",
            "Por favor, ingrese los operandos separados por \";\" (ejemplo: 24;78) :\n",
            "25,25\n",
            "Usted ha ingresado 25,25. Asegúrese de haber ingresado los operandos separados por \";\" (ejemplo: 24;78).\n",
            "Por favor, ingrese los operandos separados por \";\" (ejemplo: 24;78) :\n",
            "25;2A\n",
            "Usted ha ingresado 25;2A. Asegúrese de haber ingresado valores numéricos (ejemplo: 24;78).\n",
            "Por favor, ingrese los operandos separados por \";\" (ejemplo: 24;78) :\n",
            "25;25\n",
            "\n",
            "El resultado de su cálculo es: \n",
            "\n",
            "  25\n",
            "+ 25\n",
            "------\n",
            "  50\n",
            "\n",
            "¿Desea realizar otro cálculo? (Si/No)SI\n",
            "Disponemos de los siguientes operadores para realizar su cálculo:\n",
            "\"+\" - Adición entre los operandos\n",
            "\"-\" - Substracción entre los operandos\n",
            "\"*\" - Multiplicación entre los operandos\n",
            "\"/\" - División entre los operandos\n",
            "\"%\" - Módulo entre los operandos\n",
            "\"**\" - Potencia de los operandos\n",
            "\"//\" - División con resultado de número entero\n",
            "\n",
            "Por favor, seleccione uno de los operadores disponibles: -\n",
            "Usted ha seleccionado el operador - (Substracción entre los operandos) para realizar su operación.\n",
            "\n",
            "Por favor, ingrese los operandos separados por \";\" (ejemplo: 24;78) :\n",
            "200;150\n",
            "\n",
            "El resultado de su cálculo es: \n",
            "\n",
            "  200\n",
            "- 150\n",
            "------\n",
            "  50\n",
            "\n",
            "¿Desea realizar otro cálculo? (Si/No)NO\n",
            "\n",
            "Gracias por utilizar la calculadora de la FCEIA. Que tenga un buen día!\n"
          ]
        }
      ]
    }
  ]
}