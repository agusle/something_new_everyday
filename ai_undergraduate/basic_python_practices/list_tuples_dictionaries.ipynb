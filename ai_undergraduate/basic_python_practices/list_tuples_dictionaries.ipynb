{
  "cells": [
    {
      "cell_type": "markdown",
      "id": "975346ff",
      "metadata": {
        "id": "975346ff"
      },
      "source": [
        "## Listas, tuplas y diccionarios"
      ]
    },
    {
      "cell_type": "markdown",
      "id": "62ce5593",
      "metadata": {
        "id": "62ce5593"
      },
      "source": [
        "#### Listas"
      ]
    },
    {
      "cell_type": "markdown",
      "id": "6df460bc",
      "metadata": {
        "id": "6df460bc"
      },
      "source": [
        "1. Escriba una función que reciba una lista de números calcule la suma acumulada de sus elementos y la devuelva. Es decir, una nueva lista donde el primer elemento es el mismo que en la lista original, el segundo elemento es la suma del primer y segundo elemento de la lista original, el tercer elemento es la suma del resultado anterior con el tercer elemento de la lista original y así sucesivamente. Por ejemplo, dada la lista [1, 2, 3], la suma acumulada debería ser [1, 3, 6]."
      ]
    },
    {
      "cell_type": "code",
      "source": [
        "def acumulative_list_sum(numbers:list)-> list:\n",
        "  \"\"\"\n",
        "  Crea una nueva lista donde el primer elemento es el mismo que la original,\n",
        "  el segundo elemento es la suma del primer y segundo elemento de la lista \n",
        "  original y el tercer elemento es la suma del resultado anterior \n",
        "  con el tercer elemento de la lista original y así sucesivamente.\n",
        "\n",
        "  Parameters\n",
        "  ----------\n",
        "  numbers = list\n",
        "    Lista de números (int, float). e.g: [1,2,3]\n",
        "  \n",
        "  Returns\n",
        "  -------\n",
        "  sum_numbers = list\n",
        "    Lista con la suma acumulativa. e.g: [1,3,6]\n",
        "  \"\"\"\n",
        "\n",
        "  sum_numbers = []\n",
        "  for number in range(len(numbers)):\n",
        "    if len(sum_numbers) == 0: #primer elemento es igual que original\n",
        "      number = numbers[number]\n",
        "    elif len(sum_numbers) < 2 : #segundo elemento suma de 1ro + 2do original\n",
        "      number = numbers[number] + numbers[number-1]\n",
        "    else:\n",
        "      number = sum_numbers[-1] + numbers[number] #tercer elemento suma con ant.\n",
        "    sum_numbers.append(number)\n",
        "  return sum_numbers"
      ],
      "metadata": {
        "id": "3nrAjC2Pib1g"
      },
      "id": "3nrAjC2Pib1g",
      "execution_count": null,
      "outputs": []
    },
    {
      "cell_type": "code",
      "source": [
        "my_list = [1,2,3]\n",
        "sum_list = acumulative_list_sum(my_list)\n",
        "print(sum_list)"
      ],
      "metadata": {
        "colab": {
          "base_uri": "https://localhost:8080/"
        },
        "id": "4M8ljegd2qyL",
        "outputId": "720254c2-ac26-4458-f5d2-98757ea03732"
      },
      "id": "4M8ljegd2qyL",
      "execution_count": null,
      "outputs": [
        {
          "output_type": "stream",
          "name": "stdout",
          "text": [
            "[1, 3, 6]\n"
          ]
        }
      ]
    },
    {
      "cell_type": "markdown",
      "id": "a1864932",
      "metadata": {
        "id": "a1864932"
      },
      "source": [
        "2. Genere una lista llamada datosPersonales, mediante el uso de un bucle donde en cada iteración se pida un solo dato de los siguientes: Nombre, Apellido, Localidad, Edad, DNI, Carrera en curso (en esta última ingrese: Tecnicatura), año de inicio de la carrera. Luego, imprima por pantalla la lista con los datos completados. (Ingrese las palabras como cadenas y los números como enteros)"
      ]
    },
    {
      "cell_type": "code",
      "source": [
        "form = [\"Nombre\",\"Apellido\",\"Localidad\",\"Edad\",\"DNI\",\"Carrera en curso\",\"Año de inicio de carrera\"]"
      ],
      "metadata": {
        "id": "xC7_RIG88Euo"
      },
      "id": "xC7_RIG88Euo",
      "execution_count": null,
      "outputs": []
    },
    {
      "cell_type": "code",
      "source": [
        "def fill_form(form:list) -> list:\n",
        "  \"\"\"\n",
        "  Genera una secuencia de input para cada uno de los elementos del formulario\n",
        "  ingresado como argumento. Si el valor ingresado es numérico, el elemento se\n",
        "  almacena como número entero, de lo contario como cadena.\n",
        "\n",
        "  Parameter\n",
        "  ---------\n",
        "  form = list\n",
        "    Lista con campos de datos a ingresar por el usuario.\n",
        "  \n",
        "  Returns\n",
        "  -------\n",
        "  datosPersonales = list\n",
        "    Lista con campos ingresados por usuario\n",
        "  \"\"\"\n",
        "  \n",
        "  datosPersonales = []\n",
        "  for data in form:\n",
        "    field = input(f'Por favor, ingrese su {data}: ')\n",
        "    if field.isnumeric():\n",
        "      field = int(field)\n",
        "    datosPersonales.append(field)\n",
        "  print(f'\\nMuchas gracias por completar el formulario. Usted ingresó los siguientes datos:')\n",
        "  for index in range(len(form)):\n",
        "    print(f'{form[index]}: {datosPersonales[index]}')\n",
        "  return datosPersonales"
      ],
      "metadata": {
        "id": "65yWKGmpihCC"
      },
      "id": "65yWKGmpihCC",
      "execution_count": null,
      "outputs": []
    },
    {
      "cell_type": "code",
      "source": [
        "datosPersonales = fill_form(form)"
      ],
      "metadata": {
        "colab": {
          "base_uri": "https://localhost:8080/"
        },
        "id": "7XoUSmln9o8O",
        "outputId": "e38c6570-af2a-43c4-ea9d-15b4a75a61a5"
      },
      "id": "7XoUSmln9o8O",
      "execution_count": null,
      "outputs": [
        {
          "output_type": "stream",
          "name": "stdout",
          "text": [
            "Por favor, ingrese su Nombre: Agustin\n",
            "Por favor, ingrese su Apellido: Leperini\n",
            "Por favor, ingrese su Localidad: Carcarañá\n",
            "Por favor, ingrese su Edad: 30\n",
            "Por favor, ingrese su DNI: 36007849\n",
            "Por favor, ingrese su Carrera en curso: Tecnicatura\n",
            "Por favor, ingrese su Año de inicio de carrera: 2022\n",
            "\n",
            "Muchas gracias por completar el formulario. Usted ingresó los siguientes datos:\n",
            "Nombre: Agustin\n",
            "Apellido: Leperini\n",
            "Localidad: Carcarañá\n",
            "Edad: 30\n",
            "DNI: 36007849\n",
            "Carrera en curso: Tecnicatura\n",
            "Año de inicio de carrera: 2022\n"
          ]
        }
      ]
    },
    {
      "cell_type": "markdown",
      "source": [
        "Comprobación de almacenamiento de datos numéricos como enteros."
      ],
      "metadata": {
        "id": "YzlOtuWy99MY"
      },
      "id": "YzlOtuWy99MY"
    },
    {
      "cell_type": "code",
      "source": [
        "numeric_values = list(filter(lambda x: type(x)== int,datosPersonales))\n",
        "print(numeric_values)"
      ],
      "metadata": {
        "colab": {
          "base_uri": "https://localhost:8080/"
        },
        "id": "iuCAF92f-LLl",
        "outputId": "1dec8f0c-54be-4de9-b47f-915933027f79"
      },
      "id": "iuCAF92f-LLl",
      "execution_count": null,
      "outputs": [
        {
          "output_type": "stream",
          "name": "stdout",
          "text": [
            "[30, 36007849, 2022]\n"
          ]
        }
      ]
    },
    {
      "cell_type": "code",
      "source": [
        "print(type(datosPersonales[3]))#Edad\n",
        "print(type(datosPersonales[4]))#DNI\n",
        "print(type(datosPersonales[-1]))#Año de inicio"
      ],
      "metadata": {
        "colab": {
          "base_uri": "https://localhost:8080/"
        },
        "id": "_6eo8vvm-Cl1",
        "outputId": "51c770c4-ab89-4cf1-ce2a-34873a844ce6"
      },
      "id": "_6eo8vvm-Cl1",
      "execution_count": null,
      "outputs": [
        {
          "output_type": "stream",
          "name": "stdout",
          "text": [
            "<class 'int'>\n",
            "<class 'int'>\n",
            "<class 'int'>\n"
          ]
        }
      ]
    },
    {
      "cell_type": "markdown",
      "id": "571681d6",
      "metadata": {
        "id": "571681d6"
      },
      "source": [
        "3. Tomando la lista del ejercicio anterior y la de sus 3 compañeros más proximos, genere una lista base de datos. Que contenga en su interior las 4 listas de datos personales. Luego, implemente un programa que imprima los datos personales de cada persona."
      ]
    },
    {
      "cell_type": "code",
      "execution_count": null,
      "id": "09e896e8",
      "metadata": {
        "id": "09e896e8",
        "colab": {
          "base_uri": "https://localhost:8080/"
        },
        "outputId": "f398233e-f90c-4db0-b32c-1305271e3d06"
      },
      "outputs": [
        {
          "output_type": "stream",
          "name": "stdout",
          "text": [
            "Por favor, ingrese su Nombre: Agustin\n",
            "Por favor, ingrese su Apellido: Leperini\n",
            "Por favor, ingrese su Localidad: Carcarañá\n",
            "Por favor, ingrese su Edad: 30\n",
            "Por favor, ingrese su DNI: 36007849\n",
            "Por favor, ingrese su Carrera en curso: Tecnicatura\n",
            "Por favor, ingrese su Año de inicio de carrera: 2022\n",
            "\n",
            "Muchas gracias por completar el formulario. Usted ingresó los siguientes datos:\n",
            "Nombre: Agustin\n",
            "Apellido: Leperini\n",
            "Localidad: Carcarañá\n",
            "Edad: 30\n",
            "DNI: 36007849\n",
            "Carrera en curso: Tecnicatura\n",
            "Año de inicio de carrera: 2022\n",
            "Por favor, ingrese su Nombre: Franco\n",
            "Por favor, ingrese su Apellido: Leperini\n",
            "Por favor, ingrese su Localidad: Carcarañá\n",
            "Por favor, ingrese su Edad: 30\n",
            "Por favor, ingrese su DNI: 36007848\n",
            "Por favor, ingrese su Carrera en curso: Tecnicatura\n",
            "Por favor, ingrese su Año de inicio de carrera: 2022\n",
            "\n",
            "Muchas gracias por completar el formulario. Usted ingresó los siguientes datos:\n",
            "Nombre: Franco\n",
            "Apellido: Leperini\n",
            "Localidad: Carcarañá\n",
            "Edad: 30\n",
            "DNI: 36007848\n",
            "Carrera en curso: Tecnicatura\n",
            "Año de inicio de carrera: 2022\n",
            "Por favor, ingrese su Nombre: Martin\n",
            "Por favor, ingrese su Apellido: Cavo\n",
            "Por favor, ingrese su Localidad: Rosario\n",
            "Por favor, ingrese su Edad: 31\n",
            "Por favor, ingrese su DNI: 34593748\n",
            "Por favor, ingrese su Carrera en curso: Tecnicatura\n",
            "Por favor, ingrese su Año de inicio de carrera: 2021\n",
            "\n",
            "Muchas gracias por completar el formulario. Usted ingresó los siguientes datos:\n",
            "Nombre: Martin\n",
            "Apellido: Cavo\n",
            "Localidad: Rosario\n",
            "Edad: 31\n",
            "DNI: 34593748\n",
            "Carrera en curso: Tecnicatura\n",
            "Año de inicio de carrera: 2021\n",
            "Por favor, ingrese su Nombre: Roberto\n",
            "Por favor, ingrese su Apellido: Gomez\n",
            "Por favor, ingrese su Localidad: Villa Constitución\n",
            "Por favor, ingrese su Edad: 27\n",
            "Por favor, ingrese su DNI: 38442157\n",
            "Por favor, ingrese su Carrera en curso: Tecnicatura\n",
            "Por favor, ingrese su Año de inicio de carrera: 2022\n",
            "\n",
            "Muchas gracias por completar el formulario. Usted ingresó los siguientes datos:\n",
            "Nombre: Roberto\n",
            "Apellido: Gomez\n",
            "Localidad: Villa Constitución\n",
            "Edad: 27\n",
            "DNI: 38442157\n",
            "Carrera en curso: Tecnicatura\n",
            "Año de inicio de carrera: 2022\n"
          ]
        }
      ],
      "source": [
        "datosPersonales1 = fill_form(form)\n",
        "datosPersonales2 = fill_form(form)\n",
        "datosPersonales3 = fill_form(form)\n",
        "datosPersonales4 = fill_form(form)"
      ]
    },
    {
      "cell_type": "code",
      "source": [
        "def database_lists(*lists:list) -> list:\n",
        "  \"\"\"\n",
        "  Genera una lista compuesta por las listas ingresadas como argumentos.\n",
        "\n",
        "  Parameters\n",
        "  ----------\n",
        "  *lists = non keyword lists\n",
        "    Listas a incluir como elementos de una lista madre.\n",
        "    e.g: datosPersonales1,datosPersonales2\n",
        "\n",
        "  Returns\n",
        "  -------\n",
        "  database = list\n",
        "    Lista con cada elemento como lista ingresadas como argumento.\n",
        "  \"\"\"\n",
        "\n",
        "  database = []\n",
        "  for argument in range(len(lists)):\n",
        "    database.append(lists[argument])\n",
        "  return database"
      ],
      "metadata": {
        "id": "monmroKrADcO"
      },
      "id": "monmroKrADcO",
      "execution_count": null,
      "outputs": []
    },
    {
      "cell_type": "code",
      "source": [
        "database = database_lists(datosPersonales1,datosPersonales2,datosPersonales3,datosPersonales4)\n",
        "database"
      ],
      "metadata": {
        "colab": {
          "base_uri": "https://localhost:8080/"
        },
        "id": "8GfDNo7LCRjw",
        "outputId": "3d3b686b-2e37-4c85-be62-4c455c06a179"
      },
      "id": "8GfDNo7LCRjw",
      "execution_count": null,
      "outputs": [
        {
          "output_type": "execute_result",
          "data": {
            "text/plain": [
              "[['Agustin', 'Leperini', 'Carcarañá', 30, 36007849, 'Tecnicatura', 2022],\n",
              " ['Franco', 'Leperini', 'Carcarañá', 30, 36007848, 'Tecnicatura', 2022],\n",
              " ['Martin', 'Cavo', 'Rosario', 31, 34593748, 'Tecnicatura', 2021],\n",
              " ['Roberto', 'Gomez', 'Villa Constitución', 27, 38442157, 'Tecnicatura', 2022]]"
            ]
          },
          "metadata": {},
          "execution_count": 15
        }
      ]
    },
    {
      "cell_type": "code",
      "source": [
        "# entiendo por datos personales, todos los datos incluidos en \n",
        "# el formulario principal\n",
        "\n",
        "def print_database(form:list,database:list):\n",
        "  \"\"\"\n",
        "  Imprime en pantalla todos los datos de cada elemento de una \n",
        "  base de datos en base a un formulario.\n",
        "\n",
        "  Parameters\n",
        "  ----------\n",
        "  form: list\n",
        "    Lista con campos de datos a ingresar.\n",
        "\n",
        "  database: list\n",
        "    Lista con campos de datos ingresados.\n",
        "  \n",
        "  Returns\n",
        "  -------\n",
        "  Imprime en pantalla \n",
        "  \"\"\"\n",
        "\n",
        "  for student in range(len(database)):\n",
        "    print(f'\\nEstudiante #{student+1}: \\n') \n",
        "    for field in range(len(form)):\n",
        "      print(f'{form[field]}: {database[student][field]} ')"
      ],
      "metadata": {
        "id": "a_z9IY0lCm1R"
      },
      "id": "a_z9IY0lCm1R",
      "execution_count": null,
      "outputs": []
    },
    {
      "cell_type": "code",
      "source": [
        "print_database(form,database)"
      ],
      "metadata": {
        "colab": {
          "base_uri": "https://localhost:8080/"
        },
        "id": "0liv9xbXDaAS",
        "outputId": "84ee1919-2a49-4581-a5e2-caf3e5a3a93a"
      },
      "id": "0liv9xbXDaAS",
      "execution_count": null,
      "outputs": [
        {
          "output_type": "stream",
          "name": "stdout",
          "text": [
            "\n",
            "Estudiante #1: \n",
            "\n",
            "Nombre: Agustin \n",
            "Apellido: Leperini \n",
            "Localidad: Carcarañá \n",
            "Edad: 30 \n",
            "DNI: 36007849 \n",
            "Carrera en curso: Tecnicatura \n",
            "Año de inicio de carrera: 2022 \n",
            "\n",
            "Estudiante #2: \n",
            "\n",
            "Nombre: Franco \n",
            "Apellido: Leperini \n",
            "Localidad: Carcarañá \n",
            "Edad: 30 \n",
            "DNI: 36007848 \n",
            "Carrera en curso: Tecnicatura \n",
            "Año de inicio de carrera: 2022 \n",
            "\n",
            "Estudiante #3: \n",
            "\n",
            "Nombre: Martin \n",
            "Apellido: Cavo \n",
            "Localidad: Rosario \n",
            "Edad: 31 \n",
            "DNI: 34593748 \n",
            "Carrera en curso: Tecnicatura \n",
            "Año de inicio de carrera: 2021 \n",
            "\n",
            "Estudiante #4: \n",
            "\n",
            "Nombre: Roberto \n",
            "Apellido: Gomez \n",
            "Localidad: Villa Constitución \n",
            "Edad: 27 \n",
            "DNI: 38442157 \n",
            "Carrera en curso: Tecnicatura \n",
            "Año de inicio de carrera: 2022 \n"
          ]
        }
      ]
    },
    {
      "cell_type": "markdown",
      "id": "18adbeee",
      "metadata": {
        "id": "18adbeee"
      },
      "source": [
        "#### Tuplas"
      ]
    },
    {
      "cell_type": "markdown",
      "source": [
        "5. Escribir una función donde pida las materias que cursa unx alumnx del TUIA, las almacene en una tupla y la devuelva."
      ],
      "metadata": {
        "id": "uxYxxjT4uAtW"
      },
      "id": "uxYxxjT4uAtW"
    },
    {
      "cell_type": "code",
      "source": [
        "def student_subjects()->tuple:\n",
        "  \"\"\"\n",
        "  Permite ingresar las materias como string de forma individual \n",
        "  hasta presionar la tecla enter. Luego, elimina los espacios adicionales\n",
        "  del/los string/s ingresado/s y lo/s formatea capitalizandolo/s.\n",
        "\n",
        "  Returns\n",
        "  -------\n",
        "  subjects = tuple\n",
        "    Tupla con materias ingresadas. E.g: ('Entorno de programacion', 'Logica')\n",
        "  \"\"\"\n",
        "\n",
        "  subjects = []\n",
        "  print(\n",
        "      f'Bienvenido! Por favor, ingrese las materias que se encuentra '\n",
        "      'cursando de forma individual. En caso que desee finalizar, '\n",
        "      'presione ENTER.'\n",
        "      )\n",
        "  while True:\n",
        "    subject = input(f'Ingrese su materia nro.{len(subjects)+1}: ')\n",
        "    if subject == \"\":\n",
        "      print(f'\\nGracias por ingresar sus materias de cursado. Le deseamos éxitos en su periodo lectivo.')\n",
        "      break\n",
        "    subjects.append(subject.strip().capitalize())\n",
        "  return  tuple(subjects)\n",
        "    "
      ],
      "metadata": {
        "id": "B3Zj_fewQyrx"
      },
      "id": "B3Zj_fewQyrx",
      "execution_count": null,
      "outputs": []
    },
    {
      "cell_type": "code",
      "source": [
        "subjects = student_subjects()\n",
        "print(\n",
        "    f\"\\nEl alumno cursa {len(subjects)} materias:\\n{subjects}\\n\"\n",
        "    f\"Las mismas se encuentran almacenadas en una {type(subjects)}\"\n",
        "    )"
      ],
      "metadata": {
        "colab": {
          "base_uri": "https://localhost:8080/"
        },
        "id": "F02T1xg9jWqQ",
        "outputId": "90f9a9b1-2a23-4adf-8254-7e91f4c3c65a"
      },
      "id": "F02T1xg9jWqQ",
      "execution_count": null,
      "outputs": [
        {
          "output_type": "stream",
          "name": "stdout",
          "text": [
            "Bienvenido! Por favor, ingrese las materias que se encuentra cursando de forma individual. En caso que desee finalizar, presione ENTER.\n",
            "Ingrese su materia nro.1: Lógica \n",
            "Ingrese su materia nro.2:            Programacion I\n",
            "Ingrese su materia nro.3: ENTORNO DE PROGRAMACION\n",
            "Ingrese su materia nro.4: \n",
            "\n",
            "Gracias por ingresar sus materias de cursado. Le deseamos éxitos en su periodo lectivo.\n",
            "\n",
            "El alumno cursa 3 materias:\n",
            "('Lógica', 'Programacion i', 'Entorno de programacion')\n",
            "Las mismas se encuentran almacenadas en una <class 'tuple'>\n"
          ]
        }
      ]
    },
    {
      "cell_type": "markdown",
      "source": [
        "6. A partir del ejercicio anterior, generar 2 tuplas donde se guarden las materias del primer cuatrimestre y del segundo respectivamente. \n",
        "Crear una nueva función que le pida al alumnx las materias que cursa y que le informe si corresponde al primer o segundo cuatrimestre."
      ],
      "metadata": {
        "id": "u4I3bI2uuCbc"
      },
      "id": "u4I3bI2uuCbc"
    },
    {
      "cell_type": "code",
      "source": [
        "four_month_1 = student_subjects()\n",
        "four_month_2 = student_subjects()"
      ],
      "metadata": {
        "colab": {
          "base_uri": "https://localhost:8080/"
        },
        "id": "2PpbxDo8oZkP",
        "outputId": "13d23bd3-305e-409d-91c6-67775768dc9f"
      },
      "id": "2PpbxDo8oZkP",
      "execution_count": null,
      "outputs": [
        {
          "output_type": "stream",
          "name": "stdout",
          "text": [
            "Bienvenido! Por favor, ingrese las materias que se encuentra cursando de forma individual. En caso que desee finalizar, presione ENTER.\n",
            "Ingrese su materia nro.1: Lógica\n",
            "Ingrese su materia nro.2: Matemática\n",
            "Ingrese su materia nro.3: Entorno de Programación\n",
            "Ingrese su materia nro.4: Programación I \n",
            "Ingrese su materia nro.5: Inglés Técnico\n",
            "Ingrese su materia nro.6: \n",
            "\n",
            "Gracias por ingresar sus materias de cursado. Le deseamos éxitos en su periodo lectivo.\n",
            "Bienvenido! Por favor, ingrese las materias que se encuentra cursando de forma individual. En caso que desee finalizar, presione ENTER.\n",
            "Ingrese su materia nro.1: Cálculo \n",
            "Ingrese su materia nro.2: Programación II\n",
            "Ingrese su materia nro.3: Introducción a Inteligencia Artificial\n",
            "Ingrese su materia nro.4: Álgebra\n",
            "Ingrese su materia nro.5: Práctica Social Educativa – Módulo Introductorio\n",
            "Ingrese su materia nro.6: \n",
            "\n",
            "Gracias por ingresar sus materias de cursado. Le deseamos éxitos en su periodo lectivo.\n"
          ]
        }
      ]
    },
    {
      "cell_type": "code",
      "source": [
        "four_month_1"
      ],
      "metadata": {
        "colab": {
          "base_uri": "https://localhost:8080/"
        },
        "id": "Vsgdaauxo7Ni",
        "outputId": "476bb4d4-5dec-417f-9fd0-14b34e268025"
      },
      "id": "Vsgdaauxo7Ni",
      "execution_count": null,
      "outputs": [
        {
          "output_type": "execute_result",
          "data": {
            "text/plain": [
              "('Lógica',\n",
              " 'Matemática',\n",
              " 'Entorno de programación',\n",
              " 'Programación i',\n",
              " 'Inglés técnico')"
            ]
          },
          "metadata": {},
          "execution_count": 146
        }
      ]
    },
    {
      "cell_type": "code",
      "source": [
        "four_month_2"
      ],
      "metadata": {
        "colab": {
          "base_uri": "https://localhost:8080/"
        },
        "id": "dE55YtvBo50r",
        "outputId": "1e47cb98-488b-42d1-cfd4-60f5f47c93a9"
      },
      "id": "dE55YtvBo50r",
      "execution_count": null,
      "outputs": [
        {
          "output_type": "execute_result",
          "data": {
            "text/plain": [
              "('Cálculo',\n",
              " 'Programación ii',\n",
              " 'Introducción a inteligencia artificial',\n",
              " 'Álgebra',\n",
              " 'Práctica social educativa – módulo introductorio')"
            ]
          },
          "metadata": {},
          "execution_count": 147
        }
      ]
    },
    {
      "cell_type": "code",
      "source": [
        "def period_creation (period:str=\"cuatrimestre\",*periods:tuple) -> dict:\n",
        "  \"\"\"\n",
        "  Parameters\n",
        "  ----------\n",
        "  period = str\n",
        "    Perido lectivo en cual se divide el ciclo. E.g: \"Trimestre\", \"Cuatrimestre\".\n",
        "  *periods = tuple\n",
        "\n",
        "  Returns\n",
        "  ------\n",
        "  Dictionary\n",
        "  \"\"\"\n",
        "  # create dictionary with periods and list with student subjects\n",
        "  subjects = {}\n",
        "  for i in range(len(periods)):\n",
        "    value = str(i+1)+\"_\"+str(period.capitalize()) #period name generation\n",
        "    subjects[periods[i]] = value #assigned period name as value and tuple as key\n",
        "  return subjects"
      ],
      "metadata": {
        "id": "zWS9sWmMsA45"
      },
      "id": "zWS9sWmMsA45",
      "execution_count": null,
      "outputs": []
    },
    {
      "cell_type": "code",
      "source": [
        "subjects = period_creation(\"cuatrimestre\",four_month_1,four_month_2)"
      ],
      "metadata": {
        "id": "naSomKyit1Jq"
      },
      "id": "naSomKyit1Jq",
      "execution_count": null,
      "outputs": []
    },
    {
      "cell_type": "code",
      "source": [
        "subjects"
      ],
      "metadata": {
        "colab": {
          "base_uri": "https://localhost:8080/"
        },
        "id": "b61v1a_Et9u_",
        "outputId": "8a6888e1-1a21-43b0-dd34-307f6b226ce3"
      },
      "id": "b61v1a_Et9u_",
      "execution_count": null,
      "outputs": [
        {
          "output_type": "execute_result",
          "data": {
            "text/plain": [
              "{('Lógica',\n",
              "  'Matemática',\n",
              "  'Entorno de programación',\n",
              "  'Programación i',\n",
              "  'Inglés técnico'): '1_Cuatrimestre',\n",
              " ('Cálculo',\n",
              "  'Programación ii',\n",
              "  'Introducción a inteligencia artificial',\n",
              "  'Álgebra',\n",
              "  'Práctica social educativa – módulo introductorio'): '2_Cuatrimestre'}"
            ]
          },
          "metadata": {},
          "execution_count": 151
        }
      ]
    },
    {
      "cell_type": "code",
      "source": [
        "def check_subject_period (subjects:dict) -> str:\n",
        "  \"\"\"\n",
        "  Parameters\n",
        "  ----------\n",
        "  Returns\n",
        "  ------\n",
        "  \"\"\"\n",
        "  print(\n",
        "      f'Bienvenido al listado de materias de TUIA!'\n",
        "      f'Podrás conocer a qué periodo lectivo pertenece las materias que cursas.'\n",
        "      f'\\nPara finalizar, presione la tecla ENTER.'\n",
        "      )\n",
        "  student_subjects = []\n",
        "  while True:\n",
        "    subject = input(f'Por, favor ingrese su materia #{len(student_subjects)+1}: ')\n",
        "    if subject == \"\" and len(student_subjects) == 0:\n",
        "      print(f'\\nDebe ingresar al menos una materia para realizar su consulta.')\n",
        "      continue\n",
        "    elif subject == \"\" and len(student_subjects)> 0:\n",
        "      print(f'\\nGracias por ingresar sus materias de cursado. Le deseamos éxitos en su periodo lectivo.')\n",
        "      break\n",
        "    else:\n",
        "        for subjects_tuple in subjects:\n",
        "          if subject.capitalize() in subjects_tuple:\n",
        "            student_subjects.append(subject)\n",
        "            break\n",
        "  for subject in student_subjects:\n",
        "    for subjects_tuple in subjects:\n",
        "      if subject in subjects_tuple:\n",
        "        print(f'{subject} pertenece al {subjects[subjects_tuple]}')\n",
        "        break"
      ],
      "metadata": {
        "id": "JiGqWiDeaknF"
      },
      "id": "JiGqWiDeaknF",
      "execution_count": null,
      "outputs": []
    },
    {
      "cell_type": "code",
      "source": [
        "check_subject_period(subjects)"
      ],
      "metadata": {
        "colab": {
          "base_uri": "https://localhost:8080/"
        },
        "id": "1Co4h0awbL-6",
        "outputId": "4d048292-ef11-41a5-d812-3cb7bde33d5b"
      },
      "id": "1Co4h0awbL-6",
      "execution_count": null,
      "outputs": [
        {
          "output_type": "stream",
          "name": "stdout",
          "text": [
            "Bienvenido al listado de materias de TUIA!Podrás conocer a qué periodo lectivo pertenece las materias que cursas.\n",
            "Para finalizar, presione la tecla ENTER.\n",
            "Por, favor ingrese su materia #1: Lógica\n",
            "Por, favor ingrese su materia #2: Matemática\n",
            "Por, favor ingrese su materia #3: Álgebra\n",
            "Por, favor ingrese su materia #4: Cálculo\n",
            "Por, favor ingrese su materia #5: \n",
            "\n",
            "Gracias por ingresar sus materias de cursado. Le deseamos éxitos en su periodo lectivo.\n",
            "Lógica pertenece al 1_Cuatrimestre\n",
            "Matemática pertenece al 1_Cuatrimestre\n",
            "Álgebra pertenece al 2_Cuatrimestre\n",
            "Cálculo pertenece al 2_Cuatrimestre\n"
          ]
        }
      ]
    },
    {
      "cell_type": "markdown",
      "id": "806981fb",
      "metadata": {
        "id": "806981fb"
      },
      "source": [
        "#### Diccionarios"
      ]
    },
    {
      "cell_type": "markdown",
      "source": [
        "7. Crear un diccionario de la lista de precios de una verdulería. "
      ],
      "metadata": {
        "id": "cbNjBJC9zFS3"
      },
      "id": "cbNjBJC9zFS3"
    },
    {
      "cell_type": "code",
      "source": [
        "grocery_prices = {\n",
        "    \"Banana\": 100,\n",
        "    \"Manzana\": 80,\n",
        "    \"Cebolla\": 50,\n",
        "    \"Pera\": 110,\n",
        "    \"Zapallo\": 120\n",
        "}"
      ],
      "metadata": {
        "id": "nVXK9JR5zRp9"
      },
      "id": "nVXK9JR5zRp9",
      "execution_count": null,
      "outputs": []
    },
    {
      "cell_type": "markdown",
      "source": [
        "8. A partir del diccionario anterior, imprimir en la pantalla el nombre de la fruta/verdura con su correspondiente precio."
      ],
      "metadata": {
        "id": "GQq19546zToD"
      },
      "id": "GQq19546zToD"
    },
    {
      "cell_type": "code",
      "source": [
        "print(f'Lista de precios verduleria:\\n')\n",
        "for product,price in grocery_prices.items():\n",
        "  print(f'{product}: ${price}')"
      ],
      "metadata": {
        "id": "NOo9bmdazsa7",
        "colab": {
          "base_uri": "https://localhost:8080/"
        },
        "outputId": "4de3c262-e38c-44aa-eed9-069ea61170e8"
      },
      "id": "NOo9bmdazsa7",
      "execution_count": null,
      "outputs": [
        {
          "output_type": "stream",
          "name": "stdout",
          "text": [
            "Lista de precios verduleria:\n",
            "\n",
            "Banana: $100\n",
            "Manzana: $80\n",
            "Cebolla: $50\n",
            "Pera: $110\n",
            "Zapallo: $120\n"
          ]
        }
      ]
    },
    {
      "cell_type": "markdown",
      "source": [
        "9. Utilizando el diccionario anterior, pedirle al usuario que ingrese una fruta/verdura y que indique su precio. Si no hay en stock avisarle al cliente."
      ],
      "metadata": {
        "id": "mY7bF_Auzs7u"
      },
      "id": "mY7bF_Auzs7u"
    },
    {
      "cell_type": "code",
      "source": [
        "# entiendo, segun el enunciado, que si el producto no tiene stock, no  \n",
        "# debe encontrarse en el diccionario\n",
        "def how_much(products:dict) -> float/None:\n",
        "  \"\"\"\n",
        "  Segun una lista de precios ingresada como argumento, solicita al\n",
        "  usuario el nombre de un producto y, si el mismo se encuentra\n",
        "  dentro de la lista, imprime y devuelve su precio. De lo contrario,\n",
        "  si no se encuentra, imprime un mensaje de no disponibilidad y\n",
        "  devuelve None.\n",
        "\n",
        "  Parameters\n",
        "  ----------\n",
        "  products = dict\n",
        "    Diccionario con lista de precios de productos.\n",
        "\n",
        "  Returns\n",
        "  -------\n",
        "  result = float/None\n",
        "    Si el producto existe, devuelve el valor como float. De lo \n",
        "    contrario, devuelve Nonetype. \n",
        "  \"\"\"\n",
        "\n",
        "  product = input(\"Por favor, ingrese el producto que desea consultar: \")\n",
        "  product = product.strip().capitalize()\n",
        "  result = products.get(product)\n",
        "  if result == None:\n",
        "    print(f'El producto ingresado: {product} no se encuentra disponible.')\n",
        "  else:\n",
        "    print(f'El producto ingresado: {product} cuesta ${result}.')\n",
        "  return result"
      ],
      "metadata": {
        "id": "isXXMDeuQsVu"
      },
      "id": "isXXMDeuQsVu",
      "execution_count": null,
      "outputs": []
    },
    {
      "cell_type": "code",
      "source": [
        "pomelo = how_much(grocery_prices)"
      ],
      "metadata": {
        "colab": {
          "base_uri": "https://localhost:8080/"
        },
        "id": "bxRl8-GmS0Tm",
        "outputId": "7d841b40-e04c-4921-e00e-fa6374c7e4a3"
      },
      "id": "bxRl8-GmS0Tm",
      "execution_count": null,
      "outputs": [
        {
          "output_type": "stream",
          "name": "stdout",
          "text": [
            "Por favor, ingrese el producto que desea consultar:     POMELO\n",
            "El producto ingresado: Pomelo no se encuentra disponible.\n"
          ]
        }
      ]
    },
    {
      "cell_type": "code",
      "source": [
        "print(pomelo)"
      ],
      "metadata": {
        "colab": {
          "base_uri": "https://localhost:8080/"
        },
        "id": "dn2hYksAUn1m",
        "outputId": "35e13f2f-f16d-4e97-b767-49212cfb801b"
      },
      "id": "dn2hYksAUn1m",
      "execution_count": null,
      "outputs": [
        {
          "output_type": "stream",
          "name": "stdout",
          "text": [
            "None\n"
          ]
        }
      ]
    },
    {
      "cell_type": "code",
      "source": [
        "banana = how_much(grocery_prices)"
      ],
      "metadata": {
        "colab": {
          "base_uri": "https://localhost:8080/"
        },
        "id": "aVIYY1TOS8l_",
        "outputId": "43320d9f-3276-442b-f7ac-9eca94c17ee6"
      },
      "id": "aVIYY1TOS8l_",
      "execution_count": null,
      "outputs": [
        {
          "output_type": "stream",
          "name": "stdout",
          "text": [
            "Por favor, ingrese el producto que desea consultar:         banana\n",
            "El producto ingresado: Banana cuesta $100.\n"
          ]
        }
      ]
    },
    {
      "cell_type": "code",
      "source": [
        "print(banana)"
      ],
      "metadata": {
        "colab": {
          "base_uri": "https://localhost:8080/"
        },
        "id": "K5bJGmNETDIs",
        "outputId": "507118e3-dcbf-4b7a-fc7d-65c13a48d253"
      },
      "id": "K5bJGmNETDIs",
      "execution_count": null,
      "outputs": [
        {
          "output_type": "stream",
          "name": "stdout",
          "text": [
            "100\n"
          ]
        }
      ]
    },
    {
      "cell_type": "markdown",
      "id": "eea999dc",
      "metadata": {
        "id": "eea999dc"
      },
      "source": [
        "\n",
        "10. Escribir una primer función que pida el nombre y 3 notas de unx alumnx, devuelva el nombre y una lista con las notas. \n",
        "Llamar dicha función tantas veces como alumnos haya y crear un diccionario donde la clave sea el nombre del estudiante y el valor la lista de sus notas.\n",
        "Por último, calcular el promedio de cada unx y mostrarlo en pantalla.\n",
        "\n",
        "Por ejemplo para \n",
        "    \n",
        "    alumnos = { \" Juan \" : [6 ,9 ,8] , \" Manuel \" : [9 ,10 ,9] , \" Martin \" : [5 ,6 ,7]}\n",
        "\n",
        "\n",
        "Debería mostrar:\n",
        "<dd>El promedio de Juan es 7.666666</dd>\n",
        "<dd>El promedio de Manuel es 9.333333</dd>\n",
        "<dd>El promedio de Martin es 6</dd>"
      ]
    },
    {
      "cell_type": "markdown",
      "source": [
        "1er parte: Funcion para pedir el nombre y 3 notas por alumno. "
      ],
      "metadata": {
        "id": "i5xujvHrojC5"
      },
      "id": "i5xujvHrojC5"
    },
    {
      "cell_type": "code",
      "source": [
        "def student_grades(quant_grades:int=3) -> str and list:\n",
        "  \"\"\"\n",
        "  Solicita el nombre y 3 notas del 0 al 10 del alumno ingresado.\n",
        "  Luego, devuelve el nombre como string y las notas en una lista.\n",
        "\n",
        "  Parameters\n",
        "  ----------\n",
        "  quant_grades = int\n",
        "    Cantidad de notas a ingresar por alumno. Valor por defecto: 3\n",
        "\n",
        "  Returns\n",
        "  -------\n",
        "  student_name = str  -> primer salida\n",
        "    Nombre del alumno ingresado.\n",
        "\n",
        "  student_grades = list -> segunda salida\n",
        "    Lista con cantidad de notas del alumno.\n",
        "  \"\"\"\n",
        "  \n",
        "  student_name = input(\"Por favor, ingrese el nombre del alumno: \")\n",
        "  student_name = student_name.strip().capitalize()\n",
        "  \n",
        "  student_grades = []\n",
        "  for i in range(quant_grades):\n",
        "    while True:\n",
        "      grade = input(f'Ingrese la #{i+1} nota: ')\n",
        "      try:\n",
        "        grade = int(grade)\n",
        "      except:\n",
        "        print(\n",
        "            f'Usted ha ingresado \"{grade}\". Asegúrese de ingresar un valor ' \n",
        "            f'numérico entre el 0 y el 10.'\n",
        "            )\n",
        "        continue\n",
        "      if grade<0 or grade>10:\n",
        "        print(\n",
        "          f'Usted ha ingresado \"{grade}\". Asegúrese de ingresar un valor ' \n",
        "          f'numérico entre el 0 y el 10.'\n",
        "          )\n",
        "        continue\n",
        "      break\n",
        "    student_grades.append(grade)\n",
        "  \n",
        "  return student_name, student_grades"
      ],
      "metadata": {
        "id": "4SafvNynwoj_"
      },
      "id": "4SafvNynwoj_",
      "execution_count": null,
      "outputs": []
    },
    {
      "cell_type": "code",
      "source": [
        "student_name_1 , student_grades_1 = student_grades()\n",
        "student_name_2 , student_grades_2 = student_grades()\n",
        "student_name_3 , student_grades_3 = student_grades()"
      ],
      "metadata": {
        "colab": {
          "base_uri": "https://localhost:8080/"
        },
        "id": "6UnC9esqab5Z",
        "outputId": "39455616-275d-45a3-ec7a-4d3616a9f8d9"
      },
      "id": "6UnC9esqab5Z",
      "execution_count": null,
      "outputs": [
        {
          "name": "stdout",
          "output_type": "stream",
          "text": [
            "Por favor, ingrese el nombre del alumno:      AGUSTIN\n",
            "Ingrese la #1 nota: cinco\n",
            "Usted ha ingresado \"cinco\". Asegúrese de ingresar un valor numérico entre el 0 y el 10.\n",
            "Ingrese la #1 nota: 5\n",
            "Ingrese la #2 nota: 8\n",
            "Ingrese la #3 nota: 11\n",
            "Usted ha ingresado \"11\". Asegúrese de ingresar un valor numérico entre el 0 y el 10.\n",
            "Ingrese la #3 nota: 10\n",
            "Por favor, ingrese el nombre del alumno: roberto     \n",
            "Ingrese la #1 nota: 10\n",
            "Ingrese la #2 nota: 4\n",
            "Ingrese la #3 nota: 8\n",
            "Por favor, ingrese el nombre del alumno: Martin\n",
            "Ingrese la #1 nota: 7\n",
            "Ingrese la #2 nota: 6\n",
            "Ingrese la #3 nota: 7\n"
          ]
        }
      ]
    },
    {
      "cell_type": "markdown",
      "source": [
        "Comprobación de resultados de la función"
      ],
      "metadata": {
        "id": "eAbITxi4dEpY"
      },
      "id": "eAbITxi4dEpY"
    },
    {
      "cell_type": "code",
      "source": [
        "print(student_name_1)\n",
        "print(student_grades_1)"
      ],
      "metadata": {
        "colab": {
          "base_uri": "https://localhost:8080/"
        },
        "id": "LFLEJFWxcOGr",
        "outputId": "090cd232-e20c-4c42-9e9e-d5f4dbf0660d"
      },
      "id": "LFLEJFWxcOGr",
      "execution_count": null,
      "outputs": [
        {
          "output_type": "stream",
          "name": "stdout",
          "text": [
            "Agustin\n",
            "[5, 8, 10]\n"
          ]
        }
      ]
    },
    {
      "cell_type": "code",
      "source": [
        "print(student_name_2)\n",
        "print(student_grades_2)"
      ],
      "metadata": {
        "colab": {
          "base_uri": "https://localhost:8080/"
        },
        "id": "SurELOFadAdW",
        "outputId": "79f79fef-f2b6-4972-9d5c-49ed4aa660f8"
      },
      "id": "SurELOFadAdW",
      "execution_count": null,
      "outputs": [
        {
          "output_type": "stream",
          "name": "stdout",
          "text": [
            "Roberto\n",
            "[10, 4, 8]\n"
          ]
        }
      ]
    },
    {
      "cell_type": "code",
      "source": [
        "print(student_name_3)\n",
        "print(student_grades_3)"
      ],
      "metadata": {
        "colab": {
          "base_uri": "https://localhost:8080/"
        },
        "id": "Gn6sdkUudCLt",
        "outputId": "5a17d4a9-bd32-4ffe-fb28-ebc2c5fa4e83"
      },
      "id": "Gn6sdkUudCLt",
      "execution_count": null,
      "outputs": [
        {
          "output_type": "stream",
          "name": "stdout",
          "text": [
            "Martin\n",
            "[7, 6, 7]\n"
          ]
        }
      ]
    },
    {
      "cell_type": "markdown",
      "source": [
        "2da parte: Funcion para crear un diccionario con todas las notas por nombre de alumnos. "
      ],
      "metadata": {
        "id": "BWscKnV0ozMh"
      },
      "id": "BWscKnV0ozMh"
    },
    {
      "cell_type": "code",
      "source": [
        "def database_dict (*names:str,**grades:list) -> dict:\n",
        "  \"\"\"\n",
        "  Crea un diccionario donde la clave es el nombre del estudiante \n",
        "  y el valor la lista de sus notas.\n",
        "\n",
        "  Paramters\n",
        "  ---------\n",
        "  *names = str\n",
        "    Nombres de los alumnos. e.g: Agustin\n",
        "  \n",
        "  **grades = list\n",
        "    Lista con nota del alumno. e.g: [5, 8, 10]\n",
        "\n",
        "  Returns\n",
        "  -------\n",
        "  database = dict\n",
        "    Diccionario donde la clave es el nombre del estudiante \n",
        "    y el valor la lista de sus notas.e.g: {'Agustin': [5, 8, 10]}\n",
        "  \"\"\"\n",
        "\n",
        "  database = {}\n",
        "  index = 0\n",
        "  for name,grades in grades.items():\n",
        "    name = names[index]\n",
        "    database[name] = grades\n",
        "    index += 1\n",
        "  return database"
      ],
      "metadata": {
        "id": "kD9MXUGEe0I2"
      },
      "id": "kD9MXUGEe0I2",
      "execution_count": null,
      "outputs": []
    },
    {
      "cell_type": "code",
      "source": [
        "students_grades = database_dict(student_name_1,student_name_2,student_name_3,student_name_1=student_grades_1,student_name_2=student_grades_2,student_name_3=student_grades_3)\n",
        "students_grades"
      ],
      "metadata": {
        "colab": {
          "base_uri": "https://localhost:8080/"
        },
        "id": "YwmtzM61fKDQ",
        "outputId": "aaf6a6c2-78a3-49ff-fbc1-1d44fc172f3d"
      },
      "id": "YwmtzM61fKDQ",
      "execution_count": null,
      "outputs": [
        {
          "output_type": "execute_result",
          "data": {
            "text/plain": [
              "{'Agustin': [5, 8, 10], 'Roberto': [10, 4, 8], 'Martin': [7, 6, 7]}"
            ]
          },
          "metadata": {},
          "execution_count": 64
        }
      ]
    },
    {
      "cell_type": "markdown",
      "source": [
        "3ra parte: Funcion para calcular el promedio por alumno y mostrarlo."
      ],
      "metadata": {
        "id": "iGPACQBSo9S5"
      },
      "id": "iGPACQBSo9S5"
    },
    {
      "cell_type": "code",
      "source": [
        "def grades_average (students_grades:dict) -> dict:\n",
        "  \"\"\"\n",
        "  Calcula el promedio de los valores por cada clave del diccionario\n",
        "  ingresado como argumento.\n",
        "\n",
        "  Parameters\n",
        "  ----------\n",
        "  student_grades = dict\n",
        "    Diccionario que contenga str como clave y una lista con valores numéricos.\n",
        "  \n",
        "  Returns\n",
        "  -------\n",
        "  average_dict = dict\n",
        "    Diccionario que contiene la misma clave siendo su valor reemplazado\n",
        "    por el promedio del listado de valores numéricos. \n",
        "  \"\"\"\n",
        "\n",
        "  average_dict = {}\n",
        "  for name,grades in students_grades.items():\n",
        "    average = round(sum(grades)/len(grades),2)\n",
        "    average_dict[name] = average\n",
        "    print(f'{name} posee una nota promedio de {average}')\n",
        "  return average_dict"
      ],
      "metadata": {
        "id": "H9-c8s5fiDll"
      },
      "id": "H9-c8s5fiDll",
      "execution_count": null,
      "outputs": []
    },
    {
      "cell_type": "code",
      "source": [
        "students_average = grades_average(students_grades)"
      ],
      "metadata": {
        "colab": {
          "base_uri": "https://localhost:8080/"
        },
        "id": "6U5ryaPjjFJD",
        "outputId": "7b12aa2c-5a2b-44c0-e188-6f95e39512e0"
      },
      "id": "6U5ryaPjjFJD",
      "execution_count": null,
      "outputs": [
        {
          "output_type": "stream",
          "name": "stdout",
          "text": [
            "Agustin posee una nota promedio de 7.67\n",
            "Roberto posee una nota promedio de 7.33\n",
            "Martin posee una nota promedio de 6.67\n"
          ]
        }
      ]
    },
    {
      "cell_type": "code",
      "source": [
        "students_average"
      ],
      "metadata": {
        "colab": {
          "base_uri": "https://localhost:8080/"
        },
        "id": "9L2PJ7o9sA8w",
        "outputId": "f55f278c-7275-441b-f8c2-4cd51ddc4072"
      },
      "id": "9L2PJ7o9sA8w",
      "execution_count": null,
      "outputs": [
        {
          "output_type": "execute_result",
          "data": {
            "text/plain": [
              "{'Agustin': 7.67, 'Roberto': 7.33, 'Martin': 6.67}"
            ]
          },
          "metadata": {},
          "execution_count": 69
        }
      ]
    },
    {
      "cell_type": "markdown",
      "id": "b133b714",
      "metadata": {
        "id": "b133b714"
      },
      "source": [
        "11. Cartas como diccionario.\n",
        "<dl>\n",
        "<dd>a. Proponer una representación con diccionarios para un mazo completo de cartas.</dd>\n",
        "<dd>b. Escribir una función de poker que baraje cinco cartas de la baraja francesa e informe (devuelva\n",
        "el valor lógico correspondiente) si esas cartas forman o no un poker (es decir que hay 4 cartas con\n",
        "el mismo número).</dd>\n",
        "</dl>"
      ]
    },
    {
      "cell_type": "code",
      "execution_count": null,
      "id": "77a04057",
      "metadata": {
        "id": "77a04057"
      },
      "outputs": [],
      "source": [
        "def french_deck () -> dict:\n",
        "  \"\"\"\n",
        "  Genera un mazo de barajas francesas donde la clave \n",
        "  corresponde a uno de los 4 simbolos diferentes, mientras que los valores\n",
        "  de cada uno varian en el rango del 1 - 13, siendo 2-10 valores numericos y \n",
        "  los restantes 1(az),11(jota),12(rey). \n",
        "\n",
        "  Returns\n",
        "  -------\n",
        "  deck = dict\n",
        "    Mazo de barajas representado como diccionario.\n",
        "  \"\"\"\n",
        "  \n",
        "  deck = {}\n",
        "  suits = \"trébol\",\"diamantes\",\"corazones\",\"picas\"\n",
        "  values = []\n",
        "\n",
        "  for suit in suits:\n",
        "    deck[suit] = values\n",
        "  for value in range(1,14):\n",
        "    values.append(value)\n",
        "\n",
        "  print(f'Felicidades! Ha creado su mazo de poker {len(deck)*len(deck[\"trébol\"])} cartas. Espero lo disfrute!')\n",
        "  return deck"
      ]
    },
    {
      "cell_type": "code",
      "source": [
        "deck = french_deck()"
      ],
      "metadata": {
        "colab": {
          "base_uri": "https://localhost:8080/"
        },
        "id": "XErG6_OEvGyB",
        "outputId": "e3c00947-29df-4ad5-b70d-974d0bba4458"
      },
      "id": "XErG6_OEvGyB",
      "execution_count": null,
      "outputs": [
        {
          "output_type": "stream",
          "name": "stdout",
          "text": [
            "Felicidades! Ha creado su mazo de poker 52 cartas. Espero lo disfrute!\n"
          ]
        }
      ]
    },
    {
      "cell_type": "code",
      "source": [
        "deck"
      ],
      "metadata": {
        "colab": {
          "base_uri": "https://localhost:8080/"
        },
        "id": "3TdmDRYevenB",
        "outputId": "f29ddd6a-3102-4a6e-a19c-9c1bc3a6c630"
      },
      "id": "3TdmDRYevenB",
      "execution_count": null,
      "outputs": [
        {
          "output_type": "execute_result",
          "data": {
            "text/plain": [
              "{'trébol': [1, 2, 3, 4, 5, 6, 7, 8, 9, 10, 11, 12, 13],\n",
              " 'diamantes': [1, 2, 3, 4, 5, 6, 7, 8, 9, 10, 11, 12, 13],\n",
              " 'corazones': [1, 2, 3, 4, 5, 6, 7, 8, 9, 10, 11, 12, 13],\n",
              " 'picas': [1, 2, 3, 4, 5, 6, 7, 8, 9, 10, 11, 12, 13]}"
            ]
          },
          "metadata": {},
          "execution_count": 138
        }
      ]
    },
    {
      "cell_type": "code",
      "source": [
        "import random\n",
        "import time\n",
        "def random_deal_poker(deck:dict) -> bool and dict:\n",
        "    \"\"\"\n",
        "    Elige cinco cartas de forma aleatoria de la baraja francesa ingresada \n",
        "    como argumento y retorna un booleano identificando si esas cartas forman \n",
        "    o no poker y el mazo de cartas restantes.\n",
        "\n",
        "    Parameters\n",
        "    ----------\n",
        "    deck = dict\n",
        "      Diccionario representando baraja de cartas francesa.\n",
        "\n",
        "    Returns\n",
        "    -------\n",
        "    bool = True/False\n",
        "      Dependiendo si forma o no poker.\n",
        "\n",
        "    deck = dict\n",
        "      Diccionario con mazo de cartas restantes.\n",
        "    \"\"\"\n",
        "    \n",
        "    suits = \"trébol\",\"diamantes\",\"corazones\",\"picas\"\n",
        "    values = []\n",
        "    \n",
        "    #Barajado y generacion de carta\n",
        "    print(\"Bienvenido al generador de baraja de poker! Que tenga mucha suerte!\")\n",
        "    print(\"Barajando..\")\n",
        "    time.sleep(3)\n",
        "    for card in range(5):\n",
        "      time.sleep(2)\n",
        "      while True: \n",
        "        suit = random.choice(suits)\n",
        "        value = random.randint(1,13)\n",
        "        if value in deck[suit]: #verificacion si la carta se encuentra en el mazo\n",
        "          values.append(value)\n",
        "          break\n",
        "        else:\n",
        "          continue #en caso que la carta no se encuentre, genera una nueva\n",
        "      print(f'#{card+1} carta: {value} de {suit}')\n",
        "      #remover la carta del mazo una vez barajada\n",
        "      deck[suit] = list(set(deck[suit])-set([value]))\n",
        "    \n",
        "    #calculo de cartas restantes\n",
        "    cards = 0\n",
        "    for key,value in deck.items():\n",
        "      cards += len(value)\n",
        "     \n",
        "    #verificacion de poker  \n",
        "    for value in values:\n",
        "      occurrences = values.count(value)\n",
        "      if occurrences>=4:\n",
        "        print('Felicitaciones! Ha conseguido poker!')\n",
        "        print(f'\\nEl mazo posee {cards} cartas restantes')\n",
        "        return True , deck\n",
        "      else:\n",
        "        print(f'Lamentablemente no ha conseguido poker. Vuelva a intentarlo.')\n",
        "        print(f'\\nEl mazo posee {cards} cartas restantes')\n",
        "        return False , deck\n",
        "    \n"
      ],
      "metadata": {
        "id": "UpISvzzlxrWj"
      },
      "id": "UpISvzzlxrWj",
      "execution_count": null,
      "outputs": []
    },
    {
      "cell_type": "code",
      "source": [
        "poker,deck = random_deal_poker(deck)"
      ],
      "metadata": {
        "colab": {
          "base_uri": "https://localhost:8080/"
        },
        "id": "EMajiQLOzX39",
        "outputId": "3119b664-0e15-4dbe-e430-485dd5e10d99"
      },
      "id": "EMajiQLOzX39",
      "execution_count": null,
      "outputs": [
        {
          "output_type": "stream",
          "name": "stdout",
          "text": [
            "Bienvenido al generador de baraja de poker! Que tenga mucha suerte!\n",
            "Barajando..\n",
            "#1 carta: 9 de trébol\n",
            "#2 carta: 13 de corazones\n",
            "#3 carta: 10 de diamantes\n",
            "#4 carta: 12 de diamantes\n",
            "#5 carta: 1 de picas\n",
            "Lamentablemente no ha conseguido poker. Vuelva a intentarlo.\n",
            "\n",
            "El mazo posee 47 cartas restantes\n"
          ]
        }
      ]
    },
    {
      "cell_type": "code",
      "source": [
        "poker"
      ],
      "metadata": {
        "colab": {
          "base_uri": "https://localhost:8080/"
        },
        "id": "DTG_77yO57Sw",
        "outputId": "4a72e4ca-f631-49a0-d791-6c18eea516b3"
      },
      "id": "DTG_77yO57Sw",
      "execution_count": null,
      "outputs": [
        {
          "output_type": "execute_result",
          "data": {
            "text/plain": [
              "False"
            ]
          },
          "metadata": {},
          "execution_count": 141
        }
      ]
    },
    {
      "cell_type": "code",
      "source": [
        "deck"
      ],
      "metadata": {
        "colab": {
          "base_uri": "https://localhost:8080/"
        },
        "id": "55Q2bmxnAj7Z",
        "outputId": "a973d54d-1ef4-4720-d6f6-05321a21f4ac"
      },
      "id": "55Q2bmxnAj7Z",
      "execution_count": null,
      "outputs": [
        {
          "output_type": "execute_result",
          "data": {
            "text/plain": [
              "{'trébol': [1, 2, 3, 4, 5, 6, 7, 8, 10, 11, 12, 13],\n",
              " 'diamantes': [1, 2, 3, 4, 5, 6, 7, 8, 9, 11, 13],\n",
              " 'corazones': [1, 2, 3, 4, 5, 6, 7, 8, 9, 10, 11, 12],\n",
              " 'picas': [2, 3, 4, 5, 6, 7, 8, 9, 10, 11, 12, 13]}"
            ]
          },
          "metadata": {},
          "execution_count": 142
        }
      ]
    },
    {
      "cell_type": "markdown",
      "source": [
        "Curioso problema que me topé al tratar de remover las cartas barajadas del mazo original para que no se repitan.\n",
        "Probé con los 3 métodos para eliminar un valor de una lista:\n",
        "\n",
        "\n",
        "*   remove()\n",
        "``\n",
        "deck[\"trébol\"].remove(4)\n",
        "``\n",
        "*   pop()\n",
        "``\n",
        "deck[\"trébol\"].pop(deck[\"trébol\"].index(2))\n",
        "``\n",
        "*  del \n",
        "``\n",
        "del deck[\"trébol\"][deck[\"trébol\"].index(1)]\n",
        "``\n",
        "\n",
        "En todos los casos me eliminaba ese mismo valor en todos los listados, por lo que conseguir poker se hace imposible. Por ejemplo, si sacaba el 4 de trébol, el mazo quedaba sin 4 en su totalidad porque esos métodos me eliminaban adicionalmente el 4 de picas, corazones y diamantes.\n",
        "Entonces, encontré la solución remplazando el valor de esa key por un nuevo listado, calculando el mismo como la diferencia entre su estado anterior menos el valor barajado con la estructura de los sets.\n"
      ],
      "metadata": {
        "id": "BnEKFcqgGc6G"
      },
      "id": "BnEKFcqgGc6G"
    },
    {
      "cell_type": "markdown",
      "source": [
        "Ejemplo de problemática"
      ],
      "metadata": {
        "id": "62vDrfnwLnws"
      },
      "id": "62vDrfnwLnws"
    },
    {
      "cell_type": "code",
      "source": [
        "deck"
      ],
      "metadata": {
        "colab": {
          "base_uri": "https://localhost:8080/"
        },
        "id": "fblrCVOQHfj8",
        "outputId": "90c10044-96a9-4e01-9f8c-cfef7a319164"
      },
      "id": "fblrCVOQHfj8",
      "execution_count": null,
      "outputs": [
        {
          "output_type": "execute_result",
          "data": {
            "text/plain": [
              "{'trébol': [1, 2, 3, 4, 5, 6, 7, 8, 9, 10, 11, 12, 13],\n",
              " 'diamantes': [1, 2, 3, 4, 5, 6, 7, 8, 9, 10, 11, 12, 13],\n",
              " 'corazones': [1, 2, 3, 4, 5, 6, 7, 8, 9, 10, 11, 12, 13],\n",
              " 'picas': [1, 2, 3, 4, 5, 6, 7, 8, 9, 10, 11, 12, 13]}"
            ]
          },
          "metadata": {},
          "execution_count": 113
        }
      ]
    },
    {
      "cell_type": "code",
      "source": [
        "#4 de trebol\n",
        "deck[\"trébol\"].remove(4)\n",
        "deck"
      ],
      "metadata": {
        "colab": {
          "base_uri": "https://localhost:8080/"
        },
        "id": "vwlVbargFCfY",
        "outputId": "3f5b6114-bfc7-4560-cdbe-7594e2c2cdd4"
      },
      "id": "vwlVbargFCfY",
      "execution_count": null,
      "outputs": [
        {
          "output_type": "execute_result",
          "data": {
            "text/plain": [
              "{'trébol': [1, 2, 3, 5, 6, 7, 8, 9, 10, 11, 12, 13],\n",
              " 'diamantes': [1, 2, 3, 5, 6, 7, 8, 9, 10, 11, 12, 13],\n",
              " 'corazones': [1, 2, 3, 5, 6, 7, 8, 9, 10, 11, 12, 13],\n",
              " 'picas': [1, 2, 3, 5, 6, 7, 8, 9, 10, 11, 12, 13]}"
            ]
          },
          "metadata": {},
          "execution_count": 114
        }
      ]
    },
    {
      "cell_type": "code",
      "source": [
        "#2 de trebol\n",
        "deck[\"trébol\"].pop(deck[\"trébol\"].index(2))\n",
        "deck"
      ],
      "metadata": {
        "colab": {
          "base_uri": "https://localhost:8080/"
        },
        "id": "mA4-7Ist_rAn",
        "outputId": "1fb50067-0086-4059-f355-faa3a506dd32"
      },
      "id": "mA4-7Ist_rAn",
      "execution_count": null,
      "outputs": [
        {
          "output_type": "execute_result",
          "data": {
            "text/plain": [
              "{'trébol': [1, 3, 5, 6, 7, 8, 9, 10, 11, 12, 13],\n",
              " 'diamantes': [1, 3, 5, 6, 7, 8, 9, 10, 11, 12, 13],\n",
              " 'corazones': [1, 3, 5, 6, 7, 8, 9, 10, 11, 12, 13],\n",
              " 'picas': [1, 3, 5, 6, 7, 8, 9, 10, 11, 12, 13]}"
            ]
          },
          "metadata": {},
          "execution_count": 115
        }
      ]
    },
    {
      "cell_type": "code",
      "source": [
        "#Az de trébol\n",
        "del deck[\"trébol\"][deck[\"trébol\"].index(1)]\n",
        "deck"
      ],
      "metadata": {
        "colab": {
          "base_uri": "https://localhost:8080/"
        },
        "id": "CtSALswnDbPx",
        "outputId": "eb74b7c5-fc21-4e7d-e1e5-b82e22b5f882"
      },
      "id": "CtSALswnDbPx",
      "execution_count": null,
      "outputs": [
        {
          "output_type": "execute_result",
          "data": {
            "text/plain": [
              "{'trébol': [3, 5, 6, 7, 8, 9, 10, 11, 12, 13],\n",
              " 'diamantes': [3, 5, 6, 7, 8, 9, 10, 11, 12, 13],\n",
              " 'corazones': [3, 5, 6, 7, 8, 9, 10, 11, 12, 13],\n",
              " 'picas': [3, 5, 6, 7, 8, 9, 10, 11, 12, 13]}"
            ]
          },
          "metadata": {},
          "execution_count": 116
        }
      ]
    },
    {
      "cell_type": "markdown",
      "source": [
        "Solución"
      ],
      "metadata": {
        "id": "3-ARGHEfIiul"
      },
      "id": "3-ARGHEfIiul"
    },
    {
      "cell_type": "code",
      "source": [
        "#3 de trebol\n",
        "deck[\"trébol\"] = list(set(deck[\"trébol\"])-set([3]))\n",
        "deck"
      ],
      "metadata": {
        "colab": {
          "base_uri": "https://localhost:8080/"
        },
        "id": "_xlb68h4Ih-K",
        "outputId": "e975b119-98fb-43ee-bb09-73445803453a"
      },
      "id": "_xlb68h4Ih-K",
      "execution_count": null,
      "outputs": [
        {
          "output_type": "execute_result",
          "data": {
            "text/plain": [
              "{'trébol': [5, 6, 7, 8, 9, 10, 11, 12, 13],\n",
              " 'diamantes': [3, 5, 6, 7, 8, 9, 10, 11, 12, 13],\n",
              " 'corazones': [3, 5, 6, 7, 8, 9, 10, 11, 12, 13],\n",
              " 'picas': [3, 5, 6, 7, 8, 9, 10, 11, 12, 13]}"
            ]
          },
          "metadata": {},
          "execution_count": 117
        }
      ]
    },
    {
      "cell_type": "markdown",
      "source": [
        "12. Escribe un programa que lea una cadena y devuelva un diccionario con la cantidad de apariciones de\n",
        "cada palabra en la cadena. Por ejemplo:\n",
        " \n",
        "![image.png](data:image/png;base64,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)"
      ],
      "metadata": {
        "id": "eOE82Fdu9cKo"
      },
      "id": "eOE82Fdu9cKo"
    },
    {
      "cell_type": "code",
      "source": [
        "def words(phrase:str) -> dict:\n",
        "  \"\"\"\n",
        "  Devuelve un diccionario con la cantidad de apariciones de cada palabra \n",
        "  en phrase. Las palabras son almacenadas en lowercase.\n",
        "\n",
        "  Parameters\n",
        "  ----------\n",
        "  phrase: str\n",
        "    Frase a evaluar. Ej: Me gustaría ver la cantidad de palabras de la frase.\n",
        "\n",
        "  Returns\n",
        "  -------\n",
        "  words: dict\n",
        "    Diccionario con cada palabra como key y su cantidad de repeticiones como\n",
        "    value. Ej: {\"me\":1, \"gustaría\":1, \"la\":2}\n",
        "  \"\"\"\n",
        "  words = {}\n",
        "  for word in phrase.lower().replace(\".\",\"\").split(\" \"):\n",
        "    if word not in words:\n",
        "      words[word] = 1\n",
        "    else:\n",
        "      words[word] = words[word] + 1   \n",
        "  return words\n"
      ],
      "metadata": {
        "id": "oyvBDrJl9bGs"
      },
      "id": "oyvBDrJl9bGs",
      "execution_count": null,
      "outputs": []
    },
    {
      "cell_type": "code",
      "source": [
        "string = \"Me gustaría ver la cantidad de palabras que me devuelve la frase ingresada.\"\n",
        "count_words = words(string)\n",
        "count_words"
      ],
      "metadata": {
        "colab": {
          "base_uri": "https://localhost:8080/"
        },
        "id": "cUOsvFI0_jo-",
        "outputId": "26c13a71-cc53-46c9-b1cd-d7a777efe859"
      },
      "id": "cUOsvFI0_jo-",
      "execution_count": null,
      "outputs": [
        {
          "output_type": "execute_result",
          "data": {
            "text/plain": [
              "{'me': 2,\n",
              " 'gustaría': 1,\n",
              " 'ver': 1,\n",
              " 'la': 2,\n",
              " 'cantidad': 1,\n",
              " 'de': 1,\n",
              " 'palabras': 1,\n",
              " 'que': 1,\n",
              " 'devuelve': 1,\n",
              " 'frase': 1,\n",
              " 'ingresada': 1}"
            ]
          },
          "metadata": {},
          "execution_count": 21
        }
      ]
    },
    {
      "cell_type": "markdown",
      "source": [
        "13. Escribir un programa que toma una lista de tuplas con el formato (Alumno, Nota) donde alumno es\n",
        "una cadena con el nombre del alumno y nota es un número.\n",
        "Ejemplo: [(’Perez’, 8), (’Gonzalez’, 10), (’Fernandez’, 10)]\n",
        " \n",
        "![image.png](data:image/png;base64,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)"
      ],
      "metadata": {
        "id": "Mty1vzKgA5Zj"
      },
      "id": "Mty1vzKgA5Zj"
    },
    {
      "cell_type": "code",
      "source": [
        "#solucion 13.a.\n",
        "\n",
        "def student_grade_a(grades:list) -> dict:\n",
        "  \"\"\"\n",
        "  Convierte una lista de tuplas con el formato (Alumno, Nota) \n",
        "  donde \"Alumno\" es una cadena con el nombre del alumno y \"Nota\" es un número\n",
        "  entero del 1-10 a un diccionario con el formato {\"Alumno\": [Nota]} donde Nota\n",
        "  es un listado.\n",
        "\n",
        "  Parameters\n",
        "  ----------\n",
        "  grades: list\n",
        "    Lista que contenga 1 o mas tuplas con el formato (Alumno, Nota).\n",
        "    Ej: [(\"Perez\",8),(\"Gonzalez\",10),(\"Fernandez\",9)]\n",
        "  \n",
        "  Returns\n",
        "  -------\n",
        "  grades_dict = dict\n",
        "    Diccionario con formato {\"Alumno\": [Nota]}. Ej: {\"Perez\":[8]}\n",
        "  \"\"\"\n",
        "  \n",
        "  grades_dict = {}\n",
        "  for student in grades:\n",
        "    if student[0] not in grades_dict:\n",
        "      grades_dict[student[0]] = [student[1]]\n",
        "    else:\n",
        "      grades_dict[student[0]].append(student[1])\n",
        "  return grades_dict\n",
        "  "
      ],
      "metadata": {
        "id": "2in7tphlBt-u"
      },
      "id": "2in7tphlBt-u",
      "execution_count": null,
      "outputs": []
    },
    {
      "cell_type": "code",
      "source": [
        "grades = [(\"Perez\",8),(\"Gonzalez\",10),(\"Fernandez\",9),(\"Fernandez\",8)]\n",
        "student_dict = student_grade_a(grades)\n",
        "student_dict"
      ],
      "metadata": {
        "colab": {
          "base_uri": "https://localhost:8080/"
        },
        "id": "SO8u0k0_E-5-",
        "outputId": "fabcbf0b-1f3d-46fb-b610-5c43c69dd4e4"
      },
      "id": "SO8u0k0_E-5-",
      "execution_count": null,
      "outputs": [
        {
          "output_type": "execute_result",
          "data": {
            "text/plain": [
              "{'Perez': [8], 'Gonzalez': [10], 'Fernandez': [9, 8]}"
            ]
          },
          "metadata": {},
          "execution_count": 35
        }
      ]
    },
    {
      "cell_type": "code",
      "source": [
        "#solucion 13.b.\n",
        "\n",
        "def student_grade_b(grades:list) -> dict:\n",
        "  \"\"\"\n",
        "  Convierte una lista de tuplas con el formato (Alumno, Nota) \n",
        "  donde \"Alumno\" es una cadena con el nombre del alumno y \"Nota\" es un número\n",
        "  entero del 1-10 a un diccionario con el formato {Nota: [\"Alumno\"]} donde\n",
        "  el valor de ese diccionario es un listado con todos los alumnos que \n",
        "  obtuvieron con esa nota.\n",
        "\n",
        "  Parameters\n",
        "  ----------\n",
        "  grades: list\n",
        "    Lista que contenga 1 o mas tuplas con el formato (Alumno, Nota).\n",
        "    Ej: [(\"Perez\",8),(\"Gonzalez\",10),(\"Fernandez\",10)]\n",
        "  \n",
        "  Returns\n",
        "  -------\n",
        "  grades_dict = dict\n",
        "    Diccionario con formato {Nota: [\"Alumno\"]}. Ej: {10:[\"Gonzalez\",\"Fernandez\"]}\n",
        "  \"\"\"\n",
        "\n",
        "  grades_dict = {}\n",
        "  for student in grades:\n",
        "    if student[1] not in grades_dict:\n",
        "      grades_dict[student[1]] = [student[0]]\n",
        "    else:\n",
        "      grades_dict[student[1]].append(student[0])\n",
        "  return grades_dict"
      ],
      "metadata": {
        "id": "tosTBHQ7GW-B"
      },
      "id": "tosTBHQ7GW-B",
      "execution_count": null,
      "outputs": []
    },
    {
      "cell_type": "code",
      "source": [
        "grades = [(\"Perez\",8),(\"Gonzalez\",10),(\"Fernandez\",9),(\"Fernandez\",8)]\n",
        "student_dict = student_grade_b(grades)\n",
        "student_dict"
      ],
      "metadata": {
        "colab": {
          "base_uri": "https://localhost:8080/"
        },
        "id": "zIKDb4aYGbJD",
        "outputId": "192c9a81-bcff-438a-9ce4-19d801c1b49f"
      },
      "id": "zIKDb4aYGbJD",
      "execution_count": null,
      "outputs": [
        {
          "output_type": "execute_result",
          "data": {
            "text/plain": [
              "{8: ['Perez', 'Fernandez'], 10: ['Gonzalez'], 9: ['Fernandez']}"
            ]
          },
          "metadata": {},
          "execution_count": 39
        }
      ]
    },
    {
      "cell_type": "markdown",
      "source": [
        "14. Dado un diccionario donde la clave es el DNI (formato cadena) y el valor es la cantidad de dosis de\n",
        "vacunas contra el covid, filtrar del mismo las personas que tienen 2 dosis y guardarlas en la estructura\n",
        "de datos que crea conveniente. Esta información será uilizada para recordarles que ya tienen disponible\n",
        "la tercera dosis"
      ],
      "metadata": {
        "id": "Ib3Uw9POIJ_M"
      },
      "id": "Ib3Uw9POIJ_M"
    },
    {
      "cell_type": "code",
      "source": [
        "def vaccines_number(vaccinated:dict,doses:int=2):\n",
        "  \"\"\"\n",
        "  Selecciona sobre el diccionario ingresado con formato {DNI:cantidad de dosis}\n",
        "  donde DNI es un string y cantidad de dosis un número entero, aquellos DNI que\n",
        "  cumplen con las dosis ingresada como argumento  y devuelve un \n",
        "  listado con los DNI que cumplen dicha condición.\n",
        "\n",
        "  Parameters\n",
        "  ----------\n",
        "  vaccinated: dict\n",
        "    Diccionario con formato {DNI:cantidad de dosis}. Ej: { \"36007849\":2}\n",
        "\n",
        "  doses: int\n",
        "    Cantidad de dosis requeridas para realizar la selección de DNI(default = 2).\n",
        "\n",
        "  Returns\n",
        "  -------\n",
        "  selection: list\n",
        "    Lista con DNI que cumplen con las dosis requeridas. Ej: ['36007849']\n",
        "\n",
        "\n",
        "  \"\"\"\n",
        "  selection = []\n",
        "  for id in vaccinated:\n",
        "    if vaccinated[id] == doses:\n",
        "      selection.append(id)\n",
        "  return selection"
      ],
      "metadata": {
        "id": "u9U7mxjIIMOc"
      },
      "id": "u9U7mxjIIMOc",
      "execution_count": null,
      "outputs": []
    },
    {
      "cell_type": "code",
      "source": [
        "vaccines_dict = {\n",
        "    \"36007849\":2,\n",
        "    \"36007848\":1,\n",
        "    \"36007845\":0,\n",
        "    \"36007844\":3,\n",
        "    \"36007814\":2,\n",
        "    \"36007811\":3,\n",
        "    }\n",
        "next_dosage = vaccines_number(vaccines_dict)\n",
        "print(\"Los siguientes DNI ya poseen su tercera dosis disponibles:\")\n",
        "print(*next_dosage,sep= \"\\n\")"
      ],
      "metadata": {
        "colab": {
          "base_uri": "https://localhost:8080/"
        },
        "id": "dUFzjW7PKpQA",
        "outputId": "fd334d77-ae01-41a7-9b2c-8f480ae02a9a"
      },
      "id": "dUFzjW7PKpQA",
      "execution_count": null,
      "outputs": [
        {
          "output_type": "stream",
          "name": "stdout",
          "text": [
            "Los siguientes DNI ya poseen su tercera dosis disponibles:\n",
            "36007849\n",
            "36007814\n"
          ]
        }
      ]
    },
    {
      "cell_type": "markdown",
      "source": [
        "15. Cada profe de programación 1 tiene un diccionario donde guarda el legajo de cada alumne en la clave\n",
        "y una lista con las notas de cada persona en el valor. Al cerrar el cuatrimestre, necesitan pasarle a\n",
        "alumnado un solo diccionario con estos datos, generarlo. Revisar el método .update() para ver como\n",
        "puede ayudarte a resolver el problema. Los diccionarios de cada comisión se ven así:\n",
        "\n",
        "![image.png](data:image/png;base64,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)"
      ],
      "metadata": {
        "id": "owM-aLYSEAt_"
      },
      "id": "owM-aLYSEAt_"
    },
    {
      "cell_type": "markdown",
      "source": [
        "16. Un investigador de historia de la informática encontró un documento sin membrete, que data de\n",
        "mitad de siglo XX, e incluye un mensaje en código morse que sospecha explicaría importantes sucesos\n",
        "históricos de la posteridad. Por lo tanto, para avanzar en su investigación es necesario descifrarlo, pero\n",
        "no sabe el código. Dado el siguiente diccionario que permite descifrar un mensaje morse, ayude al\n",
        "investigador en su tarea mediante un programa que le permita decodificar el mensaje.\n",
        "\n",
        "\n",
        "\n",
        "Código:\n",
        "['.', ' -.', '.. - -. - ', '.', '. -.. ', '.. - -. - ', '.. -. ', '.. - ', '-', '.. - ',\n",
        "'. -. ', '---', '.. - -. - ', '.', '... ', '.. - -. - ', '. - -. ', '---', '... ',\n",
        "'.. ', ' -... ', '. -.. ', '.', '.. - -. - ', ' - -. -', '.. - ', '.', '.. - -. - ',\n",
        "'. -.. ', '---', '... ', '.. - -. - ', '---', '. -. ', ' -.. ', '.', ' -.',\n",
        "'. -', ' -.. ', '---', '. -. ', '.', '... ', '.. - -. - ', ' -.', '---',\n",
        "'.. - -. - ', '. - -. ', '.', '... ', '.', ' -.', '.. - -. - ', '--', '. -',\n",
        "'... ', '.. - -. - ', ' -.. ', '.', '.. - -. - ', '. - - - -', ' - -.. - - ', '..... ',\n",
        "'.. - -. - ', '-', '---', ' -.', '.', '. -.. ', '. -', ' -.. ', '. -', '... ',\n",
        "'. -. -. - ', '.. - -. - ', ' -.... - ', ' -.... - ', '.. - -. - ', '. - -. ', '---',\n",
        "'. - -. ', '.. - ', '. -.. ', '. -', '. -. ', '.. - -. - ', '--', '.', ' -. -. ',\n",
        "'.... ', '. - -. ', '.. ', ' -. -. ', '... ', ' - -.. - - ', '.. - -. - ', '. - - - -',\n",
        "' - - - -.', '.... - ', ' - - - -.', ' - - -... ']"
      ],
      "metadata": {
        "id": "fLSfHMioE_q9"
      },
      "id": "fLSfHMioE_q9"
    },
    {
      "cell_type": "code",
      "source": [
        "code = ['.', ' -.', '.. - -. - ', '.', '. -.. ', '.. - -. - ', '.. -. ', '.. - ', '-', '.. - ', '. -. ', '---', '.. - -. - ', '.', '... ', '.. - -. - ', '. - -. ', '---', '... ', '.. ', ' -... ', '. -.. ', '.', '.. - -. - ', ' - -. -', '.. - ', '.', '.. - -. - ', '. -.. ', '---', '... ', '.. - -. - ', '---', '. -. ', ' -.. ', '.', ' -.', '. -', ' -.. ', '---', '. -. ', '.', '... ', '.. - -. - ', ' -.', '---', '.. - -. - ', '. - -. ', '.', '... ', '.', ' -.', '.. - -. - ', '--', '. -', '... ', '.. - -. - ', ' -.. ', '.', '.. - -. - ', '. - - - -', ' - -.. - - ', '..... ', '.. - -. - ', '-', '---', ' -.', '.', '. -.. ', '. -', ' -.. ', '. -', '... ', '. -. -. - ', '.. - -. - ', ' -.... - ', ' -.... - ', '.. - -. - ', '. - -. ', '---', '. - -. ', '.. - ', '. -.. ', '. -', '. -. ', '.. - -. - ', '--', '.', ' -. -. ', '.... ', '. - -. ', '.. ', ' -. -. ', '... ', ' - -.. - - ', '.. - -. - ', '. - - - -', ' - - - -.', '.... - ', ' - - - -.', ' - - -... ']"
      ],
      "metadata": {
        "id": "YoijEF4VxOoX"
      },
      "id": "YoijEF4VxOoX",
      "execution_count": 3,
      "outputs": []
    },
    {
      "cell_type": "code",
      "source": [
        "def morse_translator(code:list) -> str:\n",
        "  \"\"\"\n",
        "  Descifrar un mensaje en código morse a partir de un listado con el código.\n",
        "  Devuelve una cadena con la traducción.\n",
        "\n",
        "  Parameters\n",
        "  ----------\n",
        "  code: list\n",
        "    Listado que contiene cada elemento del código a descifrar como string.\n",
        "    Ej: ['.', ' -.']\n",
        "  \n",
        "  Returns\n",
        "  -------\n",
        "  translation: str\n",
        "    Cadena que contiene el código morse traducido. Ej: \"Hola\"\n",
        "  \"\"\"\n",
        "\n",
        "  morse = {\n",
        "            'A': '. -', 'B': ' -... ', 'C': ' -. -. ',\n",
        "            'D': ' -.. ', 'E': '.', 'F': '.. -. ',\n",
        "            'G': ' - -.', 'H': '.... ', 'I': '.. ',\n",
        "            'J': '. - - -', 'K': ' -. -', 'L': '. -.. ',\n",
        "            'M': '--', 'N': ' -.', 'O': '---',\n",
        "            'P': '. - -. ', 'Q': ' - -. -', 'R': '. -. ',\n",
        "            'S': '... ', 'T': '-', 'U': '.. - ',\n",
        "            'V': '... - ', 'W': '. - -', 'X': ' -.. - ',\n",
        "            'Y': ' -. - -', 'Z': ' - -.. ', '1': '. - - - -',\n",
        "            '2': '.. - - - ', '3': '... - - ', '4': '.... - ',\n",
        "            '5': '..... ', '6': ' -.... ', '7': ' - -... ',\n",
        "            '8': ' - - -.. ', '9': ' - - - -.', '0': ' -----',\n",
        "            '.': '. -. -. - ', ',': ' - -.. - - ', ':': ' - - -... ',\n",
        "            ';': ' -. -. -. ', '?': '.. - -.. ', '!': ' -. -. - - ',\n",
        "            '\"': '. -.. -. ', \"'\": '. - - - -. ', '+': '. -. -. ',\n",
        "            '-': ' -.... - ', '/': ' -.. -. ', '=': ' -... - ',\n",
        "            '_': '.. - -. - ', '$': '... -.. - ', '@': '. - -. -. ',\n",
        "            '&': '. -... ', '(': ' -. - -. ', ')': ' -. - -. - '\n",
        "            }\n",
        "  translation = \"\"\n",
        "  for character in code:\n",
        "    for key, value in morse.items():\n",
        "      if character == value:\n",
        "        if len(translation) > 0:\n",
        "          translation += key.lower()\n",
        "        else:\n",
        "          translation += key.capitalize()\n",
        "  return translation.replace(\"_\",\" \")\n",
        "\n"
      ],
      "metadata": {
        "id": "3w-f1iF4xYqw"
      },
      "id": "3w-f1iF4xYqw",
      "execution_count": 25,
      "outputs": []
    },
    {
      "cell_type": "code",
      "source": [
        "message = morse_translator(code)\n",
        "message"
      ],
      "metadata": {
        "colab": {
          "base_uri": "https://localhost:8080/",
          "height": 35
        },
        "id": "hK8VShyv1XTa",
        "outputId": "4371a749-660c-44d7-bc6c-5d107de2a1d4"
      },
      "id": "hK8VShyv1XTa",
      "execution_count": 26,
      "outputs": [
        {
          "output_type": "execute_result",
          "data": {
            "text/plain": [
              "'En el futuro es posible que los ordenadores no pesen mas de 1,5 toneladas. -- popular mechpics, 1949:'"
            ],
            "application/vnd.google.colaboratory.intrinsic+json": {
              "type": "string"
            }
          },
          "metadata": {},
          "execution_count": 26
        }
      ]
    }
  ],
  "metadata": {
    "kernelspec": {
      "display_name": "tuia",
      "language": "python",
      "name": "tuia"
    },
    "language_info": {
      "codemirror_mode": {
        "name": "ipython",
        "version": 3
      },
      "file_extension": ".py",
      "mimetype": "text/x-python",
      "name": "python",
      "nbconvert_exporter": "python",
      "pygments_lexer": "ipython3",
      "version": "3.8.10"
    },
    "colab": {
      "provenance": [],
      "collapsed_sections": []
    }
  },
  "nbformat": 4,
  "nbformat_minor": 5
}