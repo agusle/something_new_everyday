{
  "nbformat": 4,
  "nbformat_minor": 0,
  "metadata": {
    "colab": {
      "provenance": [],
      "collapsed_sections": []
    },
    "kernelspec": {
      "name": "python3",
      "display_name": "Python 3"
    },
    "language_info": {
      "name": "python"
    }
  },
  "cells": [
    {
      "cell_type": "markdown",
      "source": [
        "# Videogame\n",
        "\n",
        "Trabajando en una empresa de video juegos estamos involucrados en un proyecto de juego de rol. Nos han encargado realizar una función generadora del grupo de personajes que el jugador podrá manipular. Para ello, en primer lugar se ha decidido generar una clase madre"
      ],
      "metadata": {
        "id": "Zu2P9DkkR7Xg"
      }
    },
    {
      "cell_type": "markdown",
      "source": [
        "**1. Generar una clase Personaje con los siguientes atributos**\n",
        "*   nombre\n",
        "*   fuerza\n",
        "*   resistencia\n",
        "*   edad\n",
        "\n",
        "\n",
        "**y con los siguientes métodos**\n",
        "*   atacar\n",
        "*   defender\n",
        "*   saludar"
      ],
      "metadata": {
        "id": "WeRNDf0mZ9_-"
      }
    },
    {
      "cell_type": "code",
      "execution_count": 1,
      "metadata": {
        "id": "6K3qpxWFZrZo"
      },
      "outputs": [],
      "source": [
        "class Personaje:\n",
        "  \"\"\"\n",
        "  \"\"\"\n",
        "  def __init__(self,nombre,fuerza,resistencia,edad):\n",
        "    self.nombre = nombre\n",
        "    self.fuerza = fuerza\n",
        "    self.resistencia = resistencia\n",
        "    self.edad = edad\n",
        "  \n",
        "  def atacar():\n",
        "    pass\n",
        "  \n",
        "  def defender():\n",
        "    pass\n",
        "\n",
        "  def saludar():\n",
        "    pass\n",
        "  \n",
        "  def __str__(self):\n",
        "    pass"
      ]
    },
    {
      "cell_type": "markdown",
      "source": [
        "**2. Generar 3 clases nuevas**\n",
        "*   Mago \n",
        "*   Guerrero   \n",
        "*   Ladron\n",
        "\n",
        "\n",
        "Estas clases son hijas de la clase Personaje\n",
        "\n",
        "y cada uno debe tener un atributo\n",
        "del  tipo de arma que usan y otro con la armadura\n",
        "ejemplo para el mago: \n",
        "* arma: varita                                    \n",
        "* amadura: túnica"
      ],
      "metadata": {
        "id": "etrxnWHOaXjC"
      }
    },
    {
      "cell_type": "markdown",
      "source": [
        "**3. Generar métodos para las clases** \n",
        "\n",
        "Mago \n",
        "- lanzar hechizo de fuego  ---- genera -2 dos de daño---- randomizar el impacto o no\n",
        "- encantar arma (cambia el atributo de otro personaje aumentando el daño en +2)  \n",
        "\n",
        "Guerrero\n",
        "- mandoble   ---- genera entre 0-7 de daño ---- (espada normal, espada encantada aumenta daño en +2)\n",
        "- empujón    ---- genera entre 3-4 de daño   \n",
        "\n",
        "\n",
        "Ladron \n",
        "- tiro con arco  ---- entre 1-4 de daño\n",
        "- tratar de abrir con ganzua --- abre el portón y termina la prueba -- (aleatorizar con una probabilidad baja 10 - 1)"
      ],
      "metadata": {
        "id": "gJvfmoNrVdcE"
      }
    },
    {
      "cell_type": "code",
      "source": [
        "import random\n",
        "\n",
        "class Mago(Personaje):\n",
        "  def __init__(self,arma,armadura,*args, **kwargs):\n",
        "    super().__init__(*args, **kwargs)\n",
        "    self.arma = arma\n",
        "    self.armadura = armadura\n",
        "  \n",
        "  def atq_hechizo(self):\n",
        "    success = random.randint(0,1)\n",
        "    if success:\n",
        "      return 2\n",
        "    else:\n",
        "      return 0\n",
        "\n",
        "  def atq_encantar(self):\n",
        "    pass\n",
        "  \n",
        "  def __str__(self):\n",
        "    return f\"El temible hechicero {self.nombre} como {type(self).__name__}!\"\n",
        "\n",
        "class Guerrero(Personaje):\n",
        "  def __init__(self,arma,armadura,*args, **kwargs):\n",
        "    super().__init__(*args, **kwargs)\n",
        "    self.arma = arma\n",
        "    self.armadura = armadura\n",
        "\n",
        "  def atq_mandoble(self,encantada:bool):\n",
        "    if encantada:\n",
        "      return random.randint(0,7)+2\n",
        "    else:\n",
        "      return random.randint(0,7)\n",
        "  \n",
        "  def atq_empujon(self):\n",
        "      return random.randint(3,4)\n",
        "  \n",
        "  def __str__(self):\n",
        "    return f\"El grandioso guerrero {self.nombre} como {type(self).__name__}!\"\n",
        "\n",
        "class Ladron(Personaje):\n",
        "  def __init__(self,arma,armadura,*args, **kwargs):\n",
        "    super().__init__(*args, **kwargs)\n",
        "    self.arma = arma\n",
        "    self.armadura = armadura\n",
        "\n",
        "  def atq_arco(self,encantada:bool):\n",
        "      if encantada:\n",
        "        return random.randint(1,4)+2\n",
        "      else:\n",
        "        return random.randint(1,4)\n",
        "\n",
        "  def atq_ganzua(self):\n",
        "    return random.choices([True,False],weights=(10,90))\n",
        "\n",
        "  def __str__(self):\n",
        "    return f\"El habilidoso bandido {self.nombre} como {type(self).__name__}!\""
      ],
      "metadata": {
        "id": "bEWsWWbwXHCJ"
      },
      "execution_count": 182,
      "outputs": []
    },
    {
      "cell_type": "markdown",
      "source": [
        "**4. Con el propósito de probar el grupo se decide generar una Clase Portón el que habrá que derribar usando los ataques ( 1 personaje por vez cada turno). En menos de 5 turnos.**\n",
        "\n",
        "Atributo:\n",
        "- Defensa: valor aleatorio acorde a la dificultad y los atributos sumados de los personajes en referencia al ataque. \n",
        "\n"
      ],
      "metadata": {
        "id": "lIstgOT9V1Wp"
      }
    },
    {
      "cell_type": "code",
      "source": [
        "class Porton:\n",
        "  def __init__(self,defensa):\n",
        "    self.defensa = defensa\n",
        "  \n",
        "  def resistencia(self,damage):\n",
        "    self.defensa -= damage\n",
        "    return self.defensa\n",
        "  \n",
        "  def __str__(self):\n",
        "    return f\"El durisimo {type(self).__name__} con {self.defensa} de resistencia\""
      ],
      "metadata": {
        "id": "UnrHNwtPbh7y"
      },
      "execution_count": 78,
      "outputs": []
    },
    {
      "cell_type": "markdown",
      "source": [
        "\n",
        "**5. Por ultimo generar una función que pruebe el grupo contra el porton**\n",
        "\n",
        "\n"
      ],
      "metadata": {
        "id": "ZlHN7Ebtb7O8"
      }
    },
    {
      "cell_type": "code",
      "source": [
        "def select_attack(class_object) -> list:\n",
        "  \"\"\"\n",
        "  Selecciona un ataque del objeto creado dentro de la clase Personaje.\n",
        "  Primero, crea una lista filtrada con todos los métodos de la clase que \n",
        "  comiencen con el string 'atq_'. Luego solicita al usuario \n",
        "\n",
        "  Parameters\n",
        "  ----------\n",
        "  class_object = str\n",
        "    Clase sobre la cual quiere generarse el listado.\n",
        "  \n",
        "  Returns\n",
        "  -------\n",
        "  Método seleccionado por usuario\n",
        "  \"\"\"\n",
        "  attacks = [method for method in dir(class_object) if method[:4] == 'atq_']\n",
        "  print(f'{class_object.nombre} puede:\\n')\n",
        "  for index , method in enumerate(attacks):\n",
        "    print(f'{index+1} - {method}')\n",
        "  while True:\n",
        "    attack = input(f\"Seleccione el ataque de {class_object.nombre} ingresando su número: \")\n",
        "    try:\n",
        "      attack = int(attack)\n",
        "    except ValueError:\n",
        "      print(f'Usted ha ingresado \"{attack}\". Asegúrese de ingresar un número.')\n",
        "      continue\n",
        "    if attack not in range(1,len(attacks)+1):\n",
        "      print(f'Usted ha ingresado \"{attack}\". Asegúrese de ingresar una opción del listado.')\n",
        "      continue\n",
        "    else:\n",
        "      break\n",
        "  return attacks[attack-1] "
      ],
      "metadata": {
        "id": "8eUwQ2Y-RQpt"
      },
      "execution_count": 173,
      "outputs": []
    },
    {
      "cell_type": "code",
      "source": [
        "def play(rounds:int=5):\n",
        "  print(\n",
        "      f\"----------Bienvenido a la batalla FCEIA ----------\\n\"\n",
        "      f\"Estas listo?\\n\"\n",
        "      f\"Comencemos creando los personajes:\\n\"\n",
        "      )\n",
        "\n",
        "  print(f\"Cree su mago:\\n\")\n",
        "  mage = Mago(\"Varita\",\"Capa\",\"Harry Potter\",5,10,30)  \n",
        "  #mage = Mago(input(f\"Arma: \"),input(f\"Armadura: \"),input(f\"Nombre: \"),int(input(f\"Fuerza: \")),int(input(f\"Resistencia: \")),int(input(f\"Edad: \"))).__str__()\n",
        "  \n",
        "  print(f\"Cree su Guerrero:\\n\")\n",
        "  warrior = Guerrero(\"Espada\",\"Escudo\",\"Rambo\",10,15,45)\n",
        "  #warrior = Guerrero(input(f\"Nombre: \"),input(f\"Fuerza: \"),input(f\"Resistencia: \"),input(f\"Edad: \"),input(f\"Arma: \"),input(f\"Armadura: \")).__str__()\n",
        "  \n",
        "  print(f\"Cree su Ladron:\\n\")\n",
        "  chief = Ladron(\"Gorro de lana\",\"chaleco de cuero\",\"Aladin\",2,5,22)\n",
        "  #chief = Ladron(input(f\"Nombre: \"),input(f\"Fuerza: \"),input(f\"Resistencia: \"),input(f\"Edad: \"),input(f\"Arma: \"),input(f\"Armadura: \")).__str__()\n",
        "\n",
        "  print(f\"\\nEste es su team para triunfar:\\n\\n{mage}\\n{warrior}\\n{chief}\")\n",
        "\n",
        "  print(f\"\\nAhora defina la resistencia de la puerta de la FCEIA:\")\n",
        "  door = Porton(15)\n",
        "  print(f'\\n¿Estas listo para derribar \"{door}\"?')\n",
        "  print(f\"Comencemos....\")\n",
        "  for round in range(rounds):\n",
        "    print(f\"\\n----------Round {round+1}----------\")\n",
        "    #mage attack\n",
        "    if select_attack(mage) == 'atq_hechizo':\n",
        "      attack1 = mage.atq_hechizo()\n",
        "    else:\n",
        "      attack1 = mage.atq_encantar()\n",
        "    \n",
        "    #warrior attack\n",
        "    if select_attack(warrior) == 'atq_mandoble':\n",
        "      attack2 = warrior.atq_mandoble()\n",
        "    else:\n",
        "      attack2 = warrior.atq_empujon()\n",
        "\n",
        "    #chief attack\n",
        "    if select_attack(chief) == 'atq_arco':\n",
        "      attack3 = chief.atq_arco()\n",
        "    else:\n",
        "      attack3 = chief.atq_ganzua()\n",
        "      if chief.atq_ganzua()[0]:\n",
        "        attack3 = door.defensa\n",
        "      else:\n",
        "        attack3 = 0\n",
        "\n",
        "    damage = attack1 + attack2 + attack3\n",
        "    door.resistencia(damage)\n",
        "    print(\n",
        "        f\"El mago hizo {attack1} de daño\\n\"\n",
        "        f\"El guerrero hizo {attack2} de daño\\n\"\n",
        "        f\"El Ladron hizo {attack3} de daño\\n\"\n",
        "        f\"El portón recibió {damage} de daño total\\n\"\n",
        "        )\n",
        "    if (round+1 <= rounds) and (door.defensa <= 0):\n",
        "      print(f\"¡Felicitaciones has derrotado el {type(door).__name__}!\")\n",
        "      break\n",
        "    elif (round+1 < rounds) and (door.defensa > 0):\n",
        "      print(f\"¡Vamos, tú Puedes! El {type(door).__name__} tiene {door.defensa} de resistencia restante...\")\n",
        "    elif (round+1 == rounds) and (door.defensa > 0):\n",
        "      print(\n",
        "          f\"Que lástima! No has podido derribar el {type(door).__name__} en los {rounds} turnos.\\n\"\n",
        "          f\"Le han quedado {door.defensa} de resistencia restante, vuelve a intentarlo.\"\n",
        "          )\n"
      ],
      "metadata": {
        "id": "4axC39svb9My"
      },
      "execution_count": 188,
      "outputs": []
    },
    {
      "cell_type": "code",
      "source": [
        "play()"
      ],
      "metadata": {
        "colab": {
          "base_uri": "https://localhost:8080/",
          "height": 1000
        },
        "id": "mV9LVa1sgjIa",
        "outputId": "7f8a4b76-8658-4399-9474-d809bc66e58a"
      },
      "execution_count": 190,
      "outputs": [
        {
          "output_type": "stream",
          "name": "stdout",
          "text": [
            "----------Bienvenido a la batalla FCEIA ----------\n",
            "Estas listo?\n",
            "Comencemos creando los personajes:\n",
            "\n",
            "Cree su mago:\n",
            "\n",
            "Cree su Guerrero:\n",
            "\n",
            "Cree su Ladron:\n",
            "\n",
            "\n",
            "Este es su team para triunfar:\n",
            "\n",
            "El temible hechicero Harry Potter como Mago!\n",
            "El grandioso guerrero Rambo como Guerrero!\n",
            "El habilidoso bandido Aladin como Ladron!\n",
            "\n",
            "Ahora defina la resistencia de la puerta de la FCEIA:\n",
            "\n",
            "¿Estas listo para derribar \"El durisimo Porton con 15 de resistencia\"?\n",
            "Comencemos....\n",
            "\n",
            "----------Round 1----------\n",
            "Harry Potter puede:\n",
            "\n",
            "1 - atq_encantar\n",
            "2 - atq_hechizo\n",
            "Seleccione el ataque de Harry Potter ingresando su número: 2\n",
            "Rambo puede:\n",
            "\n",
            "1 - atq_empujon\n",
            "2 - atq_mandoble\n",
            "Seleccione el ataque de Rambo ingresando su número: 1\n",
            "Aladin puede:\n",
            "\n",
            "1 - atq_arco\n",
            "2 - atq_ganzua\n",
            "Seleccione el ataque de Aladin ingresando su número: 2\n",
            "El mago hizo 0 de daño\n",
            "El guerrero hizo 3 de daño\n",
            "El Ladron hizo 0 de daño\n",
            "El portón recibió 3 de daño total\n",
            "\n",
            "¡Vamos, tú Puedes! El Porton tiene 12 de resistencia restante...\n",
            "\n",
            "----------Round 2----------\n",
            "Harry Potter puede:\n",
            "\n",
            "1 - atq_encantar\n",
            "2 - atq_hechizo\n",
            "Seleccione el ataque de Harry Potter ingresando su número: 2\n",
            "Rambo puede:\n",
            "\n",
            "1 - atq_empujon\n",
            "2 - atq_mandoble\n",
            "Seleccione el ataque de Rambo ingresando su número: 1\n",
            "Aladin puede:\n",
            "\n",
            "1 - atq_arco\n",
            "2 - atq_ganzua\n",
            "Seleccione el ataque de Aladin ingresando su número: 2\n",
            "El mago hizo 2 de daño\n",
            "El guerrero hizo 4 de daño\n",
            "El Ladron hizo 0 de daño\n",
            "El portón recibió 6 de daño total\n",
            "\n",
            "¡Vamos, tú Puedes! El Porton tiene 6 de resistencia restante...\n",
            "\n",
            "----------Round 3----------\n",
            "Harry Potter puede:\n",
            "\n",
            "1 - atq_encantar\n",
            "2 - atq_hechizo\n"
          ]
        },
        {
          "output_type": "error",
          "ename": "KeyboardInterrupt",
          "evalue": "ignored",
          "traceback": [
            "\u001b[0;31m---------------------------------------------------------------------------\u001b[0m",
            "\u001b[0;31mKeyboardInterrupt\u001b[0m                         Traceback (most recent call last)",
            "\u001b[0;32m<ipython-input-190-425fd712de3c>\u001b[0m in \u001b[0;36m<module>\u001b[0;34m\u001b[0m\n\u001b[0;32m----> 1\u001b[0;31m \u001b[0mplay\u001b[0m\u001b[0;34m(\u001b[0m\u001b[0;34m)\u001b[0m\u001b[0;34m\u001b[0m\u001b[0;34m\u001b[0m\u001b[0m\n\u001b[0m",
            "\u001b[0;32m<ipython-input-188-b7e1b6ef2daf>\u001b[0m in \u001b[0;36mplay\u001b[0;34m(rounds)\u001b[0m\n\u001b[1;32m     27\u001b[0m     \u001b[0mprint\u001b[0m\u001b[0;34m(\u001b[0m\u001b[0;34mf\"\\n----------Round {round+1}----------\"\u001b[0m\u001b[0;34m)\u001b[0m\u001b[0;34m\u001b[0m\u001b[0;34m\u001b[0m\u001b[0m\n\u001b[1;32m     28\u001b[0m     \u001b[0;31m#mage attack\u001b[0m\u001b[0;34m\u001b[0m\u001b[0;34m\u001b[0m\u001b[0;34m\u001b[0m\u001b[0m\n\u001b[0;32m---> 29\u001b[0;31m     \u001b[0;32mif\u001b[0m \u001b[0mselect_attack\u001b[0m\u001b[0;34m(\u001b[0m\u001b[0mmage\u001b[0m\u001b[0;34m)\u001b[0m \u001b[0;34m==\u001b[0m \u001b[0;34m'atq_hechizo'\u001b[0m\u001b[0;34m:\u001b[0m\u001b[0;34m\u001b[0m\u001b[0;34m\u001b[0m\u001b[0m\n\u001b[0m\u001b[1;32m     30\u001b[0m       \u001b[0mattack1\u001b[0m \u001b[0;34m=\u001b[0m \u001b[0mmage\u001b[0m\u001b[0;34m.\u001b[0m\u001b[0matq_hechizo\u001b[0m\u001b[0;34m(\u001b[0m\u001b[0;34m)\u001b[0m\u001b[0;34m\u001b[0m\u001b[0;34m\u001b[0m\u001b[0m\n\u001b[1;32m     31\u001b[0m     \u001b[0;32melse\u001b[0m\u001b[0;34m:\u001b[0m\u001b[0;34m\u001b[0m\u001b[0;34m\u001b[0m\u001b[0m\n",
            "\u001b[0;32m<ipython-input-173-793ab1da558c>\u001b[0m in \u001b[0;36mselect_attack\u001b[0;34m(class_object)\u001b[0m\n\u001b[1;32m     19\u001b[0m     \u001b[0mprint\u001b[0m\u001b[0;34m(\u001b[0m\u001b[0;34mf'{index+1} - {method}'\u001b[0m\u001b[0;34m)\u001b[0m\u001b[0;34m\u001b[0m\u001b[0;34m\u001b[0m\u001b[0m\n\u001b[1;32m     20\u001b[0m   \u001b[0;32mwhile\u001b[0m \u001b[0;32mTrue\u001b[0m\u001b[0;34m:\u001b[0m\u001b[0;34m\u001b[0m\u001b[0;34m\u001b[0m\u001b[0m\n\u001b[0;32m---> 21\u001b[0;31m     \u001b[0mattack\u001b[0m \u001b[0;34m=\u001b[0m \u001b[0minput\u001b[0m\u001b[0;34m(\u001b[0m\u001b[0;34mf\"Seleccione el ataque de {class_object.nombre} ingresando su número: \"\u001b[0m\u001b[0;34m)\u001b[0m\u001b[0;34m\u001b[0m\u001b[0;34m\u001b[0m\u001b[0m\n\u001b[0m\u001b[1;32m     22\u001b[0m     \u001b[0;32mtry\u001b[0m\u001b[0;34m:\u001b[0m\u001b[0;34m\u001b[0m\u001b[0;34m\u001b[0m\u001b[0m\n\u001b[1;32m     23\u001b[0m       \u001b[0mattack\u001b[0m \u001b[0;34m=\u001b[0m \u001b[0mint\u001b[0m\u001b[0;34m(\u001b[0m\u001b[0mattack\u001b[0m\u001b[0;34m)\u001b[0m\u001b[0;34m\u001b[0m\u001b[0;34m\u001b[0m\u001b[0m\n",
            "\u001b[0;32m/usr/local/lib/python3.7/dist-packages/ipykernel/kernelbase.py\u001b[0m in \u001b[0;36mraw_input\u001b[0;34m(self, prompt)\u001b[0m\n\u001b[1;32m    861\u001b[0m             \u001b[0mself\u001b[0m\u001b[0;34m.\u001b[0m\u001b[0m_parent_ident\u001b[0m\u001b[0;34m,\u001b[0m\u001b[0;34m\u001b[0m\u001b[0;34m\u001b[0m\u001b[0m\n\u001b[1;32m    862\u001b[0m             \u001b[0mself\u001b[0m\u001b[0;34m.\u001b[0m\u001b[0m_parent_header\u001b[0m\u001b[0;34m,\u001b[0m\u001b[0;34m\u001b[0m\u001b[0;34m\u001b[0m\u001b[0m\n\u001b[0;32m--> 863\u001b[0;31m             \u001b[0mpassword\u001b[0m\u001b[0;34m=\u001b[0m\u001b[0;32mFalse\u001b[0m\u001b[0;34m,\u001b[0m\u001b[0;34m\u001b[0m\u001b[0;34m\u001b[0m\u001b[0m\n\u001b[0m\u001b[1;32m    864\u001b[0m         )\n\u001b[1;32m    865\u001b[0m \u001b[0;34m\u001b[0m\u001b[0m\n",
            "\u001b[0;32m/usr/local/lib/python3.7/dist-packages/ipykernel/kernelbase.py\u001b[0m in \u001b[0;36m_input_request\u001b[0;34m(self, prompt, ident, parent, password)\u001b[0m\n\u001b[1;32m    902\u001b[0m             \u001b[0;32mexcept\u001b[0m \u001b[0mKeyboardInterrupt\u001b[0m\u001b[0;34m:\u001b[0m\u001b[0;34m\u001b[0m\u001b[0;34m\u001b[0m\u001b[0m\n\u001b[1;32m    903\u001b[0m                 \u001b[0;31m# re-raise KeyboardInterrupt, to truncate traceback\u001b[0m\u001b[0;34m\u001b[0m\u001b[0;34m\u001b[0m\u001b[0;34m\u001b[0m\u001b[0m\n\u001b[0;32m--> 904\u001b[0;31m                 \u001b[0;32mraise\u001b[0m \u001b[0mKeyboardInterrupt\u001b[0m\u001b[0;34m(\u001b[0m\u001b[0;34m\"Interrupted by user\"\u001b[0m\u001b[0;34m)\u001b[0m \u001b[0;32mfrom\u001b[0m \u001b[0;32mNone\u001b[0m\u001b[0;34m\u001b[0m\u001b[0;34m\u001b[0m\u001b[0m\n\u001b[0m\u001b[1;32m    905\u001b[0m             \u001b[0;32mexcept\u001b[0m \u001b[0mException\u001b[0m \u001b[0;32mas\u001b[0m \u001b[0me\u001b[0m\u001b[0;34m:\u001b[0m\u001b[0;34m\u001b[0m\u001b[0;34m\u001b[0m\u001b[0m\n\u001b[1;32m    906\u001b[0m                 \u001b[0mself\u001b[0m\u001b[0;34m.\u001b[0m\u001b[0mlog\u001b[0m\u001b[0;34m.\u001b[0m\u001b[0mwarning\u001b[0m\u001b[0;34m(\u001b[0m\u001b[0;34m\"Invalid Message:\"\u001b[0m\u001b[0;34m,\u001b[0m \u001b[0mexc_info\u001b[0m\u001b[0;34m=\u001b[0m\u001b[0;32mTrue\u001b[0m\u001b[0;34m)\u001b[0m\u001b[0;34m\u001b[0m\u001b[0;34m\u001b[0m\u001b[0m\n",
            "\u001b[0;31mKeyboardInterrupt\u001b[0m: Interrupted by user"
          ]
        }
      ]
    }
  ]
}