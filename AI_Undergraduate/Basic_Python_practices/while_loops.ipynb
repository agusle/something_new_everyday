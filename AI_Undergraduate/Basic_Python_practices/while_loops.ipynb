{
  "nbformat": 4,
  "nbformat_minor": 0,
  "metadata": {
    "colab": {
      "provenance": [],
      "collapsed_sections": []
    },
    "kernelspec": {
      "name": "python3",
      "display_name": "Python 3"
    },
    "language_info": {
      "name": "python"
    }
  },
  "cells": [
    {
      "cell_type": "markdown",
      "source": [
        "# Práctica While"
      ],
      "metadata": {
        "id": "OXsJtKBcWbI-"
      }
    },
    {
      "cell_type": "markdown",
      "source": [
        "**Ejercicio 1**\n",
        "Vamos a crear un juego para niñes que están aprendiendo a sumar. En pantalla se mostrarán dos números y se le debe pedir a la persona que calcule la suma de ambos. Si la suma es correcta felicitar a la persona. Sino, alentarla a que siga intentando hasta lograrlo.\n",
        "\n",
        "Extra: crear una función donde se le pase los numeros a sumar como parametro.\n",
        "\n",
        "Super extra: pasarle a la función 2 números enteros random"
      ],
      "metadata": {
        "id": "q4jePVxBWoWB"
      }
    },
    {
      "cell_type": "code",
      "source": [
        "import random\n",
        "def guessthesum(operand1:int=0,operand2:int=0) -> str:\n",
        "  \"\"\"\n",
        "  El usuario debe adivinar la suma entre dos numeros ingresados como parametros.\n",
        "  En caso de no ingresar parametros, se generan numeros aleatorios del 0 al 100, \n",
        "  recibiendo una respuesta positiva o negativa por pantalla según el resultado.\n",
        "  \"\"\"\n",
        "  \n",
        "  print(\"Hola! Bienvenido al juego 'Adivina la suma' de la FCEIA:\")\n",
        "  print(\"Estás listo?\")\n",
        "  while True:\n",
        "    if operand1 == 0 and operand2 == 0: \n",
        "      operand1 = random.randint(0,100)\n",
        "      operand2 = random.randint(0,100)\n",
        "    print(f'¿Cuál es el resultado de la suma: {operand1} + {operand2}?')\n",
        "    try:\n",
        "      answer = int(input(\"Ingresá tu respuesta: \"))\n",
        "    except ValueError:\n",
        "      print(\"Por favor, asegurate de ingresar solo números enteros en tu respuesta e inténtalo de nuevo.\")\n",
        "      continue\n",
        "    if answer == (operand1 + operand2):\n",
        "      print(\"Felicitaciones, tu respuesta es correcta.\")\n",
        "      print(\"Gracias por jugar con nosotros. Que tengas un buen dia!\")\n",
        "      break\n",
        "    else:\n",
        "      print(\"Lo siento, tu respuesta es incorrecta.\")\n",
        "    again = input(\"\\n¿Quieres intentarlo de nuevo? (SI/NO)\")\n",
        "    if again.lower() == \"si\":\n",
        "      continue\n",
        "    elif again.lower() == \"no\":\n",
        "      print(\"Gracias por jugar con nosotros. Que tengas un buen dia!\")\n",
        "      break\n"
      ],
      "metadata": {
        "id": "VblubaHgI0jH"
      },
      "execution_count": null,
      "outputs": []
    },
    {
      "cell_type": "code",
      "source": [
        "guessthesum(40,20)"
      ],
      "metadata": {
        "colab": {
          "base_uri": "https://localhost:8080/"
        },
        "id": "onBKhbjApS6H",
        "outputId": "173dcd54-7b50-4c24-c494-4b0ffc28b57d"
      },
      "execution_count": null,
      "outputs": [
        {
          "output_type": "stream",
          "name": "stdout",
          "text": [
            "Hola! Bienvenido al juego 'Adivina la suma' de la FCEIA:\n",
            "Estás listo?\n",
            "¿Cuál es el resultado de la suma: 40 + 20?\n",
            "Ingresá tu respuesta: a\n",
            "Por favor, asegurate de ingresar solo números enteros en tu respuesta e inténtalo de nuevo.\n",
            "¿Cuál es el resultado de la suma: 40 + 20?\n",
            "Ingresá tu respuesta: 55\n",
            "Lo siento, tu respuesta es incorrecta.\n",
            "\n",
            "¿Quieres intentarlo de nuevo? (SI/NO)si\n",
            "¿Cuál es el resultado de la suma: 40 + 20?\n",
            "Ingresá tu respuesta: 60\n",
            "Felicitaciones, tu respuesta es correcta.\n",
            "Gracias por jugar con nosotros. Que tengas un buen dia!\n"
          ]
        }
      ]
    },
    {
      "cell_type": "markdown",
      "source": [
        "Llamada a funcion con numeros aleatorios como argumentos"
      ],
      "metadata": {
        "id": "2lgdwXP7qiG5"
      }
    },
    {
      "cell_type": "code",
      "source": [
        "guessthesum(random.randint(0,100),random.randint(0,100))"
      ],
      "metadata": {
        "colab": {
          "base_uri": "https://localhost:8080/"
        },
        "id": "xuvsrM-cqhew",
        "outputId": "d1f7b298-821c-44e4-e74f-f1de7402ecce"
      },
      "execution_count": null,
      "outputs": [
        {
          "output_type": "stream",
          "name": "stdout",
          "text": [
            "Hola! Bienvenido al juego 'Adivina la suma' de la FCEIA:\n",
            "Estás listo?\n",
            "¿Cuál es el resultado de la suma: 92 + 29?\n",
            "Ingresá tu respuesta: 121\n",
            "Felicitaciones, tu respuesta es correcta.\n",
            "Gracias por jugar con nosotros. Que tengas un buen dia!\n"
          ]
        }
      ]
    },
    {
      "cell_type": "markdown",
      "source": [
        "Llamada a función con parámetros por defecto para que genere numeros aleatorios."
      ],
      "metadata": {
        "id": "Asxof45UpV5A"
      }
    },
    {
      "cell_type": "code",
      "source": [
        "guessthesum()"
      ],
      "metadata": {
        "colab": {
          "base_uri": "https://localhost:8080/"
        },
        "id": "Xwxj7KyZ1hN9",
        "outputId": "6e074bf4-2521-42db-a801-476d6ba2f651"
      },
      "execution_count": null,
      "outputs": [
        {
          "output_type": "stream",
          "name": "stdout",
          "text": [
            "Hola! Bienvenido al juego 'Adivina la suma' de la FCEIA:\n",
            "Estás listo?\n",
            "¿Cuál es el resultado de la suma: 62 + 52?\n",
            "Ingresá tu respuesta: 114\n",
            "Felicitaciones, tu respuesta es correcta.\n",
            "Gracias por jugar con nosotros. Que tengas un buen dia!\n"
          ]
        }
      ]
    },
    {
      "cell_type": "markdown",
      "source": [
        "**Ejercicio 2** Escribir un programa que permita ingresar un número llamado valor_objetivo. Luego, se debe pedir al usuario que ingrese números por consola hasta que la suma de los números ingresados sea mayor o igual que valor_objetivo"
      ],
      "metadata": {
        "id": "j1UhCtaOWrap"
      }
    },
    {
      "cell_type": "code",
      "source": [
        "def reach_the_number(target:int) -> str:\n",
        "  \"\"\"\n",
        "  Permite ingresar un número llamado valor_objetivo. Luego, se le solicita \n",
        "  al usuario que ingrese números enteros por consola hasta que la suma de los \n",
        "  mismos sea mayor o igual que valor_objetivo.\n",
        "\n",
        "  Parameters\n",
        "  ----------\n",
        "  target = int\n",
        "    valor_objetivo al que el usuario debe igualar o superar. Ej:10\n",
        "\n",
        "  Returns\n",
        "  -------\n",
        "  Mensaje por pantalla si el usuario igualó, superó o aún le restan \n",
        "  números para el valor_objetivo.\n",
        "  \"\"\"\n",
        "  \n",
        "  print(\n",
        "      f'Bienvenido al juego del \"Valor Objetivo\".\\n\\n'\n",
        "      f'Debes ingresar números hasta que la suma de los mismos '\n",
        "      f'sea igual o mayor al valor objetivo: {target}.'\n",
        "  )\n",
        "  total = 0\n",
        "  while target > total: \n",
        "    try:\n",
        "      number = int(input(\"\\nPor favor, ingrese un número: \"))\n",
        "    except ValueError:\n",
        "      print(\"ERROR. Por favor, asegúrese de ingresar un valor numérico.\")\n",
        "      continue\n",
        "    total += number\n",
        "    if target <= total:\n",
        "      print(\"\\nFelicidades has alcanzado el valor objetivo!\")\n",
        "    else:\n",
        "      print(\n",
        "          f'\\nAún no has alcanzado el valor objetivo, '\n",
        "          f'pero sigue así que estás mas cerca.'\n",
        "          )\n",
        "    print(f'La sumatoria de tus números es: {total} y debes alcanzar {target}.', )"
      ],
      "metadata": {
        "id": "nKE-WwRj5aU8"
      },
      "execution_count": null,
      "outputs": []
    },
    {
      "cell_type": "markdown",
      "source": [
        "Prueba hasta igualar el valor objetivo"
      ],
      "metadata": {
        "id": "fjA36_YSQFj3"
      }
    },
    {
      "cell_type": "code",
      "source": [
        "reach_the_number(10)"
      ],
      "metadata": {
        "colab": {
          "base_uri": "https://localhost:8080/"
        },
        "id": "jYwkR3q5MUyX",
        "outputId": "0224769a-bb1e-4add-fcff-76fff1af208f"
      },
      "execution_count": null,
      "outputs": [
        {
          "output_type": "stream",
          "name": "stdout",
          "text": [
            "Bienvenido al juego del \"Valor Objetivo\".\n",
            "\n",
            "Debes ingresar números hasta que la suma de los mismos sea igual o mayor al valor objetivo: 10.\n",
            "\n",
            "Por favor, ingrese un número: abc\n",
            "ERROR. Por favor, asegúrese de ingresar un valor numérico.\n",
            "\n",
            "Por favor, ingrese un número: 5\n",
            "\n",
            "Aún no has alcanzado el valor objetivo, pero sigue así que estás mas cerca.\n",
            "La sumatoria de tus números es: 5 y debes alcanzar 10.\n",
            "\n",
            "Por favor, ingrese un número: 5\n",
            "\n",
            "Felicidades has alcanzado el valor objetivo!\n",
            "La sumatoria de tus números es: 10 y debes alcanzar 10.\n"
          ]
        }
      ]
    },
    {
      "cell_type": "markdown",
      "source": [
        "Prueba hasta superar el valor objetivo"
      ],
      "metadata": {
        "id": "xXOb-DraQIR3"
      }
    },
    {
      "cell_type": "code",
      "source": [
        "reach_the_number(10)"
      ],
      "metadata": {
        "colab": {
          "base_uri": "https://localhost:8080/"
        },
        "id": "QyiZ4JUhOrZt",
        "outputId": "9e8e66a2-b67e-4875-d142-d28ae33dbcd1"
      },
      "execution_count": null,
      "outputs": [
        {
          "output_type": "stream",
          "name": "stdout",
          "text": [
            "Bienvenido al juego del \"Valor Objetivo\".\n",
            "\n",
            "Debes ingresar números hasta que la suma de los mismos sea igual o mayor al valor objetivo: 10.\n",
            "\n",
            "Por favor, ingrese un número: 1\n",
            "\n",
            "Aún no has alcanzado el valor objetivo, pero sigue así que estás mas cerca.\n",
            "La sumatoria de tus números es: 1 y debes alcanzar 10.\n",
            "\n",
            "Por favor, ingrese un número: 2\n",
            "\n",
            "Aún no has alcanzado el valor objetivo, pero sigue así que estás mas cerca.\n",
            "La sumatoria de tus números es: 3 y debes alcanzar 10.\n",
            "\n",
            "Por favor, ingrese un número: 5\n",
            "\n",
            "Aún no has alcanzado el valor objetivo, pero sigue así que estás mas cerca.\n",
            "La sumatoria de tus números es: 8 y debes alcanzar 10.\n",
            "\n",
            "Por favor, ingrese un número: 15\n",
            "\n",
            "Felicidades has alcanzado el valor objetivo!\n",
            "La sumatoria de tus números es: 23 y debes alcanzar 10.\n"
          ]
        }
      ]
    },
    {
      "cell_type": "markdown",
      "source": [
        "**Ejercicio 3** Escribir un programa que le permita al usuario ingresar la lista del supermercado. Para finalizar la lista, se deberá ingresar el símbolo * Imprimir la lista del supermercado"
      ],
      "metadata": {
        "id": "9xjEuBQoW9xl"
      }
    },
    {
      "cell_type": "code",
      "source": [
        "def shopping_list():\n",
        "  \"\"\"\n",
        "  Permite al usuario ingresar la lista del supermercado. Para finalizar\n",
        "  la lista, se deberá ingresar el símbolo * e imprime la lista ingresada.\n",
        "\n",
        "  Returns\n",
        "  -------\n",
        "  Imprime en pantalla la lista ingresada.\n",
        "  \"\"\"\n",
        "  \n",
        "  shopping = []\n",
        "  count = 0\n",
        "  item = None\n",
        "  print(\n",
        "      f'Bienvenido a su lista del supermercado\\n'\n",
        "      f'Si desea finalizar con la lista recuerde ingresar *.\\n'\n",
        "  )\n",
        "  while item != \"*\":\n",
        "    count +=1\n",
        "    item = input(f'Por favor ingrese su item #{count} a la lista: ')\n",
        "    if item != \"*\":\n",
        "      shopping.append(item)\n",
        "  print(\n",
        "      f'\\nFelicidades, usted ha ingresado los siguientes items '\n",
        "      f'para su lista de compras:'\n",
        "      )\n",
        "  print(*shopping, sep=\"\\n\")\n",
        "  print(\"\\nApúrese en ir a comprar antes que sufra los efectos de la inflación.\")"
      ],
      "metadata": {
        "id": "mIy-vnyrbFmV"
      },
      "execution_count": null,
      "outputs": []
    },
    {
      "cell_type": "code",
      "source": [
        "shopping_list()"
      ],
      "metadata": {
        "colab": {
          "base_uri": "https://localhost:8080/"
        },
        "id": "M2DADcuhdyZK",
        "outputId": "26c88da4-cc6b-46dd-c767-0e39baec572f"
      },
      "execution_count": null,
      "outputs": [
        {
          "output_type": "stream",
          "name": "stdout",
          "text": [
            "Bienvenido a su lista del supermercado\n",
            "Si desea finalizar con la lista recuerde ingresar *.\n",
            "\n",
            "Por favor ingrese su item #1 a la lista: 1 Rollo de cocina\n",
            "Por favor ingrese su item #2 a la lista: 2 leches descremadas\n",
            "Por favor ingrese su item #3 a la lista: 1 yogurt de vainilla\n",
            "Por favor ingrese su item #4 a la lista: *\n",
            "\n",
            "Felicidades, usted ha ingresado los siguientes items para su lista de compras:\n",
            "1 Rollo de cocina\n",
            "2 leches descremadas\n",
            "1 yogurt de vainilla\n",
            "\n",
            "Apúrese en ir a comprar antes que sufra los efectos de la inflación.\n"
          ]
        }
      ]
    },
    {
      "cell_type": "markdown",
      "source": [
        "**Ejercicio 4**\n",
        "Escriba un programa que acepte oraciones hasta que se ingrese un 'enter' y luego las imprima en mayusculas. \n",
        "\n",
        "Ayuda:\n",
        "- break\n",
        "- True\n",
        "- for\n",
        "- listas\n",
        "\n",
        "Salida:\n",
        "![image.png](data:image/png;base64,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)"
      ],
      "metadata": {
        "id": "hdD8NsKgXAkH"
      }
    },
    {
      "cell_type": "code",
      "source": [
        "def paragrahp_upper():\n",
        "  \"\"\"\n",
        "  Permite ingresar oraciones hasta que se ingrese un 'enter' \n",
        "  y luego las imprime a las mismas en mayusculas.\n",
        "  \"\"\"\n",
        "  \n",
        "  paragraph = []\n",
        "  phrase = None\n",
        "  print(\"Bienvenido al software que hace mayúsculas tus ideas!\")\n",
        "  while phrase != \"\":\n",
        "    phrase = input(\"Por favor, ingrese su oración o presione la tecla ENTER para finalizar: \")\n",
        "    paragraph.append(phrase)\n",
        "  print(\"\\nUsted ha ingresado las siguientes oraciones:\")\n",
        "  print(*paragraph, sep=\"\\n\")\n",
        "  print(\"Uala! ahora están en mayúscula:\")\n",
        "  for phrase in paragraph:\n",
        "    print(phrase.upper())"
      ],
      "metadata": {
        "id": "gOE0Gp1VrgOP"
      },
      "execution_count": null,
      "outputs": []
    },
    {
      "cell_type": "code",
      "source": [
        "paragrahp_upper()"
      ],
      "metadata": {
        "colab": {
          "base_uri": "https://localhost:8080/"
        },
        "id": "ttwgI6JvtdzM",
        "outputId": "a7fe6630-82ed-492f-e8e5-5d8908cc3991"
      },
      "execution_count": null,
      "outputs": [
        {
          "output_type": "stream",
          "name": "stdout",
          "text": [
            "Bienvenido al software que hace mayúsculas tus ideas!\n",
            "Por favor, ingrese su oración o presione la tecla ENTER para finalizar: cocodrilo que duerme, es cartera\n",
            "Por favor, ingrese su oración o presione la tecla ENTER para finalizar: a caballo regalado no se le miran los dientes\n",
            "Por favor, ingrese su oración o presione la tecla ENTER para finalizar: cuando el gato no está, bailan los ratones\n",
            "Por favor, ingrese su oración o presione la tecla ENTER para finalizar: \n",
            "\n",
            "Usted ha ingresado las siguientes oraciones:\n",
            "cocodrilo que duerme, es cartera\n",
            "a caballo regalado no se le miran los dientes\n",
            "cuando el gato no está, bailan los ratones\n",
            "\n",
            "Uala! ahora están en mayúscula:\n",
            "COCODRILO QUE DUERME, ES CARTERA\n",
            "A CABALLO REGALADO NO SE LE MIRAN LOS DIENTES\n",
            "CUANDO EL GATO NO ESTÁ, BAILAN LOS RATONES\n",
            "\n"
          ]
        }
      ]
    }
  ]
}