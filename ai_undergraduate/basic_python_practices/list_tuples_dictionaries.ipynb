{
  "cells": [
    {
      "cell_type": "markdown",
      "id": "975346ff",
      "metadata": {
        "id": "975346ff"
      },
      "source": [
        "## Listas, tuplas y diccionarios"
      ]
    },
    {
      "cell_type": "markdown",
      "id": "62ce5593",
      "metadata": {
        "id": "62ce5593"
      },
      "source": [
        "#### Listas"
      ]
    },
    {
      "cell_type": "markdown",
      "id": "6df460bc",
      "metadata": {
        "id": "6df460bc"
      },
      "source": [
        "1. Escriba una función que reciba una lista de números calcule la suma acumulada de sus elementos y la devuelva. Es decir, una nueva lista donde el primer elemento es el mismo que en la lista original, el segundo elemento es la suma del primer y segundo elemento de la lista original, el tercer elemento es la suma del resultado anterior con el tercer elemento de la lista original y así sucesivamente. Por ejemplo, dada la lista [1, 2, 3], la suma acumulada debería ser [1, 3, 6]."
      ]
    },
    {
      "cell_type": "code",
      "source": [
        "def acumulative_list_sum(numbers:list)-> list:\n",
        "  \"\"\"\n",
        "  Crea una nueva lista donde el primer elemento es el mismo que la original,\n",
        "  el segundo elemento es la suma del primer y segundo elemento de la lista \n",
        "  original y el tercer elemento es la suma del resultado anterior \n",
        "  con el tercer elemento de la lista original y así sucesivamente.\n",
        "\n",
        "  Parameters\n",
        "  ----------\n",
        "  numbers = list\n",
        "    Lista de números (int, float). e.g: [1,2,3]\n",
        "  \n",
        "  Returns\n",
        "  -------\n",
        "  sum_numbers = list\n",
        "    Lista con la suma acumulativa. e.g: [1,3,6]\n",
        "  \"\"\"\n",
        "\n",
        "  sum_numbers = []\n",
        "  for number in range(len(numbers)):\n",
        "    if len(sum_numbers) == 0: #primer elemento es igual que original\n",
        "      number = numbers[number]\n",
        "    elif len(sum_numbers) < 2 : #segundo elemento suma de 1ro + 2do original\n",
        "      number = numbers[number] + numbers[number-1]\n",
        "    else:\n",
        "      number = sum_numbers[-1] + numbers[number] #tercer elemento suma con ant.\n",
        "    sum_numbers.append(number)\n",
        "  return sum_numbers"
      ],
      "metadata": {
        "id": "3nrAjC2Pib1g"
      },
      "id": "3nrAjC2Pib1g",
      "execution_count": null,
      "outputs": []
    },
    {
      "cell_type": "code",
      "source": [
        "my_list = [1,2,3]\n",
        "sum_list = acumulative_list_sum(my_list)\n",
        "print(sum_list)"
      ],
      "metadata": {
        "colab": {
          "base_uri": "https://localhost:8080/"
        },
        "id": "4M8ljegd2qyL",
        "outputId": "720254c2-ac26-4458-f5d2-98757ea03732"
      },
      "id": "4M8ljegd2qyL",
      "execution_count": null,
      "outputs": [
        {
          "output_type": "stream",
          "name": "stdout",
          "text": [
            "[1, 3, 6]\n"
          ]
        }
      ]
    },
    {
      "cell_type": "markdown",
      "id": "a1864932",
      "metadata": {
        "id": "a1864932"
      },
      "source": [
        "2. Genere una lista llamada datosPersonales, mediante el uso de un bucle donde en cada iteración se pida un solo dato de los siguientes: Nombre, Apellido, Localidad, Edad, DNI, Carrera en curso (en esta última ingrese: Tecnicatura), año de inicio de la carrera. Luego, imprima por pantalla la lista con los datos completados. (Ingrese las palabras como cadenas y los números como enteros)"
      ]
    },
    {
      "cell_type": "code",
      "source": [
        "form = [\"Nombre\",\"Apellido\",\"Localidad\",\"Edad\",\"DNI\",\"Carrera en curso\",\"Año de inicio de carrera\"]"
      ],
      "metadata": {
        "id": "xC7_RIG88Euo"
      },
      "id": "xC7_RIG88Euo",
      "execution_count": null,
      "outputs": []
    },
    {
      "cell_type": "code",
      "source": [
        "def fill_form(form:list) -> list:\n",
        "  \"\"\"\n",
        "  Genera una secuencia de input para cada uno de los elementos del formulario\n",
        "  ingresado como argumento. Si el valor ingresado es numérico, el elemento se\n",
        "  almacena como número entero, de lo contario como cadena.\n",
        "\n",
        "  Parameter\n",
        "  ---------\n",
        "  form = list\n",
        "    Lista con campos de datos a ingresar por el usuario.\n",
        "  \n",
        "  Returns\n",
        "  -------\n",
        "  datosPersonales = list\n",
        "    Lista con campos ingresados por usuario\n",
        "  \"\"\"\n",
        "  \n",
        "  datosPersonales = []\n",
        "  for data in form:\n",
        "    field = input(f'Por favor, ingrese su {data}: ')\n",
        "    if field.isnumeric():\n",
        "      field = int(field)\n",
        "    datosPersonales.append(field)\n",
        "  print(f'\\nMuchas gracias por completar el formulario. Usted ingresó los siguientes datos:')\n",
        "  for index in range(len(form)):\n",
        "    print(f'{form[index]}: {datosPersonales[index]}')\n",
        "  return datosPersonales"
      ],
      "metadata": {
        "id": "65yWKGmpihCC"
      },
      "id": "65yWKGmpihCC",
      "execution_count": null,
      "outputs": []
    },
    {
      "cell_type": "code",
      "source": [
        "datosPersonales = fill_form(form)"
      ],
      "metadata": {
        "colab": {
          "base_uri": "https://localhost:8080/"
        },
        "id": "7XoUSmln9o8O",
        "outputId": "e38c6570-af2a-43c4-ea9d-15b4a75a61a5"
      },
      "id": "7XoUSmln9o8O",
      "execution_count": null,
      "outputs": [
        {
          "output_type": "stream",
          "name": "stdout",
          "text": [
            "Por favor, ingrese su Nombre: Agustin\n",
            "Por favor, ingrese su Apellido: Leperini\n",
            "Por favor, ingrese su Localidad: Carcarañá\n",
            "Por favor, ingrese su Edad: 30\n",
            "Por favor, ingrese su DNI: 36007849\n",
            "Por favor, ingrese su Carrera en curso: Tecnicatura\n",
            "Por favor, ingrese su Año de inicio de carrera: 2022\n",
            "\n",
            "Muchas gracias por completar el formulario. Usted ingresó los siguientes datos:\n",
            "Nombre: Agustin\n",
            "Apellido: Leperini\n",
            "Localidad: Carcarañá\n",
            "Edad: 30\n",
            "DNI: 36007849\n",
            "Carrera en curso: Tecnicatura\n",
            "Año de inicio de carrera: 2022\n"
          ]
        }
      ]
    },
    {
      "cell_type": "markdown",
      "source": [
        "Comprobación de almacenamiento de datos numéricos como enteros."
      ],
      "metadata": {
        "id": "YzlOtuWy99MY"
      },
      "id": "YzlOtuWy99MY"
    },
    {
      "cell_type": "code",
      "source": [
        "numeric_values = list(filter(lambda x: type(x)== int,datosPersonales))\n",
        "print(numeric_values)"
      ],
      "metadata": {
        "colab": {
          "base_uri": "https://localhost:8080/"
        },
        "id": "iuCAF92f-LLl",
        "outputId": "1dec8f0c-54be-4de9-b47f-915933027f79"
      },
      "id": "iuCAF92f-LLl",
      "execution_count": null,
      "outputs": [
        {
          "output_type": "stream",
          "name": "stdout",
          "text": [
            "[30, 36007849, 2022]\n"
          ]
        }
      ]
    },
    {
      "cell_type": "code",
      "source": [
        "print(type(datosPersonales[3]))#Edad\n",
        "print(type(datosPersonales[4]))#DNI\n",
        "print(type(datosPersonales[-1]))#Año de inicio"
      ],
      "metadata": {
        "colab": {
          "base_uri": "https://localhost:8080/"
        },
        "id": "_6eo8vvm-Cl1",
        "outputId": "51c770c4-ab89-4cf1-ce2a-34873a844ce6"
      },
      "id": "_6eo8vvm-Cl1",
      "execution_count": null,
      "outputs": [
        {
          "output_type": "stream",
          "name": "stdout",
          "text": [
            "<class 'int'>\n",
            "<class 'int'>\n",
            "<class 'int'>\n"
          ]
        }
      ]
    },
    {
      "cell_type": "markdown",
      "id": "571681d6",
      "metadata": {
        "id": "571681d6"
      },
      "source": [
        "3. Tomando la lista del ejercicio anterior y la de sus 3 compañeros más proximos, genere una lista base de datos. Que contenga en su interior las 4 listas de datos personales. Luego, implemente un programa que imprima los datos personales de cada persona."
      ]
    },
    {
      "cell_type": "code",
      "execution_count": null,
      "id": "09e896e8",
      "metadata": {
        "id": "09e896e8",
        "colab": {
          "base_uri": "https://localhost:8080/"
        },
        "outputId": "f398233e-f90c-4db0-b32c-1305271e3d06"
      },
      "outputs": [
        {
          "output_type": "stream",
          "name": "stdout",
          "text": [
            "Por favor, ingrese su Nombre: Agustin\n",
            "Por favor, ingrese su Apellido: Leperini\n",
            "Por favor, ingrese su Localidad: Carcarañá\n",
            "Por favor, ingrese su Edad: 30\n",
            "Por favor, ingrese su DNI: 36007849\n",
            "Por favor, ingrese su Carrera en curso: Tecnicatura\n",
            "Por favor, ingrese su Año de inicio de carrera: 2022\n",
            "\n",
            "Muchas gracias por completar el formulario. Usted ingresó los siguientes datos:\n",
            "Nombre: Agustin\n",
            "Apellido: Leperini\n",
            "Localidad: Carcarañá\n",
            "Edad: 30\n",
            "DNI: 36007849\n",
            "Carrera en curso: Tecnicatura\n",
            "Año de inicio de carrera: 2022\n",
            "Por favor, ingrese su Nombre: Franco\n",
            "Por favor, ingrese su Apellido: Leperini\n",
            "Por favor, ingrese su Localidad: Carcarañá\n",
            "Por favor, ingrese su Edad: 30\n",
            "Por favor, ingrese su DNI: 36007848\n",
            "Por favor, ingrese su Carrera en curso: Tecnicatura\n",
            "Por favor, ingrese su Año de inicio de carrera: 2022\n",
            "\n",
            "Muchas gracias por completar el formulario. Usted ingresó los siguientes datos:\n",
            "Nombre: Franco\n",
            "Apellido: Leperini\n",
            "Localidad: Carcarañá\n",
            "Edad: 30\n",
            "DNI: 36007848\n",
            "Carrera en curso: Tecnicatura\n",
            "Año de inicio de carrera: 2022\n",
            "Por favor, ingrese su Nombre: Martin\n",
            "Por favor, ingrese su Apellido: Cavo\n",
            "Por favor, ingrese su Localidad: Rosario\n",
            "Por favor, ingrese su Edad: 31\n",
            "Por favor, ingrese su DNI: 34593748\n",
            "Por favor, ingrese su Carrera en curso: Tecnicatura\n",
            "Por favor, ingrese su Año de inicio de carrera: 2021\n",
            "\n",
            "Muchas gracias por completar el formulario. Usted ingresó los siguientes datos:\n",
            "Nombre: Martin\n",
            "Apellido: Cavo\n",
            "Localidad: Rosario\n",
            "Edad: 31\n",
            "DNI: 34593748\n",
            "Carrera en curso: Tecnicatura\n",
            "Año de inicio de carrera: 2021\n",
            "Por favor, ingrese su Nombre: Roberto\n",
            "Por favor, ingrese su Apellido: Gomez\n",
            "Por favor, ingrese su Localidad: Villa Constitución\n",
            "Por favor, ingrese su Edad: 27\n",
            "Por favor, ingrese su DNI: 38442157\n",
            "Por favor, ingrese su Carrera en curso: Tecnicatura\n",
            "Por favor, ingrese su Año de inicio de carrera: 2022\n",
            "\n",
            "Muchas gracias por completar el formulario. Usted ingresó los siguientes datos:\n",
            "Nombre: Roberto\n",
            "Apellido: Gomez\n",
            "Localidad: Villa Constitución\n",
            "Edad: 27\n",
            "DNI: 38442157\n",
            "Carrera en curso: Tecnicatura\n",
            "Año de inicio de carrera: 2022\n"
          ]
        }
      ],
      "source": [
        "datosPersonales1 = fill_form(form)\n",
        "datosPersonales2 = fill_form(form)\n",
        "datosPersonales3 = fill_form(form)\n",
        "datosPersonales4 = fill_form(form)"
      ]
    },
    {
      "cell_type": "code",
      "source": [
        "def database_lists(*lists:list) -> list:\n",
        "  \"\"\"\n",
        "  Genera una lista compuesta por las listas ingresadas como argumentos.\n",
        "\n",
        "  Parameters\n",
        "  ----------\n",
        "  *lists = non keyword lists\n",
        "    Listas a incluir como elementos de una lista madre.\n",
        "    e.g: datosPersonales1,datosPersonales2\n",
        "\n",
        "  Returns\n",
        "  -------\n",
        "  database = list\n",
        "    Lista con cada elemento como lista ingresadas como argumento.\n",
        "  \"\"\"\n",
        "\n",
        "  database = []\n",
        "  for argument in range(len(lists)):\n",
        "    database.append(lists[argument])\n",
        "  return database"
      ],
      "metadata": {
        "id": "monmroKrADcO"
      },
      "id": "monmroKrADcO",
      "execution_count": null,
      "outputs": []
    },
    {
      "cell_type": "code",
      "source": [
        "database = database_lists(datosPersonales1,datosPersonales2,datosPersonales3,datosPersonales4)\n",
        "database"
      ],
      "metadata": {
        "colab": {
          "base_uri": "https://localhost:8080/"
        },
        "id": "8GfDNo7LCRjw",
        "outputId": "3d3b686b-2e37-4c85-be62-4c455c06a179"
      },
      "id": "8GfDNo7LCRjw",
      "execution_count": null,
      "outputs": [
        {
          "output_type": "execute_result",
          "data": {
            "text/plain": [
              "[['Agustin', 'Leperini', 'Carcarañá', 30, 36007849, 'Tecnicatura', 2022],\n",
              " ['Franco', 'Leperini', 'Carcarañá', 30, 36007848, 'Tecnicatura', 2022],\n",
              " ['Martin', 'Cavo', 'Rosario', 31, 34593748, 'Tecnicatura', 2021],\n",
              " ['Roberto', 'Gomez', 'Villa Constitución', 27, 38442157, 'Tecnicatura', 2022]]"
            ]
          },
          "metadata": {},
          "execution_count": 15
        }
      ]
    },
    {
      "cell_type": "code",
      "source": [
        "# entiendo por datos personales, todos los datos incluidos en \n",
        "# el formulario principal\n",
        "\n",
        "def print_database(form:list,database:list):\n",
        "  \"\"\"\n",
        "  Imprime en pantalla todos los datos de cada elemento de una \n",
        "  base de datos en base a un formulario.\n",
        "\n",
        "  Parameters\n",
        "  ----------\n",
        "  form: list\n",
        "    Lista con campos de datos a ingresar.\n",
        "\n",
        "  database: list\n",
        "    Lista con campos de datos ingresados.\n",
        "  \n",
        "  Returns\n",
        "  -------\n",
        "  Imprime en pantalla \n",
        "  \"\"\"\n",
        "\n",
        "  for student in range(len(database)):\n",
        "    print(f'\\nEstudiante #{student+1}: \\n') \n",
        "    for field in range(len(form)):\n",
        "      print(f'{form[field]}: {database[student][field]} ')"
      ],
      "metadata": {
        "id": "a_z9IY0lCm1R"
      },
      "id": "a_z9IY0lCm1R",
      "execution_count": null,
      "outputs": []
    },
    {
      "cell_type": "code",
      "source": [
        "print_database(form,database)"
      ],
      "metadata": {
        "colab": {
          "base_uri": "https://localhost:8080/"
        },
        "id": "0liv9xbXDaAS",
        "outputId": "84ee1919-2a49-4581-a5e2-caf3e5a3a93a"
      },
      "id": "0liv9xbXDaAS",
      "execution_count": null,
      "outputs": [
        {
          "output_type": "stream",
          "name": "stdout",
          "text": [
            "\n",
            "Estudiante #1: \n",
            "\n",
            "Nombre: Agustin \n",
            "Apellido: Leperini \n",
            "Localidad: Carcarañá \n",
            "Edad: 30 \n",
            "DNI: 36007849 \n",
            "Carrera en curso: Tecnicatura \n",
            "Año de inicio de carrera: 2022 \n",
            "\n",
            "Estudiante #2: \n",
            "\n",
            "Nombre: Franco \n",
            "Apellido: Leperini \n",
            "Localidad: Carcarañá \n",
            "Edad: 30 \n",
            "DNI: 36007848 \n",
            "Carrera en curso: Tecnicatura \n",
            "Año de inicio de carrera: 2022 \n",
            "\n",
            "Estudiante #3: \n",
            "\n",
            "Nombre: Martin \n",
            "Apellido: Cavo \n",
            "Localidad: Rosario \n",
            "Edad: 31 \n",
            "DNI: 34593748 \n",
            "Carrera en curso: Tecnicatura \n",
            "Año de inicio de carrera: 2021 \n",
            "\n",
            "Estudiante #4: \n",
            "\n",
            "Nombre: Roberto \n",
            "Apellido: Gomez \n",
            "Localidad: Villa Constitución \n",
            "Edad: 27 \n",
            "DNI: 38442157 \n",
            "Carrera en curso: Tecnicatura \n",
            "Año de inicio de carrera: 2022 \n"
          ]
        }
      ]
    },
    {
      "cell_type": "markdown",
      "id": "18adbeee",
      "metadata": {
        "id": "18adbeee"
      },
      "source": [
        "#### Tuplas"
      ]
    },
    {
      "cell_type": "markdown",
      "source": [
        "5. Escribir una función donde pida las materias que cursa unx alumnx del TUIA, las almacene en una tupla y la devuelva."
      ],
      "metadata": {
        "id": "uxYxxjT4uAtW"
      },
      "id": "uxYxxjT4uAtW"
    },
    {
      "cell_type": "code",
      "source": [
        "def student_subjects()->tuple:\n",
        "  \"\"\"\n",
        "  Permite ingresar las materias como string de forma individual \n",
        "  hasta presionar la tecla enter. Luego, elimina los espacios adicionales\n",
        "  del/los string/s ingresado/s y lo/s formatea capitalizandolo/s.\n",
        "\n",
        "  Returns\n",
        "  -------\n",
        "  subjects = tuple\n",
        "    Tupla con materias ingresadas. E.g: ('Entorno de programacion', 'Logica')\n",
        "  \"\"\"\n",
        "\n",
        "  subjects = []\n",
        "  print(\n",
        "      f'Bienvenido! Por favor, ingrese las materias que se encuentra '\n",
        "      'cursando de forma individual. En caso que desee finalizar, '\n",
        "      'presione ENTER.'\n",
        "      )\n",
        "  while True:\n",
        "    subject = input(f'Ingrese su materia nro.{len(subjects)+1}: ')\n",
        "    if subject == \"\":\n",
        "      print(f'\\nGracias por ingresar sus materias de cursado. Le deseamos éxitos en su periodo lectivo.')\n",
        "      break\n",
        "    subjects.append(subject.strip().capitalize())\n",
        "  return  tuple(subjects)\n",
        "    "
      ],
      "metadata": {
        "id": "B3Zj_fewQyrx"
      },
      "id": "B3Zj_fewQyrx",
      "execution_count": null,
      "outputs": []
    },
    {
      "cell_type": "code",
      "source": [
        "subjects = student_subjects()\n",
        "print(\n",
        "    f\"\\nEl alumno cursa {len(subjects)} materias:\\n{subjects}\\n\"\n",
        "    f\"Las mismas se encuentran almacenadas en una {type(subjects)}\"\n",
        "    )"
      ],
      "metadata": {
        "colab": {
          "base_uri": "https://localhost:8080/"
        },
        "id": "F02T1xg9jWqQ",
        "outputId": "90f9a9b1-2a23-4adf-8254-7e91f4c3c65a"
      },
      "id": "F02T1xg9jWqQ",
      "execution_count": null,
      "outputs": [
        {
          "output_type": "stream",
          "name": "stdout",
          "text": [
            "Bienvenido! Por favor, ingrese las materias que se encuentra cursando de forma individual. En caso que desee finalizar, presione ENTER.\n",
            "Ingrese su materia nro.1: Lógica \n",
            "Ingrese su materia nro.2:            Programacion I\n",
            "Ingrese su materia nro.3: ENTORNO DE PROGRAMACION\n",
            "Ingrese su materia nro.4: \n",
            "\n",
            "Gracias por ingresar sus materias de cursado. Le deseamos éxitos en su periodo lectivo.\n",
            "\n",
            "El alumno cursa 3 materias:\n",
            "('Lógica', 'Programacion i', 'Entorno de programacion')\n",
            "Las mismas se encuentran almacenadas en una <class 'tuple'>\n"
          ]
        }
      ]
    },
    {
      "cell_type": "markdown",
      "source": [
        "6. A partir del ejercicio anterior, generar 2 tuplas donde se guarden las materias del primer cuatrimestre y del segundo respectivamente. \n",
        "Crear una nueva función que le pida al alumnx las materias que cursa y que le informe si corresponde al primer o segundo cuatrimestre."
      ],
      "metadata": {
        "id": "u4I3bI2uuCbc"
      },
      "id": "u4I3bI2uuCbc"
    },
    {
      "cell_type": "code",
      "source": [
        "four_month_1 = student_subjects()\n",
        "four_month_2 = student_subjects()"
      ],
      "metadata": {
        "colab": {
          "base_uri": "https://localhost:8080/"
        },
        "id": "2PpbxDo8oZkP",
        "outputId": "13d23bd3-305e-409d-91c6-67775768dc9f"
      },
      "id": "2PpbxDo8oZkP",
      "execution_count": null,
      "outputs": [
        {
          "output_type": "stream",
          "name": "stdout",
          "text": [
            "Bienvenido! Por favor, ingrese las materias que se encuentra cursando de forma individual. En caso que desee finalizar, presione ENTER.\n",
            "Ingrese su materia nro.1: Lógica\n",
            "Ingrese su materia nro.2: Matemática\n",
            "Ingrese su materia nro.3: Entorno de Programación\n",
            "Ingrese su materia nro.4: Programación I \n",
            "Ingrese su materia nro.5: Inglés Técnico\n",
            "Ingrese su materia nro.6: \n",
            "\n",
            "Gracias por ingresar sus materias de cursado. Le deseamos éxitos en su periodo lectivo.\n",
            "Bienvenido! Por favor, ingrese las materias que se encuentra cursando de forma individual. En caso que desee finalizar, presione ENTER.\n",
            "Ingrese su materia nro.1: Cálculo \n",
            "Ingrese su materia nro.2: Programación II\n",
            "Ingrese su materia nro.3: Introducción a Inteligencia Artificial\n",
            "Ingrese su materia nro.4: Álgebra\n",
            "Ingrese su materia nro.5: Práctica Social Educativa – Módulo Introductorio\n",
            "Ingrese su materia nro.6: \n",
            "\n",
            "Gracias por ingresar sus materias de cursado. Le deseamos éxitos en su periodo lectivo.\n"
          ]
        }
      ]
    },
    {
      "cell_type": "code",
      "source": [
        "four_month_1"
      ],
      "metadata": {
        "colab": {
          "base_uri": "https://localhost:8080/"
        },
        "id": "Vsgdaauxo7Ni",
        "outputId": "476bb4d4-5dec-417f-9fd0-14b34e268025"
      },
      "id": "Vsgdaauxo7Ni",
      "execution_count": null,
      "outputs": [
        {
          "output_type": "execute_result",
          "data": {
            "text/plain": [
              "('Lógica',\n",
              " 'Matemática',\n",
              " 'Entorno de programación',\n",
              " 'Programación i',\n",
              " 'Inglés técnico')"
            ]
          },
          "metadata": {},
          "execution_count": 146
        }
      ]
    },
    {
      "cell_type": "code",
      "source": [
        "four_month_2"
      ],
      "metadata": {
        "colab": {
          "base_uri": "https://localhost:8080/"
        },
        "id": "dE55YtvBo50r",
        "outputId": "1e47cb98-488b-42d1-cfd4-60f5f47c93a9"
      },
      "id": "dE55YtvBo50r",
      "execution_count": null,
      "outputs": [
        {
          "output_type": "execute_result",
          "data": {
            "text/plain": [
              "('Cálculo',\n",
              " 'Programación ii',\n",
              " 'Introducción a inteligencia artificial',\n",
              " 'Álgebra',\n",
              " 'Práctica social educativa – módulo introductorio')"
            ]
          },
          "metadata": {},
          "execution_count": 147
        }
      ]
    },
    {
      "cell_type": "code",
      "source": [
        "def period_creation (period:str=\"cuatrimestre\",*periods:tuple) -> dict:\n",
        "  \"\"\"\n",
        "  Parameters\n",
        "  ----------\n",
        "  period = str\n",
        "    Perido lectivo en cual se divide el ciclo. E.g: \"Trimestre\", \"Cuatrimestre\".\n",
        "  *periods = tuple\n",
        "\n",
        "  Returns\n",
        "  ------\n",
        "  Dictionary\n",
        "  \"\"\"\n",
        "  # create dictionary with periods and list with student subjects\n",
        "  subjects = {}\n",
        "  for i in range(len(periods)):\n",
        "    value = str(i+1)+\"_\"+str(period.capitalize()) #period name generation\n",
        "    subjects[periods[i]] = value #assigned period name as value and tuple as key\n",
        "  return subjects"
      ],
      "metadata": {
        "id": "zWS9sWmMsA45"
      },
      "id": "zWS9sWmMsA45",
      "execution_count": null,
      "outputs": []
    },
    {
      "cell_type": "code",
      "source": [
        "subjects = period_creation(\"cuatrimestre\",four_month_1,four_month_2)"
      ],
      "metadata": {
        "id": "naSomKyit1Jq"
      },
      "id": "naSomKyit1Jq",
      "execution_count": null,
      "outputs": []
    },
    {
      "cell_type": "code",
      "source": [
        "subjects"
      ],
      "metadata": {
        "colab": {
          "base_uri": "https://localhost:8080/"
        },
        "id": "b61v1a_Et9u_",
        "outputId": "8a6888e1-1a21-43b0-dd34-307f6b226ce3"
      },
      "id": "b61v1a_Et9u_",
      "execution_count": null,
      "outputs": [
        {
          "output_type": "execute_result",
          "data": {
            "text/plain": [
              "{('Lógica',\n",
              "  'Matemática',\n",
              "  'Entorno de programación',\n",
              "  'Programación i',\n",
              "  'Inglés técnico'): '1_Cuatrimestre',\n",
              " ('Cálculo',\n",
              "  'Programación ii',\n",
              "  'Introducción a inteligencia artificial',\n",
              "  'Álgebra',\n",
              "  'Práctica social educativa – módulo introductorio'): '2_Cuatrimestre'}"
            ]
          },
          "metadata": {},
          "execution_count": 151
        }
      ]
    },
    {
      "cell_type": "code",
      "source": [
        "def check_subject_period (subjects:dict) -> str:\n",
        "  \"\"\"\n",
        "  Parameters\n",
        "  ----------\n",
        "  Returns\n",
        "  ------\n",
        "  \"\"\"\n",
        "  print(\n",
        "      f'Bienvenido al listado de materias de TUIA!'\n",
        "      f'Podrás conocer a qué periodo lectivo pertenece las materias que cursas.'\n",
        "      f'\\nPara finalizar, presione la tecla ENTER.'\n",
        "      )\n",
        "  student_subjects = []\n",
        "  while True:\n",
        "    subject = input(f'Por, favor ingrese su materia #{len(student_subjects)+1}: ')\n",
        "    if subject == \"\" and len(student_subjects) == 0:\n",
        "      print(f'\\nDebe ingresar al menos una materia para realizar su consulta.')\n",
        "      continue\n",
        "    elif subject == \"\" and len(student_subjects)> 0:\n",
        "      print(f'\\nGracias por ingresar sus materias de cursado. Le deseamos éxitos en su periodo lectivo.')\n",
        "      break\n",
        "    else:\n",
        "        for subjects_tuple in subjects:\n",
        "          if subject.capitalize() in subjects_tuple:\n",
        "            student_subjects.append(subject)\n",
        "            break\n",
        "  for subject in student_subjects:\n",
        "    for subjects_tuple in subjects:\n",
        "      if subject in subjects_tuple:\n",
        "        print(f'{subject} pertenece al {subjects[subjects_tuple]}')\n",
        "        break"
      ],
      "metadata": {
        "id": "JiGqWiDeaknF"
      },
      "id": "JiGqWiDeaknF",
      "execution_count": null,
      "outputs": []
    },
    {
      "cell_type": "code",
      "source": [
        "check_subject_period(subjects)"
      ],
      "metadata": {
        "colab": {
          "base_uri": "https://localhost:8080/"
        },
        "id": "1Co4h0awbL-6",
        "outputId": "4d048292-ef11-41a5-d812-3cb7bde33d5b"
      },
      "id": "1Co4h0awbL-6",
      "execution_count": null,
      "outputs": [
        {
          "output_type": "stream",
          "name": "stdout",
          "text": [
            "Bienvenido al listado de materias de TUIA!Podrás conocer a qué periodo lectivo pertenece las materias que cursas.\n",
            "Para finalizar, presione la tecla ENTER.\n",
            "Por, favor ingrese su materia #1: Lógica\n",
            "Por, favor ingrese su materia #2: Matemática\n",
            "Por, favor ingrese su materia #3: Álgebra\n",
            "Por, favor ingrese su materia #4: Cálculo\n",
            "Por, favor ingrese su materia #5: \n",
            "\n",
            "Gracias por ingresar sus materias de cursado. Le deseamos éxitos en su periodo lectivo.\n",
            "Lógica pertenece al 1_Cuatrimestre\n",
            "Matemática pertenece al 1_Cuatrimestre\n",
            "Álgebra pertenece al 2_Cuatrimestre\n",
            "Cálculo pertenece al 2_Cuatrimestre\n"
          ]
        }
      ]
    },
    {
      "cell_type": "markdown",
      "id": "806981fb",
      "metadata": {
        "id": "806981fb"
      },
      "source": [
        "#### Diccionarios"
      ]
    },
    {
      "cell_type": "markdown",
      "source": [
        "7. Crear un diccionario de la lista de precios de una verdulería. "
      ],
      "metadata": {
        "id": "cbNjBJC9zFS3"
      },
      "id": "cbNjBJC9zFS3"
    },
    {
      "cell_type": "code",
      "source": [
        "grocery_prices = {\n",
        "    \"Banana\": 100,\n",
        "    \"Manzana\": 80,\n",
        "    \"Cebolla\": 50,\n",
        "    \"Pera\": 110,\n",
        "    \"Zapallo\": 120\n",
        "}"
      ],
      "metadata": {
        "id": "nVXK9JR5zRp9"
      },
      "id": "nVXK9JR5zRp9",
      "execution_count": null,
      "outputs": []
    },
    {
      "cell_type": "markdown",
      "source": [
        "8. A partir del diccionario anterior, imprimir en la pantalla el nombre de la fruta/verdura con su correspondiente precio."
      ],
      "metadata": {
        "id": "GQq19546zToD"
      },
      "id": "GQq19546zToD"
    },
    {
      "cell_type": "code",
      "source": [
        "print(f'Lista de precios verduleria:\\n')\n",
        "for product,price in grocery_prices.items():\n",
        "  print(f'{product}: ${price}')"
      ],
      "metadata": {
        "id": "NOo9bmdazsa7",
        "colab": {
          "base_uri": "https://localhost:8080/"
        },
        "outputId": "4de3c262-e38c-44aa-eed9-069ea61170e8"
      },
      "id": "NOo9bmdazsa7",
      "execution_count": null,
      "outputs": [
        {
          "output_type": "stream",
          "name": "stdout",
          "text": [
            "Lista de precios verduleria:\n",
            "\n",
            "Banana: $100\n",
            "Manzana: $80\n",
            "Cebolla: $50\n",
            "Pera: $110\n",
            "Zapallo: $120\n"
          ]
        }
      ]
    },
    {
      "cell_type": "markdown",
      "source": [
        "9. Utilizando el diccionario anterior, pedirle al usuario que ingrese una fruta/verdura y que indique su precio. Si no hay en stock avisarle al cliente."
      ],
      "metadata": {
        "id": "mY7bF_Auzs7u"
      },
      "id": "mY7bF_Auzs7u"
    },
    {
      "cell_type": "code",
      "source": [
        "# entiendo, segun el enunciado, que si el producto no tiene stock, no  \n",
        "# debe encontrarse en el diccionario\n",
        "def how_much(products:dict) -> float/None:\n",
        "  \"\"\"\n",
        "  Segun una lista de precios ingresada como argumento, solicita al\n",
        "  usuario el nombre de un producto y, si el mismo se encuentra\n",
        "  dentro de la lista, imprime y devuelve su precio. De lo contrario,\n",
        "  si no se encuentra, imprime un mensaje de no disponibilidad y\n",
        "  devuelve None.\n",
        "\n",
        "  Parameters\n",
        "  ----------\n",
        "  products = dict\n",
        "    Diccionario con lista de precios de productos.\n",
        "\n",
        "  Returns\n",
        "  -------\n",
        "  result = float/None\n",
        "    Si el producto existe, devuelve el valor como float. De lo \n",
        "    contrario, devuelve Nonetype. \n",
        "  \"\"\"\n",
        "\n",
        "  product = input(\"Por favor, ingrese el producto que desea consultar: \")\n",
        "  product = product.strip().capitalize()\n",
        "  result = products.get(product)\n",
        "  if result == None:\n",
        "    print(f'El producto ingresado: {product} no se encuentra disponible.')\n",
        "  else:\n",
        "    print(f'El producto ingresado: {product} cuesta ${result}.')\n",
        "  return result"
      ],
      "metadata": {
        "id": "isXXMDeuQsVu"
      },
      "id": "isXXMDeuQsVu",
      "execution_count": null,
      "outputs": []
    },
    {
      "cell_type": "code",
      "source": [
        "pomelo = how_much(grocery_prices)"
      ],
      "metadata": {
        "colab": {
          "base_uri": "https://localhost:8080/"
        },
        "id": "bxRl8-GmS0Tm",
        "outputId": "7d841b40-e04c-4921-e00e-fa6374c7e4a3"
      },
      "id": "bxRl8-GmS0Tm",
      "execution_count": null,
      "outputs": [
        {
          "output_type": "stream",
          "name": "stdout",
          "text": [
            "Por favor, ingrese el producto que desea consultar:     POMELO\n",
            "El producto ingresado: Pomelo no se encuentra disponible.\n"
          ]
        }
      ]
    },
    {
      "cell_type": "code",
      "source": [
        "print(pomelo)"
      ],
      "metadata": {
        "colab": {
          "base_uri": "https://localhost:8080/"
        },
        "id": "dn2hYksAUn1m",
        "outputId": "35e13f2f-f16d-4e97-b767-49212cfb801b"
      },
      "id": "dn2hYksAUn1m",
      "execution_count": null,
      "outputs": [
        {
          "output_type": "stream",
          "name": "stdout",
          "text": [
            "None\n"
          ]
        }
      ]
    },
    {
      "cell_type": "code",
      "source": [
        "banana = how_much(grocery_prices)"
      ],
      "metadata": {
        "colab": {
          "base_uri": "https://localhost:8080/"
        },
        "id": "aVIYY1TOS8l_",
        "outputId": "43320d9f-3276-442b-f7ac-9eca94c17ee6"
      },
      "id": "aVIYY1TOS8l_",
      "execution_count": null,
      "outputs": [
        {
          "output_type": "stream",
          "name": "stdout",
          "text": [
            "Por favor, ingrese el producto que desea consultar:         banana\n",
            "El producto ingresado: Banana cuesta $100.\n"
          ]
        }
      ]
    },
    {
      "cell_type": "code",
      "source": [
        "print(banana)"
      ],
      "metadata": {
        "colab": {
          "base_uri": "https://localhost:8080/"
        },
        "id": "K5bJGmNETDIs",
        "outputId": "507118e3-dcbf-4b7a-fc7d-65c13a48d253"
      },
      "id": "K5bJGmNETDIs",
      "execution_count": null,
      "outputs": [
        {
          "output_type": "stream",
          "name": "stdout",
          "text": [
            "100\n"
          ]
        }
      ]
    },
    {
      "cell_type": "markdown",
      "id": "eea999dc",
      "metadata": {
        "id": "eea999dc"
      },
      "source": [
        "\n",
        "10. Escribir una primer función que pida el nombre y 3 notas de unx alumnx, devuelva el nombre y una lista con las notas. \n",
        "Llamar dicha función tantas veces como alumnos haya y crear un diccionario donde la clave sea el nombre del estudiante y el valor la lista de sus notas.\n",
        "Por último, calcular el promedio de cada unx y mostrarlo en pantalla.\n",
        "\n",
        "Por ejemplo para \n",
        "    \n",
        "    alumnos = { \" Juan \" : [6 ,9 ,8] , \" Manuel \" : [9 ,10 ,9] , \" Martin \" : [5 ,6 ,7]}\n",
        "\n",
        "\n",
        "Debería mostrar:\n",
        "<dd>El promedio de Juan es 7.666666</dd>\n",
        "<dd>El promedio de Manuel es 9.333333</dd>\n",
        "<dd>El promedio de Martin es 6</dd>"
      ]
    },
    {
      "cell_type": "markdown",
      "source": [
        "1er parte: Funcion para pedir el nombre y 3 notas por alumno. "
      ],
      "metadata": {
        "id": "i5xujvHrojC5"
      },
      "id": "i5xujvHrojC5"
    },
    {
      "cell_type": "code",
      "source": [
        "def student_grades(quant_grades:int=3) -> str and list:\n",
        "  \"\"\"\n",
        "  Solicita el nombre y 3 notas del 0 al 10 del alumno ingresado.\n",
        "  Luego, devuelve el nombre como string y las notas en una lista.\n",
        "\n",
        "  Parameters\n",
        "  ----------\n",
        "  quant_grades = int\n",
        "    Cantidad de notas a ingresar por alumno. Valor por defecto: 3\n",
        "\n",
        "  Returns\n",
        "  -------\n",
        "  student_name = str  -> primer salida\n",
        "    Nombre del alumno ingresado.\n",
        "\n",
        "  student_grades = list -> segunda salida\n",
        "    Lista con cantidad de notas del alumno.\n",
        "  \"\"\"\n",
        "  \n",
        "  student_name = input(\"Por favor, ingrese el nombre del alumno: \")\n",
        "  student_name = student_name.strip().capitalize()\n",
        "  \n",
        "  student_grades = []\n",
        "  for i in range(quant_grades):\n",
        "    while True:\n",
        "      grade = input(f'Ingrese la #{i+1} nota: ')\n",
        "      try:\n",
        "        grade = int(grade)\n",
        "      except:\n",
        "        print(\n",
        "            f'Usted ha ingresado \"{grade}\". Asegúrese de ingresar un valor ' \n",
        "            f'numérico entre el 0 y el 10.'\n",
        "            )\n",
        "        continue\n",
        "      if grade<0 or grade>10:\n",
        "        print(\n",
        "          f'Usted ha ingresado \"{grade}\". Asegúrese de ingresar un valor ' \n",
        "          f'numérico entre el 0 y el 10.'\n",
        "          )\n",
        "        continue\n",
        "      break\n",
        "    student_grades.append(grade)\n",
        "  \n",
        "  return student_name, student_grades"
      ],
      "metadata": {
        "id": "4SafvNynwoj_"
      },
      "id": "4SafvNynwoj_",
      "execution_count": null,
      "outputs": []
    },
    {
      "cell_type": "code",
      "source": [
        "student_name_1 , student_grades_1 = student_grades()\n",
        "student_name_2 , student_grades_2 = student_grades()\n",
        "student_name_3 , student_grades_3 = student_grades()"
      ],
      "metadata": {
        "colab": {
          "base_uri": "https://localhost:8080/"
        },
        "id": "6UnC9esqab5Z",
        "outputId": "39455616-275d-45a3-ec7a-4d3616a9f8d9"
      },
      "id": "6UnC9esqab5Z",
      "execution_count": null,
      "outputs": [
        {
          "name": "stdout",
          "output_type": "stream",
          "text": [
            "Por favor, ingrese el nombre del alumno:      AGUSTIN\n",
            "Ingrese la #1 nota: cinco\n",
            "Usted ha ingresado \"cinco\". Asegúrese de ingresar un valor numérico entre el 0 y el 10.\n",
            "Ingrese la #1 nota: 5\n",
            "Ingrese la #2 nota: 8\n",
            "Ingrese la #3 nota: 11\n",
            "Usted ha ingresado \"11\". Asegúrese de ingresar un valor numérico entre el 0 y el 10.\n",
            "Ingrese la #3 nota: 10\n",
            "Por favor, ingrese el nombre del alumno: roberto     \n",
            "Ingrese la #1 nota: 10\n",
            "Ingrese la #2 nota: 4\n",
            "Ingrese la #3 nota: 8\n",
            "Por favor, ingrese el nombre del alumno: Martin\n",
            "Ingrese la #1 nota: 7\n",
            "Ingrese la #2 nota: 6\n",
            "Ingrese la #3 nota: 7\n"
          ]
        }
      ]
    },
    {
      "cell_type": "markdown",
      "source": [
        "Comprobación de resultados de la función"
      ],
      "metadata": {
        "id": "eAbITxi4dEpY"
      },
      "id": "eAbITxi4dEpY"
    },
    {
      "cell_type": "code",
      "source": [
        "print(student_name_1)\n",
        "print(student_grades_1)"
      ],
      "metadata": {
        "colab": {
          "base_uri": "https://localhost:8080/"
        },
        "id": "LFLEJFWxcOGr",
        "outputId": "090cd232-e20c-4c42-9e9e-d5f4dbf0660d"
      },
      "id": "LFLEJFWxcOGr",
      "execution_count": null,
      "outputs": [
        {
          "output_type": "stream",
          "name": "stdout",
          "text": [
            "Agustin\n",
            "[5, 8, 10]\n"
          ]
        }
      ]
    },
    {
      "cell_type": "code",
      "source": [
        "print(student_name_2)\n",
        "print(student_grades_2)"
      ],
      "metadata": {
        "colab": {
          "base_uri": "https://localhost:8080/"
        },
        "id": "SurELOFadAdW",
        "outputId": "79f79fef-f2b6-4972-9d5c-49ed4aa660f8"
      },
      "id": "SurELOFadAdW",
      "execution_count": null,
      "outputs": [
        {
          "output_type": "stream",
          "name": "stdout",
          "text": [
            "Roberto\n",
            "[10, 4, 8]\n"
          ]
        }
      ]
    },
    {
      "cell_type": "code",
      "source": [
        "print(student_name_3)\n",
        "print(student_grades_3)"
      ],
      "metadata": {
        "colab": {
          "base_uri": "https://localhost:8080/"
        },
        "id": "Gn6sdkUudCLt",
        "outputId": "5a17d4a9-bd32-4ffe-fb28-ebc2c5fa4e83"
      },
      "id": "Gn6sdkUudCLt",
      "execution_count": null,
      "outputs": [
        {
          "output_type": "stream",
          "name": "stdout",
          "text": [
            "Martin\n",
            "[7, 6, 7]\n"
          ]
        }
      ]
    },
    {
      "cell_type": "markdown",
      "source": [
        "2da parte: Funcion para crear un diccionario con todas las notas por nombre de alumnos. "
      ],
      "metadata": {
        "id": "BWscKnV0ozMh"
      },
      "id": "BWscKnV0ozMh"
    },
    {
      "cell_type": "code",
      "source": [
        "def database_dict (*names:str,**grades:list) -> dict:\n",
        "  \"\"\"\n",
        "  Crea un diccionario donde la clave es el nombre del estudiante \n",
        "  y el valor la lista de sus notas.\n",
        "\n",
        "  Paramters\n",
        "  ---------\n",
        "  *names = str\n",
        "    Nombres de los alumnos. e.g: Agustin\n",
        "  \n",
        "  **grades = list\n",
        "    Lista con nota del alumno. e.g: [5, 8, 10]\n",
        "\n",
        "  Returns\n",
        "  -------\n",
        "  database = dict\n",
        "    Diccionario donde la clave es el nombre del estudiante \n",
        "    y el valor la lista de sus notas.e.g: {'Agustin': [5, 8, 10]}\n",
        "  \"\"\"\n",
        "\n",
        "  database = {}\n",
        "  index = 0\n",
        "  for name,grades in grades.items():\n",
        "    name = names[index]\n",
        "    database[name] = grades\n",
        "    index += 1\n",
        "  return database"
      ],
      "metadata": {
        "id": "kD9MXUGEe0I2"
      },
      "id": "kD9MXUGEe0I2",
      "execution_count": null,
      "outputs": []
    },
    {
      "cell_type": "code",
      "source": [
        "students_grades = database_dict(student_name_1,student_name_2,student_name_3,student_name_1=student_grades_1,student_name_2=student_grades_2,student_name_3=student_grades_3)\n",
        "students_grades"
      ],
      "metadata": {
        "colab": {
          "base_uri": "https://localhost:8080/"
        },
        "id": "YwmtzM61fKDQ",
        "outputId": "aaf6a6c2-78a3-49ff-fbc1-1d44fc172f3d"
      },
      "id": "YwmtzM61fKDQ",
      "execution_count": null,
      "outputs": [
        {
          "output_type": "execute_result",
          "data": {
            "text/plain": [
              "{'Agustin': [5, 8, 10], 'Roberto': [10, 4, 8], 'Martin': [7, 6, 7]}"
            ]
          },
          "metadata": {},
          "execution_count": 64
        }
      ]
    },
    {
      "cell_type": "markdown",
      "source": [
        "3ra parte: Funcion para calcular el promedio por alumno y mostrarlo."
      ],
      "metadata": {
        "id": "iGPACQBSo9S5"
      },
      "id": "iGPACQBSo9S5"
    },
    {
      "cell_type": "code",
      "source": [
        "def grades_average (students_grades:dict) -> dict:\n",
        "  \"\"\"\n",
        "  Calcula el promedio de los valores por cada clave del diccionario\n",
        "  ingresado como argumento.\n",
        "\n",
        "  Parameters\n",
        "  ----------\n",
        "  student_grades = dict\n",
        "    Diccionario que contenga str como clave y una lista con valores numéricos.\n",
        "  \n",
        "  Returns\n",
        "  -------\n",
        "  average_dict = dict\n",
        "    Diccionario que contiene la misma clave siendo su valor reemplazado\n",
        "    por el promedio del listado de valores numéricos. \n",
        "  \"\"\"\n",
        "\n",
        "  average_dict = {}\n",
        "  for name,grades in students_grades.items():\n",
        "    average = round(sum(grades)/len(grades),2)\n",
        "    average_dict[name] = average\n",
        "    print(f'{name} posee una nota promedio de {average}')\n",
        "  return average_dict"
      ],
      "metadata": {
        "id": "H9-c8s5fiDll"
      },
      "id": "H9-c8s5fiDll",
      "execution_count": null,
      "outputs": []
    },
    {
      "cell_type": "code",
      "source": [
        "students_average = grades_average(students_grades)"
      ],
      "metadata": {
        "colab": {
          "base_uri": "https://localhost:8080/"
        },
        "id": "6U5ryaPjjFJD",
        "outputId": "7b12aa2c-5a2b-44c0-e188-6f95e39512e0"
      },
      "id": "6U5ryaPjjFJD",
      "execution_count": null,
      "outputs": [
        {
          "output_type": "stream",
          "name": "stdout",
          "text": [
            "Agustin posee una nota promedio de 7.67\n",
            "Roberto posee una nota promedio de 7.33\n",
            "Martin posee una nota promedio de 6.67\n"
          ]
        }
      ]
    },
    {
      "cell_type": "code",
      "source": [
        "students_average"
      ],
      "metadata": {
        "colab": {
          "base_uri": "https://localhost:8080/"
        },
        "id": "9L2PJ7o9sA8w",
        "outputId": "f55f278c-7275-441b-f8c2-4cd51ddc4072"
      },
      "id": "9L2PJ7o9sA8w",
      "execution_count": null,
      "outputs": [
        {
          "output_type": "execute_result",
          "data": {
            "text/plain": [
              "{'Agustin': 7.67, 'Roberto': 7.33, 'Martin': 6.67}"
            ]
          },
          "metadata": {},
          "execution_count": 69
        }
      ]
    },
    {
      "cell_type": "markdown",
      "id": "b133b714",
      "metadata": {
        "id": "b133b714"
      },
      "source": [
        "11. Cartas como diccionario.\n",
        "<dl>\n",
        "<dd>a. Proponer una representación con diccionarios para un mazo completo de cartas.</dd>\n",
        "<dd>b. Escribir una función de poker que baraje cinco cartas de la baraja francesa e informe (devuelva\n",
        "el valor lógico correspondiente) si esas cartas forman o no un poker (es decir que hay 4 cartas con\n",
        "el mismo número).</dd>\n",
        "</dl>"
      ]
    },
    {
      "cell_type": "code",
      "execution_count": null,
      "id": "77a04057",
      "metadata": {
        "id": "77a04057"
      },
      "outputs": [],
      "source": [
        "def french_deck () -> dict:\n",
        "  \"\"\"\n",
        "  Genera un mazo de barajas francesas donde la clave \n",
        "  corresponde a uno de los 4 simbolos diferentes, mientras que los valores\n",
        "  de cada uno varian en el rango del 1 - 13, siendo 2-10 valores numericos y \n",
        "  los restantes 1(az),11(jota),12(rey). \n",
        "\n",
        "  Returns\n",
        "  -------\n",
        "  deck = dict\n",
        "    Mazo de barajas representado como diccionario.\n",
        "  \"\"\"\n",
        "  \n",
        "  deck = {}\n",
        "  suits = \"trébol\",\"diamantes\",\"corazones\",\"picas\"\n",
        "  values = []\n",
        "\n",
        "  for suit in suits:\n",
        "    deck[suit] = values\n",
        "  for value in range(1,14):\n",
        "    values.append(value)\n",
        "\n",
        "  print(f'Felicidades! Ha creado su mazo de poker {len(deck)*len(deck[\"trébol\"])} cartas. Espero lo disfrute!')\n",
        "  return deck"
      ]
    },
    {
      "cell_type": "code",
      "source": [
        "deck = french_deck()"
      ],
      "metadata": {
        "colab": {
          "base_uri": "https://localhost:8080/"
        },
        "id": "XErG6_OEvGyB",
        "outputId": "e3c00947-29df-4ad5-b70d-974d0bba4458"
      },
      "id": "XErG6_OEvGyB",
      "execution_count": null,
      "outputs": [
        {
          "output_type": "stream",
          "name": "stdout",
          "text": [
            "Felicidades! Ha creado su mazo de poker 52 cartas. Espero lo disfrute!\n"
          ]
        }
      ]
    },
    {
      "cell_type": "code",
      "source": [
        "deck"
      ],
      "metadata": {
        "colab": {
          "base_uri": "https://localhost:8080/"
        },
        "id": "3TdmDRYevenB",
        "outputId": "f29ddd6a-3102-4a6e-a19c-9c1bc3a6c630"
      },
      "id": "3TdmDRYevenB",
      "execution_count": null,
      "outputs": [
        {
          "output_type": "execute_result",
          "data": {
            "text/plain": [
              "{'trébol': [1, 2, 3, 4, 5, 6, 7, 8, 9, 10, 11, 12, 13],\n",
              " 'diamantes': [1, 2, 3, 4, 5, 6, 7, 8, 9, 10, 11, 12, 13],\n",
              " 'corazones': [1, 2, 3, 4, 5, 6, 7, 8, 9, 10, 11, 12, 13],\n",
              " 'picas': [1, 2, 3, 4, 5, 6, 7, 8, 9, 10, 11, 12, 13]}"
            ]
          },
          "metadata": {},
          "execution_count": 138
        }
      ]
    },
    {
      "cell_type": "code",
      "source": [
        "import random\n",
        "import time\n",
        "def random_deal_poker(deck:dict) -> bool and dict:\n",
        "    \"\"\"\n",
        "    Elige cinco cartas de forma aleatoria de la baraja francesa ingresada \n",
        "    como argumento y retorna un booleano identificando si esas cartas forman \n",
        "    o no poker y el mazo de cartas restantes.\n",
        "\n",
        "    Parameters\n",
        "    ----------\n",
        "    deck = dict\n",
        "      Diccionario representando baraja de cartas francesa.\n",
        "\n",
        "    Returns\n",
        "    -------\n",
        "    bool = True/False\n",
        "      Dependiendo si forma o no poker.\n",
        "\n",
        "    deck = dict\n",
        "      Diccionario con mazo de cartas restantes.\n",
        "    \"\"\"\n",
        "    \n",
        "    suits = \"trébol\",\"diamantes\",\"corazones\",\"picas\"\n",
        "    values = []\n",
        "    \n",
        "    #Barajado y generacion de carta\n",
        "    print(\"Bienvenido al generador de baraja de poker! Que tenga mucha suerte!\")\n",
        "    print(\"Barajando..\")\n",
        "    time.sleep(3)\n",
        "    for card in range(5):\n",
        "      time.sleep(2)\n",
        "      while True: \n",
        "        suit = random.choice(suits)\n",
        "        value = random.randint(1,13)\n",
        "        if value in deck[suit]: #verificacion si la carta se encuentra en el mazo\n",
        "          values.append(value)\n",
        "          break\n",
        "        else:\n",
        "          continue #en caso que la carta no se encuentre, genera una nueva\n",
        "      print(f'#{card+1} carta: {value} de {suit}')\n",
        "      #remover la carta del mazo una vez barajada\n",
        "      deck[suit] = list(set(deck[suit])-set([value]))\n",
        "    \n",
        "    #calculo de cartas restantes\n",
        "    cards = 0\n",
        "    for key,value in deck.items():\n",
        "      cards += len(value)\n",
        "     \n",
        "    #verificacion de poker  \n",
        "    for value in values:\n",
        "      occurrences = values.count(value)\n",
        "      if occurrences>=4:\n",
        "        print('Felicitaciones! Ha conseguido poker!')\n",
        "        print(f'\\nEl mazo posee {cards} cartas restantes')\n",
        "        return True , deck\n",
        "      else:\n",
        "        print(f'Lamentablemente no ha conseguido poker. Vuelva a intentarlo.')\n",
        "        print(f'\\nEl mazo posee {cards} cartas restantes')\n",
        "        return False , deck\n",
        "    \n"
      ],
      "metadata": {
        "id": "UpISvzzlxrWj"
      },
      "id": "UpISvzzlxrWj",
      "execution_count": null,
      "outputs": []
    },
    {
      "cell_type": "code",
      "source": [
        "poker,deck = random_deal_poker(deck)"
      ],
      "metadata": {
        "colab": {
          "base_uri": "https://localhost:8080/"
        },
        "id": "EMajiQLOzX39",
        "outputId": "3119b664-0e15-4dbe-e430-485dd5e10d99"
      },
      "id": "EMajiQLOzX39",
      "execution_count": null,
      "outputs": [
        {
          "output_type": "stream",
          "name": "stdout",
          "text": [
            "Bienvenido al generador de baraja de poker! Que tenga mucha suerte!\n",
            "Barajando..\n",
            "#1 carta: 9 de trébol\n",
            "#2 carta: 13 de corazones\n",
            "#3 carta: 10 de diamantes\n",
            "#4 carta: 12 de diamantes\n",
            "#5 carta: 1 de picas\n",
            "Lamentablemente no ha conseguido poker. Vuelva a intentarlo.\n",
            "\n",
            "El mazo posee 47 cartas restantes\n"
          ]
        }
      ]
    },
    {
      "cell_type": "code",
      "source": [
        "poker"
      ],
      "metadata": {
        "colab": {
          "base_uri": "https://localhost:8080/"
        },
        "id": "DTG_77yO57Sw",
        "outputId": "4a72e4ca-f631-49a0-d791-6c18eea516b3"
      },
      "id": "DTG_77yO57Sw",
      "execution_count": null,
      "outputs": [
        {
          "output_type": "execute_result",
          "data": {
            "text/plain": [
              "False"
            ]
          },
          "metadata": {},
          "execution_count": 141
        }
      ]
    },
    {
      "cell_type": "code",
      "source": [
        "deck"
      ],
      "metadata": {
        "colab": {
          "base_uri": "https://localhost:8080/"
        },
        "id": "55Q2bmxnAj7Z",
        "outputId": "a973d54d-1ef4-4720-d6f6-05321a21f4ac"
      },
      "id": "55Q2bmxnAj7Z",
      "execution_count": null,
      "outputs": [
        {
          "output_type": "execute_result",
          "data": {
            "text/plain": [
              "{'trébol': [1, 2, 3, 4, 5, 6, 7, 8, 10, 11, 12, 13],\n",
              " 'diamantes': [1, 2, 3, 4, 5, 6, 7, 8, 9, 11, 13],\n",
              " 'corazones': [1, 2, 3, 4, 5, 6, 7, 8, 9, 10, 11, 12],\n",
              " 'picas': [2, 3, 4, 5, 6, 7, 8, 9, 10, 11, 12, 13]}"
            ]
          },
          "metadata": {},
          "execution_count": 142
        }
      ]
    },
    {
      "cell_type": "markdown",
      "source": [
        "Curioso problema que me topé al tratar de remover las cartas barajadas del mazo original para que no se repitan.\n",
        "Probé con los 3 métodos para eliminar un valor de una lista:\n",
        "\n",
        "\n",
        "*   remove()\n",
        "``\n",
        "deck[\"trébol\"].remove(4)\n",
        "``\n",
        "*   pop()\n",
        "``\n",
        "deck[\"trébol\"].pop(deck[\"trébol\"].index(2))\n",
        "``\n",
        "*  del \n",
        "``\n",
        "del deck[\"trébol\"][deck[\"trébol\"].index(1)]\n",
        "``\n",
        "\n",
        "En todos los casos me eliminaba ese mismo valor en todos los listados, por lo que conseguir poker se hace imposible. Por ejemplo, si sacaba el 4 de trébol, el mazo quedaba sin 4 en su totalidad porque esos métodos me eliminaban adicionalmente el 4 de picas, corazones y diamantes.\n",
        "Entonces, encontré la solución remplazando el valor de esa key por un nuevo listado, calculando el mismo como la diferencia entre su estado anterior menos el valor barajado con la estructura de los sets.\n"
      ],
      "metadata": {
        "id": "BnEKFcqgGc6G"
      },
      "id": "BnEKFcqgGc6G"
    },
    {
      "cell_type": "markdown",
      "source": [
        "Ejemplo de problemática"
      ],
      "metadata": {
        "id": "62vDrfnwLnws"
      },
      "id": "62vDrfnwLnws"
    },
    {
      "cell_type": "code",
      "source": [
        "deck"
      ],
      "metadata": {
        "colab": {
          "base_uri": "https://localhost:8080/"
        },
        "id": "fblrCVOQHfj8",
        "outputId": "90c10044-96a9-4e01-9f8c-cfef7a319164"
      },
      "id": "fblrCVOQHfj8",
      "execution_count": null,
      "outputs": [
        {
          "output_type": "execute_result",
          "data": {
            "text/plain": [
              "{'trébol': [1, 2, 3, 4, 5, 6, 7, 8, 9, 10, 11, 12, 13],\n",
              " 'diamantes': [1, 2, 3, 4, 5, 6, 7, 8, 9, 10, 11, 12, 13],\n",
              " 'corazones': [1, 2, 3, 4, 5, 6, 7, 8, 9, 10, 11, 12, 13],\n",
              " 'picas': [1, 2, 3, 4, 5, 6, 7, 8, 9, 10, 11, 12, 13]}"
            ]
          },
          "metadata": {},
          "execution_count": 113
        }
      ]
    },
    {
      "cell_type": "code",
      "source": [
        "#4 de trebol\n",
        "deck[\"trébol\"].remove(4)\n",
        "deck"
      ],
      "metadata": {
        "colab": {
          "base_uri": "https://localhost:8080/"
        },
        "id": "vwlVbargFCfY",
        "outputId": "3f5b6114-bfc7-4560-cdbe-7594e2c2cdd4"
      },
      "id": "vwlVbargFCfY",
      "execution_count": null,
      "outputs": [
        {
          "output_type": "execute_result",
          "data": {
            "text/plain": [
              "{'trébol': [1, 2, 3, 5, 6, 7, 8, 9, 10, 11, 12, 13],\n",
              " 'diamantes': [1, 2, 3, 5, 6, 7, 8, 9, 10, 11, 12, 13],\n",
              " 'corazones': [1, 2, 3, 5, 6, 7, 8, 9, 10, 11, 12, 13],\n",
              " 'picas': [1, 2, 3, 5, 6, 7, 8, 9, 10, 11, 12, 13]}"
            ]
          },
          "metadata": {},
          "execution_count": 114
        }
      ]
    },
    {
      "cell_type": "code",
      "source": [
        "#2 de trebol\n",
        "deck[\"trébol\"].pop(deck[\"trébol\"].index(2))\n",
        "deck"
      ],
      "metadata": {
        "colab": {
          "base_uri": "https://localhost:8080/"
        },
        "id": "mA4-7Ist_rAn",
        "outputId": "1fb50067-0086-4059-f355-faa3a506dd32"
      },
      "id": "mA4-7Ist_rAn",
      "execution_count": null,
      "outputs": [
        {
          "output_type": "execute_result",
          "data": {
            "text/plain": [
              "{'trébol': [1, 3, 5, 6, 7, 8, 9, 10, 11, 12, 13],\n",
              " 'diamantes': [1, 3, 5, 6, 7, 8, 9, 10, 11, 12, 13],\n",
              " 'corazones': [1, 3, 5, 6, 7, 8, 9, 10, 11, 12, 13],\n",
              " 'picas': [1, 3, 5, 6, 7, 8, 9, 10, 11, 12, 13]}"
            ]
          },
          "metadata": {},
          "execution_count": 115
        }
      ]
    },
    {
      "cell_type": "code",
      "source": [
        "#Az de trébol\n",
        "del deck[\"trébol\"][deck[\"trébol\"].index(1)]\n",
        "deck"
      ],
      "metadata": {
        "colab": {
          "base_uri": "https://localhost:8080/"
        },
        "id": "CtSALswnDbPx",
        "outputId": "eb74b7c5-fc21-4e7d-e1e5-b82e22b5f882"
      },
      "id": "CtSALswnDbPx",
      "execution_count": null,
      "outputs": [
        {
          "output_type": "execute_result",
          "data": {
            "text/plain": [
              "{'trébol': [3, 5, 6, 7, 8, 9, 10, 11, 12, 13],\n",
              " 'diamantes': [3, 5, 6, 7, 8, 9, 10, 11, 12, 13],\n",
              " 'corazones': [3, 5, 6, 7, 8, 9, 10, 11, 12, 13],\n",
              " 'picas': [3, 5, 6, 7, 8, 9, 10, 11, 12, 13]}"
            ]
          },
          "metadata": {},
          "execution_count": 116
        }
      ]
    },
    {
      "cell_type": "markdown",
      "source": [
        "Solución"
      ],
      "metadata": {
        "id": "3-ARGHEfIiul"
      },
      "id": "3-ARGHEfIiul"
    },
    {
      "cell_type": "code",
      "source": [
        "#3 de trebol\n",
        "deck[\"trébol\"] = list(set(deck[\"trébol\"])-set([3]))\n",
        "deck"
      ],
      "metadata": {
        "colab": {
          "base_uri": "https://localhost:8080/"
        },
        "id": "_xlb68h4Ih-K",
        "outputId": "e975b119-98fb-43ee-bb09-73445803453a"
      },
      "id": "_xlb68h4Ih-K",
      "execution_count": null,
      "outputs": [
        {
          "output_type": "execute_result",
          "data": {
            "text/plain": [
              "{'trébol': [5, 6, 7, 8, 9, 10, 11, 12, 13],\n",
              " 'diamantes': [3, 5, 6, 7, 8, 9, 10, 11, 12, 13],\n",
              " 'corazones': [3, 5, 6, 7, 8, 9, 10, 11, 12, 13],\n",
              " 'picas': [3, 5, 6, 7, 8, 9, 10, 11, 12, 13]}"
            ]
          },
          "metadata": {},
          "execution_count": 117
        }
      ]
    },
    {
      "cell_type": "markdown",
      "source": [
        "12. Escribe un programa que lea una cadena y devuelva un diccionario con la cantidad de apariciones de\n",
        "cada palabra en la cadena. Por ejemplo:\n",
        " \n",
        "![image.png](data:image/png;base64,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)"
      ],
      "metadata": {
        "id": "eOE82Fdu9cKo"
      },
      "id": "eOE82Fdu9cKo"
    },
    {
      "cell_type": "code",
      "source": [
        "def words(phrase:str) -> dict:\n",
        "  \"\"\"\n",
        "  Devuelve un diccionario con la cantidad de apariciones de cada palabra \n",
        "  en phrase. Las palabras son almacenadas en lowercase.\n",
        "\n",
        "  Parameters\n",
        "  ----------\n",
        "  phrase: str\n",
        "    Frase a evaluar. Ej: Me gustaría ver la cantidad de palabras de la frase.\n",
        "\n",
        "  Returns\n",
        "  -------\n",
        "  words: dict\n",
        "    Diccionario con cada palabra como key y su cantidad de repeticiones como\n",
        "    value. Ej: {\"me\":1, \"gustaría\":1, \"la\":2}\n",
        "  \"\"\"\n",
        "  words = {}\n",
        "  for word in phrase.lower().split(\" \"):\n",
        "    if word not in words:\n",
        "      words[word] = 1\n",
        "    else:\n",
        "      words[word] = words[word] + 1   \n",
        "  return words\n"
      ],
      "metadata": {
        "id": "oyvBDrJl9bGs"
      },
      "id": "oyvBDrJl9bGs",
      "execution_count": 10,
      "outputs": []
    },
    {
      "cell_type": "code",
      "source": [
        "count_words = words(\"Me gustaría ver la cantidad de palabras que me devuelve la frase ingresada.\")\n",
        "count_words"
      ],
      "metadata": {
        "colab": {
          "base_uri": "https://localhost:8080/"
        },
        "id": "cUOsvFI0_jo-",
        "outputId": "3319cd5f-e112-462d-c275-59fc5be7699b"
      },
      "id": "cUOsvFI0_jo-",
      "execution_count": 12,
      "outputs": [
        {
          "output_type": "execute_result",
          "data": {
            "text/plain": [
              "{'me': 2,\n",
              " 'gustaría': 1,\n",
              " 'ver': 1,\n",
              " 'la': 2,\n",
              " 'cantidad': 1,\n",
              " 'de': 1,\n",
              " 'palabras': 1,\n",
              " 'que': 1,\n",
              " 'devuelve': 1,\n",
              " 'frase': 1,\n",
              " 'ingresada.': 1}"
            ]
          },
          "metadata": {},
          "execution_count": 12
        }
      ]
    }
  ],
  "metadata": {
    "kernelspec": {
      "display_name": "tuia",
      "language": "python",
      "name": "tuia"
    },
    "language_info": {
      "codemirror_mode": {
        "name": "ipython",
        "version": 3
      },
      "file_extension": ".py",
      "mimetype": "text/x-python",
      "name": "python",
      "nbconvert_exporter": "python",
      "pygments_lexer": "ipython3",
      "version": "3.8.10"
    },
    "colab": {
      "provenance": [],
      "collapsed_sections": []
    }
  },
  "nbformat": 4,
  "nbformat_minor": 5
}