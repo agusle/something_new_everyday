{
 "cells": [
  {
   "cell_type": "markdown",
   "metadata": {
    "id": "1zZ80tdRQ4jK"
   },
   "source": [
    "---\n",
    "\n",
    "# 3. Pandas"
   ]
  },
  {
   "cell_type": "markdown",
   "metadata": {
    "id": "2qAlJy81Q4jK"
   },
   "source": [
    "Pandas is the best known Python library for manipulating and analyzing data. It is built on top of NumPy, so many features are similar. We will use Pandas to work with structured datasets.\n",
    "\n",
    "Just as NumPy provides us with arrays and with them we access many new features, Pandas provides us with DataFrames and Series. By far the most used object is the first one, DataFrames.\n",
    "\n",
    "We are going to use the open data of the Argentine government, so you will have to download the csv from the following link: [Names 2010-2014](https://www.datos.gob.ar/dataset/otros-nombres-personas-fisicas)"
   ]
  },
  {
   "cell_type": "code",
   "execution_count": null,
   "metadata": {
    "id": "JY_I84c4Q4jL"
   },
   "outputs": [],
   "source": [
    "import pandas as pd"
   ]
  },
  {
   "cell_type": "markdown",
   "metadata": {
    "id": "A0xGFfvPQ4jL"
   },
   "source": [
    "## Reading a csv file"
   ]
  },
  {
   "cell_type": "code",
   "execution_count": null,
   "metadata": {
    "colab": {
     "base_uri": "https://localhost:8080/",
     "height": 424
    },
    "id": "OzmclufMQ4jL",
    "outputId": "7771473d-27f8-4ff1-b5c9-62a00ff876e1"
   },
   "outputs": [
    {
     "data": {
      "text/html": [
       "\n",
       "  <div id=\"df-7b7e9410-797c-472e-9c38-bfdb07efcaef\">\n",
       "    <div class=\"colab-df-container\">\n",
       "      <div>\n",
       "<style scoped>\n",
       "    .dataframe tbody tr th:only-of-type {\n",
       "        vertical-align: middle;\n",
       "    }\n",
       "\n",
       "    .dataframe tbody tr th {\n",
       "        vertical-align: top;\n",
       "    }\n",
       "\n",
       "    .dataframe thead th {\n",
       "        text-align: right;\n",
       "    }\n",
       "</style>\n",
       "<table border=\"1\" class=\"dataframe\">\n",
       "  <thead>\n",
       "    <tr style=\"text-align: right;\">\n",
       "      <th></th>\n",
       "      <th>nombre</th>\n",
       "      <th>cantidad</th>\n",
       "      <th>anio</th>\n",
       "    </tr>\n",
       "  </thead>\n",
       "  <tbody>\n",
       "    <tr>\n",
       "      <th>0</th>\n",
       "      <td>Benjamin</td>\n",
       "      <td>2986</td>\n",
       "      <td>2010</td>\n",
       "    </tr>\n",
       "    <tr>\n",
       "      <th>1</th>\n",
       "      <td>Sofia</td>\n",
       "      <td>2252</td>\n",
       "      <td>2010</td>\n",
       "    </tr>\n",
       "    <tr>\n",
       "      <th>2</th>\n",
       "      <td>Bautista</td>\n",
       "      <td>2176</td>\n",
       "      <td>2010</td>\n",
       "    </tr>\n",
       "    <tr>\n",
       "      <th>3</th>\n",
       "      <td>Joaquín</td>\n",
       "      <td>2111</td>\n",
       "      <td>2010</td>\n",
       "    </tr>\n",
       "    <tr>\n",
       "      <th>4</th>\n",
       "      <td>Juan Ignacio</td>\n",
       "      <td>2039</td>\n",
       "      <td>2010</td>\n",
       "    </tr>\n",
       "    <tr>\n",
       "      <th>...</th>\n",
       "      <td>...</td>\n",
       "      <td>...</td>\n",
       "      <td>...</td>\n",
       "    </tr>\n",
       "    <tr>\n",
       "      <th>871489</th>\n",
       "      <td>Leire Jasmin</td>\n",
       "      <td>1</td>\n",
       "      <td>2014</td>\n",
       "    </tr>\n",
       "    <tr>\n",
       "      <th>871490</th>\n",
       "      <td>Isaias Sebastian Ariel</td>\n",
       "      <td>1</td>\n",
       "      <td>2014</td>\n",
       "    </tr>\n",
       "    <tr>\n",
       "      <th>871491</th>\n",
       "      <td>Yanira Valentina</td>\n",
       "      <td>1</td>\n",
       "      <td>2014</td>\n",
       "    </tr>\n",
       "    <tr>\n",
       "      <th>871492</th>\n",
       "      <td>Angie Ainara</td>\n",
       "      <td>1</td>\n",
       "      <td>2014</td>\n",
       "    </tr>\n",
       "    <tr>\n",
       "      <th>871493</th>\n",
       "      <td>Elias Hernando</td>\n",
       "      <td>1</td>\n",
       "      <td>2014</td>\n",
       "    </tr>\n",
       "  </tbody>\n",
       "</table>\n",
       "<p>871494 rows × 3 columns</p>\n",
       "</div>\n",
       "      <button class=\"colab-df-convert\" onclick=\"convertToInteractive('df-7b7e9410-797c-472e-9c38-bfdb07efcaef')\"\n",
       "              title=\"Convert this dataframe to an interactive table.\"\n",
       "              style=\"display:none;\">\n",
       "        \n",
       "  <svg xmlns=\"http://www.w3.org/2000/svg\" height=\"24px\"viewBox=\"0 0 24 24\"\n",
       "       width=\"24px\">\n",
       "    <path d=\"M0 0h24v24H0V0z\" fill=\"none\"/>\n",
       "    <path d=\"M18.56 5.44l.94 2.06.94-2.06 2.06-.94-2.06-.94-.94-2.06-.94 2.06-2.06.94zm-11 1L8.5 8.5l.94-2.06 2.06-.94-2.06-.94L8.5 2.5l-.94 2.06-2.06.94zm10 10l.94 2.06.94-2.06 2.06-.94-2.06-.94-.94-2.06-.94 2.06-2.06.94z\"/><path d=\"M17.41 7.96l-1.37-1.37c-.4-.4-.92-.59-1.43-.59-.52 0-1.04.2-1.43.59L10.3 9.45l-7.72 7.72c-.78.78-.78 2.05 0 2.83L4 21.41c.39.39.9.59 1.41.59.51 0 1.02-.2 1.41-.59l7.78-7.78 2.81-2.81c.8-.78.8-2.07 0-2.86zM5.41 20L4 18.59l7.72-7.72 1.47 1.35L5.41 20z\"/>\n",
       "  </svg>\n",
       "      </button>\n",
       "      \n",
       "  <style>\n",
       "    .colab-df-container {\n",
       "      display:flex;\n",
       "      flex-wrap:wrap;\n",
       "      gap: 12px;\n",
       "    }\n",
       "\n",
       "    .colab-df-convert {\n",
       "      background-color: #E8F0FE;\n",
       "      border: none;\n",
       "      border-radius: 50%;\n",
       "      cursor: pointer;\n",
       "      display: none;\n",
       "      fill: #1967D2;\n",
       "      height: 32px;\n",
       "      padding: 0 0 0 0;\n",
       "      width: 32px;\n",
       "    }\n",
       "\n",
       "    .colab-df-convert:hover {\n",
       "      background-color: #E2EBFA;\n",
       "      box-shadow: 0px 1px 2px rgba(60, 64, 67, 0.3), 0px 1px 3px 1px rgba(60, 64, 67, 0.15);\n",
       "      fill: #174EA6;\n",
       "    }\n",
       "\n",
       "    [theme=dark] .colab-df-convert {\n",
       "      background-color: #3B4455;\n",
       "      fill: #D2E3FC;\n",
       "    }\n",
       "\n",
       "    [theme=dark] .colab-df-convert:hover {\n",
       "      background-color: #434B5C;\n",
       "      box-shadow: 0px 1px 3px 1px rgba(0, 0, 0, 0.15);\n",
       "      filter: drop-shadow(0px 1px 2px rgba(0, 0, 0, 0.3));\n",
       "      fill: #FFFFFF;\n",
       "    }\n",
       "  </style>\n",
       "\n",
       "      <script>\n",
       "        const buttonEl =\n",
       "          document.querySelector('#df-7b7e9410-797c-472e-9c38-bfdb07efcaef button.colab-df-convert');\n",
       "        buttonEl.style.display =\n",
       "          google.colab.kernel.accessAllowed ? 'block' : 'none';\n",
       "\n",
       "        async function convertToInteractive(key) {\n",
       "          const element = document.querySelector('#df-7b7e9410-797c-472e-9c38-bfdb07efcaef');\n",
       "          const dataTable =\n",
       "            await google.colab.kernel.invokeFunction('convertToInteractive',\n",
       "                                                     [key], {});\n",
       "          if (!dataTable) return;\n",
       "\n",
       "          const docLinkHtml = 'Like what you see? Visit the ' +\n",
       "            '<a target=\"_blank\" href=https://colab.research.google.com/notebooks/data_table.ipynb>data table notebook</a>'\n",
       "            + ' to learn more about interactive tables.';\n",
       "          element.innerHTML = '';\n",
       "          dataTable['output_type'] = 'display_data';\n",
       "          await google.colab.output.renderOutput(dataTable, element);\n",
       "          const docLink = document.createElement('div');\n",
       "          docLink.innerHTML = docLinkHtml;\n",
       "          element.appendChild(docLink);\n",
       "        }\n",
       "      </script>\n",
       "    </div>\n",
       "  </div>\n",
       "  "
      ],
      "text/plain": [
       "                        nombre  cantidad  anio\n",
       "0                     Benjamin      2986  2010\n",
       "1                        Sofia      2252  2010\n",
       "2                     Bautista      2176  2010\n",
       "3                      Joaquín      2111  2010\n",
       "4                 Juan Ignacio      2039  2010\n",
       "...                        ...       ...   ...\n",
       "871489            Leire Jasmin         1  2014\n",
       "871490  Isaias Sebastian Ariel         1  2014\n",
       "871491        Yanira Valentina         1  2014\n",
       "871492            Angie Ainara         1  2014\n",
       "871493          Elias Hernando         1  2014\n",
       "\n",
       "[871494 rows x 3 columns]"
      ]
     },
     "metadata": {},
     "output_type": "display_data"
    }
   ],
   "source": [
    "df_names = pd.read_csv(\"https://raw.githubusercontent.com/agusle/something_new_everyday/master/intensive_training/data/nombres-2010-2014.csv\")\n",
    "df_names"
   ]
  },
  {
   "cell_type": "markdown",
   "metadata": {
    "id": "slxR8rtXQ4jM"
   },
   "source": [
    "## Columns renaming"
   ]
  },
  {
   "cell_type": "markdown",
   "metadata": {
    "id": "mL3b7okLQ4jM"
   },
   "source": [
    "First of all let's rename the columns to name, amount and year"
   ]
  },
  {
   "cell_type": "code",
   "execution_count": null,
   "metadata": {
    "colab": {
     "base_uri": "https://localhost:8080/",
     "height": 423
    },
    "id": "WAFt31xGQ4jN",
    "outputId": "92df47cd-46de-4b7e-fbf8-9bae3083c043"
   },
   "outputs": [
    {
     "data": {
      "text/html": [
       "\n",
       "  <div id=\"df-5c52a16e-2ed1-4ffe-98d4-830a371818c2\">\n",
       "    <div class=\"colab-df-container\">\n",
       "      <div>\n",
       "<style scoped>\n",
       "    .dataframe tbody tr th:only-of-type {\n",
       "        vertical-align: middle;\n",
       "    }\n",
       "\n",
       "    .dataframe tbody tr th {\n",
       "        vertical-align: top;\n",
       "    }\n",
       "\n",
       "    .dataframe thead th {\n",
       "        text-align: right;\n",
       "    }\n",
       "</style>\n",
       "<table border=\"1\" class=\"dataframe\">\n",
       "  <thead>\n",
       "    <tr style=\"text-align: right;\">\n",
       "      <th></th>\n",
       "      <th>name</th>\n",
       "      <th>amount</th>\n",
       "      <th>year</th>\n",
       "    </tr>\n",
       "  </thead>\n",
       "  <tbody>\n",
       "    <tr>\n",
       "      <th>0</th>\n",
       "      <td>Benjamin</td>\n",
       "      <td>2986</td>\n",
       "      <td>2010</td>\n",
       "    </tr>\n",
       "    <tr>\n",
       "      <th>1</th>\n",
       "      <td>Sofia</td>\n",
       "      <td>2252</td>\n",
       "      <td>2010</td>\n",
       "    </tr>\n",
       "    <tr>\n",
       "      <th>2</th>\n",
       "      <td>Bautista</td>\n",
       "      <td>2176</td>\n",
       "      <td>2010</td>\n",
       "    </tr>\n",
       "    <tr>\n",
       "      <th>3</th>\n",
       "      <td>Joaquín</td>\n",
       "      <td>2111</td>\n",
       "      <td>2010</td>\n",
       "    </tr>\n",
       "    <tr>\n",
       "      <th>4</th>\n",
       "      <td>Juan Ignacio</td>\n",
       "      <td>2039</td>\n",
       "      <td>2010</td>\n",
       "    </tr>\n",
       "    <tr>\n",
       "      <th>...</th>\n",
       "      <td>...</td>\n",
       "      <td>...</td>\n",
       "      <td>...</td>\n",
       "    </tr>\n",
       "    <tr>\n",
       "      <th>871489</th>\n",
       "      <td>Leire Jasmin</td>\n",
       "      <td>1</td>\n",
       "      <td>2014</td>\n",
       "    </tr>\n",
       "    <tr>\n",
       "      <th>871490</th>\n",
       "      <td>Isaias Sebastian Ariel</td>\n",
       "      <td>1</td>\n",
       "      <td>2014</td>\n",
       "    </tr>\n",
       "    <tr>\n",
       "      <th>871491</th>\n",
       "      <td>Yanira Valentina</td>\n",
       "      <td>1</td>\n",
       "      <td>2014</td>\n",
       "    </tr>\n",
       "    <tr>\n",
       "      <th>871492</th>\n",
       "      <td>Angie Ainara</td>\n",
       "      <td>1</td>\n",
       "      <td>2014</td>\n",
       "    </tr>\n",
       "    <tr>\n",
       "      <th>871493</th>\n",
       "      <td>Elias Hernando</td>\n",
       "      <td>1</td>\n",
       "      <td>2014</td>\n",
       "    </tr>\n",
       "  </tbody>\n",
       "</table>\n",
       "<p>871494 rows × 3 columns</p>\n",
       "</div>\n",
       "      <button class=\"colab-df-convert\" onclick=\"convertToInteractive('df-5c52a16e-2ed1-4ffe-98d4-830a371818c2')\"\n",
       "              title=\"Convert this dataframe to an interactive table.\"\n",
       "              style=\"display:none;\">\n",
       "        \n",
       "  <svg xmlns=\"http://www.w3.org/2000/svg\" height=\"24px\"viewBox=\"0 0 24 24\"\n",
       "       width=\"24px\">\n",
       "    <path d=\"M0 0h24v24H0V0z\" fill=\"none\"/>\n",
       "    <path d=\"M18.56 5.44l.94 2.06.94-2.06 2.06-.94-2.06-.94-.94-2.06-.94 2.06-2.06.94zm-11 1L8.5 8.5l.94-2.06 2.06-.94-2.06-.94L8.5 2.5l-.94 2.06-2.06.94zm10 10l.94 2.06.94-2.06 2.06-.94-2.06-.94-.94-2.06-.94 2.06-2.06.94z\"/><path d=\"M17.41 7.96l-1.37-1.37c-.4-.4-.92-.59-1.43-.59-.52 0-1.04.2-1.43.59L10.3 9.45l-7.72 7.72c-.78.78-.78 2.05 0 2.83L4 21.41c.39.39.9.59 1.41.59.51 0 1.02-.2 1.41-.59l7.78-7.78 2.81-2.81c.8-.78.8-2.07 0-2.86zM5.41 20L4 18.59l7.72-7.72 1.47 1.35L5.41 20z\"/>\n",
       "  </svg>\n",
       "      </button>\n",
       "      \n",
       "  <style>\n",
       "    .colab-df-container {\n",
       "      display:flex;\n",
       "      flex-wrap:wrap;\n",
       "      gap: 12px;\n",
       "    }\n",
       "\n",
       "    .colab-df-convert {\n",
       "      background-color: #E8F0FE;\n",
       "      border: none;\n",
       "      border-radius: 50%;\n",
       "      cursor: pointer;\n",
       "      display: none;\n",
       "      fill: #1967D2;\n",
       "      height: 32px;\n",
       "      padding: 0 0 0 0;\n",
       "      width: 32px;\n",
       "    }\n",
       "\n",
       "    .colab-df-convert:hover {\n",
       "      background-color: #E2EBFA;\n",
       "      box-shadow: 0px 1px 2px rgba(60, 64, 67, 0.3), 0px 1px 3px 1px rgba(60, 64, 67, 0.15);\n",
       "      fill: #174EA6;\n",
       "    }\n",
       "\n",
       "    [theme=dark] .colab-df-convert {\n",
       "      background-color: #3B4455;\n",
       "      fill: #D2E3FC;\n",
       "    }\n",
       "\n",
       "    [theme=dark] .colab-df-convert:hover {\n",
       "      background-color: #434B5C;\n",
       "      box-shadow: 0px 1px 3px 1px rgba(0, 0, 0, 0.15);\n",
       "      filter: drop-shadow(0px 1px 2px rgba(0, 0, 0, 0.3));\n",
       "      fill: #FFFFFF;\n",
       "    }\n",
       "  </style>\n",
       "\n",
       "      <script>\n",
       "        const buttonEl =\n",
       "          document.querySelector('#df-5c52a16e-2ed1-4ffe-98d4-830a371818c2 button.colab-df-convert');\n",
       "        buttonEl.style.display =\n",
       "          google.colab.kernel.accessAllowed ? 'block' : 'none';\n",
       "\n",
       "        async function convertToInteractive(key) {\n",
       "          const element = document.querySelector('#df-5c52a16e-2ed1-4ffe-98d4-830a371818c2');\n",
       "          const dataTable =\n",
       "            await google.colab.kernel.invokeFunction('convertToInteractive',\n",
       "                                                     [key], {});\n",
       "          if (!dataTable) return;\n",
       "\n",
       "          const docLinkHtml = 'Like what you see? Visit the ' +\n",
       "            '<a target=\"_blank\" href=https://colab.research.google.com/notebooks/data_table.ipynb>data table notebook</a>'\n",
       "            + ' to learn more about interactive tables.';\n",
       "          element.innerHTML = '';\n",
       "          dataTable['output_type'] = 'display_data';\n",
       "          await google.colab.output.renderOutput(dataTable, element);\n",
       "          const docLink = document.createElement('div');\n",
       "          docLink.innerHTML = docLinkHtml;\n",
       "          element.appendChild(docLink);\n",
       "        }\n",
       "      </script>\n",
       "    </div>\n",
       "  </div>\n",
       "  "
      ],
      "text/plain": [
       "                          name  amount  year\n",
       "0                     Benjamin    2986  2010\n",
       "1                        Sofia    2252  2010\n",
       "2                     Bautista    2176  2010\n",
       "3                      Joaquín    2111  2010\n",
       "4                 Juan Ignacio    2039  2010\n",
       "...                        ...     ...   ...\n",
       "871489            Leire Jasmin       1  2014\n",
       "871490  Isaias Sebastian Ariel       1  2014\n",
       "871491        Yanira Valentina       1  2014\n",
       "871492            Angie Ainara       1  2014\n",
       "871493          Elias Hernando       1  2014\n",
       "\n",
       "[871494 rows x 3 columns]"
      ]
     },
     "metadata": {},
     "output_type": "display_data"
    }
   ],
   "source": [
    "df_names = df_names.rename(columns={'nombre': 'name', 'cantidad': 'amount', 'anio': 'year'})\n",
    "df_names"
   ]
  },
  {
   "cell_type": "markdown",
   "metadata": {
    "id": "W-kRHmkOQ4jN"
   },
   "source": [
    "## Some Pandas useful functions"
   ]
  },
  {
   "cell_type": "markdown",
   "metadata": {
    "id": "Ve4KOoEnQ4jN"
   },
   "source": [
    "**TODO:** Investigate the functions that are implemented in the next cell. What do they do? What do you think they can be useful for?"
   ]
  },
  {
   "cell_type": "code",
   "execution_count": null,
   "metadata": {
    "colab": {
     "base_uri": "https://localhost:8080/",
     "height": 206
    },
    "id": "Mc9CkZwVQ4jO",
    "outputId": "5a67c16c-347a-4eab-8330-b478eff4bd5e"
   },
   "outputs": [
    {
     "data": {
      "text/html": [
       "\n",
       "  <div id=\"df-b8802a24-5941-4a4a-8ec8-17a040ae290f\">\n",
       "    <div class=\"colab-df-container\">\n",
       "      <div>\n",
       "<style scoped>\n",
       "    .dataframe tbody tr th:only-of-type {\n",
       "        vertical-align: middle;\n",
       "    }\n",
       "\n",
       "    .dataframe tbody tr th {\n",
       "        vertical-align: top;\n",
       "    }\n",
       "\n",
       "    .dataframe thead th {\n",
       "        text-align: right;\n",
       "    }\n",
       "</style>\n",
       "<table border=\"1\" class=\"dataframe\">\n",
       "  <thead>\n",
       "    <tr style=\"text-align: right;\">\n",
       "      <th></th>\n",
       "      <th>name</th>\n",
       "      <th>amount</th>\n",
       "      <th>year</th>\n",
       "    </tr>\n",
       "  </thead>\n",
       "  <tbody>\n",
       "    <tr>\n",
       "      <th>0</th>\n",
       "      <td>Benjamin</td>\n",
       "      <td>2986</td>\n",
       "      <td>2010</td>\n",
       "    </tr>\n",
       "    <tr>\n",
       "      <th>1</th>\n",
       "      <td>Sofia</td>\n",
       "      <td>2252</td>\n",
       "      <td>2010</td>\n",
       "    </tr>\n",
       "    <tr>\n",
       "      <th>2</th>\n",
       "      <td>Bautista</td>\n",
       "      <td>2176</td>\n",
       "      <td>2010</td>\n",
       "    </tr>\n",
       "    <tr>\n",
       "      <th>3</th>\n",
       "      <td>Joaquín</td>\n",
       "      <td>2111</td>\n",
       "      <td>2010</td>\n",
       "    </tr>\n",
       "    <tr>\n",
       "      <th>4</th>\n",
       "      <td>Juan Ignacio</td>\n",
       "      <td>2039</td>\n",
       "      <td>2010</td>\n",
       "    </tr>\n",
       "  </tbody>\n",
       "</table>\n",
       "</div>\n",
       "      <button class=\"colab-df-convert\" onclick=\"convertToInteractive('df-b8802a24-5941-4a4a-8ec8-17a040ae290f')\"\n",
       "              title=\"Convert this dataframe to an interactive table.\"\n",
       "              style=\"display:none;\">\n",
       "        \n",
       "  <svg xmlns=\"http://www.w3.org/2000/svg\" height=\"24px\"viewBox=\"0 0 24 24\"\n",
       "       width=\"24px\">\n",
       "    <path d=\"M0 0h24v24H0V0z\" fill=\"none\"/>\n",
       "    <path d=\"M18.56 5.44l.94 2.06.94-2.06 2.06-.94-2.06-.94-.94-2.06-.94 2.06-2.06.94zm-11 1L8.5 8.5l.94-2.06 2.06-.94-2.06-.94L8.5 2.5l-.94 2.06-2.06.94zm10 10l.94 2.06.94-2.06 2.06-.94-2.06-.94-.94-2.06-.94 2.06-2.06.94z\"/><path d=\"M17.41 7.96l-1.37-1.37c-.4-.4-.92-.59-1.43-.59-.52 0-1.04.2-1.43.59L10.3 9.45l-7.72 7.72c-.78.78-.78 2.05 0 2.83L4 21.41c.39.39.9.59 1.41.59.51 0 1.02-.2 1.41-.59l7.78-7.78 2.81-2.81c.8-.78.8-2.07 0-2.86zM5.41 20L4 18.59l7.72-7.72 1.47 1.35L5.41 20z\"/>\n",
       "  </svg>\n",
       "      </button>\n",
       "      \n",
       "  <style>\n",
       "    .colab-df-container {\n",
       "      display:flex;\n",
       "      flex-wrap:wrap;\n",
       "      gap: 12px;\n",
       "    }\n",
       "\n",
       "    .colab-df-convert {\n",
       "      background-color: #E8F0FE;\n",
       "      border: none;\n",
       "      border-radius: 50%;\n",
       "      cursor: pointer;\n",
       "      display: none;\n",
       "      fill: #1967D2;\n",
       "      height: 32px;\n",
       "      padding: 0 0 0 0;\n",
       "      width: 32px;\n",
       "    }\n",
       "\n",
       "    .colab-df-convert:hover {\n",
       "      background-color: #E2EBFA;\n",
       "      box-shadow: 0px 1px 2px rgba(60, 64, 67, 0.3), 0px 1px 3px 1px rgba(60, 64, 67, 0.15);\n",
       "      fill: #174EA6;\n",
       "    }\n",
       "\n",
       "    [theme=dark] .colab-df-convert {\n",
       "      background-color: #3B4455;\n",
       "      fill: #D2E3FC;\n",
       "    }\n",
       "\n",
       "    [theme=dark] .colab-df-convert:hover {\n",
       "      background-color: #434B5C;\n",
       "      box-shadow: 0px 1px 3px 1px rgba(0, 0, 0, 0.15);\n",
       "      filter: drop-shadow(0px 1px 2px rgba(0, 0, 0, 0.3));\n",
       "      fill: #FFFFFF;\n",
       "    }\n",
       "  </style>\n",
       "\n",
       "      <script>\n",
       "        const buttonEl =\n",
       "          document.querySelector('#df-b8802a24-5941-4a4a-8ec8-17a040ae290f button.colab-df-convert');\n",
       "        buttonEl.style.display =\n",
       "          google.colab.kernel.accessAllowed ? 'block' : 'none';\n",
       "\n",
       "        async function convertToInteractive(key) {\n",
       "          const element = document.querySelector('#df-b8802a24-5941-4a4a-8ec8-17a040ae290f');\n",
       "          const dataTable =\n",
       "            await google.colab.kernel.invokeFunction('convertToInteractive',\n",
       "                                                     [key], {});\n",
       "          if (!dataTable) return;\n",
       "\n",
       "          const docLinkHtml = 'Like what you see? Visit the ' +\n",
       "            '<a target=\"_blank\" href=https://colab.research.google.com/notebooks/data_table.ipynb>data table notebook</a>'\n",
       "            + ' to learn more about interactive tables.';\n",
       "          element.innerHTML = '';\n",
       "          dataTable['output_type'] = 'display_data';\n",
       "          await google.colab.output.renderOutput(dataTable, element);\n",
       "          const docLink = document.createElement('div');\n",
       "          docLink.innerHTML = docLinkHtml;\n",
       "          element.appendChild(docLink);\n",
       "        }\n",
       "      </script>\n",
       "    </div>\n",
       "  </div>\n",
       "  "
      ],
      "text/plain": [
       "           name  amount  year\n",
       "0      Benjamin    2986  2010\n",
       "1         Sofia    2252  2010\n",
       "2      Bautista    2176  2010\n",
       "3       Joaquín    2111  2010\n",
       "4  Juan Ignacio    2039  2010"
      ]
     },
     "metadata": {},
     "output_type": "display_data"
    }
   ],
   "source": [
    "df_names.head()"
   ]
  },
  {
   "cell_type": "code",
   "execution_count": null,
   "metadata": {
    "colab": {
     "base_uri": "https://localhost:8080/",
     "height": 206
    },
    "id": "Ma-srFQS7zHD",
    "outputId": "76a2acf7-6944-4b84-beb2-9123fbc2e533"
   },
   "outputs": [
    {
     "data": {
      "text/html": [
       "\n",
       "  <div id=\"df-a0ac6c20-749e-4eda-93f9-869f82f8d4f0\">\n",
       "    <div class=\"colab-df-container\">\n",
       "      <div>\n",
       "<style scoped>\n",
       "    .dataframe tbody tr th:only-of-type {\n",
       "        vertical-align: middle;\n",
       "    }\n",
       "\n",
       "    .dataframe tbody tr th {\n",
       "        vertical-align: top;\n",
       "    }\n",
       "\n",
       "    .dataframe thead th {\n",
       "        text-align: right;\n",
       "    }\n",
       "</style>\n",
       "<table border=\"1\" class=\"dataframe\">\n",
       "  <thead>\n",
       "    <tr style=\"text-align: right;\">\n",
       "      <th></th>\n",
       "      <th>name</th>\n",
       "      <th>amount</th>\n",
       "      <th>year</th>\n",
       "    </tr>\n",
       "  </thead>\n",
       "  <tbody>\n",
       "    <tr>\n",
       "      <th>871489</th>\n",
       "      <td>Leire Jasmin</td>\n",
       "      <td>1</td>\n",
       "      <td>2014</td>\n",
       "    </tr>\n",
       "    <tr>\n",
       "      <th>871490</th>\n",
       "      <td>Isaias Sebastian Ariel</td>\n",
       "      <td>1</td>\n",
       "      <td>2014</td>\n",
       "    </tr>\n",
       "    <tr>\n",
       "      <th>871491</th>\n",
       "      <td>Yanira Valentina</td>\n",
       "      <td>1</td>\n",
       "      <td>2014</td>\n",
       "    </tr>\n",
       "    <tr>\n",
       "      <th>871492</th>\n",
       "      <td>Angie Ainara</td>\n",
       "      <td>1</td>\n",
       "      <td>2014</td>\n",
       "    </tr>\n",
       "    <tr>\n",
       "      <th>871493</th>\n",
       "      <td>Elias Hernando</td>\n",
       "      <td>1</td>\n",
       "      <td>2014</td>\n",
       "    </tr>\n",
       "  </tbody>\n",
       "</table>\n",
       "</div>\n",
       "      <button class=\"colab-df-convert\" onclick=\"convertToInteractive('df-a0ac6c20-749e-4eda-93f9-869f82f8d4f0')\"\n",
       "              title=\"Convert this dataframe to an interactive table.\"\n",
       "              style=\"display:none;\">\n",
       "        \n",
       "  <svg xmlns=\"http://www.w3.org/2000/svg\" height=\"24px\"viewBox=\"0 0 24 24\"\n",
       "       width=\"24px\">\n",
       "    <path d=\"M0 0h24v24H0V0z\" fill=\"none\"/>\n",
       "    <path d=\"M18.56 5.44l.94 2.06.94-2.06 2.06-.94-2.06-.94-.94-2.06-.94 2.06-2.06.94zm-11 1L8.5 8.5l.94-2.06 2.06-.94-2.06-.94L8.5 2.5l-.94 2.06-2.06.94zm10 10l.94 2.06.94-2.06 2.06-.94-2.06-.94-.94-2.06-.94 2.06-2.06.94z\"/><path d=\"M17.41 7.96l-1.37-1.37c-.4-.4-.92-.59-1.43-.59-.52 0-1.04.2-1.43.59L10.3 9.45l-7.72 7.72c-.78.78-.78 2.05 0 2.83L4 21.41c.39.39.9.59 1.41.59.51 0 1.02-.2 1.41-.59l7.78-7.78 2.81-2.81c.8-.78.8-2.07 0-2.86zM5.41 20L4 18.59l7.72-7.72 1.47 1.35L5.41 20z\"/>\n",
       "  </svg>\n",
       "      </button>\n",
       "      \n",
       "  <style>\n",
       "    .colab-df-container {\n",
       "      display:flex;\n",
       "      flex-wrap:wrap;\n",
       "      gap: 12px;\n",
       "    }\n",
       "\n",
       "    .colab-df-convert {\n",
       "      background-color: #E8F0FE;\n",
       "      border: none;\n",
       "      border-radius: 50%;\n",
       "      cursor: pointer;\n",
       "      display: none;\n",
       "      fill: #1967D2;\n",
       "      height: 32px;\n",
       "      padding: 0 0 0 0;\n",
       "      width: 32px;\n",
       "    }\n",
       "\n",
       "    .colab-df-convert:hover {\n",
       "      background-color: #E2EBFA;\n",
       "      box-shadow: 0px 1px 2px rgba(60, 64, 67, 0.3), 0px 1px 3px 1px rgba(60, 64, 67, 0.15);\n",
       "      fill: #174EA6;\n",
       "    }\n",
       "\n",
       "    [theme=dark] .colab-df-convert {\n",
       "      background-color: #3B4455;\n",
       "      fill: #D2E3FC;\n",
       "    }\n",
       "\n",
       "    [theme=dark] .colab-df-convert:hover {\n",
       "      background-color: #434B5C;\n",
       "      box-shadow: 0px 1px 3px 1px rgba(0, 0, 0, 0.15);\n",
       "      filter: drop-shadow(0px 1px 2px rgba(0, 0, 0, 0.3));\n",
       "      fill: #FFFFFF;\n",
       "    }\n",
       "  </style>\n",
       "\n",
       "      <script>\n",
       "        const buttonEl =\n",
       "          document.querySelector('#df-a0ac6c20-749e-4eda-93f9-869f82f8d4f0 button.colab-df-convert');\n",
       "        buttonEl.style.display =\n",
       "          google.colab.kernel.accessAllowed ? 'block' : 'none';\n",
       "\n",
       "        async function convertToInteractive(key) {\n",
       "          const element = document.querySelector('#df-a0ac6c20-749e-4eda-93f9-869f82f8d4f0');\n",
       "          const dataTable =\n",
       "            await google.colab.kernel.invokeFunction('convertToInteractive',\n",
       "                                                     [key], {});\n",
       "          if (!dataTable) return;\n",
       "\n",
       "          const docLinkHtml = 'Like what you see? Visit the ' +\n",
       "            '<a target=\"_blank\" href=https://colab.research.google.com/notebooks/data_table.ipynb>data table notebook</a>'\n",
       "            + ' to learn more about interactive tables.';\n",
       "          element.innerHTML = '';\n",
       "          dataTable['output_type'] = 'display_data';\n",
       "          await google.colab.output.renderOutput(dataTable, element);\n",
       "          const docLink = document.createElement('div');\n",
       "          docLink.innerHTML = docLinkHtml;\n",
       "          element.appendChild(docLink);\n",
       "        }\n",
       "      </script>\n",
       "    </div>\n",
       "  </div>\n",
       "  "
      ],
      "text/plain": [
       "                          name  amount  year\n",
       "871489            Leire Jasmin       1  2014\n",
       "871490  Isaias Sebastian Ariel       1  2014\n",
       "871491        Yanira Valentina       1  2014\n",
       "871492            Angie Ainara       1  2014\n",
       "871493          Elias Hernando       1  2014"
      ]
     },
     "metadata": {},
     "output_type": "display_data"
    }
   ],
   "source": [
    "df_names.tail()"
   ]
  },
  {
   "cell_type": "code",
   "execution_count": null,
   "metadata": {
    "colab": {
     "base_uri": "https://localhost:8080/"
    },
    "id": "mn5K1s-T71G3",
    "outputId": "482f4d46-022c-4f45-f908-b0958e1ad313"
   },
   "outputs": [
    {
     "data": {
      "text/plain": [
       "name      871494\n",
       "amount    871494\n",
       "year      871494\n",
       "dtype: int64"
      ]
     },
     "metadata": {},
     "output_type": "display_data"
    }
   ],
   "source": [
    "df_names.count()"
   ]
  },
  {
   "cell_type": "code",
   "execution_count": null,
   "metadata": {
    "colab": {
     "base_uri": "https://localhost:8080/"
    },
    "id": "eoI9wqEF72qW",
    "outputId": "4a5e385f-a088-4da3-fb48-f85a65abc661"
   },
   "outputs": [
    {
     "data": {
      "text/plain": [
       "(871494, 3)"
      ]
     },
     "metadata": {},
     "output_type": "display_data"
    }
   ],
   "source": [
    "df_names.shape"
   ]
  },
  {
   "cell_type": "code",
   "execution_count": null,
   "metadata": {
    "colab": {
     "base_uri": "https://localhost:8080/"
    },
    "id": "-Llm6sTA72E2",
    "outputId": "3e2f174e-5ec9-4e23-a3a7-94ccbab2d0f6"
   },
   "outputs": [
    {
     "name": "stdout",
     "output_type": "stream",
     "text": [
      "<class 'pandas.core.frame.DataFrame'>\n",
      "RangeIndex: 871494 entries, 0 to 871493\n",
      "Data columns (total 3 columns):\n",
      " #   Column  Non-Null Count   Dtype \n",
      "---  ------  --------------   ----- \n",
      " 0   name    871494 non-null  object\n",
      " 1   amount  871494 non-null  int64 \n",
      " 2   year    871494 non-null  int64 \n",
      "dtypes: int64(2), object(1)\n",
      "memory usage: 19.9+ MB\n"
     ]
    }
   ],
   "source": [
    "df_names.info()"
   ]
  },
  {
   "cell_type": "code",
   "execution_count": null,
   "metadata": {
    "colab": {
     "base_uri": "https://localhost:8080/",
     "height": 363
    },
    "id": "TCK-2tE272Ym",
    "outputId": "e52f188c-a832-4114-d733-7f988f2d5bc7"
   },
   "outputs": [
    {
     "data": {
      "text/html": [
       "\n",
       "  <div id=\"df-e7388d95-4adf-4e0a-9bb3-c29fcc33e7d4\">\n",
       "    <div class=\"colab-df-container\">\n",
       "      <div>\n",
       "<style scoped>\n",
       "    .dataframe tbody tr th:only-of-type {\n",
       "        vertical-align: middle;\n",
       "    }\n",
       "\n",
       "    .dataframe tbody tr th {\n",
       "        vertical-align: top;\n",
       "    }\n",
       "\n",
       "    .dataframe thead th {\n",
       "        text-align: right;\n",
       "    }\n",
       "</style>\n",
       "<table border=\"1\" class=\"dataframe\">\n",
       "  <thead>\n",
       "    <tr style=\"text-align: right;\">\n",
       "      <th></th>\n",
       "      <th>name</th>\n",
       "      <th>amount</th>\n",
       "      <th>year</th>\n",
       "    </tr>\n",
       "  </thead>\n",
       "  <tbody>\n",
       "    <tr>\n",
       "      <th>554365</th>\n",
       "      <td>Yazmin Selene Iriel</td>\n",
       "      <td>1</td>\n",
       "      <td>2013</td>\n",
       "    </tr>\n",
       "    <tr>\n",
       "      <th>646918</th>\n",
       "      <td>Alejandro Pedro</td>\n",
       "      <td>1</td>\n",
       "      <td>2013</td>\n",
       "    </tr>\n",
       "    <tr>\n",
       "      <th>290829</th>\n",
       "      <td>Camilo Samuel</td>\n",
       "      <td>3</td>\n",
       "      <td>2012</td>\n",
       "    </tr>\n",
       "    <tr>\n",
       "      <th>562775</th>\n",
       "      <td>Cielo Aleli</td>\n",
       "      <td>1</td>\n",
       "      <td>2013</td>\n",
       "    </tr>\n",
       "    <tr>\n",
       "      <th>559520</th>\n",
       "      <td>Yenhy Maya</td>\n",
       "      <td>1</td>\n",
       "      <td>2013</td>\n",
       "    </tr>\n",
       "    <tr>\n",
       "      <th>199418</th>\n",
       "      <td>Oriana Valentina Mariana</td>\n",
       "      <td>1</td>\n",
       "      <td>2011</td>\n",
       "    </tr>\n",
       "    <tr>\n",
       "      <th>692299</th>\n",
       "      <td>Nila</td>\n",
       "      <td>4</td>\n",
       "      <td>2014</td>\n",
       "    </tr>\n",
       "    <tr>\n",
       "      <th>101663</th>\n",
       "      <td>Emanuel Adair</td>\n",
       "      <td>1</td>\n",
       "      <td>2010</td>\n",
       "    </tr>\n",
       "    <tr>\n",
       "      <th>431199</th>\n",
       "      <td>Nadia Micaela</td>\n",
       "      <td>1</td>\n",
       "      <td>2012</td>\n",
       "    </tr>\n",
       "    <tr>\n",
       "      <th>208449</th>\n",
       "      <td>Alhue Ana Estrella</td>\n",
       "      <td>1</td>\n",
       "      <td>2011</td>\n",
       "    </tr>\n",
       "  </tbody>\n",
       "</table>\n",
       "</div>\n",
       "      <button class=\"colab-df-convert\" onclick=\"convertToInteractive('df-e7388d95-4adf-4e0a-9bb3-c29fcc33e7d4')\"\n",
       "              title=\"Convert this dataframe to an interactive table.\"\n",
       "              style=\"display:none;\">\n",
       "        \n",
       "  <svg xmlns=\"http://www.w3.org/2000/svg\" height=\"24px\"viewBox=\"0 0 24 24\"\n",
       "       width=\"24px\">\n",
       "    <path d=\"M0 0h24v24H0V0z\" fill=\"none\"/>\n",
       "    <path d=\"M18.56 5.44l.94 2.06.94-2.06 2.06-.94-2.06-.94-.94-2.06-.94 2.06-2.06.94zm-11 1L8.5 8.5l.94-2.06 2.06-.94-2.06-.94L8.5 2.5l-.94 2.06-2.06.94zm10 10l.94 2.06.94-2.06 2.06-.94-2.06-.94-.94-2.06-.94 2.06-2.06.94z\"/><path d=\"M17.41 7.96l-1.37-1.37c-.4-.4-.92-.59-1.43-.59-.52 0-1.04.2-1.43.59L10.3 9.45l-7.72 7.72c-.78.78-.78 2.05 0 2.83L4 21.41c.39.39.9.59 1.41.59.51 0 1.02-.2 1.41-.59l7.78-7.78 2.81-2.81c.8-.78.8-2.07 0-2.86zM5.41 20L4 18.59l7.72-7.72 1.47 1.35L5.41 20z\"/>\n",
       "  </svg>\n",
       "      </button>\n",
       "      \n",
       "  <style>\n",
       "    .colab-df-container {\n",
       "      display:flex;\n",
       "      flex-wrap:wrap;\n",
       "      gap: 12px;\n",
       "    }\n",
       "\n",
       "    .colab-df-convert {\n",
       "      background-color: #E8F0FE;\n",
       "      border: none;\n",
       "      border-radius: 50%;\n",
       "      cursor: pointer;\n",
       "      display: none;\n",
       "      fill: #1967D2;\n",
       "      height: 32px;\n",
       "      padding: 0 0 0 0;\n",
       "      width: 32px;\n",
       "    }\n",
       "\n",
       "    .colab-df-convert:hover {\n",
       "      background-color: #E2EBFA;\n",
       "      box-shadow: 0px 1px 2px rgba(60, 64, 67, 0.3), 0px 1px 3px 1px rgba(60, 64, 67, 0.15);\n",
       "      fill: #174EA6;\n",
       "    }\n",
       "\n",
       "    [theme=dark] .colab-df-convert {\n",
       "      background-color: #3B4455;\n",
       "      fill: #D2E3FC;\n",
       "    }\n",
       "\n",
       "    [theme=dark] .colab-df-convert:hover {\n",
       "      background-color: #434B5C;\n",
       "      box-shadow: 0px 1px 3px 1px rgba(0, 0, 0, 0.15);\n",
       "      filter: drop-shadow(0px 1px 2px rgba(0, 0, 0, 0.3));\n",
       "      fill: #FFFFFF;\n",
       "    }\n",
       "  </style>\n",
       "\n",
       "      <script>\n",
       "        const buttonEl =\n",
       "          document.querySelector('#df-e7388d95-4adf-4e0a-9bb3-c29fcc33e7d4 button.colab-df-convert');\n",
       "        buttonEl.style.display =\n",
       "          google.colab.kernel.accessAllowed ? 'block' : 'none';\n",
       "\n",
       "        async function convertToInteractive(key) {\n",
       "          const element = document.querySelector('#df-e7388d95-4adf-4e0a-9bb3-c29fcc33e7d4');\n",
       "          const dataTable =\n",
       "            await google.colab.kernel.invokeFunction('convertToInteractive',\n",
       "                                                     [key], {});\n",
       "          if (!dataTable) return;\n",
       "\n",
       "          const docLinkHtml = 'Like what you see? Visit the ' +\n",
       "            '<a target=\"_blank\" href=https://colab.research.google.com/notebooks/data_table.ipynb>data table notebook</a>'\n",
       "            + ' to learn more about interactive tables.';\n",
       "          element.innerHTML = '';\n",
       "          dataTable['output_type'] = 'display_data';\n",
       "          await google.colab.output.renderOutput(dataTable, element);\n",
       "          const docLink = document.createElement('div');\n",
       "          docLink.innerHTML = docLinkHtml;\n",
       "          element.appendChild(docLink);\n",
       "        }\n",
       "      </script>\n",
       "    </div>\n",
       "  </div>\n",
       "  "
      ],
      "text/plain": [
       "                            name  amount  year\n",
       "554365       Yazmin Selene Iriel       1  2013\n",
       "646918           Alejandro Pedro       1  2013\n",
       "290829             Camilo Samuel       3  2012\n",
       "562775               Cielo Aleli       1  2013\n",
       "559520                Yenhy Maya       1  2013\n",
       "199418  Oriana Valentina Mariana       1  2011\n",
       "692299                      Nila       4  2014\n",
       "101663             Emanuel Adair       1  2010\n",
       "431199             Nadia Micaela       1  2012\n",
       "208449        Alhue Ana Estrella       1  2011"
      ]
     },
     "metadata": {},
     "output_type": "display_data"
    }
   ],
   "source": [
    "df_names.sample(10)"
   ]
  },
  {
   "cell_type": "markdown",
   "metadata": {
    "id": "u15ncIh3Q4jO"
   },
   "source": [
    "## Append a new row"
   ]
  },
  {
   "cell_type": "markdown",
   "metadata": {
    "id": "DyhUYuu2Q4jQ"
   },
   "source": [
    "**TODO:** Suppose that in the data load, someone forgot to add a name and its respective amount and year.\n",
    "\n",
    "Let's add to our dataset the following row with said information:\n",
    "\n",
    "Name: \"Daenerys Stormborn of the House Targaryen, First of Her Name de ella, the Unburnt, Queen of the Andals and the First Men, Khaleesi of the Great Grass Sea, Breaker of Chains, and Mother of Dragons\"\n",
    "\n",
    "Amount: 100\n",
    "Year: 2011"
   ]
  },
  {
   "cell_type": "code",
   "execution_count": null,
   "metadata": {
    "colab": {
     "base_uri": "https://localhost:8080/",
     "height": 424
    },
    "id": "s_uvRquYQ4jR",
    "outputId": "f7015d1a-dbdd-4fba-e713-af5f4f607f66"
   },
   "outputs": [
    {
     "data": {
      "text/html": [
       "\n",
       "  <div id=\"df-67ad94a8-8c6a-45e3-ab7a-7ab635fefce7\">\n",
       "    <div class=\"colab-df-container\">\n",
       "      <div>\n",
       "<style scoped>\n",
       "    .dataframe tbody tr th:only-of-type {\n",
       "        vertical-align: middle;\n",
       "    }\n",
       "\n",
       "    .dataframe tbody tr th {\n",
       "        vertical-align: top;\n",
       "    }\n",
       "\n",
       "    .dataframe thead th {\n",
       "        text-align: right;\n",
       "    }\n",
       "</style>\n",
       "<table border=\"1\" class=\"dataframe\">\n",
       "  <thead>\n",
       "    <tr style=\"text-align: right;\">\n",
       "      <th></th>\n",
       "      <th>name</th>\n",
       "      <th>amount</th>\n",
       "      <th>year</th>\n",
       "    </tr>\n",
       "  </thead>\n",
       "  <tbody>\n",
       "    <tr>\n",
       "      <th>0</th>\n",
       "      <td>Benjamin</td>\n",
       "      <td>2986</td>\n",
       "      <td>2010</td>\n",
       "    </tr>\n",
       "    <tr>\n",
       "      <th>1</th>\n",
       "      <td>Sofia</td>\n",
       "      <td>2252</td>\n",
       "      <td>2010</td>\n",
       "    </tr>\n",
       "    <tr>\n",
       "      <th>2</th>\n",
       "      <td>Bautista</td>\n",
       "      <td>2176</td>\n",
       "      <td>2010</td>\n",
       "    </tr>\n",
       "    <tr>\n",
       "      <th>3</th>\n",
       "      <td>Joaquín</td>\n",
       "      <td>2111</td>\n",
       "      <td>2010</td>\n",
       "    </tr>\n",
       "    <tr>\n",
       "      <th>4</th>\n",
       "      <td>Juan Ignacio</td>\n",
       "      <td>2039</td>\n",
       "      <td>2010</td>\n",
       "    </tr>\n",
       "    <tr>\n",
       "      <th>...</th>\n",
       "      <td>...</td>\n",
       "      <td>...</td>\n",
       "      <td>...</td>\n",
       "    </tr>\n",
       "    <tr>\n",
       "      <th>871490</th>\n",
       "      <td>Isaias Sebastian Ariel</td>\n",
       "      <td>1</td>\n",
       "      <td>2014</td>\n",
       "    </tr>\n",
       "    <tr>\n",
       "      <th>871491</th>\n",
       "      <td>Yanira Valentina</td>\n",
       "      <td>1</td>\n",
       "      <td>2014</td>\n",
       "    </tr>\n",
       "    <tr>\n",
       "      <th>871492</th>\n",
       "      <td>Angie Ainara</td>\n",
       "      <td>1</td>\n",
       "      <td>2014</td>\n",
       "    </tr>\n",
       "    <tr>\n",
       "      <th>871493</th>\n",
       "      <td>Elias Hernando</td>\n",
       "      <td>1</td>\n",
       "      <td>2014</td>\n",
       "    </tr>\n",
       "    <tr>\n",
       "      <th>871494</th>\n",
       "      <td>Daenerys Stormborn of the House Targaryen, Fir...</td>\n",
       "      <td>100</td>\n",
       "      <td>2011</td>\n",
       "    </tr>\n",
       "  </tbody>\n",
       "</table>\n",
       "<p>871495 rows × 3 columns</p>\n",
       "</div>\n",
       "      <button class=\"colab-df-convert\" onclick=\"convertToInteractive('df-67ad94a8-8c6a-45e3-ab7a-7ab635fefce7')\"\n",
       "              title=\"Convert this dataframe to an interactive table.\"\n",
       "              style=\"display:none;\">\n",
       "        \n",
       "  <svg xmlns=\"http://www.w3.org/2000/svg\" height=\"24px\"viewBox=\"0 0 24 24\"\n",
       "       width=\"24px\">\n",
       "    <path d=\"M0 0h24v24H0V0z\" fill=\"none\"/>\n",
       "    <path d=\"M18.56 5.44l.94 2.06.94-2.06 2.06-.94-2.06-.94-.94-2.06-.94 2.06-2.06.94zm-11 1L8.5 8.5l.94-2.06 2.06-.94-2.06-.94L8.5 2.5l-.94 2.06-2.06.94zm10 10l.94 2.06.94-2.06 2.06-.94-2.06-.94-.94-2.06-.94 2.06-2.06.94z\"/><path d=\"M17.41 7.96l-1.37-1.37c-.4-.4-.92-.59-1.43-.59-.52 0-1.04.2-1.43.59L10.3 9.45l-7.72 7.72c-.78.78-.78 2.05 0 2.83L4 21.41c.39.39.9.59 1.41.59.51 0 1.02-.2 1.41-.59l7.78-7.78 2.81-2.81c.8-.78.8-2.07 0-2.86zM5.41 20L4 18.59l7.72-7.72 1.47 1.35L5.41 20z\"/>\n",
       "  </svg>\n",
       "      </button>\n",
       "      \n",
       "  <style>\n",
       "    .colab-df-container {\n",
       "      display:flex;\n",
       "      flex-wrap:wrap;\n",
       "      gap: 12px;\n",
       "    }\n",
       "\n",
       "    .colab-df-convert {\n",
       "      background-color: #E8F0FE;\n",
       "      border: none;\n",
       "      border-radius: 50%;\n",
       "      cursor: pointer;\n",
       "      display: none;\n",
       "      fill: #1967D2;\n",
       "      height: 32px;\n",
       "      padding: 0 0 0 0;\n",
       "      width: 32px;\n",
       "    }\n",
       "\n",
       "    .colab-df-convert:hover {\n",
       "      background-color: #E2EBFA;\n",
       "      box-shadow: 0px 1px 2px rgba(60, 64, 67, 0.3), 0px 1px 3px 1px rgba(60, 64, 67, 0.15);\n",
       "      fill: #174EA6;\n",
       "    }\n",
       "\n",
       "    [theme=dark] .colab-df-convert {\n",
       "      background-color: #3B4455;\n",
       "      fill: #D2E3FC;\n",
       "    }\n",
       "\n",
       "    [theme=dark] .colab-df-convert:hover {\n",
       "      background-color: #434B5C;\n",
       "      box-shadow: 0px 1px 3px 1px rgba(0, 0, 0, 0.15);\n",
       "      filter: drop-shadow(0px 1px 2px rgba(0, 0, 0, 0.3));\n",
       "      fill: #FFFFFF;\n",
       "    }\n",
       "  </style>\n",
       "\n",
       "      <script>\n",
       "        const buttonEl =\n",
       "          document.querySelector('#df-67ad94a8-8c6a-45e3-ab7a-7ab635fefce7 button.colab-df-convert');\n",
       "        buttonEl.style.display =\n",
       "          google.colab.kernel.accessAllowed ? 'block' : 'none';\n",
       "\n",
       "        async function convertToInteractive(key) {\n",
       "          const element = document.querySelector('#df-67ad94a8-8c6a-45e3-ab7a-7ab635fefce7');\n",
       "          const dataTable =\n",
       "            await google.colab.kernel.invokeFunction('convertToInteractive',\n",
       "                                                     [key], {});\n",
       "          if (!dataTable) return;\n",
       "\n",
       "          const docLinkHtml = 'Like what you see? Visit the ' +\n",
       "            '<a target=\"_blank\" href=https://colab.research.google.com/notebooks/data_table.ipynb>data table notebook</a>'\n",
       "            + ' to learn more about interactive tables.';\n",
       "          element.innerHTML = '';\n",
       "          dataTable['output_type'] = 'display_data';\n",
       "          await google.colab.output.renderOutput(dataTable, element);\n",
       "          const docLink = document.createElement('div');\n",
       "          docLink.innerHTML = docLinkHtml;\n",
       "          element.appendChild(docLink);\n",
       "        }\n",
       "      </script>\n",
       "    </div>\n",
       "  </div>\n",
       "  "
      ],
      "text/plain": [
       "                                                     name  amount  year\n",
       "0                                                Benjamin    2986  2010\n",
       "1                                                   Sofia    2252  2010\n",
       "2                                                Bautista    2176  2010\n",
       "3                                                 Joaquín    2111  2010\n",
       "4                                            Juan Ignacio    2039  2010\n",
       "...                                                   ...     ...   ...\n",
       "871490                             Isaias Sebastian Ariel       1  2014\n",
       "871491                                   Yanira Valentina       1  2014\n",
       "871492                                       Angie Ainara       1  2014\n",
       "871493                                     Elias Hernando       1  2014\n",
       "871494  Daenerys Stormborn of the House Targaryen, Fir...     100  2011\n",
       "\n",
       "[871495 rows x 3 columns]"
      ]
     },
     "metadata": {},
     "output_type": "display_data"
    }
   ],
   "source": [
    "new_name = {\n",
    "    'name': 'Daenerys Stormborn of the House Targaryen, First of Her Name de ella, the Unburnt, Queen of the Andals and the First Men, Khaleesi of the Great Grass Sea, Breaker of Chains, and Mother of Dragons',\n",
    "    'amount': 100,\n",
    "    'year': 2011\n",
    "}\n",
    "\n",
    "df_names = df_names.append(new_name, ignore_index=True)\n",
    "df_names"
   ]
  },
  {
   "cell_type": "markdown",
   "metadata": {
    "id": "vWsZ-dziQ4jR"
   },
   "source": [
    "**TODO:** Investigate the columns and index functions. What do they do? What data type is their output? What known data type do they resemble?"
   ]
  },
  {
   "cell_type": "code",
   "execution_count": null,
   "metadata": {
    "colab": {
     "base_uri": "https://localhost:8080/"
    },
    "id": "o-dDWiEvQ4jS",
    "outputId": "2ec4d9e8-dc8a-4ba8-a9d0-c3db7fd8a0f9"
   },
   "outputs": [
    {
     "data": {
      "text/plain": [
       "Index(['name', 'amount', 'year'], dtype='object')"
      ]
     },
     "metadata": {},
     "output_type": "display_data"
    }
   ],
   "source": [
    "df_names.columns"
   ]
  },
  {
   "cell_type": "code",
   "execution_count": null,
   "metadata": {
    "colab": {
     "base_uri": "https://localhost:8080/"
    },
    "id": "_BhSEgXR8NkK",
    "outputId": "15df1f2f-3e5c-40be-f378-d0035d5e7ab1"
   },
   "outputs": [
    {
     "data": {
      "text/plain": [
       "RangeIndex(start=0, stop=871495, step=1)"
      ]
     },
     "metadata": {},
     "output_type": "display_data"
    }
   ],
   "source": [
    "df_names.index"
   ]
  },
  {
   "cell_type": "markdown",
   "metadata": {
    "id": "Bc2XuM81Q4jS"
   },
   "source": [
    "**TODO:** What do the following operations do"
   ]
  },
  {
   "cell_type": "code",
   "execution_count": null,
   "metadata": {
    "colab": {
     "base_uri": "https://localhost:8080/"
    },
    "id": "gJRT9lrLQ4jT",
    "outputId": "bddbd4e4-b65e-4ad1-cf64-3aa4fde07a18"
   },
   "outputs": [
    {
     "data": {
      "text/plain": [
       "0                                                  Benjamin\n",
       "1                                                     Sofia\n",
       "2                                                  Bautista\n",
       "3                                                   Joaquín\n",
       "4                                              Juan Ignacio\n",
       "                                ...                        \n",
       "871490                               Isaias Sebastian Ariel\n",
       "871491                                     Yanira Valentina\n",
       "871492                                         Angie Ainara\n",
       "871493                                       Elias Hernando\n",
       "871494    Daenerys Stormborn of the House Targaryen, Fir...\n",
       "Name: name, Length: 871495, dtype: object"
      ]
     },
     "metadata": {},
     "output_type": "display_data"
    }
   ],
   "source": [
    "df_names['name']"
   ]
  },
  {
   "cell_type": "code",
   "execution_count": null,
   "metadata": {
    "colab": {
     "base_uri": "https://localhost:8080/",
     "height": 424
    },
    "id": "RGIzw0aJ89eX",
    "outputId": "acbba2be-6e58-4093-88c6-431840efe100"
   },
   "outputs": [
    {
     "data": {
      "text/html": [
       "\n",
       "  <div id=\"df-d559a5fd-8513-4b2e-9cb0-e7d5ecb3b5e6\">\n",
       "    <div class=\"colab-df-container\">\n",
       "      <div>\n",
       "<style scoped>\n",
       "    .dataframe tbody tr th:only-of-type {\n",
       "        vertical-align: middle;\n",
       "    }\n",
       "\n",
       "    .dataframe tbody tr th {\n",
       "        vertical-align: top;\n",
       "    }\n",
       "\n",
       "    .dataframe thead th {\n",
       "        text-align: right;\n",
       "    }\n",
       "</style>\n",
       "<table border=\"1\" class=\"dataframe\">\n",
       "  <thead>\n",
       "    <tr style=\"text-align: right;\">\n",
       "      <th></th>\n",
       "      <th>name</th>\n",
       "      <th>year</th>\n",
       "    </tr>\n",
       "  </thead>\n",
       "  <tbody>\n",
       "    <tr>\n",
       "      <th>0</th>\n",
       "      <td>Benjamin</td>\n",
       "      <td>2010</td>\n",
       "    </tr>\n",
       "    <tr>\n",
       "      <th>1</th>\n",
       "      <td>Sofia</td>\n",
       "      <td>2010</td>\n",
       "    </tr>\n",
       "    <tr>\n",
       "      <th>2</th>\n",
       "      <td>Bautista</td>\n",
       "      <td>2010</td>\n",
       "    </tr>\n",
       "    <tr>\n",
       "      <th>3</th>\n",
       "      <td>Joaquín</td>\n",
       "      <td>2010</td>\n",
       "    </tr>\n",
       "    <tr>\n",
       "      <th>4</th>\n",
       "      <td>Juan Ignacio</td>\n",
       "      <td>2010</td>\n",
       "    </tr>\n",
       "    <tr>\n",
       "      <th>...</th>\n",
       "      <td>...</td>\n",
       "      <td>...</td>\n",
       "    </tr>\n",
       "    <tr>\n",
       "      <th>871490</th>\n",
       "      <td>Isaias Sebastian Ariel</td>\n",
       "      <td>2014</td>\n",
       "    </tr>\n",
       "    <tr>\n",
       "      <th>871491</th>\n",
       "      <td>Yanira Valentina</td>\n",
       "      <td>2014</td>\n",
       "    </tr>\n",
       "    <tr>\n",
       "      <th>871492</th>\n",
       "      <td>Angie Ainara</td>\n",
       "      <td>2014</td>\n",
       "    </tr>\n",
       "    <tr>\n",
       "      <th>871493</th>\n",
       "      <td>Elias Hernando</td>\n",
       "      <td>2014</td>\n",
       "    </tr>\n",
       "    <tr>\n",
       "      <th>871494</th>\n",
       "      <td>Daenerys Stormborn of the House Targaryen, Fir...</td>\n",
       "      <td>2011</td>\n",
       "    </tr>\n",
       "  </tbody>\n",
       "</table>\n",
       "<p>871495 rows × 2 columns</p>\n",
       "</div>\n",
       "      <button class=\"colab-df-convert\" onclick=\"convertToInteractive('df-d559a5fd-8513-4b2e-9cb0-e7d5ecb3b5e6')\"\n",
       "              title=\"Convert this dataframe to an interactive table.\"\n",
       "              style=\"display:none;\">\n",
       "        \n",
       "  <svg xmlns=\"http://www.w3.org/2000/svg\" height=\"24px\"viewBox=\"0 0 24 24\"\n",
       "       width=\"24px\">\n",
       "    <path d=\"M0 0h24v24H0V0z\" fill=\"none\"/>\n",
       "    <path d=\"M18.56 5.44l.94 2.06.94-2.06 2.06-.94-2.06-.94-.94-2.06-.94 2.06-2.06.94zm-11 1L8.5 8.5l.94-2.06 2.06-.94-2.06-.94L8.5 2.5l-.94 2.06-2.06.94zm10 10l.94 2.06.94-2.06 2.06-.94-2.06-.94-.94-2.06-.94 2.06-2.06.94z\"/><path d=\"M17.41 7.96l-1.37-1.37c-.4-.4-.92-.59-1.43-.59-.52 0-1.04.2-1.43.59L10.3 9.45l-7.72 7.72c-.78.78-.78 2.05 0 2.83L4 21.41c.39.39.9.59 1.41.59.51 0 1.02-.2 1.41-.59l7.78-7.78 2.81-2.81c.8-.78.8-2.07 0-2.86zM5.41 20L4 18.59l7.72-7.72 1.47 1.35L5.41 20z\"/>\n",
       "  </svg>\n",
       "      </button>\n",
       "      \n",
       "  <style>\n",
       "    .colab-df-container {\n",
       "      display:flex;\n",
       "      flex-wrap:wrap;\n",
       "      gap: 12px;\n",
       "    }\n",
       "\n",
       "    .colab-df-convert {\n",
       "      background-color: #E8F0FE;\n",
       "      border: none;\n",
       "      border-radius: 50%;\n",
       "      cursor: pointer;\n",
       "      display: none;\n",
       "      fill: #1967D2;\n",
       "      height: 32px;\n",
       "      padding: 0 0 0 0;\n",
       "      width: 32px;\n",
       "    }\n",
       "\n",
       "    .colab-df-convert:hover {\n",
       "      background-color: #E2EBFA;\n",
       "      box-shadow: 0px 1px 2px rgba(60, 64, 67, 0.3), 0px 1px 3px 1px rgba(60, 64, 67, 0.15);\n",
       "      fill: #174EA6;\n",
       "    }\n",
       "\n",
       "    [theme=dark] .colab-df-convert {\n",
       "      background-color: #3B4455;\n",
       "      fill: #D2E3FC;\n",
       "    }\n",
       "\n",
       "    [theme=dark] .colab-df-convert:hover {\n",
       "      background-color: #434B5C;\n",
       "      box-shadow: 0px 1px 3px 1px rgba(0, 0, 0, 0.15);\n",
       "      filter: drop-shadow(0px 1px 2px rgba(0, 0, 0, 0.3));\n",
       "      fill: #FFFFFF;\n",
       "    }\n",
       "  </style>\n",
       "\n",
       "      <script>\n",
       "        const buttonEl =\n",
       "          document.querySelector('#df-d559a5fd-8513-4b2e-9cb0-e7d5ecb3b5e6 button.colab-df-convert');\n",
       "        buttonEl.style.display =\n",
       "          google.colab.kernel.accessAllowed ? 'block' : 'none';\n",
       "\n",
       "        async function convertToInteractive(key) {\n",
       "          const element = document.querySelector('#df-d559a5fd-8513-4b2e-9cb0-e7d5ecb3b5e6');\n",
       "          const dataTable =\n",
       "            await google.colab.kernel.invokeFunction('convertToInteractive',\n",
       "                                                     [key], {});\n",
       "          if (!dataTable) return;\n",
       "\n",
       "          const docLinkHtml = 'Like what you see? Visit the ' +\n",
       "            '<a target=\"_blank\" href=https://colab.research.google.com/notebooks/data_table.ipynb>data table notebook</a>'\n",
       "            + ' to learn more about interactive tables.';\n",
       "          element.innerHTML = '';\n",
       "          dataTable['output_type'] = 'display_data';\n",
       "          await google.colab.output.renderOutput(dataTable, element);\n",
       "          const docLink = document.createElement('div');\n",
       "          docLink.innerHTML = docLinkHtml;\n",
       "          element.appendChild(docLink);\n",
       "        }\n",
       "      </script>\n",
       "    </div>\n",
       "  </div>\n",
       "  "
      ],
      "text/plain": [
       "                                                     name  year\n",
       "0                                                Benjamin  2010\n",
       "1                                                   Sofia  2010\n",
       "2                                                Bautista  2010\n",
       "3                                                 Joaquín  2010\n",
       "4                                            Juan Ignacio  2010\n",
       "...                                                   ...   ...\n",
       "871490                             Isaias Sebastian Ariel  2014\n",
       "871491                                   Yanira Valentina  2014\n",
       "871492                                       Angie Ainara  2014\n",
       "871493                                     Elias Hernando  2014\n",
       "871494  Daenerys Stormborn of the House Targaryen, Fir...  2011\n",
       "\n",
       "[871495 rows x 2 columns]"
      ]
     },
     "metadata": {},
     "output_type": "display_data"
    }
   ],
   "source": [
    "df_names[['name', 'year']]"
   ]
  },
  {
   "cell_type": "code",
   "execution_count": null,
   "metadata": {
    "colab": {
     "base_uri": "https://localhost:8080/"
    },
    "id": "dlVy_zJ68_1N",
    "outputId": "ab7320b2-c35e-431d-9c9e-25664b034f8f"
   },
   "outputs": [
    {
     "data": {
      "text/plain": [
       "0         2986\n",
       "1         2252\n",
       "2         2176\n",
       "3         2111\n",
       "4         2039\n",
       "          ... \n",
       "871490       1\n",
       "871491       1\n",
       "871492       1\n",
       "871493       1\n",
       "871494     100\n",
       "Name: amount, Length: 871495, dtype: int64"
      ]
     },
     "metadata": {},
     "output_type": "display_data"
    }
   ],
   "source": [
    "df_names.amount"
   ]
  },
  {
   "cell_type": "code",
   "execution_count": null,
   "metadata": {
    "colab": {
     "base_uri": "https://localhost:8080/"
    },
    "id": "8pwL99QJ9CZi",
    "outputId": "0941122d-dddf-485e-f9df-41b56b4b86ca"
   },
   "outputs": [
    {
     "data": {
      "text/plain": [
       "0         2986\n",
       "1         2252\n",
       "2         2176\n",
       "3         2111\n",
       "4         2039\n",
       "          ... \n",
       "871490       1\n",
       "871491       1\n",
       "871492       1\n",
       "871493       1\n",
       "871494     100\n",
       "Name: amount, Length: 871495, dtype: int64"
      ]
     },
     "metadata": {},
     "output_type": "display_data"
    }
   ],
   "source": [
    "df_names['amount']"
   ]
  },
  {
   "cell_type": "code",
   "execution_count": null,
   "metadata": {
    "colab": {
     "base_uri": "https://localhost:8080/"
    },
    "id": "ptZjTE7K9Esu",
    "outputId": "e63d8c1c-8ad1-4d60-dc86-da720dcfcce8"
   },
   "outputs": [
    {
     "data": {
      "text/plain": [
       "True"
      ]
     },
     "metadata": {},
     "output_type": "display_data"
    }
   ],
   "source": [
    "'name' in df_names"
   ]
  },
  {
   "cell_type": "markdown",
   "metadata": {
    "id": "HPpauF0KQ4jT"
   },
   "source": [
    "**TODO:** Add a column to the dataframe that corresponds to the number of characters in each name"
   ]
  },
  {
   "cell_type": "markdown",
   "metadata": {
    "id": "PC8qZUapQ4jT"
   },
   "source": [
    "## Add a new column"
   ]
  },
  {
   "cell_type": "code",
   "execution_count": null,
   "metadata": {
    "colab": {
     "base_uri": "https://localhost:8080/",
     "height": 424
    },
    "id": "KIIicg1VQ4jU",
    "outputId": "8de98bc5-b86c-40a0-bed2-3d8e59acef3b"
   },
   "outputs": [
    {
     "data": {
      "text/html": [
       "\n",
       "  <div id=\"df-9e715a5f-860c-4ffe-b517-5f9cf6a4b385\">\n",
       "    <div class=\"colab-df-container\">\n",
       "      <div>\n",
       "<style scoped>\n",
       "    .dataframe tbody tr th:only-of-type {\n",
       "        vertical-align: middle;\n",
       "    }\n",
       "\n",
       "    .dataframe tbody tr th {\n",
       "        vertical-align: top;\n",
       "    }\n",
       "\n",
       "    .dataframe thead th {\n",
       "        text-align: right;\n",
       "    }\n",
       "</style>\n",
       "<table border=\"1\" class=\"dataframe\">\n",
       "  <thead>\n",
       "    <tr style=\"text-align: right;\">\n",
       "      <th></th>\n",
       "      <th>name</th>\n",
       "      <th>amount</th>\n",
       "      <th>year</th>\n",
       "      <th>amount_chars</th>\n",
       "    </tr>\n",
       "  </thead>\n",
       "  <tbody>\n",
       "    <tr>\n",
       "      <th>0</th>\n",
       "      <td>Benjamin</td>\n",
       "      <td>2986</td>\n",
       "      <td>2010</td>\n",
       "      <td>8</td>\n",
       "    </tr>\n",
       "    <tr>\n",
       "      <th>1</th>\n",
       "      <td>Sofia</td>\n",
       "      <td>2252</td>\n",
       "      <td>2010</td>\n",
       "      <td>5</td>\n",
       "    </tr>\n",
       "    <tr>\n",
       "      <th>2</th>\n",
       "      <td>Bautista</td>\n",
       "      <td>2176</td>\n",
       "      <td>2010</td>\n",
       "      <td>8</td>\n",
       "    </tr>\n",
       "    <tr>\n",
       "      <th>3</th>\n",
       "      <td>Joaquín</td>\n",
       "      <td>2111</td>\n",
       "      <td>2010</td>\n",
       "      <td>7</td>\n",
       "    </tr>\n",
       "    <tr>\n",
       "      <th>4</th>\n",
       "      <td>Juan Ignacio</td>\n",
       "      <td>2039</td>\n",
       "      <td>2010</td>\n",
       "      <td>12</td>\n",
       "    </tr>\n",
       "    <tr>\n",
       "      <th>...</th>\n",
       "      <td>...</td>\n",
       "      <td>...</td>\n",
       "      <td>...</td>\n",
       "      <td>...</td>\n",
       "    </tr>\n",
       "    <tr>\n",
       "      <th>871490</th>\n",
       "      <td>Isaias Sebastian Ariel</td>\n",
       "      <td>1</td>\n",
       "      <td>2014</td>\n",
       "      <td>22</td>\n",
       "    </tr>\n",
       "    <tr>\n",
       "      <th>871491</th>\n",
       "      <td>Yanira Valentina</td>\n",
       "      <td>1</td>\n",
       "      <td>2014</td>\n",
       "      <td>16</td>\n",
       "    </tr>\n",
       "    <tr>\n",
       "      <th>871492</th>\n",
       "      <td>Angie Ainara</td>\n",
       "      <td>1</td>\n",
       "      <td>2014</td>\n",
       "      <td>12</td>\n",
       "    </tr>\n",
       "    <tr>\n",
       "      <th>871493</th>\n",
       "      <td>Elias Hernando</td>\n",
       "      <td>1</td>\n",
       "      <td>2014</td>\n",
       "      <td>14</td>\n",
       "    </tr>\n",
       "    <tr>\n",
       "      <th>871494</th>\n",
       "      <td>Daenerys Stormborn of the House Targaryen, Fir...</td>\n",
       "      <td>100</td>\n",
       "      <td>2011</td>\n",
       "      <td>195</td>\n",
       "    </tr>\n",
       "  </tbody>\n",
       "</table>\n",
       "<p>871495 rows × 4 columns</p>\n",
       "</div>\n",
       "      <button class=\"colab-df-convert\" onclick=\"convertToInteractive('df-9e715a5f-860c-4ffe-b517-5f9cf6a4b385')\"\n",
       "              title=\"Convert this dataframe to an interactive table.\"\n",
       "              style=\"display:none;\">\n",
       "        \n",
       "  <svg xmlns=\"http://www.w3.org/2000/svg\" height=\"24px\"viewBox=\"0 0 24 24\"\n",
       "       width=\"24px\">\n",
       "    <path d=\"M0 0h24v24H0V0z\" fill=\"none\"/>\n",
       "    <path d=\"M18.56 5.44l.94 2.06.94-2.06 2.06-.94-2.06-.94-.94-2.06-.94 2.06-2.06.94zm-11 1L8.5 8.5l.94-2.06 2.06-.94-2.06-.94L8.5 2.5l-.94 2.06-2.06.94zm10 10l.94 2.06.94-2.06 2.06-.94-2.06-.94-.94-2.06-.94 2.06-2.06.94z\"/><path d=\"M17.41 7.96l-1.37-1.37c-.4-.4-.92-.59-1.43-.59-.52 0-1.04.2-1.43.59L10.3 9.45l-7.72 7.72c-.78.78-.78 2.05 0 2.83L4 21.41c.39.39.9.59 1.41.59.51 0 1.02-.2 1.41-.59l7.78-7.78 2.81-2.81c.8-.78.8-2.07 0-2.86zM5.41 20L4 18.59l7.72-7.72 1.47 1.35L5.41 20z\"/>\n",
       "  </svg>\n",
       "      </button>\n",
       "      \n",
       "  <style>\n",
       "    .colab-df-container {\n",
       "      display:flex;\n",
       "      flex-wrap:wrap;\n",
       "      gap: 12px;\n",
       "    }\n",
       "\n",
       "    .colab-df-convert {\n",
       "      background-color: #E8F0FE;\n",
       "      border: none;\n",
       "      border-radius: 50%;\n",
       "      cursor: pointer;\n",
       "      display: none;\n",
       "      fill: #1967D2;\n",
       "      height: 32px;\n",
       "      padding: 0 0 0 0;\n",
       "      width: 32px;\n",
       "    }\n",
       "\n",
       "    .colab-df-convert:hover {\n",
       "      background-color: #E2EBFA;\n",
       "      box-shadow: 0px 1px 2px rgba(60, 64, 67, 0.3), 0px 1px 3px 1px rgba(60, 64, 67, 0.15);\n",
       "      fill: #174EA6;\n",
       "    }\n",
       "\n",
       "    [theme=dark] .colab-df-convert {\n",
       "      background-color: #3B4455;\n",
       "      fill: #D2E3FC;\n",
       "    }\n",
       "\n",
       "    [theme=dark] .colab-df-convert:hover {\n",
       "      background-color: #434B5C;\n",
       "      box-shadow: 0px 1px 3px 1px rgba(0, 0, 0, 0.15);\n",
       "      filter: drop-shadow(0px 1px 2px rgba(0, 0, 0, 0.3));\n",
       "      fill: #FFFFFF;\n",
       "    }\n",
       "  </style>\n",
       "\n",
       "      <script>\n",
       "        const buttonEl =\n",
       "          document.querySelector('#df-9e715a5f-860c-4ffe-b517-5f9cf6a4b385 button.colab-df-convert');\n",
       "        buttonEl.style.display =\n",
       "          google.colab.kernel.accessAllowed ? 'block' : 'none';\n",
       "\n",
       "        async function convertToInteractive(key) {\n",
       "          const element = document.querySelector('#df-9e715a5f-860c-4ffe-b517-5f9cf6a4b385');\n",
       "          const dataTable =\n",
       "            await google.colab.kernel.invokeFunction('convertToInteractive',\n",
       "                                                     [key], {});\n",
       "          if (!dataTable) return;\n",
       "\n",
       "          const docLinkHtml = 'Like what you see? Visit the ' +\n",
       "            '<a target=\"_blank\" href=https://colab.research.google.com/notebooks/data_table.ipynb>data table notebook</a>'\n",
       "            + ' to learn more about interactive tables.';\n",
       "          element.innerHTML = '';\n",
       "          dataTable['output_type'] = 'display_data';\n",
       "          await google.colab.output.renderOutput(dataTable, element);\n",
       "          const docLink = document.createElement('div');\n",
       "          docLink.innerHTML = docLinkHtml;\n",
       "          element.appendChild(docLink);\n",
       "        }\n",
       "      </script>\n",
       "    </div>\n",
       "  </div>\n",
       "  "
      ],
      "text/plain": [
       "                                                     name  amount  year  \\\n",
       "0                                                Benjamin    2986  2010   \n",
       "1                                                   Sofia    2252  2010   \n",
       "2                                                Bautista    2176  2010   \n",
       "3                                                 Joaquín    2111  2010   \n",
       "4                                            Juan Ignacio    2039  2010   \n",
       "...                                                   ...     ...   ...   \n",
       "871490                             Isaias Sebastian Ariel       1  2014   \n",
       "871491                                   Yanira Valentina       1  2014   \n",
       "871492                                       Angie Ainara       1  2014   \n",
       "871493                                     Elias Hernando       1  2014   \n",
       "871494  Daenerys Stormborn of the House Targaryen, Fir...     100  2011   \n",
       "\n",
       "        amount_chars  \n",
       "0                  8  \n",
       "1                  5  \n",
       "2                  8  \n",
       "3                  7  \n",
       "4                 12  \n",
       "...              ...  \n",
       "871490            22  \n",
       "871491            16  \n",
       "871492            12  \n",
       "871493            14  \n",
       "871494           195  \n",
       "\n",
       "[871495 rows x 4 columns]"
      ]
     },
     "metadata": {},
     "output_type": "display_data"
    }
   ],
   "source": [
    "df_names['amount_chars'] = df_names['name'].str.len()\n",
    "df_names"
   ]
  },
  {
   "cell_type": "markdown",
   "metadata": {
    "id": "RDKEXbxhQ4jU"
   },
   "source": [
    "## Filtering by mask\n",
    "\n",
    "Its implementation is very similar in both NumPy and Pandas, so we will see how to do it first in NumPy then in Pandas.\n",
    "\n",
    "Suppose we make 100 rolls of a die, but we want to select only those rolls that were greater than four. How can we do it?"
   ]
  },
  {
   "cell_type": "code",
   "execution_count": null,
   "metadata": {
    "id": "l_nnjUuD9Pka"
   },
   "outputs": [],
   "source": [
    "import numpy as np"
   ]
  },
  {
   "cell_type": "code",
   "execution_count": null,
   "metadata": {
    "colab": {
     "base_uri": "https://localhost:8080/"
    },
    "id": "6pRyLFwTQ4jV",
    "outputId": "bf090b43-0a3b-49dd-8356-4e669d43ad30"
   },
   "outputs": [
    {
     "name": "stdout",
     "output_type": "stream",
     "text": [
      "[2 6 1 4 2 3 1 3 4 3 1 6 6 5 3 6 5 6 1 6 1 6 2 5 2 3 6 2 1 5 2 1 5 1 2 4 1\n",
      " 5 3 4 1 2 6 1 4 4 2 6 5 2 5 2 4 6 1 2 2 3 5 1 2 1 4 6 1 5 1 6 2 1 5 1 4 4\n",
      " 5 1 6 5 4 3 4 5 5 1 2 5 3 5 1 5 4 3 6 6 6 1 3 3 6 4]\n"
     ]
    }
   ],
   "source": [
    "dice = np.random.randint(1, 7, size=100)\n",
    "print(dice)"
   ]
  },
  {
   "cell_type": "markdown",
   "metadata": {
    "id": "fsZjUzBAQ4jW"
   },
   "source": [
    "What we can do is create a mask:"
   ]
  },
  {
   "cell_type": "code",
   "execution_count": null,
   "metadata": {
    "colab": {
     "base_uri": "https://localhost:8080/"
    },
    "id": "xar0AoOSQ4jW",
    "outputId": "bbebd60f-01d2-4fd9-a980-45bda395646a"
   },
   "outputs": [
    {
     "name": "stdout",
     "output_type": "stream",
     "text": [
      "[False  True False  True False False False False  True False False  True\n",
      "  True  True False  True  True  True False  True False  True False  True\n",
      " False False  True False False  True False False  True False False  True\n",
      " False  True False  True False False  True False  True  True False  True\n",
      "  True False  True False  True  True False False False False  True False\n",
      " False False  True  True False  True False  True False False  True False\n",
      "  True  True  True False  True  True  True False  True  True  True False\n",
      " False  True False  True False  True  True False  True  True  True False\n",
      " False False  True  True]\n",
      "<class 'numpy.ndarray'>\n"
     ]
    }
   ],
   "source": [
    "mask = dice > 3\n",
    "print(mask)\n",
    "print(type(mask))"
   ]
  },
  {
   "cell_type": "code",
   "execution_count": null,
   "metadata": {
    "colab": {
     "base_uri": "https://localhost:8080/"
    },
    "id": "Iahv1gBrQ4jW",
    "outputId": "e6c18e5b-1713-4656-a6de-1bd77c0982a3"
   },
   "outputs": [
    {
     "name": "stdout",
     "output_type": "stream",
     "text": [
      "[6 4 4 6 6 5 6 5 6 6 6 5 6 5 5 4 5 4 6 4 4 6 5 5 4 6 5 4 6 5 6 5 4 4 5 6 5\n",
      " 4 4 5 5 5 5 5 4 6 6 6 6 4]\n"
     ]
    }
   ],
   "source": [
    "print(dice[mask])"
   ]
  },
  {
   "cell_type": "code",
   "execution_count": null,
   "metadata": {
    "colab": {
     "base_uri": "https://localhost:8080/"
    },
    "id": "H0e40JjmQ4jX",
    "outputId": "436696d1-0f57-40a9-be41-5469ac203f25"
   },
   "outputs": [
    {
     "name": "stdout",
     "output_type": "stream",
     "text": [
      "344\n"
     ]
    }
   ],
   "source": [
    "print(dice.sum())"
   ]
  },
  {
   "cell_type": "code",
   "execution_count": null,
   "metadata": {
    "colab": {
     "base_uri": "https://localhost:8080/"
    },
    "id": "1RsauVufQ4jX",
    "outputId": "6e4665eb-de08-4f26-a741-18f376333f72"
   },
   "outputs": [
    {
     "name": "stdout",
     "output_type": "stream",
     "text": [
      "[6 4 4 6 6 5 6 5 6 6 6 5 6 5 5 4 5 4 6 4 4 6 5 5 4 6 5 4 6 5 6 5 4 4 5 6 5\n",
      " 4 4 5 5 5 5 5 4 6 6 6 6 4]\n"
     ]
    }
   ],
   "source": [
    "print(dice[dice > 3])"
   ]
  },
  {
   "cell_type": "markdown",
   "metadata": {
    "id": "Ug5EdAFiQ4jX"
   },
   "source": [
    "**TODO:** Going back to our dataset, suppose we want to keep those names that were repeated more than 2000 times"
   ]
  },
  {
   "cell_type": "code",
   "execution_count": null,
   "metadata": {
    "colab": {
     "base_uri": "https://localhost:8080/"
    },
    "id": "88FRrCo6Q4jY",
    "outputId": "a10b41ad-1346-470f-dc97-454d7db6c5d6",
    "scrolled": true
   },
   "outputs": [
    {
     "name": "stdout",
     "output_type": "stream",
     "text": [
      "Names repeated more than 2000 times:\n",
      "                   name  amount  year  amount_chars\n",
      "0              Benjamin    2986  2010             8\n",
      "1                 Sofia    2252  2010             5\n",
      "2              Bautista    2176  2010             8\n",
      "3               Joaquín    2111  2010             7\n",
      "4          Juan Ignacio    2039  2010            12\n",
      "5               Martina    2026  2010             7\n",
      "6              Santiago    2012  2010             8\n",
      "135000         Benjamin    2535  2011             8\n",
      "254431         Benjamin    4724  2012             8\n",
      "254432         Isabella    3392  2012             8\n",
      "254433          Joaquin    3138  2012             7\n",
      "254434          Martina    3130  2012             7\n",
      "254435            Sofía    3024  2012             5\n",
      "254436         Catalina    3017  2012             8\n",
      "254437         Bautista    3009  2012             8\n",
      "254438          Santino    2929  2012             7\n",
      "254439     Juan Ignacio    2632  2012            12\n",
      "254440        Valentina    2564  2012             9\n",
      "254441        Valentino    2514  2012             9\n",
      "254442           Felipe    2513  2012             6\n",
      "254443         Santiago    2457  2012             8\n",
      "254444            Mateo    2319  2012             5\n",
      "254445          Delfina    2251  2012             7\n",
      "254446             Emma    2008  2012             4\n",
      "457917         Benjamin    4960  2013             8\n",
      "457918         Isabella    3587  2013             8\n",
      "457919          Martina    3532  2013             7\n",
      "457920          Santino    3215  2013             7\n",
      "457921         Catalina    2934  2013             8\n",
      "457922         Bautista    2831  2013             8\n",
      "457923            Sofia    2735  2013             5\n",
      "457924          Joaquin    2636  2013             7\n",
      "457925            Mateo    2587  2013             5\n",
      "457926        Francisco    2455  2013             9\n",
      "457927       Valentina     2450  2013            10\n",
      "457928           Felipe    2404  2013             6\n",
      "457929        Valentino    2298  2013             9\n",
      "457930     Juan Ignacio    2198  2013            12\n",
      "457931  Thiago Benjamin    2107  2013            15\n",
      "457932             Emma    2063  2013             4\n",
      "457933         Santiago    2049  2013             8\n",
      "457934          Delfina    2036  2013             7\n",
      "662387         Benjamin    4286  2014             8\n",
      "662388          Martina    3563  2014             7\n",
      "662389         Isabella    3546  2014             8\n",
      "662390         Catalina    2868  2014             8\n",
      "662391         Bautista    2820  2014             8\n",
      "662392            Sofia    2805  2014             5\n",
      "662393        Valentino    2702  2014             9\n",
      "662394           Felipe    2684  2014             6\n",
      "662395          Joaquin    2607  2014             7\n",
      "662396             Emma    2600  2014             4\n",
      "662397          Santino    2516  2014             7\n",
      "662398        Valentina    2432  2014             9\n",
      "662399            Mateo    2402  2014             5\n",
      "662400          Delfina    2285  2014             7\n",
      "662401     Juan Ignacio    2260  2014            12\n",
      "662402           Olivia    2213  2014             6\n",
      "662403        Francisco    2140  2014             9\n",
      "662404           Emilia    2075  2014             6\n",
      "\n",
      "Count of names repeated more than 2000 times:\n",
      "name            60\n",
      "amount          60\n",
      "year            60\n",
      "amount_chars    60\n",
      "dtype: int64\n"
     ]
    }
   ],
   "source": [
    "# To complete\n",
    "mask = df_names[\"amount\"]>2000\n",
    "print(\"Names repeated more than 2000 times:\\n\",df_names[mask],\"\\n\",sep=\"\")\n",
    "print(\"Count of names repeated more than 2000 times:\\n\",df_names[mask].count(),sep=\"\")"
   ]
  },
  {
   "cell_type": "markdown",
   "metadata": {
    "id": "Ojll_QyOQ4jY"
   },
   "source": [
    "**TODO:** What if we want to select those names with more than 8 letters and from 2010 onwards?"
   ]
  },
  {
   "cell_type": "code",
   "execution_count": null,
   "metadata": {
    "colab": {
     "base_uri": "https://localhost:8080/"
    },
    "id": "ZljRV67DQ4jY",
    "outputId": "427afebb-6350-4d35-d4a6-e4050bccf677"
   },
   "outputs": [
    {
     "name": "stderr",
     "output_type": "stream",
     "text": [
      "/usr/local/lib/python3.7/dist-packages/ipykernel_launcher.py:5: UserWarning: Boolean Series key will be reindexed to match DataFrame index.\n",
      "  \"\"\"\n"
     ]
    },
    {
     "name": "stdout",
     "output_type": "stream",
     "text": [
      "                                                     name  amount       year  \\\n",
      "135008                                       Juan Ignacio    1514 2011-01-01   \n",
      "135009                                          Valentina    1502 2011-01-01   \n",
      "135013                                          Valentino    1381 2011-01-01   \n",
      "135018                                          Francisco    1100 2011-01-01   \n",
      "135024                                    Thiago Benjamin     925 2011-01-01   \n",
      "...                                                   ...     ...        ...   \n",
      "871490                             Isaias Sebastian Ariel       1 2014-01-01   \n",
      "871491                                   Yanira Valentina       1 2014-01-01   \n",
      "871492                                       Angie Ainara       1 2014-01-01   \n",
      "871493                                     Elias Hernando       1 2014-01-01   \n",
      "871494  Daenerys Stormborn of the House Targaryen, Fir...     100 2011-01-01   \n",
      "\n",
      "        amount_chars  \n",
      "135008            12  \n",
      "135009             9  \n",
      "135013             9  \n",
      "135018             9  \n",
      "135024            15  \n",
      "...              ...  \n",
      "871490            22  \n",
      "871491            16  \n",
      "871492            12  \n",
      "871493            14  \n",
      "871494           195  \n",
      "\n",
      "[717274 rows x 4 columns]\n"
     ]
    },
    {
     "name": "stderr",
     "output_type": "stream",
     "text": [
      "/usr/local/lib/python3.7/dist-packages/ipykernel_launcher.py:6: UserWarning: Boolean Series key will be reindexed to match DataFrame index.\n",
      "  \n"
     ]
    },
    {
     "name": "stdout",
     "output_type": "stream",
     "text": [
      "name            717274\n",
      "amount          717274\n",
      "year            717274\n",
      "amount_chars    717274\n",
      "dtype: int64\n"
     ]
    }
   ],
   "source": [
    "# To complete\n",
    "df_names[\"year\"] = pd.to_datetime(df_names[\"year\"], format=\"%Y\")\n",
    "mask2 = (df_names['amount_chars']>8)\n",
    "mask3 = (df_names[\"year\"] > pd.to_datetime(2010, format=\"%Y\"))\n",
    "print(df_names[mask2][mask3])\n",
    "print(df_names[mask2][mask3].count())\n"
   ]
  },
  {
   "cell_type": "markdown",
   "metadata": {
    "id": "XEwO0yB4Q4jZ"
   },
   "source": [
    "## Statistics"
   ]
  },
  {
   "cell_type": "markdown",
   "metadata": {
    "id": "YIkIyU8IQ4jZ"
   },
   "source": [
    "**TODO:** Obtain the mean value and standard deviation of each numeric column. Is there a function in Pandas that will give us even more statistics?"
   ]
  },
  {
   "cell_type": "markdown",
   "metadata": {
    "id": "d2-o8l7ZqsEz"
   },
   "source": [
    "![image.png](data:image/png;base64,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)"
   ]
  },
  {
   "cell_type": "code",
   "execution_count": null,
   "metadata": {
    "colab": {
     "base_uri": "https://localhost:8080/"
    },
    "id": "G3GLbtlYQ4jZ",
    "outputId": "7ef809ec-0058-4387-f3e1-8c28be3a6f89"
   },
   "outputs": [
    {
     "name": "stdout",
     "output_type": "stream",
     "text": [
      "   ages  heights\n",
      "0    14      165\n",
      "1    18      180\n",
      "2    24      176\n",
      "3    42      184 \n",
      "\n",
      "ages        24.50\n",
      "heights    176.25\n",
      "dtype: float64 \n",
      "\n",
      "ages       12.369317\n",
      "heights     8.180261\n",
      "dtype: float64 \n",
      "\n",
      "ages       153.000000\n",
      "heights     66.916667\n",
      "dtype: float64 \n",
      "\n",
      "ages        98\n",
      "heights    705\n",
      "dtype: int64 \n",
      "\n",
      "ages        21.0\n",
      "heights    178.0\n",
      "dtype: float64 \n",
      "\n",
      "ages       4\n",
      "heights    4\n",
      "dtype: int64 \n",
      "\n",
      "   ages  heights\n",
      "0    14      165\n",
      "1    32      345\n",
      "2    56      521\n",
      "3    98      705 \n",
      "\n",
      "     ages    heights\n",
      "0      14        165\n",
      "1     252      29700\n",
      "2    6048    5227200\n",
      "3  254016  961804800 \n",
      "\n"
     ]
    }
   ],
   "source": [
    "# To complete\n",
    "data = {\n",
    "   'ages': [14, 18, 24, 42],\n",
    "   'heights': [165, 180, 176, 184]\n",
    "} \n",
    "data_df = pd.DataFrame(data)\n",
    "print(data_df,\"\\n\")\n",
    "print(data_df.mean(),\"\\n\")\n",
    "print(data_df.std(),\"\\n\")\n",
    "print(data_df.var(),\"\\n\")\n",
    "print(data_df.sum(),\"\\n\")\n",
    "print(data_df.median(),\"\\n\")\n",
    "print(data_df.count(),\"\\n\")\n",
    "print(data_df.cumsum(),\"\\n\")\n",
    "print(data_df.cumprod(),\"\\n\")\n"
   ]
  },
  {
   "cell_type": "code",
   "execution_count": null,
   "metadata": {
    "colab": {
     "base_uri": "https://localhost:8080/",
     "height": 300
    },
    "id": "LMixWjOJ99KO",
    "outputId": "18b9a7d1-bc57-4ce5-9dfc-7d5c8ea4b3c5"
   },
   "outputs": [
    {
     "data": {
      "text/html": [
       "\n",
       "  <div id=\"df-d9c3bd3b-3915-43c3-ab9a-b32289860097\">\n",
       "    <div class=\"colab-df-container\">\n",
       "      <div>\n",
       "<style scoped>\n",
       "    .dataframe tbody tr th:only-of-type {\n",
       "        vertical-align: middle;\n",
       "    }\n",
       "\n",
       "    .dataframe tbody tr th {\n",
       "        vertical-align: top;\n",
       "    }\n",
       "\n",
       "    .dataframe thead th {\n",
       "        text-align: right;\n",
       "    }\n",
       "</style>\n",
       "<table border=\"1\" class=\"dataframe\">\n",
       "  <thead>\n",
       "    <tr style=\"text-align: right;\">\n",
       "      <th></th>\n",
       "      <th>ages</th>\n",
       "      <th>heights</th>\n",
       "    </tr>\n",
       "  </thead>\n",
       "  <tbody>\n",
       "    <tr>\n",
       "      <th>count</th>\n",
       "      <td>4.000000</td>\n",
       "      <td>4.000000</td>\n",
       "    </tr>\n",
       "    <tr>\n",
       "      <th>mean</th>\n",
       "      <td>24.500000</td>\n",
       "      <td>176.250000</td>\n",
       "    </tr>\n",
       "    <tr>\n",
       "      <th>std</th>\n",
       "      <td>12.369317</td>\n",
       "      <td>8.180261</td>\n",
       "    </tr>\n",
       "    <tr>\n",
       "      <th>min</th>\n",
       "      <td>14.000000</td>\n",
       "      <td>165.000000</td>\n",
       "    </tr>\n",
       "    <tr>\n",
       "      <th>25%</th>\n",
       "      <td>17.000000</td>\n",
       "      <td>173.250000</td>\n",
       "    </tr>\n",
       "    <tr>\n",
       "      <th>50%</th>\n",
       "      <td>21.000000</td>\n",
       "      <td>178.000000</td>\n",
       "    </tr>\n",
       "    <tr>\n",
       "      <th>75%</th>\n",
       "      <td>28.500000</td>\n",
       "      <td>181.000000</td>\n",
       "    </tr>\n",
       "    <tr>\n",
       "      <th>max</th>\n",
       "      <td>42.000000</td>\n",
       "      <td>184.000000</td>\n",
       "    </tr>\n",
       "  </tbody>\n",
       "</table>\n",
       "</div>\n",
       "      <button class=\"colab-df-convert\" onclick=\"convertToInteractive('df-d9c3bd3b-3915-43c3-ab9a-b32289860097')\"\n",
       "              title=\"Convert this dataframe to an interactive table.\"\n",
       "              style=\"display:none;\">\n",
       "        \n",
       "  <svg xmlns=\"http://www.w3.org/2000/svg\" height=\"24px\"viewBox=\"0 0 24 24\"\n",
       "       width=\"24px\">\n",
       "    <path d=\"M0 0h24v24H0V0z\" fill=\"none\"/>\n",
       "    <path d=\"M18.56 5.44l.94 2.06.94-2.06 2.06-.94-2.06-.94-.94-2.06-.94 2.06-2.06.94zm-11 1L8.5 8.5l.94-2.06 2.06-.94-2.06-.94L8.5 2.5l-.94 2.06-2.06.94zm10 10l.94 2.06.94-2.06 2.06-.94-2.06-.94-.94-2.06-.94 2.06-2.06.94z\"/><path d=\"M17.41 7.96l-1.37-1.37c-.4-.4-.92-.59-1.43-.59-.52 0-1.04.2-1.43.59L10.3 9.45l-7.72 7.72c-.78.78-.78 2.05 0 2.83L4 21.41c.39.39.9.59 1.41.59.51 0 1.02-.2 1.41-.59l7.78-7.78 2.81-2.81c.8-.78.8-2.07 0-2.86zM5.41 20L4 18.59l7.72-7.72 1.47 1.35L5.41 20z\"/>\n",
       "  </svg>\n",
       "      </button>\n",
       "      \n",
       "  <style>\n",
       "    .colab-df-container {\n",
       "      display:flex;\n",
       "      flex-wrap:wrap;\n",
       "      gap: 12px;\n",
       "    }\n",
       "\n",
       "    .colab-df-convert {\n",
       "      background-color: #E8F0FE;\n",
       "      border: none;\n",
       "      border-radius: 50%;\n",
       "      cursor: pointer;\n",
       "      display: none;\n",
       "      fill: #1967D2;\n",
       "      height: 32px;\n",
       "      padding: 0 0 0 0;\n",
       "      width: 32px;\n",
       "    }\n",
       "\n",
       "    .colab-df-convert:hover {\n",
       "      background-color: #E2EBFA;\n",
       "      box-shadow: 0px 1px 2px rgba(60, 64, 67, 0.3), 0px 1px 3px 1px rgba(60, 64, 67, 0.15);\n",
       "      fill: #174EA6;\n",
       "    }\n",
       "\n",
       "    [theme=dark] .colab-df-convert {\n",
       "      background-color: #3B4455;\n",
       "      fill: #D2E3FC;\n",
       "    }\n",
       "\n",
       "    [theme=dark] .colab-df-convert:hover {\n",
       "      background-color: #434B5C;\n",
       "      box-shadow: 0px 1px 3px 1px rgba(0, 0, 0, 0.15);\n",
       "      filter: drop-shadow(0px 1px 2px rgba(0, 0, 0, 0.3));\n",
       "      fill: #FFFFFF;\n",
       "    }\n",
       "  </style>\n",
       "\n",
       "      <script>\n",
       "        const buttonEl =\n",
       "          document.querySelector('#df-d9c3bd3b-3915-43c3-ab9a-b32289860097 button.colab-df-convert');\n",
       "        buttonEl.style.display =\n",
       "          google.colab.kernel.accessAllowed ? 'block' : 'none';\n",
       "\n",
       "        async function convertToInteractive(key) {\n",
       "          const element = document.querySelector('#df-d9c3bd3b-3915-43c3-ab9a-b32289860097');\n",
       "          const dataTable =\n",
       "            await google.colab.kernel.invokeFunction('convertToInteractive',\n",
       "                                                     [key], {});\n",
       "          if (!dataTable) return;\n",
       "\n",
       "          const docLinkHtml = 'Like what you see? Visit the ' +\n",
       "            '<a target=\"_blank\" href=https://colab.research.google.com/notebooks/data_table.ipynb>data table notebook</a>'\n",
       "            + ' to learn more about interactive tables.';\n",
       "          element.innerHTML = '';\n",
       "          dataTable['output_type'] = 'display_data';\n",
       "          await google.colab.output.renderOutput(dataTable, element);\n",
       "          const docLink = document.createElement('div');\n",
       "          docLink.innerHTML = docLinkHtml;\n",
       "          element.appendChild(docLink);\n",
       "        }\n",
       "      </script>\n",
       "    </div>\n",
       "  </div>\n",
       "  "
      ],
      "text/plain": [
       "            ages     heights\n",
       "count   4.000000    4.000000\n",
       "mean   24.500000  176.250000\n",
       "std    12.369317    8.180261\n",
       "min    14.000000  165.000000\n",
       "25%    17.000000  173.250000\n",
       "50%    21.000000  178.000000\n",
       "75%    28.500000  181.000000\n",
       "max    42.000000  184.000000"
      ]
     },
     "metadata": {},
     "output_type": "display_data"
    }
   ],
   "source": [
    "data_df.describe()"
   ]
  },
  {
   "cell_type": "markdown",
   "metadata": {
    "id": "x9vfcdK0Q4jZ"
   },
   "source": [
    "## Delete a column"
   ]
  },
  {
   "cell_type": "markdown",
   "metadata": {
    "id": "LqOMcrjHQ4ja"
   },
   "source": [
    "**TODO:** Throw the column amount_chars."
   ]
  },
  {
   "cell_type": "code",
   "execution_count": null,
   "metadata": {
    "colab": {
     "base_uri": "https://localhost:8080/"
    },
    "id": "B1EhPSujQ4ja",
    "outputId": "2854d891-f684-4976-bc65-b50b71e0cde4"
   },
   "outputs": [
    {
     "name": "stdout",
     "output_type": "stream",
     "text": [
      "                                                     name  amount       year\n",
      "0                                                Benjamin    2986 2010-01-01\n",
      "1                                                   Sofia    2252 2010-01-01\n",
      "2                                                Bautista    2176 2010-01-01\n",
      "3                                                 Joaquín    2111 2010-01-01\n",
      "4                                            Juan Ignacio    2039 2010-01-01\n",
      "...                                                   ...     ...        ...\n",
      "871490                             Isaias Sebastian Ariel       1 2014-01-01\n",
      "871491                                   Yanira Valentina       1 2014-01-01\n",
      "871492                                       Angie Ainara       1 2014-01-01\n",
      "871493                                     Elias Hernando       1 2014-01-01\n",
      "871494  Daenerys Stormborn of the House Targaryen, Fir...     100 2011-01-01\n",
      "\n",
      "[871495 rows x 3 columns]\n"
     ]
    }
   ],
   "source": [
    "# To complete\n",
    "df_names = df_names.drop(columns=['amount_chars'])\n",
    "print(df_names)"
   ]
  },
  {
   "cell_type": "markdown",
   "metadata": {
    "id": "XE195QIAQ4ja"
   },
   "source": [
    "## Sorting by column"
   ]
  },
  {
   "cell_type": "markdown",
   "metadata": {
    "id": "GudaIbBhQ4ja"
   },
   "source": [
    "**TODO:** Sort the dataframe by amount and descending"
   ]
  },
  {
   "cell_type": "code",
   "execution_count": null,
   "metadata": {
    "colab": {
     "base_uri": "https://localhost:8080/"
    },
    "id": "wbH-kHiRQ4jb",
    "outputId": "272a30ed-44e8-4762-9bb0-21f1c7164179"
   },
   "outputs": [
    {
     "name": "stdout",
     "output_type": "stream",
     "text": [
      "                         name  amount       year\n",
      "457917               Benjamin    4960 2013-01-01\n",
      "254431               Benjamin    4724 2012-01-01\n",
      "662387               Benjamin    4286 2014-01-01\n",
      "457918               Isabella    3587 2013-01-01\n",
      "662388                Martina    3563 2014-01-01\n",
      "...                       ...     ...        ...\n",
      "387497   Abraham Jose Emanuel       1 2012-01-01\n",
      "387498          Yeison Dionel       1 2012-01-01\n",
      "387499          Sherin Luisel       1 2012-01-01\n",
      "387500  Antuan Hernán William       1 2012-01-01\n",
      "435747           YazmÍn Zaira       1 2012-01-01\n",
      "\n",
      "[871495 rows x 3 columns]\n"
     ]
    }
   ],
   "source": [
    "# To complete\n",
    "print(df_names.sort_values(by=['amount'],ascending=False))"
   ]
  },
  {
   "cell_type": "markdown",
   "metadata": {
    "id": "5xpwZ5UnQ4jb"
   },
   "source": [
    "## Pandas groupby and plot"
   ]
  },
  {
   "cell_type": "markdown",
   "metadata": {
    "id": "WQwTuXNWQ4jb"
   },
   "source": [
    "**TODO:** Group the number of names by year and plot it using vertical bars"
   ]
  },
  {
   "cell_type": "code",
   "execution_count": null,
   "metadata": {
    "colab": {
     "base_uri": "https://localhost:8080/"
    },
    "id": "jaT3BhtEQ4jb",
    "outputId": "0b9fc36b-463b-4a70-c361-feed90a3f943"
   },
   "outputs": [
    {
     "name": "stdout",
     "output_type": "stream",
     "text": [
      "year\n",
      "2010-01-01    546042\n",
      "2011-01-01    450470\n",
      "2012-01-01    950740\n",
      "2013-01-01    900028\n",
      "2014-01-01    881267\n",
      "Name: amount, dtype: int64\n",
      "\n",
      "count         5.000000\n",
      "mean     745709.400000\n",
      "std      229815.694686\n",
      "min      450470.000000\n",
      "25%      546042.000000\n",
      "50%      881267.000000\n",
      "75%      900028.000000\n",
      "max      950740.000000\n",
      "Name: amount, dtype: float64\n"
     ]
    }
   ],
   "source": [
    "# To complete\n",
    "df_plot=df_names.groupby('year')['amount'].sum()\n",
    "print(df_plot,'\\n',sep=\"\")\n",
    "print(df_plot.describe())"
   ]
  },
  {
   "cell_type": "code",
   "execution_count": null,
   "metadata": {
    "colab": {
     "base_uri": "https://localhost:8080/",
     "height": 312
    },
    "id": "-0UckiANQ4jc",
    "outputId": "6074975d-289b-407e-a81d-e560fb79ce7d"
   },
   "outputs": [
    {
     "name": "stdout",
     "output_type": "stream",
     "text": [
      "AxesSubplot(0.125,0.125;0.775x0.755)\n"
     ]
    },
    {
     "data": {
      "image/png": "[encoded data removed]",
      "text/plain": [
       "<Figure size 432x288 with 1 Axes>"
      ]
     },
     "metadata": {},
     "output_type": "display_data"
    }
   ],
   "source": [
    "print(df_plot.plot.bar())"
   ]
  }
 ],
 "metadata": {
  "kernelspec": {
   "display_name": "Python 3.10.5 64-bit",
   "language": "python",
   "name": "python3"
  },
  "language_info": {
   "name": "python",
   "version": "3.10.5"
  },
  "orig_nbformat": 4,
  "vscode": {
   "interpreter": {
    "hash": "63413d40248b15c5e3979e4e9ac9f50870b25d2b4b7e5c66b4da92bd9f0fa5ed"
   }
  }
 },
 "nbformat": 4,
 "nbformat_minor": 2
}
