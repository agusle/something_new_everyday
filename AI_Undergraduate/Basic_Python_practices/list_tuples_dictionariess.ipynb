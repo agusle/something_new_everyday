{
  "cells": [
    {
      "cell_type": "markdown",
      "id": "975346ff",
      "metadata": {
        "id": "975346ff"
      },
      "source": [
        "## Clase 6"
      ]
    },
    {
      "cell_type": "markdown",
      "id": "62ce5593",
      "metadata": {
        "id": "62ce5593"
      },
      "source": [
        "#### Listas"
      ]
    },
    {
      "cell_type": "markdown",
      "id": "6df460bc",
      "metadata": {
        "id": "6df460bc"
      },
      "source": [
        "1. Escriba una función que reciba una lista de números calcule la suma acumulada de sus elementos y la devuelva. Es decir, una nueva lista donde el primer elemento es el mismo que en la lista original, el segundo elemento es la suma del primer y segundo elemento de la lista original, el tercer elemento es la suma del resultado anterior con el tercer elemento de la lista original y así sucesivamente. Por ejemplo, dada la lista [1, 2, 3], la suma acumulada debería ser [1, 3, 6]."
      ]
    },
    {
      "cell_type": "code",
      "source": [],
      "metadata": {
        "id": "3nrAjC2Pib1g"
      },
      "id": "3nrAjC2Pib1g",
      "execution_count": null,
      "outputs": []
    },
    {
      "cell_type": "markdown",
      "id": "a1864932",
      "metadata": {
        "id": "a1864932"
      },
      "source": [
        "2. Genere una lista llamada datosPersonales, mediante el uso de un bucle donde en cada iteración se pida un solo dato de los siguientes: Nombre, Apellido, Localidad, Edad, DNI, Carrera en curso (en esta última ingrese: Tecnicatura), año de inicio de la carrera. Luego, imprima por pantalla la lista con los datos completados. (Ingrese las palabras como cadenas y los números como enteros)"
      ]
    },
    {
      "cell_type": "code",
      "source": [],
      "metadata": {
        "id": "65yWKGmpihCC"
      },
      "id": "65yWKGmpihCC",
      "execution_count": null,
      "outputs": []
    },
    {
      "cell_type": "markdown",
      "id": "571681d6",
      "metadata": {
        "id": "571681d6"
      },
      "source": [
        "3. Tomando la lista del ejercicio anterior y la de sus 3 compañeros más proximos, genere una lista base de datos. Que contenga en su interior las 4 listas de datos personales. Luego, implemente un programa que imprima los datos personales de cada persona."
      ]
    },
    {
      "cell_type": "code",
      "execution_count": null,
      "id": "09e896e8",
      "metadata": {
        "id": "09e896e8"
      },
      "outputs": [],
      "source": []
    },
    {
      "cell_type": "markdown",
      "id": "18adbeee",
      "metadata": {
        "id": "18adbeee"
      },
      "source": [
        "#### Tuplas"
      ]
    },
    {
      "cell_type": "markdown",
      "source": [
        "5. Escribir una función donde pida las materias que cursa unx alumnx del TUIA, las almacene en una tupla y la devuelva."
      ],
      "metadata": {
        "id": "uxYxxjT4uAtW"
      },
      "id": "uxYxxjT4uAtW"
    },
    {
      "cell_type": "code",
      "source": [
        "def student_subjects()->tuple:\n",
        "  \"\"\"\n",
        "  Permite ingresar las materias como string de forma individual \n",
        "  hasta presionar la tecla enter. Luego, elimina los espacios adicionales\n",
        "  del/los string/s ingresado/s y lo/s formatea capitalizandolo/s.\n",
        "\n",
        "  Returns\n",
        "  -------\n",
        "  subjects = tuple\n",
        "    Tupla con materias ingresadas. E.g: ('Entorno de programacion', 'Logica')\n",
        "  \"\"\"\n",
        "\n",
        "  subjects = []\n",
        "  print(\n",
        "      f'Bienvenido! Por favor, ingrese las materias que se encuentra '\n",
        "      'cursando de forma individual. En caso que desee finalizar, '\n",
        "      'presione ENTER.'\n",
        "      )\n",
        "  while True:\n",
        "    subject = input(f'Ingrese su materia nro.{len(subjects)+1}: ')\n",
        "    if subject == \"\":\n",
        "      print(f'\\nGracias por ingresar sus materias de cursado. Le deseamos éxitos en su periodo lectivo.')\n",
        "      break\n",
        "    subjects.append(subject.strip().capitalize())\n",
        "  return  tuple(subjects)\n",
        "    "
      ],
      "metadata": {
        "id": "B3Zj_fewQyrx"
      },
      "id": "B3Zj_fewQyrx",
      "execution_count": 25,
      "outputs": []
    },
    {
      "cell_type": "code",
      "source": [
        "subjects = student_subjects()\n",
        "print(\n",
        "    f\"\\nEl alumno cursa {len(subjects)} materias:\\n{subjects}\\n\"\n",
        "    f\"Las mismas se encuentran almacenadas en una {type(subjects)}\"\n",
        "    )"
      ],
      "metadata": {
        "colab": {
          "base_uri": "https://localhost:8080/"
        },
        "id": "F02T1xg9jWqQ",
        "outputId": "4b1644b4-b823-4e52-f89b-5390a5990927"
      },
      "id": "F02T1xg9jWqQ",
      "execution_count": 30,
      "outputs": [
        {
          "output_type": "stream",
          "name": "stdout",
          "text": [
            "Bienvenido! Por favor, ingrese las materias que se encuentra cursando de forma individual. En caso que desee finalizar, presione ENTER.\n",
            "Ingrese su materia nro.1:Programacion I\n",
            "Ingrese su materia nro.2:        ENTORNO DE PROGRAMACION\n",
            "Ingrese su materia nro.3:logica                  \n",
            "Ingrese su materia nro.4:\n",
            "\n",
            "Gracias por ingresar sus materias de cursado. Le deseamos éxitos en su periodo lectivo.\n",
            "\n",
            "El alumno cursa 3 materias:\n",
            "('Programacion i', 'Entorno de programacion', 'Logica')\n",
            "Las mismas se encuentran almacenadas en una <class 'tuple'>\n"
          ]
        }
      ]
    },
    {
      "cell_type": "markdown",
      "source": [
        "6. A partir del ejercicio anterior, generar 2 tuplas donde se guarden las materias del primer cuatrimestre y del segundo respectivamente. \n",
        "Crear una nueva función que le pida al alumnx las materias que cursa y que le informe si corresponde al primer o segundo cuatrimestre."
      ],
      "metadata": {
        "id": "u4I3bI2uuCbc"
      },
      "id": "u4I3bI2uuCbc"
    },
    {
      "cell_type": "code",
      "execution_count": 32,
      "id": "59efeff6",
      "metadata": {
        "id": "59efeff6",
        "colab": {
          "base_uri": "https://localhost:8080/"
        },
        "outputId": "ec60aecb-d5c6-48c7-8942-0a606043d880"
      },
      "outputs": [
        {
          "output_type": "stream",
          "name": "stdout",
          "text": [
            "Bienvenido! Por favor, ingrese las materias que se encuentra cursando de forma individual. En caso que desee finalizar, presione ENTER.\n",
            "Ingrese su materia nro.1:Lógica\n",
            "Ingrese su materia nro.2:Matemática\n",
            "Ingrese su materia nro.3:Entorno de Programación\n",
            "Ingrese su materia nro.4:Programación I \n",
            "Ingrese su materia nro.5:Inglés Técnico \n",
            "Ingrese su materia nro.6:\n",
            "\n",
            "Gracias por ingresar sus materias de cursado. Le deseamos éxitos en su periodo lectivo.\n",
            "Bienvenido! Por favor, ingrese las materias que se encuentra cursando de forma individual. En caso que desee finalizar, presione ENTER.\n",
            "Ingrese su materia nro.1:Cálculo \n",
            "Ingrese su materia nro.2:Programación II \n",
            "Ingrese su materia nro.3:Bases de Datos I\n",
            "Ingrese su materia nro.4:Introducción a Inteligencia Artificial\n",
            "Ingrese su materia nro.5:Álgebra \n",
            "Ingrese su materia nro.6:Práctica Social Educativa – Módulo Introductorio \n",
            "Ingrese su materia nro.7:\n",
            "\n",
            "Gracias por ingresar sus materias de cursado. Le deseamos éxitos en su periodo lectivo.\n"
          ]
        }
      ],
      "source": [
        "four_month_1 = student_subjects()\n",
        "four_month_2 = student_subjects()"
      ]
    },
    {
      "cell_type": "code",
      "source": [
        "def check_subject_period (period:str=\"cuatrimestre\",*periods) -> str:\n",
        "  \"\"\"\n",
        "  Parameters\n",
        "  ----------\n",
        "  period = str\n",
        "    Perido lectivo en cual se divide el ciclo. E.g: \"Trimestre\", \"Cuatrimestre\".\n",
        "  *periods = tuple\n",
        "\n",
        "  Returns\n",
        "  ------\n",
        "  \"\"\"\n",
        "  # create dictionary with periods and list with student subjects\n",
        "  subjects = {}\n",
        "  student_subjects = []\n",
        "  for i in range(len(periods)):\n",
        "    value = str(i+1)+\"_\"+str(period.capitalize()) #period name generation\n",
        "    subjects[periods[i]] = value #assigned period name as value and tuple as key\n",
        "  print(\n",
        "      f'Bienvenido al listado de materias de TUIA!'\n",
        "      f'Podrás conocer a qué periodo lectivo pertenece las materias que cursas.'\n",
        "      f'\\nPara finalizar, presione la tecla ENTER.'\n",
        "      )\n",
        "  while True:\n",
        "    subject = input(f'Por, favor ingrese su materia #{len(student_subjects)+1}: ')\n",
        "    for subjects_tuple in subjects:\n",
        "      if subject.capitalize() in subjects[subjects_tuple]:\n",
        "        student_subjects.append(subject)\n",
        "      else:\n",
        "        print(\n",
        "            f'Usted ha ingresado \"{subject}\" y la misma no se encuentra en el plan de estudio.'\n",
        "            f'\\nAsegurese de que la misma se encuentre en el plan de estudio.'\n",
        "            )\n",
        "        continue\n",
        "    if subject == \"\":\n",
        "      print(f'\\nGracias por ingresar sus materias de cursado. Le deseamos éxitos en su periodo lectivo.')\n",
        "      break\n",
        "  for subject in student_subjects:\n",
        "    for subjects_tuple in subjects:\n",
        "      if subject in subjects_tuple:\n",
        "        print(f'{subject} pertenece al {subjects[subjects_tuple]}')\n",
        "      else:\n",
        "        print(f'{subject} no pertenece a ningun {period}')"
      ],
      "metadata": {
        "id": "JiGqWiDeaknF"
      },
      "id": "JiGqWiDeaknF",
      "execution_count": 102,
      "outputs": []
    },
    {
      "cell_type": "code",
      "source": [
        "check_subject_period(\"cuatrimestre\",four_month_1, four_month_2)"
      ],
      "metadata": {
        "colab": {
          "base_uri": "https://localhost:8080/"
        },
        "id": "1Co4h0awbL-6",
        "outputId": "cf7548c3-9364-434a-ce64-cf270184cef6"
      },
      "id": "1Co4h0awbL-6",
      "execution_count": null,
      "outputs": [
        {
          "output_type": "stream",
          "name": "stdout",
          "text": [
            "Bienvenido al listado de materias de TUIA!Podrás conocer a qué periodo lectivo pertenece las materias que cursas.\n",
            "Para finalizar, presione la tecla ENTER.\n",
            "Por, favor ingrese su materia #1: Lógica\n",
            "Usted ha ingresado \"Lógica\" y la misma no se encuentra en el plan de estudio.\n",
            "Asegurese de que la misma se encuentre en el plan de estudio.\n",
            "Usted ha ingresado \"Lógica\" y la misma no se encuentra en el plan de estudio.\n",
            "Asegurese de que la misma se encuentre en el plan de estudio.\n"
          ]
        }
      ]
    },
    {
      "cell_type": "code",
      "source": [
        "check_subject_period(\"cuatrimestre\",four_month_1, four_month_2)"
      ],
      "metadata": {
        "colab": {
          "base_uri": "https://localhost:8080/",
          "height": 408
        },
        "id": "YG6AQOo-qO1M",
        "outputId": "c9c03997-377b-4ad9-9e4a-87494dac30be"
      },
      "id": "YG6AQOo-qO1M",
      "execution_count": 76,
      "outputs": [
        {
          "output_type": "stream",
          "name": "stdout",
          "text": [
            "Bienvenido al listado de materias de TUIA!Podrás conocer a qué periodo lectivo pertenece las materias que cursas.\n",
            "Para finalizar, presione la tecla ENTER.\n",
            "Por, favor ingrese su materia #1: Lógica\n",
            "Por, favor ingrese su materia #2: Programacion I\n",
            "Por, favor ingrese su materia #3: \n",
            "\n",
            "Gracias por ingresar sus materias de cursado. Le deseamos éxitos en su periodo lectivo.\n"
          ]
        },
        {
          "output_type": "error",
          "ename": "AttributeError",
          "evalue": "ignored",
          "traceback": [
            "\u001b[0;31m---------------------------------------------------------------------------\u001b[0m",
            "\u001b[0;31mAttributeError\u001b[0m                            Traceback (most recent call last)",
            "\u001b[0;32m<ipython-input-76-5f1de4de409f>\u001b[0m in \u001b[0;36m<module>\u001b[0;34m\u001b[0m\n\u001b[0;32m----> 1\u001b[0;31m \u001b[0mcheck_subject_period\u001b[0m\u001b[0;34m(\u001b[0m\u001b[0;34m\"cuatrimestre\"\u001b[0m\u001b[0;34m,\u001b[0m\u001b[0mfour_month_1\u001b[0m\u001b[0;34m,\u001b[0m \u001b[0mfour_month_2\u001b[0m\u001b[0;34m)\u001b[0m\u001b[0;34m\u001b[0m\u001b[0;34m\u001b[0m\u001b[0m\n\u001b[0m",
            "\u001b[0;32m<ipython-input-75-c9e21ad6da34>\u001b[0m in \u001b[0;36mcheck_subject_period\u001b[0;34m(period, *periods)\u001b[0m\n\u001b[1;32m     30\u001b[0m   \u001b[0;32mfor\u001b[0m \u001b[0msubject\u001b[0m \u001b[0;32min\u001b[0m \u001b[0mstudent_subjects\u001b[0m\u001b[0;34m:\u001b[0m\u001b[0;34m\u001b[0m\u001b[0;34m\u001b[0m\u001b[0m\n\u001b[1;32m     31\u001b[0m     \u001b[0;32mfor\u001b[0m \u001b[0mi\u001b[0m \u001b[0;32min\u001b[0m \u001b[0msubjects\u001b[0m\u001b[0;34m:\u001b[0m\u001b[0;34m\u001b[0m\u001b[0;34m\u001b[0m\u001b[0m\n\u001b[0;32m---> 32\u001b[0;31m       \u001b[0;32mif\u001b[0m \u001b[0msubject\u001b[0m \u001b[0;32min\u001b[0m \u001b[0msubjects\u001b[0m\u001b[0;34m[\u001b[0m\u001b[0mi\u001b[0m\u001b[0;34m]\u001b[0m\u001b[0;34m.\u001b[0m\u001b[0mvalues\u001b[0m\u001b[0;34m(\u001b[0m\u001b[0;34m)\u001b[0m\u001b[0;34m:\u001b[0m\u001b[0;34m\u001b[0m\u001b[0;34m\u001b[0m\u001b[0m\n\u001b[0m\u001b[1;32m     33\u001b[0m         \u001b[0mprint\u001b[0m\u001b[0;34m(\u001b[0m\u001b[0;34mf'La materia: {subject} pertenece al {subjects[i]}'\u001b[0m\u001b[0;34m)\u001b[0m\u001b[0;34m\u001b[0m\u001b[0;34m\u001b[0m\u001b[0m\n\u001b[1;32m     34\u001b[0m       \u001b[0;32melse\u001b[0m\u001b[0;34m:\u001b[0m\u001b[0;34m\u001b[0m\u001b[0;34m\u001b[0m\u001b[0m\n",
            "\u001b[0;31mAttributeError\u001b[0m: 'tuple' object has no attribute 'values'"
          ]
        }
      ]
    },
    {
      "cell_type": "code",
      "source": [
        "\"Lógica\" in subjects['1_cuatrimestre']"
      ],
      "metadata": {
        "colab": {
          "base_uri": "https://localhost:8080/"
        },
        "id": "lFMpIj-SqWWX",
        "outputId": "52598f7d-8e39-4951-8d90-7e02c2880970"
      },
      "id": "lFMpIj-SqWWX",
      "execution_count": 70,
      "outputs": [
        {
          "output_type": "execute_result",
          "data": {
            "text/plain": [
              "True"
            ]
          },
          "metadata": {},
          "execution_count": 70
        }
      ]
    },
    {
      "cell_type": "code",
      "source": [
        "subjects.values()"
      ],
      "metadata": {
        "colab": {
          "base_uri": "https://localhost:8080/"
        },
        "id": "A4a0LgKisTrT",
        "outputId": "0c3dfca5-211d-4de0-cad1-9fd110145b4b"
      },
      "id": "A4a0LgKisTrT",
      "execution_count": 73,
      "outputs": [
        {
          "output_type": "execute_result",
          "data": {
            "text/plain": [
              "dict_values([('Lógica', 'Matemática', 'Entorno de programación', 'Programación i', 'Inglés técnico'), ('Cálculo', 'Programación ii', 'Bases de datos i', 'Introducción a inteligencia artificial', 'Álgebra', 'Práctica social educativa – módulo introductorio')])"
            ]
          },
          "metadata": {},
          "execution_count": 73
        }
      ]
    },
    {
      "cell_type": "code",
      "source": [
        "print(subjects.get('Lógica'))"
      ],
      "metadata": {
        "colab": {
          "base_uri": "https://localhost:8080/"
        },
        "id": "gg3lwWANrBjV",
        "outputId": "61d9aa85-105d-4ace-83f8-7f80bba556bb"
      },
      "id": "gg3lwWANrBjV",
      "execution_count": 67,
      "outputs": [
        {
          "output_type": "stream",
          "name": "stdout",
          "text": [
            "None\n"
          ]
        }
      ]
    },
    {
      "cell_type": "markdown",
      "id": "806981fb",
      "metadata": {
        "id": "806981fb"
      },
      "source": [
        "#### Diccionarios"
      ]
    },
    {
      "cell_type": "markdown",
      "source": [
        "7. Crear un diccionario de la lista de precios de una verdulería. "
      ],
      "metadata": {
        "id": "cbNjBJC9zFS3"
      },
      "id": "cbNjBJC9zFS3"
    },
    {
      "cell_type": "code",
      "source": [],
      "metadata": {
        "id": "nVXK9JR5zRp9"
      },
      "id": "nVXK9JR5zRp9",
      "execution_count": null,
      "outputs": []
    },
    {
      "cell_type": "markdown",
      "source": [
        "8. A partir del diccionario anterior, imprimir en la pantalla el nombre de la fruta/verdura con su correspondiente precio."
      ],
      "metadata": {
        "id": "GQq19546zToD"
      },
      "id": "GQq19546zToD"
    },
    {
      "cell_type": "code",
      "source": [],
      "metadata": {
        "id": "NOo9bmdazsa7"
      },
      "id": "NOo9bmdazsa7",
      "execution_count": null,
      "outputs": []
    },
    {
      "cell_type": "markdown",
      "source": [
        "9. Utilizando el diccionario anterior, pedirle al usuario que ingrese una fruta/verdura y que indique su precio. Si no hay en stock avisarle al cliente."
      ],
      "metadata": {
        "id": "mY7bF_Auzs7u"
      },
      "id": "mY7bF_Auzs7u"
    },
    {
      "cell_type": "markdown",
      "id": "eea999dc",
      "metadata": {
        "id": "eea999dc"
      },
      "source": [
        "\n",
        "10. Escribir una primer función que pida el nombre y 3 notas de unx alumnx, devuelva el nombre y una lista con las notas. \n",
        "Llamar dicha función tantas veces como alumnos haya y crear un diccionario donde la clave sea el nombre del estudiante y el valor la lista de sus notas.\n",
        "Por último, calcular el promedio de cada unx y mostrarlo en pantalla.\n",
        "\n",
        "Por ejemplo para \n",
        "    \n",
        "    alumnos = { \" Juan \" : [6 ,9 ,8] , \" Manuel \" : [9 ,10 ,9] , \" Martin \" : [5 ,6 ,7]}\n",
        "\n",
        "\n",
        "Debería mostrar:\n",
        "<dd>El promedio de Juan es 7.666666</dd>\n",
        "<dd>El promedio de Manuel es 9.333333</dd>\n",
        "<dd>El promedio de Martin es 6</dd>"
      ]
    },
    {
      "cell_type": "code",
      "source": [],
      "metadata": {
        "id": "4SafvNynwoj_"
      },
      "id": "4SafvNynwoj_",
      "execution_count": null,
      "outputs": []
    },
    {
      "cell_type": "markdown",
      "id": "b133b714",
      "metadata": {
        "id": "b133b714"
      },
      "source": [
        "11. Cartas como diccionario.\n",
        "<dl>\n",
        "<dd>a. Proponer una representación con diccionarios para un mazo completo de cartas.</dd>\n",
        "<dd>b. Escribir una función de poker que baraje cinco cartas de la baraja francesa e informe (devuelva\n",
        "el valor lógico correspondiente) si esas cartas forman o no un poker (es decir que hay 4 cartas con\n",
        "el mismo número).</dd>\n",
        "</dl>"
      ]
    },
    {
      "cell_type": "code",
      "execution_count": null,
      "id": "77a04057",
      "metadata": {
        "id": "77a04057"
      },
      "outputs": [],
      "source": []
    }
  ],
  "metadata": {
    "kernelspec": {
      "display_name": "tuia",
      "language": "python",
      "name": "tuia"
    },
    "language_info": {
      "codemirror_mode": {
        "name": "ipython",
        "version": 3
      },
      "file_extension": ".py",
      "mimetype": "text/x-python",
      "name": "python",
      "nbconvert_exporter": "python",
      "pygments_lexer": "ipython3",
      "version": "3.8.10"
    },
    "colab": {
      "provenance": [],
      "collapsed_sections": []
    }
  },
  "nbformat": 4,
  "nbformat_minor": 5
}