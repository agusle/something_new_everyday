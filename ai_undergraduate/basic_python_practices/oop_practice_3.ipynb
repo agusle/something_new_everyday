{
  "nbformat": 4,
  "nbformat_minor": 0,
  "metadata": {
    "colab": {
      "provenance": []
    },
    "kernelspec": {
      "name": "python3",
      "display_name": "Python 3"
    },
    "language_info": {
      "name": "python"
    }
  },
  "cells": [
    {
      "cell_type": "markdown",
      "source": [
        "# Introducción a POO"
      ],
      "metadata": {
        "id": "FDODdIEmlN5W"
      }
    },
    {
      "cell_type": "markdown",
      "source": [
        "**Ejercicio 1**\n",
        "\n",
        "1. Crear una clase llamada Vehículo.\n",
        "2. Agregarle como atributos de instancia 'nro_serie', 'marca' y 'modelo'\n",
        "\n",
        "El número de serie debe ser único y un número entero."
      ],
      "metadata": {
        "id": "sDXw4oDBlRey"
      }
    },
    {
      "cell_type": "code",
      "execution_count": 7,
      "metadata": {
        "id": "iHSQw64Bk57h"
      },
      "outputs": [],
      "source": [
        "class Vehiculo:\n",
        "  \"\"\"\n",
        "  La clase representa un vehículo\n",
        "\n",
        "  Atributos\n",
        "  ---------\n",
        "  nro_serie = int\n",
        "    Número entero que debe ser único. Ej: 1\n",
        "  \n",
        "  marca = str\n",
        "    Marca del vehiculo. Ej: Peugeout\n",
        "\n",
        "  modelo = str\n",
        "    Modelo del vehículo: Ej: 207\n",
        "  \"\"\"\n",
        "\n",
        "  def __init__(self,nro_serie:int,marca:str,modelo:str):\n",
        "    \"\"\"\n",
        "    Constructor de la clase vehículo\n",
        "    \"\"\"\n",
        "    self.nro_serie = nro_serie\n",
        "    self.marca = marca\n",
        "    self.modelo = modelo"
      ]
    },
    {
      "cell_type": "markdown",
      "source": [
        "**Ejercicio 2**\n",
        "\n",
        "El hecho de tener que ingresar manualmente el número de serie tiene varias desventajas, por un lado se hace tedioso, y por otro se pueden cometer errores. No pueden existir 2 vehículos con el mismo número de serie.\n",
        "Por lo tanto, se propone cambiar el atributo de instancia por uno de clase.\n",
        "\n",
        "¿Te animás a que los números de serie se actualicen solos?"
      ],
      "metadata": {
        "id": "zIwqGnValmTq"
      }
    },
    {
      "cell_type": "code",
      "source": [
        "class Vehiculo:\n",
        "  nro_serie = 0\n",
        "  \"\"\"\n",
        "  La clase representa un vehículo\n",
        "\n",
        "  Atributos\n",
        "  ---------\n",
        "  nro_serie = int\n",
        "    Número entero que debe ser único. Ej: 10002\n",
        "  \n",
        "  marca = str\n",
        "    Marca del vehiculo. Ej: Peugeout\n",
        "\n",
        "  modelo = str\n",
        "    Modelo del vehículo: Ej: 207\n",
        "  \"\"\"\n",
        "  def __init__(self,marca:str,modelo:str):\n",
        "    \"\"\"\n",
        "    Constructor de la clase vehículo\n",
        "    \"\"\"\n",
        "    self.marca = marca\n",
        "    self.modelo = modelo\n",
        "    self.__class__.nro_serie += 1"
      ],
      "metadata": {
        "id": "CkbUdT6vn9NO"
      },
      "execution_count": 103,
      "outputs": []
    },
    {
      "cell_type": "code",
      "source": [
        "mivehiculo = Vehiculo(\"Ford\",\"Ranger\")\n",
        "print(mivehiculo.nro_serie)"
      ],
      "metadata": {
        "id": "NlXawPQloWPw",
        "colab": {
          "base_uri": "https://localhost:8080/"
        },
        "outputId": "71b48114-b7aa-42a7-b53f-126a4db30d48"
      },
      "execution_count": 104,
      "outputs": [
        {
          "output_type": "stream",
          "name": "stdout",
          "text": [
            "1\n"
          ]
        }
      ]
    },
    {
      "cell_type": "code",
      "source": [
        "mivehiculo2 = Vehiculo(\"Chevrolet\",\"Tracker\")\n",
        "print(mivehiculo2.nro_serie)"
      ],
      "metadata": {
        "colab": {
          "base_uri": "https://localhost:8080/"
        },
        "id": "Xnxd3gkuy9Nw",
        "outputId": "a1ef9fc6-52dd-4ce3-ff3c-c28ee1b1ce56"
      },
      "execution_count": 105,
      "outputs": [
        {
          "output_type": "stream",
          "name": "stdout",
          "text": [
            "2\n"
          ]
        }
      ]
    },
    {
      "cell_type": "code",
      "source": [
        "mivehiculo3 = Vehiculo(\"FIAT\",\"Kronos\")\n",
        "print(mivehiculo3.nro_serie)"
      ],
      "metadata": {
        "colab": {
          "base_uri": "https://localhost:8080/"
        },
        "id": "7aj9T_Oa7rHi",
        "outputId": "68b9953e-2689-4955-f569-bc2046c8f6c4"
      },
      "execution_count": 106,
      "outputs": [
        {
          "output_type": "stream",
          "name": "stdout",
          "text": [
            "3\n"
          ]
        }
      ]
    },
    {
      "cell_type": "markdown",
      "source": [
        "**Ejercicio 3 - setters**\n",
        "\n",
        "Existen otras maneras de agregar un atributo de instancia que no sea directamente en el *\\_\\_init__*. Por lo general es necesario validar los datos que se ingresan y para ello se crean los métodos llamados 'set_\\<atributo>'\n",
        "1. Agregar un nuevo atributo de clase que sea una tupla llamada 'colores' que contenga solo colores válidos para auto.\n",
        "2. Crear un metodo llamado 'set_color' que reciba como parámetro 'color'. \n",
        "*   Verificar que este argumento no contenga mayúsculas, espacios o puntos.\n",
        "Ejemplo:\n",
        "\n",
        "\n",
        "``` python\n",
        "# Ingreso\n",
        "color = ' Rojo.'\n",
        "\n",
        "# Validación\n",
        "color = 'rojo'\n",
        "```\n",
        "*   Verificar que el color ingresado se encuentre en la tupla de colores, si no, por defecto sea el primer color de dicha tupla.\n",
        "\n",
        "3. En el *\\_\\_init__* agregar este nuevo parámetro 'color' y llamar al método 'set_color'\n"
      ],
      "metadata": {
        "id": "j4ZsgzjKFap4"
      }
    },
    {
      "cell_type": "code",
      "source": [],
      "metadata": {
        "id": "1KQfoNdlIIlq"
      },
      "execution_count": null,
      "outputs": []
    },
    {
      "cell_type": "markdown",
      "source": [
        "**Ejercicio 4**\n",
        "\n",
        "1. Un hotel quiere generar las comidas de una estadía con media pensión y para ello decide realizar un programa al cual se le vayan ingresando dos tipos de objetos generados por dos clases diferentes:\n",
        "\n",
        "  *Desayuno* que deberá tener\n",
        "\n",
        "  *   tipo de infusión\n",
        "  *   alimento\n",
        "  *   jugo\n",
        "\n",
        "  y *Cena* el cual tiene como atributos\n",
        "  *   entrada\n",
        "  *   plato principal\n",
        "  *   bebida\n",
        "  *   postre\n",
        "\n",
        "\n",
        "2. Crear una función que genere un objeto desayuno y uno comida para cada día de la semana llamando a la clase correspondiente y guardandola por día. \n",
        "3. Crear una función menú donde se carguen día a día las comidas.\n",
        "(LA IDEA ES QUE ALGUIEN LLAMANDO A LA FUNCION MENU VAYA CARGANDO DIA A DIA AMBAS COMIDAS Y QUE SE <u>RETORNE EL MENU AL FINAL</u>)\n",
        "\n"
      ],
      "metadata": {
        "id": "uALQK3arts95"
      }
    },
    {
      "cell_type": "code",
      "source": [
        "class Desayuno:\n",
        "  def __init__(self,infusion,alimento,jugo):\n",
        "    self.infusion = infusion\n",
        "    self.alimento = alimento\n",
        "    self.jugo = jugo\n",
        "  \n",
        "  def __str__(self):\n",
        "    return f\"Desayuno:\\n    Infusion: {self.infusion} \\n    Alimento: {self.alimento} \\n    Jugo: {self.jugo}\""
      ],
      "metadata": {
        "id": "4q_-cTQlYKH9"
      },
      "execution_count": null,
      "outputs": []
    },
    {
      "cell_type": "code",
      "source": [
        "class Cena:\n",
        "  def __init__(self,entrada,principal,postre,bebida):\n",
        "    self.entrada = entrada\n",
        "    self.principal = principal\n",
        "    self.postre = postre\n",
        "    self.bebida = bebida\n",
        "  \n",
        "  def __str__(self):\n",
        "    return f\"Cena:\\n    Entrada: {self.entrada} \\n    Principal: {self.principal} \\n    Postre: {self.postre} \\n    Bebida: {self.bebida}\""
      ],
      "metadata": {
        "id": "UMZBfjGVadZH"
      },
      "execution_count": null,
      "outputs": []
    },
    {
      "cell_type": "code",
      "source": [
        "def menu():\n",
        "  week = [\"Lunes\",\"Martes\",\"Miercoles\",\"Jueves\",\"Viernes\",\"Sabado\",\"Domingo\"]\n",
        "  desayuno_week = []\n",
        "  cena_week = []\n",
        "\n",
        "  for day in week[:1]:\n",
        "    print(f\"Ingrese el menú para el dia {day}:\\n\")\n",
        "    print(f\"Ingrese el desayuno:\\n\")\n",
        "    desayuno_week.append(Desayuno(input(f\"Infusion: \"),input(f\"Alimento: \"),input(f\"Jugo: \")).__str__())\n",
        "    print(f\"\\nIngrese la cena:\\n\")\n",
        "    cena_week.append(Cena(input(f\"Entrada: \"),input(f\"Principal: \"),input(f\"Postre: \"),input(f\"Bebida: \")).__str__())\n",
        "  \n",
        "  print(f\"\\nPara la próxima semana su menú es el siguiente: \")\n",
        "  for day in range(len(week[:1])):\n",
        "    print(\n",
        "        f\"\\n{week[day]}\\n\"\n",
        "        f\"  {desayuno_week[day]}\\n\"\n",
        "        f\"  {cena_week[day]}\\n\"\n",
        "    )  "
      ],
      "metadata": {
        "id": "V3TxrfoBuJee"
      },
      "execution_count": null,
      "outputs": []
    },
    {
      "cell_type": "code",
      "source": [
        "menu()"
      ],
      "metadata": {
        "colab": {
          "base_uri": "https://localhost:8080/"
        },
        "id": "4kUFRwxvh-2c",
        "outputId": "70ff5292-4ef6-4b4e-d16c-9e8b56cd549f"
      },
      "execution_count": null,
      "outputs": [
        {
          "output_type": "stream",
          "name": "stdout",
          "text": [
            "Ingrese el menú para el dia Lunes:\n",
            "\n",
            "Ingrese el desayuno:\n",
            "\n",
            "Infusion: te\n",
            "Alimento: tostadas\n",
            "Jugo: naranja\n",
            "\n",
            "Ingrese la cena:\n",
            "\n",
            "Entrada: picada\n",
            "Principal: milanesa\n",
            "Postre: helado\n",
            "Bebida: agua\n",
            "Para la próxima semana su menú es el siguiente: \n",
            "\n",
            "Lunes\n",
            "  Desayuno:\n",
            "    Infusion: te \n",
            "    Alimento: tostadas \n",
            "    Jugo: naranja\n",
            "  Cena:\n",
            "    Entrada: picada \n",
            "    Principal: milanesa \n",
            "    Postre: helado \n",
            "    Bebida: agua\n",
            "\n"
          ]
        }
      ]
    }
  ]
}