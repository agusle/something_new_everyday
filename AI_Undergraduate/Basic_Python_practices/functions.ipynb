{
  "nbformat": 4,
  "nbformat_minor": 0,
  "metadata": {
    "colab": {
      "provenance": [],
      "collapsed_sections": []
    },
    "kernelspec": {
      "name": "python3",
      "display_name": "Python 3"
    },
    "language_info": {
      "name": "python"
    }
  },
  "cells": [
    {
      "cell_type": "markdown",
      "source": [
        "# Funciones"
      ],
      "metadata": {
        "id": "ANxTuUPVQXL9"
      }
    },
    {
      "cell_type": "markdown",
      "source": [
        "**Ejercicio 1**\n",
        "\n",
        "Se realizó una encuesta donde las personas debían indicar su edad y remuneración por hora. Como\n",
        "resultado se tiene una lista de tuplas con esos datos similar a la de abajo. Escribir una función donde\n",
        "dado un segmento de edad descripto por un nivel inferior li y uno superior ls, por ejemplo 20 - 25,\n",
        "devuelva la remuneración promedio para personas mayores o iguales a li y menores a ls y la cantidad\n",
        "de personas usadas para calcular ese promedio. Si en la lista no existe ningún dato dentro del entorno\n",
        "estudiado, devolver cero para el promedio.\n",
        "\n",
        "\n",
        "\n",
        "```\n",
        "lista = [(20 , 400) , (25 , 500) , (20 , 350) , (50 , 1000) , (60 , 1500) , (40 , 760) , (35 , 1020)]\n",
        "```\n",
        "\n"
      ],
      "metadata": {
        "id": "_6hz7UlaQnmY"
      }
    },
    {
      "cell_type": "code",
      "source": [
        "lista = [(20 , 400) , (25 , 500) , (20 , 350) , (50 , 1000) , (60 , 1500) , (40 , 760) , (35 , 1020)]"
      ],
      "metadata": {
        "id": "cb7SHucWoeOP"
      },
      "execution_count": 2,
      "outputs": []
    },
    {
      "cell_type": "code",
      "execution_count": 18,
      "metadata": {
        "id": "IrxG7XrjQTov"
      },
      "outputs": [],
      "source": [
        "def average(data:list=lista,lower:int=20,higher:int=25) -> tuple:\n",
        "  \"\"\"\n",
        "  Dado un segmento de edad descripto por un nivel inferior lower\n",
        "  y uno superior higher retorna la remuneración promedio para \n",
        "  elementos mayores o iguales al segmento inferior y menores al\n",
        "  segmento superior y la cantidad de personas usadas para calcular el promedio. \n",
        "  Si en la lista no existe ningún dato dentro del entorno estudiado,\n",
        "  devuelve cero para el promedio.\n",
        "\n",
        "  Parameters\n",
        "  ----------\n",
        "  data = list\n",
        "    Lista con tuplas por cada ingreso de datos. Ej: (20,400)\n",
        "  \n",
        "  lower = int\n",
        "    Número entero que indica limite inferior del segmento. Ej: 30.\n",
        "    Por default es 20.\n",
        "\n",
        "  higher = int \n",
        "    Número entero que indica limite superior del segmento. Ej: 30.\n",
        "    Por default es 25.\n",
        "\n",
        "  Return\n",
        "  ------\n",
        "  result = float / int\n",
        "    Promedio de la remuneración del segmento redondeado en 2 decimales.\n",
        "    Ej: 375.0 , 0.-\n",
        "  \n",
        "  count  = int\n",
        "    Cantidad de personas en la que se basó el cálculo del promedio.\n",
        "    Ej: 2 \n",
        "  \"\"\"\n",
        "\n",
        "  sum = 0\n",
        "  count = 0\n",
        "  for person in data:\n",
        "    if person[0] in range(lower,higher):\n",
        "      sum += person[1]\n",
        "      count += 1\n",
        "  if count < 1:\n",
        "    result = 0\n",
        "  else:\n",
        "    result = round(sum/count,2)\n",
        "  return result, count"
      ]
    },
    {
      "cell_type": "markdown",
      "source": [
        "Prueba sin argumentos:"
      ],
      "metadata": {
        "id": "PiIyhnpYUplC"
      }
    },
    {
      "cell_type": "code",
      "source": [
        "rem_avg, count = average() # (lista,20,25)\n",
        "print(f\"Para el rango de edad ingresado, la remuneración promedio es ${rem_avg} calculado entre {count} personas.\")"
      ],
      "metadata": {
        "colab": {
          "base_uri": "https://localhost:8080/"
        },
        "id": "EnAUH1fSUeFZ",
        "outputId": "d73c8d08-ab65-4e2e-8a6d-e32e19ce6b47"
      },
      "execution_count": 19,
      "outputs": [
        {
          "output_type": "stream",
          "name": "stdout",
          "text": [
            "Para el rango de edad ingresado, la remuneración promedio es $375.0 calculado entre 2 personas.\n"
          ]
        }
      ]
    },
    {
      "cell_type": "markdown",
      "source": [
        "Prueba con un argumento:"
      ],
      "metadata": {
        "id": "ASzVA9tjUD2m"
      }
    },
    {
      "cell_type": "code",
      "source": [
        "rem_avg, count = average(lista)\n",
        "print(f\"Para el rango de edad ingresado, la remuneración promedio es ${rem_avg} calculado entre {count} personas.\")"
      ],
      "metadata": {
        "colab": {
          "base_uri": "https://localhost:8080/"
        },
        "id": "kVav35TDoSKo",
        "outputId": "f7bed130-0e64-450e-e7bd-c2ed95593737"
      },
      "execution_count": null,
      "outputs": [
        {
          "output_type": "stream",
          "name": "stdout",
          "text": [
            "Para el rango de edad ingresado, la remuneración promedio es $375.0 calculado entre 2 personas.\n"
          ]
        }
      ]
    },
    {
      "cell_type": "markdown",
      "source": [
        "Prueba con 2 argumentos:"
      ],
      "metadata": {
        "id": "HbhhdV2bUHy4"
      }
    },
    {
      "cell_type": "code",
      "source": [
        "rem_avg, count = average(lista,21) #range(21,25) - sin datos\n",
        "print(f\"Para el rango de edad ingresado, la remuneración promedio es ${rem_avg} calculado entre {count} personas.\")"
      ],
      "metadata": {
        "colab": {
          "base_uri": "https://localhost:8080/"
        },
        "id": "kk3RfIXzTEc6",
        "outputId": "ebff4f02-ac07-4749-f96b-f61f52aaaf1c"
      },
      "execution_count": 10,
      "outputs": [
        {
          "output_type": "stream",
          "name": "stdout",
          "text": [
            "Para el rango de edad ingresado, la remuneración promedio es $0 calculado entre 0 personas.\n"
          ]
        }
      ]
    },
    {
      "cell_type": "code",
      "source": [
        "print(rem_avg)\n",
        "print(type(rem_avg))\n",
        "print(count)\n",
        "print(type(count))"
      ],
      "metadata": {
        "colab": {
          "base_uri": "https://localhost:8080/"
        },
        "id": "1MZ0iA0HTsvC",
        "outputId": "27bd7dc1-0525-4ab5-efb1-e75ccffb7e1c"
      },
      "execution_count": 17,
      "outputs": [
        {
          "output_type": "stream",
          "name": "stdout",
          "text": [
            "0\n",
            "<class 'int'>\n",
            "0\n",
            "<class 'int'>\n"
          ]
        }
      ]
    },
    {
      "cell_type": "markdown",
      "source": [
        "Prueba con 3 argumentos:"
      ],
      "metadata": {
        "id": "_5pK4whvUHpf"
      }
    },
    {
      "cell_type": "code",
      "source": [
        "rem_avg, count = average(lista,40,65)\n",
        "print(f\"Para el rango de edad ingresado, la remuneración promedio es ${rem_avg} calculado entre {count} personas.\")"
      ],
      "metadata": {
        "colab": {
          "base_uri": "https://localhost:8080/"
        },
        "id": "JWu7-_TjSVES",
        "outputId": "c978e99d-6dbf-49d1-8703-88f1bd6de320"
      },
      "execution_count": 4,
      "outputs": [
        {
          "output_type": "stream",
          "name": "stdout",
          "text": [
            "Para el rango de edad ingresado, la remuneración promedio es $1086.67 calculado entre 3 personas.\n"
          ]
        }
      ]
    },
    {
      "cell_type": "code",
      "source": [
        "print(rem_avg)\n",
        "print(type(rem_avg))\n",
        "print(count)\n",
        "print(type(count))"
      ],
      "metadata": {
        "colab": {
          "base_uri": "https://localhost:8080/"
        },
        "id": "Q8UGb2gAShSK",
        "outputId": "185543dd-1f0c-4428-84a4-6b1b2be9a14a"
      },
      "execution_count": 7,
      "outputs": [
        {
          "output_type": "stream",
          "name": "stdout",
          "text": [
            "1086.67\n",
            "<class 'float'>\n",
            "3\n",
            "<class 'int'>\n"
          ]
        }
      ]
    },
    {
      "cell_type": "markdown",
      "source": [
        "**Ejercicio 2**\n",
        "\n",
        "Escribir una función que calcule la distancia entre dos puntos en el plano. Los puntos deberán ingresar a la función como tuplas. Si solo se le pasa un argumento, por defecto el otro punto debe ser el origen."
      ],
      "metadata": {
        "id": "5p6BSIsWQ12t"
      }
    },
    {
      "cell_type": "code",
      "source": [],
      "metadata": {
        "id": "UpxtDJzWRsUG"
      },
      "execution_count": null,
      "outputs": []
    },
    {
      "cell_type": "markdown",
      "source": [
        "**Ejercicio 3**\n",
        "\n",
        "Un número es primo sí solo sí sus únicos divisores son 1 y el mismo número.\n",
        "\n",
        "a.  Escriba una función que determine si un numero es primo o no.\n",
        "\n",
        "b. Escriba otra función que reciba un número n e imprima todos los números primos menores que n"
      ],
      "metadata": {
        "id": "Clfl9IaFRvja"
      }
    },
    {
      "cell_type": "code",
      "source": [
        "#funcion anidada"
      ],
      "metadata": {
        "id": "wnpu_HURgX6w"
      },
      "execution_count": null,
      "outputs": []
    },
    {
      "cell_type": "markdown",
      "source": [
        "**Ejercicio 4**\n",
        "\n",
        "Escriba un programa que pida el ancho y altura de un rectángulo y el caracter a utilizar en el dibujo:\n",
        "\n",
        "\n",
        "```\n",
        "ancho = 5\n",
        "alto = 3\n",
        "caracter = o\n",
        "o o o o o\n",
        "o o o o o\n",
        "o o o o o\n",
        "```\n",
        "\n"
      ],
      "metadata": {
        "id": "2d4FT2zDSaYL"
      }
    },
    {
      "cell_type": "code",
      "source": [],
      "metadata": {
        "id": "5FpbNHWKSZx0"
      },
      "execution_count": null,
      "outputs": []
    },
    {
      "cell_type": "markdown",
      "source": [
        "**Ejercicio 5**\n",
        "\n",
        "Crear una función lambda que permita conocer si un número es par."
      ],
      "metadata": {
        "id": "yEpVS5bkUIvx"
      }
    },
    {
      "cell_type": "code",
      "source": [],
      "metadata": {
        "id": "Tr9Kp3pCUNDp"
      },
      "execution_count": null,
      "outputs": []
    },
    {
      "cell_type": "markdown",
      "source": [
        "**Ejercicio 6**\n",
        "\n",
        "Crear una función a la cual se le pase una cantidad variable de números y devuelva la multiplicación de los pares sumado los números impares.\n",
        "\n",
        "Ejemplo:\n",
        "\n",
        "\n",
        "```\n",
        "1+3*6+7*2 = 33\n",
        "```\n",
        "\n"
      ],
      "metadata": {
        "id": "gpmXVUUUUNhU"
      }
    },
    {
      "cell_type": "code",
      "source": [],
      "metadata": {
        "id": "1FjiRfyvVRmo"
      },
      "execution_count": null,
      "outputs": []
    },
    {
      "cell_type": "markdown",
      "source": [
        "**Ejercicio 7**\n",
        "\n",
        "Dada la siguiente función \n",
        "\n",
        "\n",
        "```\n",
        "def resultado(x, y, op):\n",
        "    if op == '+':\n",
        "        return x + y\n",
        "    elif op == '-':\n",
        "        return x - y\n",
        "```\n",
        "\n",
        "Invocarla de manera convencional, con el parametro especial args y con kwargs.\n",
        "\n"
      ],
      "metadata": {
        "id": "CxGyR7i3VR9v"
      }
    },
    {
      "cell_type": "code",
      "source": [],
      "metadata": {
        "id": "8bWWUUVFZYsM"
      },
      "execution_count": null,
      "outputs": []
    }
  ]
}