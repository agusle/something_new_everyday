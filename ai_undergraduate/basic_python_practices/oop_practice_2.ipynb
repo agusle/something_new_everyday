{
  "cells": [
    {
      "cell_type": "markdown",
      "source": [
        "# Descargar archivo"
      ],
      "metadata": {
        "id": "v_ihUbk6TsV1"
      }
    },
    {
      "cell_type": "code",
      "source": [
        "import requests\n",
        "spotify_previews_file = \"https://raw.githubusercontent.com/elgatoylacaja/spotify-analysis/main/input/spotify-previews.csv\"\n",
        "nodes_file = \"https://raw.githubusercontent.com/elgatoylacaja/spotify-analysis/main/input/nodes.csv\""
      ],
      "metadata": {
        "id": "li75DXdJUDUE"
      },
      "execution_count": 1,
      "outputs": []
    },
    {
      "cell_type": "code",
      "source": [
        "def descargar_csv(url, archivo_salida):\n",
        "    print(f'Descargando archivo: {archivo_salida}')\n",
        "    consulta = requests.get(url)\n",
        "    contenido = consulta.content\n",
        "\n",
        "    print(f\"Guardando archivo {archivo_salida}\")\n",
        "    # Abrir conexion en modo escritura\n",
        "    with open(archivo_salida, \"w\", encoding=\"utf-8\") as archivo:\n",
        "        # Escribir el contenido de la consulta\n",
        "        archivo.write(contenido.decode(\"utf-8\"))\n",
        "\n",
        "    print(\"¡Archivo descargado con éxito!\")"
      ],
      "metadata": {
        "id": "5Ug_UZm1TusZ"
      },
      "execution_count": 6,
      "outputs": []
    },
    {
      "cell_type": "code",
      "source": [
        "descargar_csv(spotify_previews_file, \"spotify_previews.csv\")\n",
        "descargar_csv(nodes_file, \"nodes.csv\")"
      ],
      "metadata": {
        "colab": {
          "base_uri": "https://localhost:8080/"
        },
        "id": "7RakZD7IT9EY",
        "outputId": "d9f4ae01-84d2-4487-ef7f-659ce2798542"
      },
      "execution_count": 7,
      "outputs": [
        {
          "output_type": "stream",
          "name": "stdout",
          "text": [
            "Descargando archivo: spotify_previews.csv\n",
            "Guardando archivo spotify_previews.csv\n",
            "¡Archivo descargado con éxito!\n",
            "Descargando archivo: nodes.csv\n",
            "Guardando archivo nodes.csv\n",
            "¡Archivo descargado con éxito!\n"
          ]
        }
      ]
    },
    {
      "cell_type": "markdown",
      "source": [
        "# Lectura de Archivos"
      ],
      "metadata": {
        "id": "WY2M6mApPHzf"
      }
    },
    {
      "cell_type": "code",
      "source": [
        "import csv"
      ],
      "metadata": {
        "id": "6gUl8YfOOt0a"
      },
      "execution_count": 8,
      "outputs": []
    },
    {
      "cell_type": "code",
      "source": [
        "def open_file(file_path):\n",
        "  \"\"\"\n",
        "  Lee datos del archivo de entrada y retorna\n",
        "  una lista con la información que se va a usar en el trabajo.\n",
        "  \"\"\"\n",
        "  coleccion_de_datos = []\n",
        "  with open(file_path, mode='r') as archivo:\n",
        "    lector = csv.DictReader(archivo)\n",
        "    for fila in lector:\n",
        "      coleccion_de_datos.append(dict(fila))\n",
        "  return coleccion_de_datos"
      ],
      "metadata": {
        "id": "mAoEK9bKhlaB"
      },
      "execution_count": 9,
      "outputs": []
    },
    {
      "cell_type": "code",
      "source": [
        "spotify_preview = open_file(\"spotify_previews.csv\")\n",
        "nodes = open_file('nodes.csv')"
      ],
      "metadata": {
        "id": "7FkpEO4rPJPJ"
      },
      "execution_count": 11,
      "outputs": []
    },
    {
      "cell_type": "code",
      "source": [
        "import pprint\n",
        "pprint.pprint(spotify_preview[:2])"
      ],
      "metadata": {
        "id": "5zp3WBELXQGh",
        "colab": {
          "base_uri": "https://localhost:8080/"
        },
        "outputId": "04b63fe3-f2ae-407e-fa00-86818c13d43e"
      },
      "execution_count": 15,
      "outputs": [
        {
          "output_type": "stream",
          "name": "stdout",
          "text": [
            "[{'artists_coincides': 'TRUE',\n",
            "  'edge_track_name': 'Tarot',\n",
            "  'error': '',\n",
            "  'id': '41oY4WCTj5kccfesTVFnvN',\n",
            "  'preview': 'https://p.scdn.co/mp3-preview/db8db5f15768f239548f3499bdd12bfcc6ce063f?cid=774b29d4f13844c495f206cafdad9c86',\n",
            "  'source': 'Bad Bunny',\n",
            "  'spotify_artists': 'Bad Bunny, Jhay Cortez',\n",
            "  'spotify_track_name': 'Tarot',\n",
            "  'target': 'Jhay Cortez',\n",
            "  'track_name_conincides': 'TRUE'},\n",
            " {'artists_coincides': 'TRUE',\n",
            "  'edge_track_name': 'La Corriente',\n",
            "  'error': '',\n",
            "  'id': '1797zYiX4cKosMH836X9Gt',\n",
            "  'preview': 'https://p.scdn.co/mp3-preview/5b652748ee9a5a10433e28fa0f63f365b8bf58c2?cid=774b29d4f13844c495f206cafdad9c86',\n",
            "  'source': 'Bad Bunny',\n",
            "  'spotify_artists': 'Bad Bunny, Tony Dize',\n",
            "  'spotify_track_name': 'La Corriente',\n",
            "  'target': 'Tony Dize',\n",
            "  'track_name_conincides': 'TRUE'}]\n"
          ]
        }
      ]
    },
    {
      "cell_type": "markdown",
      "source": [
        "# Filtrado de datos"
      ],
      "metadata": {
        "id": "QzSOHIHIUu6U"
      }
    },
    {
      "cell_type": "code",
      "source": [
        "pprint.pprint(spotify_preview[0]['source'])"
      ],
      "metadata": {
        "colab": {
          "base_uri": "https://localhost:8080/"
        },
        "id": "xIQG7thvs7DU",
        "outputId": "8380cacb-2f20-4aa6-a9b5-db9e272a75ca"
      },
      "execution_count": 19,
      "outputs": [
        {
          "output_type": "stream",
          "name": "stdout",
          "text": [
            "'Bad Bunny'\n"
          ]
        }
      ]
    },
    {
      "cell_type": "markdown",
      "source": [
        "1. Crear una función que sólo devuelva (con la misma estructura de datos que se está trabajando) los datos de determinados encabezados pasados como parámetros.\n",
        "Ejemplo:"
      ],
      "metadata": {
        "id": "7QLVB4P7UzIS"
      }
    },
    {
      "cell_type": "code",
      "source": [
        "def datos_relevantes(dataset:list,*encabezados:str):\n",
        "  \"\"\"\n",
        "  Devuelve un listado filtrado por los encabezados ingresados como argumentos.\n",
        "  En el listado, cada elemento representa una fila estructurada como\n",
        "  un diccionario donde la llave es el encabezado del dato.\n",
        "\n",
        "  Parameters\n",
        "  ----------\n",
        "  dataset = list\n",
        "    Coleccion de datos estructurada como un listado de diccionarios.\n",
        "\n",
        "  encabezados = str\n",
        "    Nombre del encabezado que se desea filtrar\n",
        "  \n",
        "  Returns\n",
        "  -------\n",
        "  datos_filtrados = list\n",
        "    Coleccion de datos estructurada como un listado de diccionarios filtrados.\n",
        "  \"\"\"\n",
        "  datos_filtrados = []\n",
        "  for row in dataset:\n",
        "    record = {}\n",
        "    for encabezado in encabezados:\n",
        "      record[encabezado] = row[encabezado]\n",
        "    datos_filtrados.append(record)\n",
        "  return datos_filtrados"
      ],
      "metadata": {
        "id": "clTf75NhVbmB"
      },
      "execution_count": 35,
      "outputs": []
    },
    {
      "cell_type": "code",
      "source": [
        "pprint.pprint(datos_relevantes(spotify_preview, 'source', 'target')[:3])"
      ],
      "metadata": {
        "colab": {
          "base_uri": "https://localhost:8080/"
        },
        "id": "nwNYlt7nVL5h",
        "outputId": "f01ae416-8c5c-4be2-f164-322aead69d35"
      },
      "execution_count": 37,
      "outputs": [
        {
          "output_type": "stream",
          "name": "stdout",
          "text": [
            "[{'source': 'Bad Bunny', 'target': 'Jhay Cortez'},\n",
            " {'source': 'Bad Bunny', 'target': 'Tony Dize'},\n",
            " {'source': 'Bad Bunny', 'target': 'Rauw Alejandro'}]\n"
          ]
        }
      ]
    },
    {
      "cell_type": "markdown",
      "metadata": {
        "id": "CGsUM6iHfLj1"
      },
      "source": [
        "# Clase Artista"
      ]
    },
    {
      "cell_type": "markdown",
      "metadata": {
        "id": "h5itCEv2fmsi"
      },
      "source": [
        "1. Crear el constructor de la clase Artista. Sus atributos serán:\n",
        "- nombre\n",
        "- seguidores\n",
        "- popularidad\n",
        "- colaboraciones\n",
        "- centralidad\n",
        "2. Crear un metodo \\_\\_str_\\_ que devuelva los datos del artista bien formateados.\n",
        "\n"
      ]
    },
    {
      "cell_type": "code",
      "execution_count": null,
      "metadata": {
        "id": "KRzNHgKwfB4X"
      },
      "outputs": [],
      "source": [
        "class Artista:\n",
        "    \"\"\"\n",
        "    Esta clase representa un artista,\n",
        "    contiene su nombre y los datos relevantes al análisis.\n",
        "    \"\"\"\n",
        "    def __init__(self):\n",
        "        pass"
      ]
    },
    {
      "cell_type": "markdown",
      "metadata": {
        "id": "zSvgpU85fNdO"
      },
      "source": [
        "# Clase Canción"
      ]
    },
    {
      "cell_type": "markdown",
      "source": [
        "1. Crear el constructor de la clase Canción. Sus atributos serán:\n",
        "- id \n",
        "- spotify_track_name\n",
        "- spotify_artists\n",
        "- preview\n",
        "\n",
        "2. Crear un metodo \\_\\_str_\\_ que devuelva los datos de la canción bien formateados.\n",
        "\n",
        "3. Crear un método que determine si un artista participa o no en esta cancion."
      ],
      "metadata": {
        "id": "MbInm4nYKe7O"
      }
    },
    {
      "cell_type": "code",
      "execution_count": null,
      "metadata": {
        "id": "nDkaHXrqfTxu"
      },
      "outputs": [],
      "source": [
        "class Cancion:\n",
        "    \"\"\"\n",
        "    Esta clase representa un canción,\n",
        "    contiene su nombre y los datos relevantes al análisis.\n",
        "    \"\"\"\n",
        "    def __init__(self):\n",
        "      pass\n",
        "\n",
        "    def __str__(self):\n",
        "      pass"
      ]
    },
    {
      "cell_type": "markdown",
      "source": [
        "# Crear objetos"
      ],
      "metadata": {
        "id": "pKzq5KaQI9pv"
      }
    },
    {
      "cell_type": "markdown",
      "source": [
        "Crear 2 listas, una que contenga objetos de tipo Canción y otra de tipo Artista rellenada con los datos de los csv"
      ],
      "metadata": {
        "id": "93l89hp7I-6Q"
      }
    },
    {
      "cell_type": "markdown",
      "source": [
        "# Clase Banda y Solista"
      ],
      "metadata": {
        "id": "YZu3NgDSJKqO"
      }
    },
    {
      "cell_type": "markdown",
      "source": [
        "Crear una clase Banda y una clase Solista que hereden de Artista.\n",
        "\n",
        "Agregar los atributos de instancia que crea necesarios."
      ],
      "metadata": {
        "id": "8U_Qk5N8JMBI"
      }
    }
  ],
  "metadata": {
    "colab": {
      "provenance": []
    },
    "kernelspec": {
      "display_name": "Python 3",
      "name": "python3"
    },
    "language_info": {
      "name": "python"
    }
  },
  "nbformat": 4,
  "nbformat_minor": 0
}