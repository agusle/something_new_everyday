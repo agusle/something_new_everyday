{
  "nbformat": 4,
  "nbformat_minor": 0,
  "metadata": {
    "colab": {
      "provenance": []
    },
    "kernelspec": {
      "name": "python3",
      "display_name": "Python 3"
    },
    "language_info": {
      "name": "python"
    }
  },
  "cells": [
    {
      "cell_type": "markdown",
      "source": [
        "# Programación 1\n",
        "**23/10/22**\n",
        "\n",
        "*Nombre:* Agustin \n",
        "\n",
        "*Apellido:* Leperini\n",
        "\n",
        "*Legajo:* L-3261/1"
      ],
      "metadata": {
        "id": "3nEZ40yDlWBl"
      }
    },
    {
      "cell_type": "markdown",
      "source": [
        "# Enunciados"
      ],
      "metadata": {
        "id": "p7JVJEEMmfKl"
      }
    },
    {
      "cell_type": "markdown",
      "source": [
        "**Ejercicio 1**\n",
        "\n",
        "Crear una función que reciba tres lados de un triángulo y muestre por pantalla si es equilátero (3 lados iguales), isósceles (2 lados iguales) o escaleno (todos sus lados diferentes)."
      ],
      "metadata": {
        "id": "7zM_bAPXmirO"
      }
    },
    {
      "cell_type": "code",
      "source": [
        "def triangle_type(side1:float,side2:float,side3:float) -> str:\n",
        "  \"\"\"\n",
        "  Recibe 3 lados de un triángulo y muestra por pantalla qué tipo es según\n",
        "  sus lados:\n",
        "   - Equilátero (3 lados iguales)\n",
        "   - Isósceles (2 lados iguales)\n",
        "   - Escaleno (todos sus lados diferentes)\n",
        "  \n",
        "  Paramters\n",
        "  ---------\n",
        "  side1,side2,side3: float\n",
        "    Lados de un triangulo. Ej: 2,2,3\n",
        "\n",
        "  Returns\n",
        "  -------\n",
        "  String con mensaje del tipo de triángulo. Ej: \"Isósceles\".\n",
        "  \"\"\"\n",
        "\n",
        "  if side1 == side2 and side1 == side3:\n",
        "    return print(\"El triángulo es Equilátero\")\n",
        "  elif side1 == side2 or side1 == side3 or side2 == side3:\n",
        "    return print(\"El triángulo es Isósceles\")\n",
        "  else:\n",
        "    return print(\"El triángulo es Escaleno\")"
      ],
      "metadata": {
        "id": "bfzUO9aROA-f"
      },
      "execution_count": 2,
      "outputs": []
    },
    {
      "cell_type": "code",
      "source": [
        "triangle_type(2,2,3)"
      ],
      "metadata": {
        "colab": {
          "base_uri": "https://localhost:8080/"
        },
        "id": "iV7bI97ePA0N",
        "outputId": "356d674b-66fc-48a8-e034-bd9dcd17ed17"
      },
      "execution_count": 3,
      "outputs": [
        {
          "output_type": "stream",
          "name": "stdout",
          "text": [
            "El triángulo es Isósceles\n"
          ]
        }
      ]
    },
    {
      "cell_type": "code",
      "source": [
        "triangle_type(1,2,2)"
      ],
      "metadata": {
        "colab": {
          "base_uri": "https://localhost:8080/"
        },
        "id": "oioJIB1YPTUY",
        "outputId": "4a6fb81f-a77e-4289-8de5-0b2e46e48194"
      },
      "execution_count": 6,
      "outputs": [
        {
          "output_type": "stream",
          "name": "stdout",
          "text": [
            "El triángulo es Isósceles\n"
          ]
        }
      ]
    },
    {
      "cell_type": "code",
      "source": [
        "triangle_type(1,1,1)"
      ],
      "metadata": {
        "colab": {
          "base_uri": "https://localhost:8080/"
        },
        "id": "ZuPSaTv2PG-p",
        "outputId": "7c91d0c9-52f1-4840-b5ea-38c19311928c"
      },
      "execution_count": 4,
      "outputs": [
        {
          "output_type": "stream",
          "name": "stdout",
          "text": [
            "El triángulo es Equilátero\n"
          ]
        }
      ]
    },
    {
      "cell_type": "code",
      "source": [
        "triangle_type(1,2,3)"
      ],
      "metadata": {
        "colab": {
          "base_uri": "https://localhost:8080/"
        },
        "id": "ZPDc_CkLPJGj",
        "outputId": "860623c7-2ef1-403e-f566-ceee6b5b2535"
      },
      "execution_count": 5,
      "outputs": [
        {
          "output_type": "stream",
          "name": "stdout",
          "text": [
            "El triángulo es Escaleno\n"
          ]
        }
      ]
    },
    {
      "cell_type": "markdown",
      "source": [
        "**Ejercicio 2**\n",
        "\n",
        "Hacer una función dada una lista de números, retorne una tupla de tamaño dos, con una lista de pares, y otra de impares. Consideramos al cero sin paridad, o sea que no es ni par ni impar."
      ],
      "metadata": {
        "id": "PqwF7s2gm3e6"
      }
    },
    {
      "cell_type": "code",
      "source": [
        "def even_odd(numbers:list) -> tuple:\n",
        "  \"\"\"\n",
        "  Dada una lista de números enteros, devuelve una tupla de tamaño de dos \n",
        "  elementos, siendo el primero una lista de pares, y el restante de impares. \n",
        "  Se considera al cero sin paridad, o sea que no es ni par ni impar.\n",
        "\n",
        "  Parameters\n",
        "  ----------\n",
        "  numbers: list\n",
        "    Lista de números enteros. Ej: [0,1,2,3,4,5]\n",
        "\n",
        "  Returns\n",
        "  -------\n",
        "  even_odd: tuple\n",
        "    Tupla con primer elemento compuesto por lista de pares y segundo\n",
        "    por lista de numeros impares, excluyendo el 0(cero). Ej: ([2,4],[1,3,5])\n",
        "  \"\"\"\n",
        "  even = []\n",
        "  odd = []\n",
        "\n",
        "  for number in numbers:\n",
        "    if number == 0:\n",
        "      continue\n",
        "    elif number%2 == 0:\n",
        "      even.append(number)\n",
        "    else:\n",
        "      odd.append(number)\n",
        "  return even,odd"
      ],
      "metadata": {
        "id": "tTS1cgfTP1TN"
      },
      "execution_count": 7,
      "outputs": []
    },
    {
      "cell_type": "code",
      "source": [
        "numbers = even_odd(range(11))\n",
        "print(\n",
        "    f'De la lista de números ingresada, se obtiene una {type(numbers)} que '\n",
        "    f'contiene:\\nNúmeros pares: {numbers[0]}\\nNúmeros impares: {numbers[1]}'\n",
        ")"
      ],
      "metadata": {
        "colab": {
          "base_uri": "https://localhost:8080/"
        },
        "id": "WwrXfz5fR2QL",
        "outputId": "5c8ff857-7ee3-45f8-a9b9-d4c841869994"
      },
      "execution_count": 10,
      "outputs": [
        {
          "output_type": "stream",
          "name": "stdout",
          "text": [
            "De la lista de números ingresada, se obtiene una <class 'tuple'> que contiene:\n",
            "Números pares: [2, 4, 6, 8, 10]\n",
            "Números impares: [1, 3, 5, 7, 9]\n"
          ]
        }
      ]
    },
    {
      "cell_type": "markdown",
      "source": [
        "**Ejercicio 3**\n",
        "\n",
        "Se quiere crear un anotador para un juego de dardos, para ello se necesita conocer cuantas rondas se van a jugar y los nombres de las participantes.\n",
        "\n",
        "Crear un diccionario que guarde los nombres de las jugadoras y una lista que vaya actualizando el puntaje que consiguió cada participante en cada tiro.\n",
        "\n",
        "Cuando finalice el juego, se debe mostrar un mensaje felicitando a la ganadora, por ejemplo: \n",
        "\n",
        "``` python\n",
        "Felicitaciones Carla!\n",
        "```\n",
        "\n",
        "\n",
        "Y por último un mensaje donde aparezca el nombre y el puntaje de cada jugador/a. \n",
        "\n",
        "\n",
        "``` python\n",
        "Carla: 100 puntos\n",
        "Sol: 41 puntos\n",
        "Victoria: 97 puntos\n",
        "```\n",
        "\n",
        "Nota: No contemplar el caso de un empate, o sea que nunca ocurre\n"
      ],
      "metadata": {
        "id": "vTq0wrobo8Fj"
      }
    },
    {
      "cell_type": "code",
      "source": [
        "rondas = int(input('Ingrese cantidad de rondas: '))\n",
        "cant_jugadores = int(input('Ingrese cantidad de jugadores: '))\n",
        "dicc_jugadores = crear_jugadores(cant_jugadores)\n",
        "jugar(dicc_jugadores, rondas)\n",
        "buscar_ganador(dicc_jugadores)\n",
        "mostrar_puntajes(dicc_jugadores)"
      ],
      "metadata": {
        "id": "k5za_Rm1tXOz"
      },
      "execution_count": null,
      "outputs": []
    },
    {
      "cell_type": "code",
      "source": [
        "def crear_jugadores(cant_jugadores):\n",
        "  \"\"\" \n",
        "  Es una función que guarda en un diccionario con la clave el nombre del jugador\n",
        "  y valor una lista\n",
        "  INPUT: int --> cantidad de participantes del juego\n",
        "  OUTPUT: None\n",
        "  \"\"\"\n",
        "\n",
        "  pass"
      ],
      "metadata": {
        "id": "ns7SejUltpjd"
      },
      "execution_count": 15,
      "outputs": []
    },
    {
      "cell_type": "code",
      "source": [
        "def jugar(dicc_jugadores, rondas):\n",
        "  \"\"\" \n",
        "  Esta función actualiza los puntajes de cada jugador, hasta que finalice el juego\n",
        "  INPUT: None\n",
        "  OUTPUT: None\n",
        "  \"\"\"\n",
        "  pass"
      ],
      "metadata": {
        "id": "uPuu4JPIuZxC"
      },
      "execution_count": null,
      "outputs": []
    },
    {
      "cell_type": "code",
      "source": [
        "def buscar_ganador(dicc_jugadores):\n",
        "  \"\"\" \n",
        "  Esta función hace algo\n",
        "  INPUT: None\n",
        "  OUTPUT: None\n",
        "  \"\"\"\n",
        "  pass"
      ],
      "metadata": {
        "id": "BGTrJkMYvGiY"
      },
      "execution_count": null,
      "outputs": []
    },
    {
      "cell_type": "code",
      "source": [
        "def mostrar_puntajes(dicc_jugadores):\n",
        "  \"\"\" \n",
        "  Esta función hace algo\n",
        "  INPUT: None\n",
        "  OUTPUT: None\n",
        "  \"\"\"\n",
        "  pass"
      ],
      "metadata": {
        "id": "xPZe2Krjxiob"
      },
      "execution_count": null,
      "outputs": []
    }
  ]
}