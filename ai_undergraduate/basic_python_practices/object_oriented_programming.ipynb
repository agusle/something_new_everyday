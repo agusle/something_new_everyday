{
  "nbformat": 4,
  "nbformat_minor": 0,
  "metadata": {
    "colab": {
      "provenance": [],
      "collapsed_sections": []
    },
    "kernelspec": {
      "name": "python3",
      "display_name": "Python 3"
    },
    "language_info": {
      "name": "python"
    }
  },
  "cells": [
    {
      "cell_type": "markdown",
      "source": [
        "# Introducción a POO"
      ],
      "metadata": {
        "id": "FDODdIEmlN5W"
      }
    },
    {
      "cell_type": "markdown",
      "source": [
        "**Ejercicio 1**\n",
        "\n",
        "1. Crear una clase llamada Vehículo.\n",
        "2. Agregarle como atributos de instancia 'nro_serie', 'marca' y 'modelo'\n",
        "\n",
        "El número de serie debe ser único y un número entero."
      ],
      "metadata": {
        "id": "sDXw4oDBlRey"
      }
    },
    {
      "cell_type": "code",
      "execution_count": null,
      "metadata": {
        "id": "iHSQw64Bk57h"
      },
      "outputs": [],
      "source": []
    },
    {
      "cell_type": "markdown",
      "source": [
        "**Ejercicio 2**\n",
        "\n",
        "El hecho de tener que ingresar manualmente el número de serie tiene varias desventajas, por un lado se hace tedioso, y por otro se pueden cometer errores. No pueden existir 2 vehículos con el mismo número de serie.\n",
        "Por lo tanto, se propone cambiar el atributo de instancia por uno de clase.\n",
        "\n",
        "¿Te animás a que los números de serie se actualicen solos?"
      ],
      "metadata": {
        "id": "zIwqGnValmTq"
      }
    },
    {
      "cell_type": "code",
      "source": [],
      "metadata": {
        "id": "CkbUdT6vn9NO"
      },
      "execution_count": null,
      "outputs": []
    },
    {
      "cell_type": "code",
      "source": [],
      "metadata": {
        "id": "NlXawPQloWPw"
      },
      "execution_count": null,
      "outputs": []
    },
    {
      "cell_type": "markdown",
      "source": [
        "**Ejercicio 3 - setters**\n",
        "\n",
        "Existen otras maneras de agregar un atributo de instancia que no sea directamente en el *\\_\\_init__*. Por lo general es necesario validar los datos que se ingresan y para ello se crean los métodos llamados 'set_\\<atributo>'\n",
        "1. Agregar un nuevo atributo de clase que sea una tupla llamada 'colores' que contenga solo colores válidos para auto.\n",
        "2. Crear un metodo llamado 'set_color' que reciba como parámetro 'color'. \n",
        "*   Verificar que este argumento no contenga mayúsculas, espacios o puntos.\n",
        "Ejemplo:\n",
        "\n",
        "\n",
        "``` python\n",
        "# Ingreso\n",
        "color = ' Rojo.'\n",
        "\n",
        "# Validación\n",
        "color = 'rojo'\n",
        "```\n",
        "*   Verificar que el color ingresado se encuentre en la tupla de colores, si no, por defecto sea el primer color de dicha tupla.\n",
        "\n",
        "3. En el *\\_\\_init__* agregar este nuevo parámetro 'color' y llamar al método 'set_color'\n"
      ],
      "metadata": {
        "id": "j4ZsgzjKFap4"
      }
    },
    {
      "cell_type": "code",
      "source": [],
      "metadata": {
        "id": "1KQfoNdlIIlq"
      },
      "execution_count": null,
      "outputs": []
    },
    {
      "cell_type": "markdown",
      "source": [
        "**Ejercicio 4**\n",
        "\n",
        "1. Un hotel quiere generar las comidas de una estadía con media pensión y para ello decide realizar un programa al cual se le vayan ingresando dos tipos de objetos generados por dos clases diferentes:\n",
        "\n",
        "  *Desayuno* que deberá tener\n",
        "\n",
        "  *   tipo de infusión\n",
        "  *   alimento\n",
        "  *   jugo\n",
        "\n",
        "  y *Cena* el cual tiene como atributos\n",
        "  *   entrada\n",
        "  *   plato principal\n",
        "  *   bebida\n",
        "  *   postre\n",
        "\n",
        "\n",
        "2. Crear una función que genere un objeto desayuno y uno comida para cada día de la semana llamando a la clase correspondiente y guardandola por día. \n",
        "3. Crear una función menú donde se carguen día a día las comidas.\n",
        "(LA IDEA ES QUE ALGUIEN LLAMANDO A LA FUNCION MENU VAYA CARGANDO DIA A DIA AMBAS COMIDAS Y QUE SE <u>RETORNE EL MENU AL FINAL</u>)\n",
        "\n"
      ],
      "metadata": {
        "id": "uALQK3arts95"
      }
    },
    {
      "cell_type": "code",
      "source": [
        "def menu():\n",
        "  pass"
      ],
      "metadata": {
        "id": "zKK2DvmxuXZt"
      },
      "execution_count": null,
      "outputs": []
    },
    {
      "cell_type": "code",
      "source": [
        "menu()"
      ],
      "metadata": {
        "id": "UUbd9LQhb8CF"
      },
      "execution_count": null,
      "outputs": []
    }
  ]
}