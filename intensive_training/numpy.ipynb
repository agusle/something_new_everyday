{
 "cells": [
  {
   "cell_type": "markdown",
   "metadata": {
    "id": "4Mlc5tOcQ4i0"
   },
   "source": [
    "---\n",
    "\n",
    "# 2. NumPy"
   ]
  },
  {
   "cell_type": "markdown",
   "metadata": {
    "id": "z7SI3UG3Q4i1"
   },
   "source": [
    "It is very important that you google and consult the documentation. If you didn't install it, now is a good time. When we want to use a library, we must first import it.\n",
    "\n",
    "Now our work environment knows that if we put something like __np.__ it means that this functionality must be found in NumPy. Important: If the library was NOT installed correctly, you will get an error message.\n",
    "\n",
    "The main data type that NumPy works on are arrays. Arrays are similar to lists and can actually be created from them."
   ]
  },
  {
   "cell_type": "code",
   "execution_count": null,
   "metadata": {
    "id": "MAfdxIZ8Q4i1"
   },
   "outputs": [],
   "source": [
    "import numpy as np"
   ]
  },
  {
   "cell_type": "code",
   "execution_count": null,
   "metadata": {
    "colab": {
     "base_uri": "https://localhost:8080/"
    },
    "id": "HXxW1c51Q4i2",
    "outputId": "d3e0a223-534e-4aa6-e3bf-f0415af15b1a"
   },
   "outputs": [
    {
     "name": "stdout",
     "output_type": "stream",
     "text": [
      "[0, 1, 2, 3, 4, 5]\n",
      "[0 1 2 3 4 5]\n",
      "\n"
     ]
    }
   ],
   "source": [
    "my_list = [0,1,2,3,4,5]\n",
    "array = np.array(my_list)\n",
    "\n",
    "print(my_list)\n",
    "print(array)\n",
    "print()"
   ]
  },
  {
   "cell_type": "markdown",
   "metadata": {
    "id": "kKrgLFmmQ4i3"
   },
   "source": [
    "But they are more than a list. Some things that couldn't be done with lists can now be done with fixes. Remember that adding a number to the entire list was not allowed."
   ]
  },
  {
   "cell_type": "code",
   "execution_count": null,
   "metadata": {
    "colab": {
     "base_uri": "https://localhost:8080/",
     "height": 167
    },
    "id": "P1xVH2MqQ4i3",
    "outputId": "caa25f37-41a4-49d9-8934-19a3c8f55617"
   },
   "outputs": [
    {
     "ename": "TypeError",
     "evalue": "ignored",
     "output_type": "error",
     "traceback": [
      "\u001b[0;31m---------------------------------------------------------------------------\u001b[0m\n",
      "\u001b[0;31mTypeError\u001b[0m                                 Traceback (most recent call last)\n",
      "\u001b[0;32m<ipython-input-109-c39b2b5ca5a3>\u001b[0m in \u001b[0;36m<module>\u001b[0;34m()\u001b[0m\n",
      "\u001b[0;32m----> 1\u001b[0;31m \u001b[0mmy_list\u001b[0m \u001b[0;34m+\u001b[0m \u001b[0;36m1\u001b[0m\u001b[0;34m\u001b[0m\u001b[0;34m\u001b[0m\u001b[0m\n",
      "\u001b[0m\n",
      "\u001b[0;31mTypeError\u001b[0m: can only concatenate list (not \"int\") to list"
     ]
    }
   ],
   "source": [
    "my_list + 1"
   ]
  },
  {
   "cell_type": "markdown",
   "metadata": {
    "id": "DL-m12M9Q4i4"
   },
   "source": [
    "But now with the arrays yes!"
   ]
  },
  {
   "cell_type": "code",
   "execution_count": null,
   "metadata": {
    "colab": {
     "base_uri": "https://localhost:8080/"
    },
    "id": "0N7TvUbVQ4i4",
    "outputId": "4d3f75b5-ad6d-4f7a-a211-3ebddad146a5"
   },
   "outputs": [
    {
     "data": {
      "text/plain": [
       "array([1, 2, 3, 4, 5, 6])"
      ]
     },
     "metadata": {},
     "output_type": "display_data"
    }
   ],
   "source": [
    "array + 1"
   ]
  },
  {
   "cell_type": "code",
   "execution_count": null,
   "metadata": {
    "colab": {
     "base_uri": "https://localhost:8080/"
    },
    "id": "Gr0HvDABQ4i4",
    "outputId": "e494669d-3aaa-4838-914a-ed501b45ad44"
   },
   "outputs": [
    {
     "name": "stdout",
     "output_type": "stream",
     "text": [
      "[-5 -4 -3 -2 -1  0]\n",
      "[-2 -1  0  1  2  3]\n",
      "[ 0  4  8 12 16 20]\n",
      "[ 0  1  4  9 16 25]\n"
     ]
    }
   ],
   "source": [
    "print(array - 5)\n",
    "print(array - 2)\n",
    "print(array * 4)\n",
    "print(array ** 2)"
   ]
  },
  {
   "cell_type": "markdown",
   "metadata": {
    "id": "W2nMW2wDQ4i5"
   },
   "source": [
    "**TODO:** Except for multiplication, none was allowed in lists. What does multiplication do for a list?\n",
    "\n",
    "**Concatenation as well as string**"
   ]
  },
  {
   "cell_type": "code",
   "execution_count": null,
   "metadata": {
    "colab": {
     "base_uri": "https://localhost:8080/"
    },
    "id": "5XnHGH7wkj3v",
    "outputId": "e27869a9-1bad-46f0-9097-6432cc421cd4"
   },
   "outputs": [
    {
     "name": "stdout",
     "output_type": "stream",
     "text": [
      "[['Hello'], ['Hello'], ['Hello']]\n",
      "HelloHelloHello\n"
     ]
    }
   ],
   "source": [
    "my_list= [\"Hello\"]\n",
    "print([my_list]*3)\n",
    "print(\"Hello\"*3)"
   ]
  },
  {
   "cell_type": "markdown",
   "metadata": {
    "id": "UPOFZHDmQ4i6"
   },
   "source": [
    "## Array Creation\n",
    "\n",
    "While we can create arrays from lists, NumPy comes with many features to do so. Let's see some.\n",
    "\n",
    "A widely used one is __np.arange()__. Check your documentation. Alternatively, in a code cell, type __np.arange__ and press __shift + tab__. That way, help will appear.\n",
    "\n",
    "Play around with the example below."
   ]
  },
  {
   "cell_type": "code",
   "execution_count": null,
   "metadata": {
    "colab": {
     "base_uri": "https://localhost:8080/"
    },
    "id": "ZM0A1oYDQ4i6",
    "outputId": "1ce7333f-88ac-4540-bd1c-c31ec1d52230"
   },
   "outputs": [
    {
     "name": "stdout",
     "output_type": "stream",
     "text": [
      "[ 3  5  7  9 11 13 15 17 19]\n"
     ]
    }
   ],
   "source": [
    "array = np.arange(3, 20, 2)\n",
    "print(array)"
   ]
  },
  {
   "cell_type": "code",
   "execution_count": null,
   "metadata": {
    "colab": {
     "base_uri": "https://localhost:8080/"
    },
    "id": "SSqih62BjkfL",
    "outputId": "24df8ed3-9f21-420e-bc80-1a4a11c08588"
   },
   "outputs": [
    {
     "name": "stdout",
     "output_type": "stream",
     "text": [
      "[10 15 20]\n"
     ]
    }
   ],
   "source": [
    "array2 = np.arange(10,21,5)\n",
    "print(array2)"
   ]
  },
  {
   "cell_type": "code",
   "execution_count": null,
   "metadata": {
    "colab": {
     "base_uri": "https://localhost:8080/"
    },
    "id": "OZPhE_MHqOSc",
    "outputId": "a0c01817-b627-4b17-fa7d-2b8563933a90"
   },
   "outputs": [
    {
     "name": "stdout",
     "output_type": "stream",
     "text": [
      "[10  9  8  7  6  5  4  3  2  1]\n"
     ]
    }
   ],
   "source": [
    "array3= np.arange(10,0,-1)\n",
    "print(array3)"
   ]
  },
  {
   "cell_type": "markdown",
   "metadata": {
    "id": "kzxpZWkuQ4i7"
   },
   "source": [
    "**TODO:**\n",
    "Investigate and create examples with the following functions\n",
    "\n",
    "* np.linspace\n",
    "* np.arange\n",
    "* np.zeros and np.ones"
   ]
  },
  {
   "cell_type": "code",
   "execution_count": null,
   "metadata": {
    "colab": {
     "base_uri": "https://localhost:8080/"
    },
    "id": "Slaup-cKlCOw",
    "outputId": "8ff930c3-052b-4a9f-9949-dfeddd0e063b"
   },
   "outputs": [
    {
     "name": "stdout",
     "output_type": "stream",
     "text": [
      "[ 0 10 20 30 40 50]\n",
      "El shape de array1 es: (6,)\n",
      "El size del array1 es:6\n",
      "\n",
      "[  1.           3.08333333   5.16666667   7.25         9.33333333\n",
      "  11.41666667  13.5         15.58333333  17.66666667  19.75\n",
      "  21.83333333  23.91666667  26.          28.08333333  30.16666667\n",
      "  32.25        34.33333333  36.41666667  38.5         40.58333333\n",
      "  42.66666667  44.75        46.83333333  48.91666667  51.\n",
      "  53.08333333  55.16666667  57.25        59.33333333  61.41666667\n",
      "  63.5         65.58333333  67.66666667  69.75        71.83333333\n",
      "  73.91666667  76.          78.08333333  80.16666667  82.25\n",
      "  84.33333333  86.41666667  88.5         90.58333333  92.66666667\n",
      "  94.75        96.83333333  98.91666667 101.        ]\n",
      "El shape de array2 es: (49,)\n",
      "El size del array2 es:49\n",
      "\n",
      "[[0 0 0 0]\n",
      " [0 0 0 0]\n",
      " [0 0 0 0]]\n",
      "El shape de array3 es: (3, 4)\n",
      "El size del array3 es:12\n",
      "\n",
      "[['1' '1' '1' '1' '1' '1' '1' '1' '1' '1']\n",
      " ['1' '1' '1' '1' '1' '1' '1' '1' '1' '1']]\n",
      "El shape de array4 es: (2, 10)\n",
      "El size del array4 es:20\n",
      "\n"
     ]
    }
   ],
   "source": [
    "array1 = np.arange(0,51,10)\n",
    "print(array1)\n",
    "print(\"El shape de array1 es:\", array1.shape)\n",
    "print(\"El size del array1 es:\",array1.size,\"\\n\",sep=\"\")\n",
    "\n",
    "array2 = np.linspace(1,101,49)\n",
    "print(array2)\n",
    "print(\"El shape de array2 es:\", array2.shape)\n",
    "print(\"El size del array2 es:\",array2.size,\"\\n\",sep=\"\")\n",
    "\n",
    "array3= np.zeros((3,4), dtype=int)\n",
    "print(array3)\n",
    "print(\"El shape de array3 es:\", array3.shape)\n",
    "print(\"El size del array3 es:\",array3.size,\"\\n\",sep=\"\")\n",
    "\n",
    "array4 = np.ones((2,10),dtype=str)\n",
    "print(array4)\n",
    "print(\"El shape de array4 es:\", array4.shape)\n",
    "print(\"El size del array4 es:\",array4.size,\"\\n\",sep=\"\")"
   ]
  },
  {
   "cell_type": "markdown",
   "metadata": {
    "id": "e-DTySRuQ4i7"
   },
   "source": [
    "## Array Shape\n",
    "Arrays have many more properties than lists. In particular, they may have more than one axis or dimension. Let's see what we mean:"
   ]
  },
  {
   "cell_type": "code",
   "execution_count": null,
   "metadata": {
    "colab": {
     "base_uri": "https://localhost:8080/"
    },
    "id": "qOdCnLniQ4i7",
    "outputId": "e2836b11-9a53-418e-cc78-93fb9245b134"
   },
   "outputs": [
    {
     "name": "stdout",
     "output_type": "stream",
     "text": [
      "[[1 2 3 4]\n",
      " [5 6 7 8]]\n"
     ]
    }
   ],
   "source": [
    "array_2d = np.array([\n",
    "                     [1, 2, 3, 4], \n",
    "                     [5, 6, 7, 8]\n",
    "                     ])\n",
    "print(array_2d)\n"
   ]
  },
  {
   "cell_type": "code",
   "execution_count": null,
   "metadata": {
    "colab": {
     "base_uri": "https://localhost:8080/"
    },
    "id": "koWBCgngQ4i8",
    "outputId": "0473052c-003f-4bfb-bcb0-3e42641532b8"
   },
   "outputs": [
    {
     "data": {
      "text/plain": [
       "(2, 4)"
      ]
     },
     "metadata": {},
     "output_type": "display_data"
    }
   ],
   "source": [
    "array_2d.shape"
   ]
  },
  {
   "cell_type": "code",
   "execution_count": null,
   "metadata": {
    "colab": {
     "base_uri": "https://localhost:8080/"
    },
    "id": "Rwdmj1e2Q4i8",
    "outputId": "ffc372ba-fc2b-46ec-ecc8-210315b1cedc"
   },
   "outputs": [
    {
     "name": "stdout",
     "output_type": "stream",
     "text": [
      "[[1 2]\n",
      " [3 4]\n",
      " [5 6]\n",
      " [7 8]]\n",
      "(4, 2)\n",
      "8\n"
     ]
    }
   ],
   "source": [
    "array_2d = np.array([[1, 2], [3, 4], [5, 6], [7, 8]])\n",
    "print(array_2d)\n",
    "print(array_2d.shape)\n",
    "print(array_2d.size)"
   ]
  },
  {
   "cell_type": "code",
   "execution_count": null,
   "metadata": {
    "colab": {
     "base_uri": "https://localhost:8080/"
    },
    "id": "Wxrf6PNzrpYt",
    "outputId": "1751bf44-7569-4925-beda-af486359aa36"
   },
   "outputs": [
    {
     "name": "stdout",
     "output_type": "stream",
     "text": [
      "[[ 1  2  3]\n",
      " [ 4  5  6]\n",
      " [ 7  8  9]\n",
      " [10 11 12]]\n",
      "12\n",
      "(4, 3)\n",
      "<class 'numpy.ndarray'>\n",
      "<class 'numpy.int64'>\n",
      "3\n"
     ]
    }
   ],
   "source": [
    "array_2d2= np.array([[1,2,3],[4,5,6],[7,8,9],[10,11,12]], dtype=int)\n",
    "print(array_2d2)\n",
    "print(array_2d2.size)\n",
    "print(array_2d2.shape)\n",
    "print(type(array_2d2))\n",
    "print(type(array_2d2[0][0]))\n",
    "print(array_2d2[0][2])"
   ]
  },
  {
   "cell_type": "markdown",
   "metadata": {
    "id": "bUg9aYnIQ4i9"
   },
   "source": [
    "If we want to know how many elements it has, we can use __.size__"
   ]
  },
  {
   "cell_type": "code",
   "execution_count": null,
   "metadata": {
    "colab": {
     "base_uri": "https://localhost:8080/"
    },
    "id": "4d7vaqkZQ4i9",
    "outputId": "d7a4743c-ff28-489e-8ab6-b52233befc40"
   },
   "outputs": [
    {
     "name": "stdout",
     "output_type": "stream",
     "text": [
      "8\n"
     ]
    }
   ],
   "source": [
    "print(array_2d.size)"
   ]
  },
  {
   "cell_type": "markdown",
   "metadata": {
    "id": "ndMX_RBzQ4i-"
   },
   "source": [
    "## Arrays operations\n",
    "\n",
    "NumPy arrays come with a bunch of functions that operate on arrays."
   ]
  },
  {
   "cell_type": "code",
   "execution_count": null,
   "metadata": {
    "colab": {
     "base_uri": "https://localhost:8080/"
    },
    "id": "jj-AWKSvQ4i-",
    "outputId": "794aaa38-911a-4223-a4c3-7c02f3743707"
   },
   "outputs": [
    {
     "name": "stdout",
     "output_type": "stream",
     "text": [
      "-100\n",
      "95\n"
     ]
    }
   ],
   "source": [
    "array = np.array([-100,2,3,17,25,1,95])\n",
    "print(array.min())\n",
    "print(array.max())"
   ]
  },
  {
   "cell_type": "markdown",
   "metadata": {
    "id": "TT2EFwZVQ4i-"
   },
   "source": [
    "In the 2D case, we can request that these functions operate on the entire array, or by axes."
   ]
  },
  {
   "cell_type": "markdown",
   "metadata": {
    "id": "At63EDYsQ4i_"
   },
   "source": [
    "**TODO:** Try to understand the difference between the following instructions"
   ]
  },
  {
   "cell_type": "code",
   "execution_count": null,
   "metadata": {
    "colab": {
     "base_uri": "https://localhost:8080/"
    },
    "id": "3wCFlb1eQ4i_",
    "outputId": "5c803ee8-0a51-4e13-cd80-25a4c9b41cb6"
   },
   "outputs": [
    {
     "name": "stdout",
     "output_type": "stream",
     "text": [
      "-----Array 2d-----\n",
      "[[1 2]\n",
      " [3 4]\n",
      " [5 6]\n",
      " [7 8]] \n",
      "\n",
      "El shape de array_2d es: (4, 2)\n",
      "El size del array_2d es:8\n",
      "\n",
      "-----Array 2d max----\n",
      "The maximum value of the entire array_2d is: 8\n",
      "The maximum value of the axis 0 of array_2d is: [7 8]\n",
      "The maximum value of the axis 1 of array_2d is:[2 4 6 8]\n",
      "\n",
      "-----Array 2d min----\n",
      "The minimum value of the entire array_2d is: 1\n",
      "The minimum value of the axis 0 of array_2d is: [1 2]\n",
      "The minimum value of the axis 1 of array_2d is:[1 3 5 7]\n",
      "\n",
      "-----Array 3d-----\n",
      "[[[9 8]\n",
      "  [7 6]]\n",
      "\n",
      " [[5 4]\n",
      "  [3 2]]]\n",
      "\n",
      "El shape de array_3d es: (2, 2, 2)\n",
      "El size del array_3d es:8\n",
      "\n",
      "-----Array 3d max----\n",
      "The maximum value of the entire array_3d is: 9\n",
      "The maximum value of the axis 0 of array_3d is: [[9 8]\n",
      " [7 6]]\n",
      "The maximum value of the axis 1 of array_3d is: [[9 8]\n",
      " [5 4]]\n",
      "The maximum value of the axis 2 of array_3d is:[[9 7]\n",
      " [5 3]]\n",
      "\n",
      "-----Array 3d min----\n",
      "The minimum value of the entire array_3d is: 2\n",
      "The minimum value of the axis 0 of array_3d is: [[5 4]\n",
      " [3 2]]\n",
      "The minimum value of the axis 1 of array_3d is: [[7 6]\n",
      " [3 2]]\n",
      "The minimum value of the axis 2 of array_3d is:[[8 6]\n",
      " [4 2]]\n",
      "\n"
     ]
    }
   ],
   "source": [
    "print(\"-----Array 2d-----\")\n",
    "print(array_2d,\"\\n\")\n",
    "print(\"El shape de array_2d es:\", array_2d.shape)\n",
    "print(\"El size del array_2d es:\", array_2d.size,\"\\n\",sep=\"\")\n",
    "print(\"-----Array 2d max----\")\n",
    "print(\"The maximum value of the entire array_2d is:\",array_2d.max())\n",
    "print(\"The maximum value of the axis 0 of array_2d is:\",array_2d.max(axis=0))\n",
    "print(\"The maximum value of the axis 1 of array_2d is:\",array_2d.max(axis=1),\"\\n\",sep=\"\")\n",
    "print(\"-----Array 2d min----\")\n",
    "print(\"The minimum value of the entire array_2d is:\",array_2d.min())\n",
    "print(\"The minimum value of the axis 0 of array_2d is:\",array_2d.min(axis=0))\n",
    "print(\"The minimum value of the axis 1 of array_2d is:\",array_2d.min(axis=1),\"\\n\",sep=\"\")\n",
    "print(\"-----Array 3d-----\")\n",
    "array_3d= np.arange(9,1,-1).reshape(2,2,2)\n",
    "print(array_3d,\"\\n\",sep=\"\")\n",
    "print(\"El shape de array_3d es:\", array_3d.shape)\n",
    "print(\"El size del array_3d es:\", array_3d.size,\"\\n\",sep=\"\")\n",
    "print(\"-----Array 3d max----\")\n",
    "print(\"The maximum value of the entire array_3d is:\",array_3d.max())\n",
    "print(\"The maximum value of the axis 0 of array_3d is:\",array_3d.max(axis=0))\n",
    "print(\"The maximum value of the axis 1 of array_3d is:\",array_3d.max(axis=1))\n",
    "print(\"The maximum value of the axis 2 of array_3d is:\",array_3d.max(axis=2),\"\\n\",sep=\"\")\n",
    "print(\"-----Array 3d min----\")\n",
    "print(\"The minimum value of the entire array_3d is:\",array_3d.min())\n",
    "print(\"The minimum value of the axis 0 of array_3d is:\",array_3d.min(axis=0))\n",
    "print(\"The minimum value of the axis 1 of array_3d is:\",array_3d.min(axis=1))\n",
    "print(\"The minimum value of the axis 2 of array_3d is:\",array_3d.min(axis=2),\"\\n\",sep=\"\")"
   ]
  }
 ],
 "metadata": {
  "kernelspec": {
   "display_name": "Python 3.10.5 64-bit",
   "language": "python",
   "name": "python3"
  },
  "language_info": {
   "name": "python",
   "version": "3.10.5"
  },
  "orig_nbformat": 4,
  "vscode": {
   "interpreter": {
    "hash": "63413d40248b15c5e3979e4e9ac9f50870b25d2b4b7e5c66b4da92bd9f0fa5ed"
   }
  }
 },
 "nbformat": 4,
 "nbformat_minor": 2
}
